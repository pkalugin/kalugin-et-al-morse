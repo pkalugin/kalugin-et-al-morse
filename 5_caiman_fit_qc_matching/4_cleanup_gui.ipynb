{
 "cells": [
  {
   "cell_type": "code",
   "execution_count": null,
   "id": "fa1950c0-f73b-4631-b51d-c2081f946ac2",
   "metadata": {},
   "outputs": [],
   "source": [
    "# the first GUI is for observing first pass clicking outputs (no refit), with edits 240513 for streamlined QC\n",
    "# use cnmf-qc folder as intermediate site - rename folders with _qc and _qc_done during processing\n",
    "# goal is to look through every component one by one and add points to split/resurrect components\n",
    "# then reclick them with cleangui-qc, refit on the ds, and then perform mask matching with minimal additional QC\n",
    "# after all that, perform full refit with raw on matched subset of components"
   ]
  },
  {
   "cell_type": "code",
   "execution_count": 37,
   "id": "632fd12d-a2cf-4cba-88ab-7f7d645e1f21",
   "metadata": {},
   "outputs": [
    {
     "name": "stdin",
     "output_type": "stream",
     "text": [
      "Enter the data directory: H:\\CNMFoutputs\\charlotte\\mask_matching\\231030_DG60PL67_charlotte_done\\231030_DG60PL67_mouse_Yael_Done_qc_doneqc\n"
     ]
    }
   ],
   "source": [
    "%matplotlib qt\n",
    "data_dir = input(\"Enter the data directory:\")\n",
    "\n",
    "# Parameters (unlikely to change)\n",
    "n_range_lim = 10 # size of n_range below which SNR considered unreliable\n",
    "Athresh = 0.05 # overlap threshold - automatically split anything below it\n",
    "cr_thresh = 0.9 # component-raw correlation threshold below which component deemed suspicious quality\n",
    "pb_thresh = 0.95 # component-best parent correlation threshold above which component deemed likely merge"
   ]
  },
  {
   "cell_type": "code",
   "execution_count": 38,
   "id": "ce60d8c2-b886-48f4-8e18-b1b4284897e4",
   "metadata": {},
   "outputs": [
    {
     "name": "stdout",
     "output_type": "stream",
     "text": [
      "The autoreload extension is already loaded. To reload it, use:\n",
      "  %reload_ext autoreload\n",
      "Successfully loaded CNMF model\n",
      "Successfully loaded data\n",
      "Successfully loaded contours\n",
      "Successfully generated search list\n",
      "Successfully calculated correlations\n",
      "Successfully initialized\n",
      "CPU times: total: 16.5 s\n",
      "Wall time: 22.8 s\n"
     ]
    }
   ],
   "source": [
    "%%time\n",
    "## LOADING EVERYTHING UP - TAKES ~20 sec\n",
    "\n",
    "# load packages\n",
    "\n",
    "import napari\n",
    "from magicgui import magicgui, widgets\n",
    "import time\n",
    "\n",
    "from IPython import get_ipython\n",
    "from IPython.display import clear_output\n",
    "import os\n",
    "import matplotlib.pyplot as plt\n",
    "import numpy as np\n",
    "from scipy.sparse import csc_matrix\n",
    "from scipy import signal as sg\n",
    "import scipy\n",
    "import pickle\n",
    "\n",
    "from tifffile.tifffile import imwrite,imread\n",
    "from tqdm.auto import tqdm,trange\n",
    "\n",
    "from copy import deepcopy\n",
    "import h5py\n",
    "\n",
    "import caiman as cm\n",
    "from caiman.source_extraction.cnmf import cnmf,params\n",
    "from caiman.paths import caiman_datadir\n",
    "from caiman.utils.visualization import get_contours\n",
    "\n",
    "try:\n",
    "    if __IPYTHON__:\n",
    "        get_ipython().run_line_magic('load_ext', 'autoreload')\n",
    "        get_ipython().run_line_magic('autoreload', '2')\n",
    "except NameError:\n",
    "    pass\n",
    "\n",
    "def load_pickle(file_path):\n",
    "    \"\"\"\n",
    "    Load a dictionary from a pickle file.\n",
    "\n",
    "    Args:\n",
    "    - file_path (str): Path to the pickle file.\n",
    "\n",
    "    Returns:\n",
    "    - dict: Loaded dictionary.\n",
    "    \"\"\"\n",
    "    with open(file_path, 'rb') as f:\n",
    "        data = pickle.load(f)\n",
    "    return data\n",
    "\n",
    "## Loading all the inputs\n",
    "os.chdir(data_dir)\n",
    "#cnmf_path = caiman_datadir()+'/example_movies/demoMovie3DYxxbnobg_20240318170305_cnmf.hdf5'\n",
    "cnmf_path = os.path.join(data_dir, 'ch0_means_movie_nobg_cnmf.hdf5')\n",
    "\n",
    "# CNMFE model\n",
    "cnmf_model = cnmf.load_CNMF(cnmf_path, \n",
    "                            n_processes=1,\n",
    "                            dview=None)\n",
    "print(f\"Successfully loaded CNMF model\")\n",
    "\n",
    "mc_memmapped_fname = [i for i in os.listdir() if 'memmap__' in i][0]\n",
    "Yr, dims, T = cm.load_memmap(mc_memmapped_fname)\n",
    "images = np.array(np.reshape(Yr.T, [T] + list(dims), order='F')) \n",
    "print(f\"Successfully loaded data\")\n",
    "\n",
    "#d = cnmf_model.estimates.A.shape[0]\n",
    "#dims = cnmf_model.estimates.dims\n",
    "#axis = 2\n",
    "#order = list(range(4))\n",
    "#order.insert(0, order.pop(axis))\n",
    "#index_permut = np.reshape(np.arange(d), dims, order='F').transpose(\n",
    "#        order[:-1]).reshape(d, order='F')\n",
    "#A = csc_matrix(cnmf_model.estimates.A)[index_permut, :]\n",
    "#dims = tuple(np.array(dims)[order[:3]])\n",
    "#d1, d2, d3 = dims\n",
    "#nr, T = cnmf_model.estimates.C.shape\n",
    "#image_cells = np.array(A.mean(axis=1)).reshape(dims, order='F')\n",
    "#coors = get_contours(A, dims, thr=Cthr)\n",
    "coors = load_pickle(os.path.join(data_dir, 'ch0_means_movie_nobg_coors.pickle'))\n",
    "print(f\"Successfully loaded contours\")\n",
    "\n",
    "cc = [[l for l in n['coordinates']] for n in coors] # x,y values of contour coordinates for each component\n",
    "cc1 = [[(l[:, 0]) for l in n['coordinates']] for n in coors] # x values of contour coordinates for each component\n",
    "cc2 = [[(l[:, 1]) for l in n['coordinates']] for n in coors] # y values of contour coordinates for each component\n",
    "length = np.ravel([list(map(len, cc)) for cc in cc1])\n",
    "shapes = [[np.vstack([np.append(i,np.flip(pt)) for pt in cc[j][i]]) for i in range(len(cc[j]))] for j in range(len(cc))]\n",
    "\n",
    "# Line up all static inputs\n",
    "SNRs = cnmf_model.estimates.SNR_comp\n",
    "SNR_min = cnmf_model.estimates.SNRmin\n",
    "SOL = np.argsort(-SNRs)\n",
    "spcomps = np.reshape(cnmf_model.estimates.A.toarray(),cnmf_model.estimates.dims + (-1,),order='F')\n",
    "spcomps = spcomps.transpose([3,2,0,1])\n",
    "images2 = images.transpose([0,3,1,2])\n",
    "#SOL = np.argsort(-cnmf_model.estimates.SNR_comp) \n",
    "C = cnmf_model.estimates.C\n",
    "CY = cnmf_model.estimates.C + cnmf_model.estimates.YrA # temporal loadings\n",
    "R = cnmf_model.estimates.Craw # masks applied to raw movie\n",
    "\n",
    "CYsav = cnmf_model.estimates.CYsav # smoothened CY curve\n",
    "def sav_calc(sraw):\n",
    "    return sg.savgol_filter(sraw,3,1)\n",
    "Rsav = np.zeros(R.shape)\n",
    "for i in range(R.shape[0]):\n",
    "    Rsav[i,:] = sav_calc(R[i,:])\n",
    "CYsavsort = np.sort(CYsav,axis=1)\n",
    "CYsavb10 = np.mean(CYsavsort[:,:int(np.ceil(CYsavsort.shape[1]/10))],axis=1) # bottom 10% mean\n",
    "Rsavsort = np.sort(Rsav,axis=1)\n",
    "Rsavb10 = np.mean(Rsavsort[:,:int(np.ceil(Rsavsort.shape[1]/10))],axis=1) # bottom 10% mean\n",
    "n_range = cnmf_model.estimates.n_range\n",
    "if n_range is None:\n",
    "    CYf = CYsavb10\n",
    "    Rf = Rsavb10\n",
    "else:\n",
    "    CYf = np.mean(CY[:,n_range],axis=1)\n",
    "    Rf = np.mean(R[:,n_range],axis=1)\n",
    "\n",
    "Cn = cnmf_model.estimates.Cn # correlation image (not necessary)\n",
    "keepargs = cnmf_model.estimates.keepargs\n",
    "SOL = np.array([x for x in list(SOL) if x in list(keepargs)]) # initial search order list\n",
    "print(f\"Successfully generated search list\")\n",
    "\n",
    "A1 = csc_matrix(cnmf_model.estimates.A)\n",
    "nr = A1.shape[1]\n",
    "A_corr = scipy.sparse.triu(A1.T * A1)\n",
    "A_corr.setdiag(0)\n",
    "A_corr = A_corr.tocsc()\n",
    "C_corr = scipy.sparse.lil_matrix(A_corr.shape)\n",
    "for ii in range(nr):\n",
    "    overlap_indices = scipy.sparse.find(A_corr[ii, :])[1][scipy.sparse.find(A_corr[ii, :])[2]>Athresh]\n",
    "    if len(overlap_indices) > 0:\n",
    "            # we chesk the correlation of the calcium traces for each overlapping components\n",
    "        corr_values = [scipy.stats.pearsonr(C[ii, :], C[jj, :])[\n",
    "            0] for jj in overlap_indices]\n",
    "        C_corr[ii, overlap_indices] = corr_values\n",
    "C_tot = C_corr + C_corr.T\n",
    "CYR_corr = np.zeros(nr)\n",
    "for ii in range(nr):\n",
    "    CYR_corr[ii] = scipy.stats.pearsonr(R[ii,:],CY[ii,:])[0]\n",
    "print(f\"Successfully calculated correlations\")\n",
    "\n",
    "# Initialize all running variables in a single dictionary - just lists of arguments/component IDs (SOL, CSL, CMG, CKG, saved merge groups, trash)\n",
    "# check if saved file exists - load that if it does, else instantiate new vars_dict!\n",
    "save_path = 'ch0_means_movie_nobg_compfilt.pickle'\n",
    "ori_path = 'ch0_means_movie_nobg_compfilt_ori.pickle'\n",
    "if save_path in os.listdir():\n",
    "    vars_dict1 = load_pickle(save_path)\n",
    "# duplicate original version if not already saved\n",
    "if ori_path not in os.listdir():\n",
    "    with open(ori_path, 'wb') as f:\n",
    "        pickle.dump(vars_dict1, f)\n",
    "print(f\"Successfully initialized\")"
   ]
  },
  {
   "cell_type": "code",
   "execution_count": 39,
   "id": "0d02dd43-a9a9-4842-8de9-424b52edb546",
   "metadata": {},
   "outputs": [
    {
     "name": "stdout",
     "output_type": "stream",
     "text": [
      "CPU times: total: 18 s\n",
      "Wall time: 18 s\n"
     ]
    }
   ],
   "source": [
    "%%time\n",
    "spcomps_merge = np.asarray([np.sum(spcomps[vars_dict1[\"SMG\"][component],...],axis=0) for component in range(len(vars_dict1[\"SMG\"]))])\n",
    "spcomps_merge_e = np.concatenate((np.zeros(spcomps[0,...][np.newaxis,...].shape,dtype=np.float32),spcomps_merge))\n",
    "spcomps_merge_e2 = np.argmax(spcomps_merge_e,axis=0)"
   ]
  },
  {
   "cell_type": "code",
   "execution_count": 40,
   "id": "35db0943-81b3-4e9e-bcb6-62d26c5e2369",
   "metadata": {},
   "outputs": [],
   "source": [
    "# allow split/resurrect points and trash points (e.g. if the timecourse looks really bad)\n",
    "qcdata_path = 'ch0_means_movie_nobg_compqc.npy'\n",
    "if qcdata_path in os.listdir():\n",
    "    qc_data = np.load(qcdata_path,allow_pickle=True)[()]\n",
    "else:\n",
    "    qc_data = {\n",
    "        \"qc_spots\": np.empty((0,3)).astype('int'),\n",
    "        \"trash_spots\": np.empty((0,3)).astype('int')\n",
    "    }"
   ]
  },
  {
   "cell_type": "code",
   "execution_count": 41,
   "id": "3ff119cf-3254-4b53-9227-eee0b15b0909",
   "metadata": {
    "scrolled": true
   },
   "outputs": [
    {
     "data": {
      "text/plain": [
       "<Points layer 'qc spots' at 0x24f6e8651e0>"
      ]
     },
     "execution_count": 41,
     "metadata": {},
     "output_type": "execute_result"
    }
   ],
   "source": [
    "# Initialize viewer and start GUI\n",
    "viewer = napari.Viewer()\n",
    "viewer.add_image(images.transpose([0,3,1,2]),name='cells',colormap='gray')\n",
    "\n",
    "global fig1, ax11, ax12, leg1\n",
    "fig1, ax11 = plt.subplots() # dF/F\n",
    "ax12 = ax11.twinx()\n",
    "fig1.suptitle('Fluorescence signal plots')\n",
    "ax11.plot(CY[0,:].T/100,c='green',label='initialization')\n",
    "leg1 = fig1.legend(loc=\"upper left\")\n",
    "###\n",
    "# Key bindings to speed up selections\n",
    "@viewer.bind_key('n')\n",
    "def pressN(viewer):\n",
    "    clickN()\n",
    "\n",
    "@viewer.bind_key('p')\n",
    "def pressP(viewer):\n",
    "    clickP()\n",
    "\n",
    "@viewer.bind_key('b')\n",
    "def pressB(viewer):\n",
    "    clickP()\n",
    "\n",
    "@viewer.bind_key('c')\n",
    "def pressC(viewer):\n",
    "    viewer.layers['all components'].visible = not viewer.layers['all components'].visible\n",
    "\n",
    "@viewer.bind_key('v')\n",
    "def pressV(viewer):\n",
    "    viewer.layers['component contours'].visible = not viewer.layers['component contours'].visible\n",
    "\n",
    "@viewer.bind_key('Up')\n",
    "def jump_up(viewer):\n",
    "    viewer.dims.set_current_step(1, viewer.dims.current_step[1] - 1)\n",
    "\n",
    "@viewer.bind_key('Down')\n",
    "def jump_down(viewer):\n",
    "    viewer.dims.set_current_step(1, viewer.dims.current_step[1] + 1)\n",
    "\n",
    "@viewer.bind_key('Left')\n",
    "def jump_left(viewer):\n",
    "    viewer.dims.set_current_step(0, viewer.dims.current_step[0] - 1)\n",
    "\n",
    "@viewer.bind_key('Right')\n",
    "def jump_right(viewer):\n",
    "    viewer.dims.set_current_step(0, viewer.dims.current_step[0] + 1)\n",
    "    \n",
    "@magicgui(\n",
    "    auto_call=True,btn={\"widget_type\": \"PushButton\", \"text\": \"Next component\"}\n",
    ")\n",
    "def click_next(btn):\n",
    "    clickN()\n",
    "\n",
    "@magicgui(\n",
    "    auto_call=True,btn={\"widget_type\": \"PushButton\", \"text\": \"Previous component\"}\n",
    ")\n",
    "def click_prev(btn):\n",
    "    clickP()\n",
    "\n",
    "# Save and close button inside napari\n",
    "@magicgui(\n",
    "    auto_call=True,btn={\"widget_type\": \"PushButton\", \"text\": \"Save and close GUI\"}\n",
    ")\n",
    "def save_btn(btn):\n",
    "    qc_data[\"qc_spots\"] = viewer.layers['qc spots'].data.astype('int')\n",
    "    qc_data[\"trash_spots\"] = viewer.layers['trash spots'].data.astype('int')\n",
    "    np.save(qcdata_path,qc_data)\n",
    "    plt.close('all')\n",
    "    viewer.close()\n",
    "\n",
    "# Aligning widgets\n",
    "layout = widgets.Container(\n",
    "    widgets=[click_next,click_prev,save_btn], layout=\"vertical\", labels=False\n",
    ")\n",
    "###\n",
    "@magicgui(\n",
    "    auto_call=True,\n",
    "    component={\"widget_type\": \"Slider\", \"min\": 1, \"max\": len(vars_dict1[\"SMG\"]), \"step\": 1, \"orientation\": \"vertical\"},\n",
    "    layout=\"horizontal\",\n",
    ")\n",
    "def show_comp(component: int = 1, init: bool = False):\n",
    "    comp = component\n",
    "    try:\n",
    "        viewer.layers.remove('component')\n",
    "    except:\n",
    "        pass\n",
    "    try:\n",
    "        viewer.layers.remove('component contours')\n",
    "    except:\n",
    "        pass\n",
    "    plt.sca(ax11)\n",
    "    plt.cla()\n",
    "    plt.sca(ax12)\n",
    "    plt.cla()\n",
    "    ax11.set_xlabel('Frame')\n",
    "    ax11.set_ylabel('Signal')\n",
    "    ax11.tick_params(axis='y', labelcolor='green')\n",
    "    ax12.tick_params(axis='y', labelcolor='darkorange')\n",
    "    viewer.add_image(np.sum(spcomps[vars_dict1[\"SMG\"][component-1],...],axis=0),name='component',colormap='green',opacity=1,blending='additive',visible=False)\n",
    "    viewer.add_points(np.vstack([g for g in [v[~np.isnan(v).any(axis=1)] for v in [j for k in [shapes[i] for i in vars_dict1[\"SMG\"][component-1]] for j in k]] if g.size>0]),name='component contours',symbol='disc',size=2,face_color='lime',visible=True)\n",
    "    viewer.camera.center = coors[vars_dict1[\"SMG\"][component-1][0]].get('CoM')\n",
    "    viewer.dims.set_point(1,coors[vars_dict1[\"SMG\"][component-1][0]].get('CoM')[0])\n",
    "    viewer.camera.zoom = 3\n",
    "    if not init:\n",
    "        viewer.layers.move(3,6)\n",
    "        viewer.layers.selection.active = viewer.layers[5]\n",
    "    ax11.plot(CY[vars_dict1[\"SMG\"][component-1],:].T/100,c='green',label='components')\n",
    "    ax12.plot(np.mean(R[vars_dict1[\"SMG\"][component-1],:],axis=0).T,c='darkorange',ls='--',label='components raw')\n",
    "    global leg1\n",
    "    leg1.remove()\n",
    "    leg1 = fig1.legend(loc=\"upper left\")\n",
    "    fig1.canvas.draw_idle()\n",
    "\n",
    "def clickN():\n",
    "    show_comp.component.value = show_comp.component.value + 1\n",
    "\n",
    "def clickP():\n",
    "    show_comp.component.value = show_comp.component.value - 1\n",
    "\n",
    "viewer.window.add_dock_widget(show_comp)\n",
    "viewer.window.add_dock_widget(layout)\n",
    "show_comp(init=True)\n",
    "viewer.add_labels(spcomps_merge_e2,name='all components')\n",
    "viewer.add_points(data=qc_data[\"trash_spots\"],name='trash spots',ndim=3,face_color='red',size=6,out_of_slice_display=True)\n",
    "viewer.add_points(data=qc_data[\"qc_spots\"],name='qc spots',ndim=3,face_color='lime',size=6,out_of_slice_display=True)"
   ]
  },
  {
   "cell_type": "code",
   "execution_count": 25,
   "id": "2428131c-94ef-4a50-8c3f-e66e4943ea8e",
   "metadata": {},
   "outputs": [],
   "source": [
    "viewer.layers['cells'].scale = [1,4,1,1]\n",
    "viewer.layers['all components'].scale = [4,1,1]"
   ]
  },
  {
   "cell_type": "code",
   "execution_count": 6,
   "id": "cfcbcfb5-8d9a-4df4-a18f-6d67574374f3",
   "metadata": {},
   "outputs": [
    {
     "name": "stdout",
     "output_type": "stream",
     "text": [
      "{'qc_spots': array([[  5, 273,  28],\n",
      "       [  5, 293,  38],\n",
      "       [  5, 220,   7],\n",
      "       ...,\n",
      "       [ 14, 387, 370],\n",
      "       [ 14, 406, 401],\n",
      "       [ 14, 417, 401]]), 'trash_spots': array([], shape=(0, 3), dtype=int32)}\n"
     ]
    }
   ],
   "source": [
    "print(qc_data)"
   ]
  },
  {
   "cell_type": "code",
   "execution_count": 7,
   "id": "31594ed3-d9af-4906-89ec-a795aede972b",
   "metadata": {
    "scrolled": true
   },
   "outputs": [
    {
     "name": "stdout",
     "output_type": "stream",
     "text": [
      "[724 198 380 604 482 409 627 544 223 134  54 204 565  21 357  17 185 615\n",
      " 521 180  26 580 507 730 729 767  52 893 748 310 737 734 475 826 162 578\n",
      " 744 888 370  14 691 158 338 494 621 433 736 638 358  10 859 836  25 350\n",
      " 379 557 371 339 778 192   2 344 295 709 851 352 883 353 317 264 740 571\n",
      " 133 355 208 882 474 596 189 312 885 487 746 890 503 488 168 351 478 529\n",
      " 156 167 769 551  39 130 519  13 693 838 815 577 207 579 172 583 622 511\n",
      " 739 169 418 658 830 527 288 887 894 176 411 594 135 531 852 152 807  48\n",
      " 368 151 140 159 628 650 875 590 294 555 141 702 897 164 163  29 862 570\n",
      "  61 508 735 589 174 624 754 863 731 401 827 321 743 523 792 206 165 193\n",
      " 595 328 625 683 139 346 157 177 547 173 569  57 536 524 522 534 118  82\n",
      " 566 309   7 528 764  42 476 591 423  79 821 501 564 533 486 202 761 452\n",
      " 458  72 495 833 274 647 286 337 472 425 672 710 132  30 879 315 669  95\n",
      " 793  19 247 758 774  66  84 251 585 387 753 613 145 804 567  58 703 525\n",
      " 282 878  70 538 191 786 750 257 689 608 349  81 320 178 242  71 440 506\n",
      " 416  69 398  89   8  32 291 512 787  55 884  23 563 889 864  44 619 668\n",
      " 106  80 226 221 342 104 175  28]\n",
      "278\n",
      "{'SOL': [724, 198, 380, 604, 482, 409, 627, 544, 223, 134, 54, 204, 565, 21, 357, 17, 185, 615, 521, 180, 26, 580, 507, 730, 729, 767, 52, 893, 748, 310, 737, 734, 475, 826, 162, 578, 744, 888, 370, 14, 691, 158, 338, 494, 621, 433, 736, 638, 358, 10, 859, 836, 25, 350, 379, 557, 371, 339, 778, 192, 2, 344, 295, 709, 851, 352, 883, 353, 317, 264, 740, 571, 133, 355, 208, 882, 474, 596, 189, 312, 885, 487, 746, 890, 503, 488, 168, 351, 478, 529, 156, 167, 769, 551, 39, 130, 519, 13, 693, 838, 815, 577, 207, 579, 172, 583, 622, 511, 739, 169, 418, 658, 830, 527, 288, 887, 894, 176, 411, 594, 135, 531, 852, 152, 807, 48, 368, 151, 140, 159, 628, 650, 875, 590, 294, 555, 141, 702, 897, 164, 163, 29, 862, 570, 61, 508, 735, 589, 174, 624, 754, 863, 731, 401, 827, 321, 743, 523, 792, 206, 165, 193, 595, 328, 625, 683, 139, 346, 157, 177, 547, 173, 569, 57, 536, 524, 522, 534, 118, 82, 566, 309, 7, 528, 764, 42, 476, 591, 423, 79, 821, 501, 564, 533, 486, 202, 761, 452, 458, 72, 495, 833, 274, 647, 286, 337, 472, 425, 672, 710, 132, 30, 879, 315, 669, 95, 793, 19, 247, 758, 774, 66, 84, 251, 585, 387, 753, 613, 145, 804, 567, 58, 703, 525, 282, 878, 70, 538, 191, 786, 750, 257, 689, 608, 349, 81, 320, 178, 242, 71, 440, 506, 416, 69, 398, 89, 8, 32, 291, 512, 787, 55, 884, 23, 563, 889, 864, 44, 619, 668, 106, 80, 226, 221, 342, 104, 175, 28], 'CSL': [], 'CMG': [], 'CKG': [], 'SMG': [[666, 673, 696], [694, 674, 688, 716, 701], [708], [707], [684, 700, 718, 526], [237, 232, 182, 187], [186, 183, 231, 236, 196], [400, 219], [414, 229, 366, 188, 181], [782, 576, 607], [598], [620, 763, 751, 806], [773, 756, 584], [279, 314, 322, 276], [326, 493, 469, 299, 481, 269, 272, 306], [614, 603, 606, 426, 430], [797], [616], [605], [803], [195], [199], [877, 891], [361, 540, 360, 562, 359, 543, 377, 363, 548, 373], [381], [376], [436], [431, 444, 268], [659, 629, 811, 816, 844, 817, 634, 642, 663, 680], [825], [660, 630, 646, 822, 820, 824, 850, 843, 664, 860, 819], [831], [809], [837], [686, 868], [347, 341], [593, 403, 581], [301, 307, 278, 311], [260, 243, 261, 262], [250, 408], [246, 435], [397, 220, 266, 402, 256, 234, 249, 235], [394, 415, 230, 233], [218], [297, 102], [479, 450, 490, 505], [471], [483], [258], [502, 679, 492, 685], [498, 661, 504], [375, 384], [597, 759], [641, 457, 442, 609], [336], [343], [308, 496], [331, 535], [316, 275], [489], [652, 675], [632, 477, 644], [46], [434, 612, 439, 610, 467], [447, 618, 635, 600], [432, 460], [626, 445], [546, 559], [561, 556], [283, 464], [273, 455, 296], [97, 107, 289, 96, 290], [270, 244], [389, 407, 422, 419, 399, 390], [393, 443], [420, 391], [834, 808], [813, 639], [466, 449, 421], [454, 424, 468], [6, 1], [200, 205], [560, 726, 728], [568, 558, 552], [784, 790, 794, 805, 800, 781], [365, 417], [4, 37], [617], [271, 252, 267], [586, 757, 733, 768], [24, 51], [56, 15], [766, 776, 798, 777], [542, 573, 582, 545, 588, 364], [388], [76, 108], [802], [356], [649], [50], [124, 143], [841, 892, 690, 712, 847, 881, 880], [437, 248], [12, 27, 20, 43], [75], [699, 514, 513], [385], [640, 601], [18], [277], [765], [100, 93, 92, 127, 146, 147, 105, 109], [771], [340, 537], [324, 136, 138, 122, 123], [329], [83], [795], [530], [532], [801], [53], [86, 115], [74], [85], [65, 68], [38, 217], [378], [194], [785, 755], [253], [265], [497], [799], [886], [78], [599], [858]], 'trash': [428, 523, 709, 693, 201, 724, 198, 789, 769, 770, 323, 312, 380, 615, 482, 623, 409, 627, 883, 544, 371, 555, 241, 865, 658, 830, 863, 866, 838, 631, 747, 344, 353, 317, 321, 134, 54, 438, 222, 503, 507, 665, 527, 687, 731, 595, 565, 21, 335, 529, 328, 345, 395, 351, 325, 357, 17, 650, 522, 654, 474, 26, 551, 590, 730, 729, 767, 52, 893, 746, 739, 73, 411, 737, 826, 734, 475, 10, 29, 162, 577, 744, 888, 370, 778, 14, 57, 22, 158, 338, 736, 358, 859, 836, 25, 350, 557, 339, 2, 352, 740, 133, 117, 355, 208, 882, 189, 890, 897, 168, 745, 39, 478, 156, 167, 130, 13, 566, 172, 161, 169, 887, 894, 176, 531, 137, 152, 807, 48, 368, 151, 140, 159, 129, 139, 141, 164, 163, 862, 61, 144, 174, 165, 346, 157, 177, 173, 118, 82]}\n"
     ]
    }
   ],
   "source": [
    "# once all components have been evaluated, run this to update the vars_dict for downstream qc\n",
    "# i.e. this should 1. trash the groups with trash spots, and then 2. resurrect all components with qc spots (including merged groups)\n",
    "qc_spotcomps = []\n",
    "for r in range(0,qc_data['qc_spots'].shape[0]):\n",
    "    qc_spotcomps = qc_spotcomps + np.where(spcomps[:,qc_data['qc_spots'][r,0],qc_data['qc_spots'][r,1],qc_data['qc_spots'][r,2]]!=0)[0].tolist()\n",
    "\n",
    "qc_spotcomps2 = []\n",
    "tr = [qc_spotcomps2.append(x) for x in qc_spotcomps if x not in qc_spotcomps2]\n",
    "\n",
    "qc_notres = [x for i in range(len(vars_dict1['SMG'])) for x in vars_dict1['SMG'][i]]# + vars_dict1['trash']\n",
    "\n",
    "qc_spotcomps_res = [x for x in qc_spotcomps2 if x not in qc_notres]\n",
    "\n",
    "qc_spotcomps_split_mrgcomp = []\n",
    "for r in range(0,qc_data['qc_spots'].shape[0]):\n",
    "    comp = spcomps_merge_e2[qc_data['qc_spots'][r,0],qc_data['qc_spots'][r,1],qc_data['qc_spots'][r,2]]\n",
    "    if comp != 0:\n",
    "        qc_spotcomps_split_mrgcomp.append(comp-1)\n",
    "qc_spotcomps_split = [x for i in qc_spotcomps_split_mrgcomp for x in vars_dict1['SMG'][i]]\n",
    "qc_spotcomps_all = qc_spotcomps_res + qc_spotcomps_split\n",
    "\n",
    "trash_spotcomps_mrgcomp = []\n",
    "for r in range(0,qc_data['trash_spots'].shape[0]):\n",
    "    comp = spcomps_merge_e2[qc_data['trash_spots'][r,0],qc_data['trash_spots'][r,1],qc_data['trash_spots'][r,2]]\n",
    "    if comp != 0:\n",
    "        trash_spotcomps_mrgcomp.append(comp-1)\n",
    "\n",
    "ref_SOL = np.argsort(-cnmf_model.estimates.SNR_comp)\n",
    "ref_SOL = np.array([x for x in list(ref_SOL) if x in [x for x in qc_spotcomps_all if CYsavb10[x]>cnmf_model.estimates.Sigmin]]) # initial search order list\n",
    "print(ref_SOL)\n",
    "print(len(ref_SOL))\n",
    "\n",
    "vars_dict1['SOL'] = list(ref_SOL)\n",
    "vds = [vars_dict1['SMG'][i] for i in [j for j in range(len(vars_dict1['SMG'])) if j not in (trash_spotcomps_mrgcomp + qc_spotcomps_split_mrgcomp)]]\n",
    "vars_dict1['SMG'] = vds\n",
    "print(vars_dict1)"
   ]
  },
  {
   "cell_type": "code",
   "execution_count": 8,
   "id": "dfb42cee-d6aa-4cf5-8f2e-87b67349bc71",
   "metadata": {},
   "outputs": [],
   "source": [
    "# for qc, conditional on nonzero SOL above\n",
    "if len(ref_SOL) != 0:\n",
    "    save_path = 'ch0_means_movie_nobg_compfilt.pickle'\n",
    "    with open(save_path, 'wb') as f:\n",
    "        pickle.dump(vars_dict1, f)"
   ]
  },
  {
   "cell_type": "code",
   "execution_count": null,
   "id": "9f146d8b-a29d-4c7c-b02c-a46992fbd779",
   "metadata": {},
   "outputs": [],
   "source": []
  },
  {
   "cell_type": "code",
   "execution_count": null,
   "id": "a2bdfa11-7e87-423b-a096-a620eb6d9aea",
   "metadata": {},
   "outputs": [],
   "source": []
  },
  {
   "cell_type": "code",
   "execution_count": null,
   "id": "68fbee20-523a-4f9b-93d7-55a2086c1970",
   "metadata": {},
   "outputs": [],
   "source": []
  },
  {
   "cell_type": "code",
   "execution_count": 18,
   "id": "f698ecf6-1e78-4e2c-970b-21d585aa8d7b",
   "metadata": {},
   "outputs": [
    {
     "data": {
      "text/plain": [
       "{'SOL': [],\n",
       " 'CSL': [],\n",
       " 'CMG': [],\n",
       " 'CKG': [],\n",
       " 'SMG': [[451, 269, 458, 274, 280, 466],\n",
       "  [448, 268],\n",
       "  [482, 304, 502, 271, 454],\n",
       "  [260, 242, 422],\n",
       "  [236],\n",
       "  [409, 228, 212, 393, 233],\n",
       "  [188, 184, 376],\n",
       "  [369],\n",
       "  [113],\n",
       "  [511, 487, 534],\n",
       "  [525, 526, 707],\n",
       "  [522, 688],\n",
       "  [497, 694],\n",
       "  [684],\n",
       "  [78],\n",
       "  [625, 447],\n",
       "  [425, 475, 456],\n",
       "  [647, 621],\n",
       "  [636, 819],\n",
       "  [831],\n",
       "  [302],\n",
       "  [389, 419],\n",
       "  [165],\n",
       "  [125],\n",
       "  [142, 117, 128, 134],\n",
       "  [457, 485],\n",
       "  [473, 501],\n",
       "  [97, 63, 76],\n",
       "  [318, 313, 285, 316, 500, 289],\n",
       "  [311, 314, 345],\n",
       "  [237, 246],\n",
       "  [424, 421, 455, 453],\n",
       "  [443],\n",
       "  [232],\n",
       "  [216, 244, 213, 247],\n",
       "  [479, 490, 641, 664],\n",
       "  [528],\n",
       "  [529, 709],\n",
       "  [150, 168, 169, 154],\n",
       "  [161, 153],\n",
       "  [480, 492, 516, 336, 355],\n",
       "  [273, 243, 278, 252],\n",
       "  [164],\n",
       "  [158, 156],\n",
       "  [347],\n",
       "  [86],\n",
       "  [608, 437],\n",
       "  [623, 430, 605, 396, 411],\n",
       "  [431, 412],\n",
       "  [614],\n",
       "  [423],\n",
       "  [70],\n",
       "  [590],\n",
       "  [575, 604, 602, 780, 597],\n",
       "  [610, 603, 786],\n",
       "  [756],\n",
       "  [616, 587],\n",
       "  [203],\n",
       "  [370],\n",
       "  [367, 358, 579, 573],\n",
       "  [398],\n",
       "  [799],\n",
       "  [140],\n",
       "  [82, 53, 44, 47, 33, 58],\n",
       "  [49],\n",
       "  [52],\n",
       "  [174, 157],\n",
       "  [298, 507, 499, 344, 342],\n",
       "  [337],\n",
       "  [698, 678, 512],\n",
       "  [353],\n",
       "  [10],\n",
       "  [847, 891],\n",
       "  [842],\n",
       "  [860],\n",
       "  [821],\n",
       "  [734, 740, 731, 744],\n",
       "  [743],\n",
       "  [639],\n",
       "  [814, 836],\n",
       "  [558, 551],\n",
       "  [2],\n",
       "  [79, 61],\n",
       "  [67, 62, 81],\n",
       "  [69, 38],\n",
       "  [75],\n",
       "  [880, 857],\n",
       "  [474],\n",
       "  [159],\n",
       "  [884, 887],\n",
       "  [598, 635, 420],\n",
       "  [441, 612],\n",
       "  [50, 14],\n",
       "  [12],\n",
       "  [20],\n",
       "  [195, 378, 185],\n",
       "  [829, 859, 852],\n",
       "  [43],\n",
       "  [87],\n",
       "  [861, 863],\n",
       "  [683],\n",
       "  [126],\n",
       "  [439, 259],\n",
       "  [39],\n",
       "  [356],\n",
       "  [26],\n",
       "  [790],\n",
       "  [787, 800],\n",
       "  [461],\n",
       "  [772],\n",
       "  [754],\n",
       "  [464],\n",
       "  [24],\n",
       "  [828, 793],\n",
       "  [728],\n",
       "  [25],\n",
       "  [65, 31],\n",
       "  [176],\n",
       "  [822],\n",
       "  [18],\n",
       "  [823],\n",
       "  [564],\n",
       "  [415],\n",
       "  [384],\n",
       "  [547],\n",
       "  [74, 118],\n",
       "  [826],\n",
       "  [856],\n",
       "  [187],\n",
       "  [637, 805],\n",
       "  [867],\n",
       "  [746, 572],\n",
       "  [546, 365],\n",
       "  [771],\n",
       "  [71],\n",
       "  [205],\n",
       "  [807],\n",
       "  [809],\n",
       "  [803],\n",
       "  [844],\n",
       "  [34],\n",
       "  [382],\n",
       "  [-1],\n",
       "  [-1],\n",
       "  [248, 234, 217],\n",
       "  [255],\n",
       "  [640, 465, 450, 628],\n",
       "  [471, 643],\n",
       "  [638, 463, 615],\n",
       "  [631, 653],\n",
       "  [265, 444, 253, 428],\n",
       "  [275, 462, 249],\n",
       "  [324, 290, 292, 106, 133, 272, 111, 112, 135, 326, 291],\n",
       "  [303, 270],\n",
       "  [225],\n",
       "  [245, 256, 257],\n",
       "  [96, 283],\n",
       "  [109, 83, 282, 258],\n",
       "  [99],\n",
       "  [417, 395, 251, 433, 388],\n",
       "  [400],\n",
       "  [392, 426, 214, 401],\n",
       "  [123],\n",
       "  [660, 630, 452, 658, 472, 673],\n",
       "  [299, 329, 323, 340],\n",
       "  [98, 95, 103, 137],\n",
       "  [121, 136, 132, 91, 105, 129],\n",
       "  [209, 221],\n",
       "  [218],\n",
       "  [219, 181],\n",
       "  [196],\n",
       "  [339, 350],\n",
       "  [820, 634],\n",
       "  [626],\n",
       "  [230, 73],\n",
       "  [229, 29],\n",
       "  [85],\n",
       "  [706, 870, 886],\n",
       "  [618, 797, 791],\n",
       "  [693, 527],\n",
       "  [518, 504],\n",
       "  [659],\n",
       "  [531, 496, 679, 702],\n",
       "  [581],\n",
       "  [759],\n",
       "  [755, 584, 589, 765],\n",
       "  [751],\n",
       "  [281, 261],\n",
       "  [380],\n",
       "  [533],\n",
       "  [414],\n",
       "  [813, 808, 812, 817, 806],\n",
       "  [594, 624],\n",
       "  [729],\n",
       "  [596],\n",
       "  [600, 753],\n",
       "  [435, 613],\n",
       "  [607],\n",
       "  [386, 362],\n",
       "  [824, 838],\n",
       "  [620, 649],\n",
       "  [650, 783]],\n",
       " 'trash': [294,\n",
       "  319,\n",
       "  293,\n",
       "  266,\n",
       "  235,\n",
       "  413,\n",
       "  196,\n",
       "  199,\n",
       "  371,\n",
       "  83,\n",
       "  109,\n",
       "  693,\n",
       "  675,\n",
       "  533,\n",
       "  845,\n",
       "  472,\n",
       "  673,\n",
       "  339,\n",
       "  352,\n",
       "  350,\n",
       "  173,\n",
       "  325,\n",
       "  175,\n",
       "  160,\n",
       "  330,\n",
       "  348,\n",
       "  332,\n",
       "  147,\n",
       "  178,\n",
       "  136,\n",
       "  103,\n",
       "  123,\n",
       "  292,\n",
       "  111,\n",
       "  112,\n",
       "  135,\n",
       "  85,\n",
       "  257,\n",
       "  288,\n",
       "  467,\n",
       "  315,\n",
       "  488,\n",
       "  595,\n",
       "  760,\n",
       "  383,\n",
       "  375,\n",
       "  380,\n",
       "  676,\n",
       "  677,\n",
       "  73,\n",
       "  84,\n",
       "  681,\n",
       "  659,\n",
       "  699,\n",
       "  890,\n",
       "  204,\n",
       "  17,\n",
       "  882,\n",
       "  7,\n",
       "  23,\n",
       "  46,\n",
       "  711,\n",
       "  862,\n",
       "  706,\n",
       "  27,\n",
       "  883,\n",
       "  848,\n",
       "  832,\n",
       "  239,\n",
       "  434,\n",
       "  241,\n",
       "  266,\n",
       "  651,\n",
       "  469,\n",
       "  468,\n",
       "  349,\n",
       "  296,\n",
       "  104,\n",
       "  408,\n",
       "  226,\n",
       "  334,\n",
       "  94,\n",
       "  309,\n",
       "  317,\n",
       "  173,\n",
       "  160,\n",
       "  676,\n",
       "  677,\n",
       "  654,\n",
       "  642,\n",
       "  351,\n",
       "  343,\n",
       "  131,\n",
       "  315,\n",
       "  287,\n",
       "  88,\n",
       "  403,\n",
       "  224,\n",
       "  201,\n",
       "  294,\n",
       "  178,\n",
       "  781,\n",
       "  890,\n",
       "  77,\n",
       "  629,\n",
       "  827,\n",
       "  192,\n",
       "  882,\n",
       "  591,\n",
       "  13,\n",
       "  830,\n",
       "  23,\n",
       "  56,\n",
       "  46,\n",
       "  193,\n",
       "  595,\n",
       "  9,\n",
       "  186,\n",
       "  711,\n",
       "  862,\n",
       "  346,\n",
       "  144,\n",
       "  888,\n",
       "  681,\n",
       "  845,\n",
       "  175,\n",
       "  802,\n",
       "  204,\n",
       "  146,\n",
       "  114,\n",
       "  699,\n",
       "  162,\n",
       "  21,\n",
       "  152,\n",
       "  183,\n",
       "  832,\n",
       "  127,\n",
       "  143,\n",
       "  170,\n",
       "  22,\n",
       "  374,\n",
       "  739,\n",
       "  785,\n",
       "  736,\n",
       "  719,\n",
       "  769,\n",
       "  854,\n",
       "  816,\n",
       "  652,\n",
       "  757,\n",
       "  801,\n",
       "  555,\n",
       "  206,\n",
       "  849,\n",
       "  704,\n",
       "  708,\n",
       "  742,\n",
       "  738,\n",
       "  554,\n",
       "  198,\n",
       "  385,\n",
       "  536,\n",
       "  559,\n",
       "  35]}"
      ]
     },
     "execution_count": 18,
     "metadata": {},
     "output_type": "execute_result"
    }
   ],
   "source": [
    "vars_dict1"
   ]
  },
  {
   "cell_type": "code",
   "execution_count": null,
   "id": "f97897b1-41ae-4d27-815f-5e28b8df97d1",
   "metadata": {},
   "outputs": [],
   "source": [
    "# fixing 20230824_SL1_wells001, 220622_PK44_wells001 duplicate components"
   ]
  },
  {
   "cell_type": "code",
   "execution_count": 23,
   "id": "c8326bb4-0b9a-4e1e-a9e7-3d9d7d04b9c2",
   "metadata": {},
   "outputs": [
    {
     "data": {
      "text/plain": [
       "202"
      ]
     },
     "execution_count": 23,
     "metadata": {},
     "output_type": "execute_result"
    }
   ],
   "source": [
    "len(vars_dict1['SMG'])"
   ]
  },
  {
   "cell_type": "code",
   "execution_count": 8,
   "id": "39c05dd5-8c03-4abb-9d97-a3c6760ab180",
   "metadata": {},
   "outputs": [],
   "source": [
    "ln = np.sum(np.array([len(comp) for comp in vars_dict1['SMG']]))\n",
    "ids = set.union(*[set(comp) for comp in vars_dict1['SMG']])"
   ]
  },
  {
   "cell_type": "code",
   "execution_count": 9,
   "id": "f4a5b4ab-e46b-429d-8724-76af5f34eb33",
   "metadata": {},
   "outputs": [
    {
     "data": {
      "text/plain": [
       "410"
      ]
     },
     "execution_count": 9,
     "metadata": {},
     "output_type": "execute_result"
    }
   ],
   "source": [
    "ln"
   ]
  },
  {
   "cell_type": "code",
   "execution_count": 10,
   "id": "c9210867-b6fc-4454-b832-ea730c802b27",
   "metadata": {},
   "outputs": [
    {
     "data": {
      "text/plain": [
       "409"
      ]
     },
     "execution_count": 10,
     "metadata": {},
     "output_type": "execute_result"
    }
   ],
   "source": [
    "len(ids)"
   ]
  },
  {
   "cell_type": "code",
   "execution_count": 11,
   "id": "11d4668f-1ba0-4294-b031-4bf7162c253e",
   "metadata": {},
   "outputs": [],
   "source": [
    "import collections\n",
    "a = [x for y in vars_dict1['SMG'] for x in y]\n",
    "b = [item for item, count in collections.Counter(a).items() if count > 1]"
   ]
  },
  {
   "cell_type": "code",
   "execution_count": 12,
   "id": "0838b016-219d-4d07-aad1-7c7627612891",
   "metadata": {},
   "outputs": [
    {
     "data": {
      "text/plain": [
       "[[-1], [-1]]"
      ]
     },
     "execution_count": 12,
     "metadata": {},
     "output_type": "execute_result"
    }
   ],
   "source": [
    "[x for x in vars_dict1['SMG'] if len(set(x) & set(b)) != 0]"
   ]
  },
  {
   "cell_type": "code",
   "execution_count": 14,
   "id": "8cd18db6-bea3-4091-8f3d-cc4cbf2db244",
   "metadata": {},
   "outputs": [
    {
     "data": {
      "text/plain": [
       "[892]"
      ]
     },
     "execution_count": 14,
     "metadata": {},
     "output_type": "execute_result"
    }
   ],
   "source": [
    "np.where(spcomps[:,7,366,414]!=0)[0].tolist()"
   ]
  },
  {
   "cell_type": "code",
   "execution_count": 17,
   "id": "784ca776-0103-4d7c-874d-f431e4fa0a28",
   "metadata": {},
   "outputs": [
    {
     "data": {
      "text/plain": [
       "[]"
      ]
     },
     "execution_count": 17,
     "metadata": {},
     "output_type": "execute_result"
    }
   ],
   "source": [
    "[x for x in vars_dict1['SMG'] if 892 in x]"
   ]
  },
  {
   "cell_type": "code",
   "execution_count": 19,
   "id": "eababc38-7764-4342-ae4b-5391ad224949",
   "metadata": {},
   "outputs": [
    {
     "data": {
      "text/plain": [
       "(893, 165)"
      ]
     },
     "execution_count": 19,
     "metadata": {},
     "output_type": "execute_result"
    }
   ],
   "source": [
    "cnmf_model.estimates.C.shape"
   ]
  },
  {
   "cell_type": "code",
   "execution_count": 20,
   "id": "6a138854-bb52-43b5-b10d-c1d2d5bd8075",
   "metadata": {},
   "outputs": [
    {
     "data": {
      "text/plain": [
       "[142, 143]"
      ]
     },
     "execution_count": 20,
     "metadata": {},
     "output_type": "execute_result"
    }
   ],
   "source": [
    "[i for i in range(len(vars_dict1['SMG'])) if len(set(vars_dict1['SMG'][i]) & set(b)) != 0]"
   ]
  },
  {
   "cell_type": "code",
   "execution_count": 14,
   "id": "994198ad-4ef6-49bd-b04f-2a05f3cc202d",
   "metadata": {},
   "outputs": [
    {
     "data": {
      "text/plain": [
       "[663, 835, 681, 881]"
      ]
     },
     "execution_count": 14,
     "metadata": {},
     "output_type": "execute_result"
    }
   ],
   "source": [
    "vars_dict1['SMG'][21]"
   ]
  },
  {
   "cell_type": "code",
   "execution_count": 27,
   "id": "d0b5c48e-1f81-474e-a397-dadf485b0f98",
   "metadata": {},
   "outputs": [
    {
     "data": {
      "text/plain": [
       "[[451, 269, 458, 274, 280, 466],\n",
       " [448, 268],\n",
       " [482, 304, 502, 271, 454],\n",
       " [260, 242, 422],\n",
       " [236],\n",
       " [409, 228, 212, 393, 233],\n",
       " [188, 184, 376],\n",
       " [369],\n",
       " [113],\n",
       " [511, 487, 534],\n",
       " [525, 526, 707],\n",
       " [522, 688],\n",
       " [497, 694],\n",
       " [684],\n",
       " [78],\n",
       " [625, 447],\n",
       " [425, 475, 456],\n",
       " [647, 621],\n",
       " [636, 819],\n",
       " [831],\n",
       " [302],\n",
       " [389, 419],\n",
       " [165],\n",
       " [125],\n",
       " [142, 117, 128, 134],\n",
       " [457, 485],\n",
       " [473, 501],\n",
       " [97, 63, 76],\n",
       " [318, 313, 285, 316, 500, 289],\n",
       " [311, 314, 345],\n",
       " [237, 246],\n",
       " [424, 421, 455, 453],\n",
       " [443],\n",
       " [232],\n",
       " [216, 244, 213, 247],\n",
       " [479, 490, 641, 664],\n",
       " [528],\n",
       " [529, 709],\n",
       " [150, 168, 169, 154],\n",
       " [161, 153],\n",
       " [480, 492, 516, 336, 355],\n",
       " [273, 243, 278, 252],\n",
       " [164],\n",
       " [158, 156],\n",
       " [347],\n",
       " [86],\n",
       " [608, 437],\n",
       " [623, 430, 605, 396, 411],\n",
       " [431, 412],\n",
       " [614],\n",
       " [423],\n",
       " [70],\n",
       " [590],\n",
       " [575, 604, 602, 780, 597],\n",
       " [610, 603, 786],\n",
       " [756],\n",
       " [616, 587],\n",
       " [203],\n",
       " [370],\n",
       " [367, 358, 579, 573],\n",
       " [398],\n",
       " [799],\n",
       " [140],\n",
       " [82, 53, 44, 47, 33, 58],\n",
       " [49],\n",
       " [52],\n",
       " [174, 157],\n",
       " [298, 507, 499, 344, 342],\n",
       " [337],\n",
       " [698, 678, 512],\n",
       " [353],\n",
       " [10],\n",
       " [847, 891],\n",
       " [842],\n",
       " [860],\n",
       " [821],\n",
       " [734, 740, 731, 744],\n",
       " [743],\n",
       " [639],\n",
       " [814, 836],\n",
       " [558, 551],\n",
       " [2],\n",
       " [79, 61],\n",
       " [67, 62, 81],\n",
       " [69, 38],\n",
       " [75],\n",
       " [880, 857],\n",
       " [474],\n",
       " [159],\n",
       " [884, 887],\n",
       " [598, 635, 420],\n",
       " [441, 612],\n",
       " [50, 14],\n",
       " [12],\n",
       " [20],\n",
       " [195, 378, 185],\n",
       " [829, 859, 852],\n",
       " [43],\n",
       " [87],\n",
       " [861, 863],\n",
       " [683],\n",
       " [126],\n",
       " [439, 259],\n",
       " [39],\n",
       " [356],\n",
       " [26],\n",
       " [790],\n",
       " [787, 800],\n",
       " [461],\n",
       " [772],\n",
       " [754],\n",
       " [464],\n",
       " [24],\n",
       " [828, 793],\n",
       " [728],\n",
       " [25],\n",
       " [65, 31],\n",
       " [176],\n",
       " [822],\n",
       " [18],\n",
       " [823],\n",
       " [564],\n",
       " [415],\n",
       " [384],\n",
       " [547],\n",
       " [74, 118],\n",
       " [826],\n",
       " [856],\n",
       " [187],\n",
       " [637, 805],\n",
       " [867],\n",
       " [746, 572],\n",
       " [546, 365],\n",
       " [771],\n",
       " [71],\n",
       " [205],\n",
       " [807],\n",
       " [809],\n",
       " [803],\n",
       " [844],\n",
       " [34],\n",
       " [382],\n",
       " [248, 234, 217],\n",
       " [255],\n",
       " [640, 465, 450, 628],\n",
       " [471, 643],\n",
       " [638, 463, 615],\n",
       " [631, 653],\n",
       " [265, 444, 253, 428],\n",
       " [275, 462, 249],\n",
       " [324, 290, 292, 106, 133, 272, 111, 112, 135, 326, 291],\n",
       " [303, 270],\n",
       " [225],\n",
       " [245, 256, 257],\n",
       " [96, 283],\n",
       " [109, 83, 282, 258],\n",
       " [99],\n",
       " [417, 395, 251, 433, 388],\n",
       " [400],\n",
       " [392, 426, 214, 401],\n",
       " [123],\n",
       " [660, 630, 452, 658, 472, 673],\n",
       " [299, 329, 323, 340],\n",
       " [98, 95, 103, 137],\n",
       " [121, 136, 132, 91, 105, 129],\n",
       " [209, 221],\n",
       " [218],\n",
       " [219, 181],\n",
       " [196],\n",
       " [339, 350],\n",
       " [820, 634],\n",
       " [626],\n",
       " [230, 73],\n",
       " [229, 29],\n",
       " [85],\n",
       " [706, 870, 886],\n",
       " [618, 797, 791],\n",
       " [693, 527],\n",
       " [518, 504],\n",
       " [659],\n",
       " [531, 496, 679, 702],\n",
       " [581],\n",
       " [759],\n",
       " [755, 584, 589, 765],\n",
       " [751],\n",
       " [281, 261],\n",
       " [380],\n",
       " [533],\n",
       " [414],\n",
       " [813, 808, 812, 817, 806],\n",
       " [594, 624],\n",
       " [729],\n",
       " [596],\n",
       " [600, 753],\n",
       " [435, 613],\n",
       " [607],\n",
       " [386, 362],\n",
       " [824, 838],\n",
       " [620, 649],\n",
       " [650, 783],\n",
       " [892]]"
      ]
     },
     "execution_count": 27,
     "metadata": {},
     "output_type": "execute_result"
    }
   ],
   "source": [
    "vars_dict1['SMG']"
   ]
  },
  {
   "cell_type": "code",
   "execution_count": 22,
   "id": "3afc7d46-8515-4f3a-89fa-e9565e580bf9",
   "metadata": {},
   "outputs": [
    {
     "data": {
      "text/plain": [
       "[[451, 269, 458, 274, 280, 466],\n",
       " [448, 268],\n",
       " [482, 304, 502, 271, 454],\n",
       " [260, 242, 422],\n",
       " [236],\n",
       " [409, 228, 212, 393, 233],\n",
       " [188, 184, 376],\n",
       " [369],\n",
       " [113],\n",
       " [511, 487, 534],\n",
       " [525, 526, 707],\n",
       " [522, 688],\n",
       " [497, 694],\n",
       " [684],\n",
       " [78],\n",
       " [625, 447],\n",
       " [425, 475, 456],\n",
       " [647, 621],\n",
       " [636, 819],\n",
       " [831],\n",
       " [302],\n",
       " [389, 419],\n",
       " [165],\n",
       " [125],\n",
       " [142, 117, 128, 134],\n",
       " [457, 485],\n",
       " [473, 501],\n",
       " [97, 63, 76],\n",
       " [318, 313, 285, 316, 500, 289],\n",
       " [311, 314, 345],\n",
       " [237, 246],\n",
       " [424, 421, 455, 453],\n",
       " [443],\n",
       " [232],\n",
       " [216, 244, 213, 247],\n",
       " [479, 490, 641, 664],\n",
       " [528],\n",
       " [529, 709],\n",
       " [150, 168, 169, 154],\n",
       " [161, 153],\n",
       " [480, 492, 516, 336, 355],\n",
       " [273, 243, 278, 252],\n",
       " [164],\n",
       " [158, 156],\n",
       " [347],\n",
       " [86],\n",
       " [608, 437],\n",
       " [623, 430, 605, 396, 411],\n",
       " [431, 412],\n",
       " [614],\n",
       " [423],\n",
       " [70],\n",
       " [590],\n",
       " [575, 604, 602, 780, 597],\n",
       " [610, 603, 786],\n",
       " [756],\n",
       " [616, 587],\n",
       " [203],\n",
       " [370],\n",
       " [367, 358, 579, 573],\n",
       " [398],\n",
       " [799],\n",
       " [140],\n",
       " [82, 53, 44, 47, 33, 58],\n",
       " [49],\n",
       " [52],\n",
       " [174, 157],\n",
       " [298, 507, 499, 344, 342],\n",
       " [337],\n",
       " [698, 678, 512],\n",
       " [353],\n",
       " [10],\n",
       " [847, 891],\n",
       " [842],\n",
       " [860],\n",
       " [821],\n",
       " [734, 740, 731, 744],\n",
       " [743],\n",
       " [639],\n",
       " [814, 836],\n",
       " [558, 551],\n",
       " [2],\n",
       " [79, 61],\n",
       " [67, 62, 81],\n",
       " [69, 38],\n",
       " [75],\n",
       " [880, 857],\n",
       " [474],\n",
       " [159],\n",
       " [884, 887],\n",
       " [598, 635, 420],\n",
       " [441, 612],\n",
       " [50, 14],\n",
       " [12],\n",
       " [20],\n",
       " [195, 378, 185],\n",
       " [829, 859, 852],\n",
       " [43],\n",
       " [87],\n",
       " [861, 863],\n",
       " [683],\n",
       " [126],\n",
       " [439, 259],\n",
       " [39],\n",
       " [356],\n",
       " [26],\n",
       " [790],\n",
       " [787, 800],\n",
       " [461],\n",
       " [772],\n",
       " [754],\n",
       " [464],\n",
       " [24],\n",
       " [828, 793],\n",
       " [728],\n",
       " [25],\n",
       " [65, 31],\n",
       " [176],\n",
       " [822],\n",
       " [18],\n",
       " [823],\n",
       " [564],\n",
       " [415],\n",
       " [384],\n",
       " [547],\n",
       " [74, 118],\n",
       " [826],\n",
       " [856],\n",
       " [187],\n",
       " [637, 805],\n",
       " [867],\n",
       " [746, 572],\n",
       " [546, 365],\n",
       " [771],\n",
       " [71],\n",
       " [205],\n",
       " [807],\n",
       " [809],\n",
       " [803],\n",
       " [844],\n",
       " [34],\n",
       " [382],\n",
       " [248, 234, 217],\n",
       " [255],\n",
       " [640, 465, 450, 628],\n",
       " [471, 643],\n",
       " [638, 463, 615],\n",
       " [631, 653],\n",
       " [265, 444, 253, 428],\n",
       " [275, 462, 249],\n",
       " [324, 290, 292, 106, 133, 272, 111, 112, 135, 326, 291],\n",
       " [303, 270],\n",
       " [225],\n",
       " [245, 256, 257],\n",
       " [96, 283],\n",
       " [109, 83, 282, 258],\n",
       " [99],\n",
       " [417, 395, 251, 433, 388],\n",
       " [400],\n",
       " [392, 426, 214, 401],\n",
       " [123],\n",
       " [660, 630, 452, 658, 472, 673],\n",
       " [299, 329, 323, 340],\n",
       " [98, 95, 103, 137],\n",
       " [121, 136, 132, 91, 105, 129],\n",
       " [209, 221],\n",
       " [218],\n",
       " [219, 181],\n",
       " [196],\n",
       " [339, 350],\n",
       " [820, 634],\n",
       " [626],\n",
       " [230, 73],\n",
       " [229, 29],\n",
       " [85],\n",
       " [706, 870, 886],\n",
       " [618, 797, 791],\n",
       " [693, 527],\n",
       " [518, 504],\n",
       " [659],\n",
       " [531, 496, 679, 702],\n",
       " [581],\n",
       " [759],\n",
       " [755, 584, 589, 765],\n",
       " [751],\n",
       " [281, 261],\n",
       " [380],\n",
       " [533],\n",
       " [414],\n",
       " [813, 808, 812, 817, 806],\n",
       " [594, 624],\n",
       " [729],\n",
       " [596],\n",
       " [600, 753],\n",
       " [435, 613],\n",
       " [607],\n",
       " [386, 362],\n",
       " [824, 838],\n",
       " [620, 649],\n",
       " [650, 783]]"
      ]
     },
     "execution_count": 22,
     "metadata": {},
     "output_type": "execute_result"
    }
   ],
   "source": [
    "[vars_dict1['SMG'][i] for i in range(len(vars_dict1['SMG'])) if i not in [142, 143]]"
   ]
  },
  {
   "cell_type": "code",
   "execution_count": 24,
   "id": "c410b1a6-c130-4d4b-91bd-12bee559809f",
   "metadata": {},
   "outputs": [
    {
     "data": {
      "text/plain": [
       "200"
      ]
     },
     "execution_count": 24,
     "metadata": {},
     "output_type": "execute_result"
    }
   ],
   "source": [
    "vars_dict1['SMG'] = [vars_dict1['SMG'][i] for i in range(len(vars_dict1['SMG'])) if i not in [142, 143]]\n",
    "len(vars_dict1['SMG'])"
   ]
  },
  {
   "cell_type": "code",
   "execution_count": 25,
   "id": "e362fbee-c681-47ac-8ebb-d2079b108102",
   "metadata": {},
   "outputs": [],
   "source": [
    "vars_dict1['SMG'].append([892])"
   ]
  },
  {
   "cell_type": "code",
   "execution_count": 26,
   "id": "fcc14334-c56f-4242-93cc-876800fbe292",
   "metadata": {},
   "outputs": [
    {
     "data": {
      "text/plain": [
       "201"
      ]
     },
     "execution_count": 26,
     "metadata": {},
     "output_type": "execute_result"
    }
   ],
   "source": [
    "len(vars_dict1['SMG'])"
   ]
  },
  {
   "cell_type": "code",
   "execution_count": 28,
   "id": "a18bd173-3598-47fc-8b45-130b9aefa978",
   "metadata": {
    "scrolled": true
   },
   "outputs": [
    {
     "name": "stdout",
     "output_type": "stream",
     "text": [
      "{'SOL': [], 'CSL': [], 'CMG': [], 'CKG': [], 'SMG': [[451, 269, 458, 274, 280, 466], [448, 268], [482, 304, 502, 271, 454], [260, 242, 422], [236], [409, 228, 212, 393, 233], [188, 184, 376], [369], [113], [511, 487, 534], [525, 526, 707], [522, 688], [497, 694], [684], [78], [625, 447], [425, 475, 456], [647, 621], [636, 819], [831], [302], [389, 419], [165], [125], [142, 117, 128, 134], [457, 485], [473, 501], [97, 63, 76], [318, 313, 285, 316, 500, 289], [311, 314, 345], [237, 246], [424, 421, 455, 453], [443], [232], [216, 244, 213, 247], [479, 490, 641, 664], [528], [529, 709], [150, 168, 169, 154], [161, 153], [480, 492, 516, 336, 355], [273, 243, 278, 252], [164], [158, 156], [347], [86], [608, 437], [623, 430, 605, 396, 411], [431, 412], [614], [423], [70], [590], [575, 604, 602, 780, 597], [610, 603, 786], [756], [616, 587], [203], [370], [367, 358, 579, 573], [398], [799], [140], [82, 53, 44, 47, 33, 58], [49], [52], [174, 157], [298, 507, 499, 344, 342], [337], [698, 678, 512], [353], [10], [847, 891], [842], [860], [821], [734, 740, 731, 744], [743], [639], [814, 836], [558, 551], [2], [79, 61], [67, 62, 81], [69, 38], [75], [880, 857], [474], [159], [884, 887], [598, 635, 420], [441, 612], [50, 14], [12], [20], [195, 378, 185], [829, 859, 852], [43], [87], [861, 863], [683], [126], [439, 259], [39], [356], [26], [790], [787, 800], [461], [772], [754], [464], [24], [828, 793], [728], [25], [65, 31], [176], [822], [18], [823], [564], [415], [384], [547], [74, 118], [826], [856], [187], [637, 805], [867], [746, 572], [546, 365], [771], [71], [205], [807], [809], [803], [844], [34], [382], [248, 234, 217], [255], [640, 465, 450, 628], [471, 643], [638, 463, 615], [631, 653], [265, 444, 253, 428], [275, 462, 249], [324, 290, 292, 106, 133, 272, 111, 112, 135, 326, 291], [303, 270], [225], [245, 256, 257], [96, 283], [109, 83, 282, 258], [99], [417, 395, 251, 433, 388], [400], [392, 426, 214, 401], [123], [660, 630, 452, 658, 472, 673], [299, 329, 323, 340], [98, 95, 103, 137], [121, 136, 132, 91, 105, 129], [209, 221], [218], [219, 181], [196], [339, 350], [820, 634], [626], [230, 73], [229, 29], [85], [706, 870, 886], [618, 797, 791], [693, 527], [518, 504], [659], [531, 496, 679, 702], [581], [759], [755, 584, 589, 765], [751], [281, 261], [380], [533], [414], [813, 808, 812, 817, 806], [594, 624], [729], [596], [600, 753], [435, 613], [607], [386, 362], [824, 838], [620, 649], [650, 783], [892]], 'trash': [294, 319, 293, 266, 235, 413, 196, 199, 371, 83, 109, 693, 675, 533, 845, 472, 673, 339, 352, 350, 173, 325, 175, 160, 330, 348, 332, 147, 178, 136, 103, 123, 292, 111, 112, 135, 85, 257, 288, 467, 315, 488, 595, 760, 383, 375, 380, 676, 677, 73, 84, 681, 659, 699, 890, 204, 17, 882, 7, 23, 46, 711, 862, 706, 27, 883, 848, 832, 239, 434, 241, 266, 651, 469, 468, 349, 296, 104, 408, 226, 334, 94, 309, 317, 173, 160, 676, 677, 654, 642, 351, 343, 131, 315, 287, 88, 403, 224, 201, 294, 178, 781, 890, 77, 629, 827, 192, 882, 591, 13, 830, 23, 56, 46, 193, 595, 9, 186, 711, 862, 346, 144, 888, 681, 845, 175, 802, 204, 146, 114, 699, 162, 21, 152, 183, 832, 127, 143, 170, 22, 374, 739, 785, 736, 719, 769, 854, 816, 652, 757, 801, 555, 206, 849, 704, 708, 742, 738, 554, 198, 385, 536, 559, 35]}\n"
     ]
    }
   ],
   "source": [
    "print(vars_dict1)"
   ]
  },
  {
   "cell_type": "code",
   "execution_count": 29,
   "id": "8a5b318f-8489-473b-9098-05cb3c9bc7d6",
   "metadata": {},
   "outputs": [],
   "source": [
    "save_path = 'ch0_means_movie_nobg_compfilt.pickle'\n",
    "with open(save_path, 'wb') as f:\n",
    "    pickle.dump(vars_dict1, f)"
   ]
  },
  {
   "cell_type": "code",
   "execution_count": 6,
   "id": "54111ceb-aeb0-40b5-8bcf-19e5a3f6673e",
   "metadata": {
    "scrolled": true
   },
   "outputs": [
    {
     "name": "stdout",
     "output_type": "stream",
     "text": [
      "{'qc_spots': array([[  5,  83,  67],\n",
      "       [  5,  96,  72],\n",
      "       [  5, 136,  53],\n",
      "       ...,\n",
      "       [  7, 339, 115],\n",
      "       [ 11,  96, 388],\n",
      "       [ 12,  66, 352]]), 'trash_spots': array([], shape=(0, 3), dtype=int32)}\n"
     ]
    }
   ],
   "source": []
  },
  {
   "cell_type": "code",
   "execution_count": 7,
   "id": "dc7c53ae-597b-443b-9216-9b5ac9a0f022",
   "metadata": {
    "scrolled": true
   },
   "outputs": [
    {
     "name": "stdout",
     "output_type": "stream",
     "text": [
      "[386 566 624 278 227 266 397 426 219 627 857 472 448 533 606 240 308 616\n",
      " 645 408 482 275  63 688 659 668 686 239 269 418 424 777 622  95  74 436\n",
      " 396 633  88 468 241 756 383 306 180 457 787 744 609 394 110 129 674 594\n",
      "  50 340 256 585 206  54 267  46 332 315  86 800 246  91 430 653  64 765\n",
      " 757 526  44 187 570 325 503 862  72 427 119 880  48 681 445 611 763 334\n",
      " 293 575 567 329 124 663 388 432 489 584 398 603 665 200 417 280 201 399\n",
      " 851 285 708  36 805 311 797 734 295 532 707 760 639 630 221 250  84 540\n",
      " 400 203 458 752 287 669 346 451 519 803 494  34  96 498 163 271 613 351\n",
      " 850 598 605 413  15 511 865 354 845 156 125 698 192  66 874 876 695 191\n",
      " 350 664 565 706 691  35 827 685 870 342 463 879 145  52 562 133 339 772\n",
      " 341 423 253 193 152 357 530 385 780 793 380 148 289  59 111 682 338 582\n",
      " 615 189 578 290 802 561 233 643 889 326 840 469  49 248 480 788 701 623\n",
      "  43 855 884 186 467  69 348  39 374 320 579 638 548 327 212 576 528 462\n",
      " 726 165 382 739 736 464 330 126 259 260 804 516 238 218 220 168 766  10\n",
      " 393  98 572  45 279 136 344 190 823 818 745 848 518  21 861 770 307 387\n",
      "   2 141  31 118 798 337 628 164 515 492 743 488 727  82 384 131 554 316\n",
      " 194 172 771 671 722 154 732 158 890 174  71  24 318 563 371 317 761 211\n",
      " 571 619 155 854 595 105 733 829 264 672 768 683 825 592 117 742 263 175\n",
      " 109 546 226 367  38 146 143 658 661 783 305 577 188 670 646 856 215 590\n",
      " 196 589 531 808   6 255 368 650  19 725   3 559  30 441 415 159 529 294\n",
      " 545 414 759 356 476 558 160 499 364  37 737 774 135 710   4 473 185 161\n",
      " 699 130  87  56 199 538 362 696 493 831 882 731 746 324  25 888 702 151\n",
      " 869 728 794  62 322 625  79 773 543 169 312 679 108 171 373 815   1  16\n",
      "  23 713 510 883 521 811 741 137 234  27  97 181 252  14 700 355 714 144\n",
      "   7 535 560 112 204   0 139 411 207 243 231  29 523 381 891 792 867  83\n",
      "  60 176 369 349 705 314 162 738 491 844  17   8 222 892  12]\n",
      "465\n",
      "{'SOL': [386, 566, 624, 278, 227, 266, 397, 426, 219, 627, 857, 472, 448, 533, 606, 240, 308, 616, 645, 408, 482, 275, 63, 688, 659, 668, 686, 239, 269, 418, 424, 777, 622, 95, 74, 436, 396, 633, 88, 468, 241, 756, 383, 306, 180, 457, 787, 744, 609, 394, 110, 129, 674, 594, 50, 340, 256, 585, 206, 54, 267, 46, 332, 315, 86, 800, 246, 91, 430, 653, 64, 765, 757, 526, 44, 187, 570, 325, 503, 862, 72, 427, 119, 880, 48, 681, 445, 611, 763, 334, 293, 575, 567, 329, 124, 663, 388, 432, 489, 584, 398, 603, 665, 200, 417, 280, 201, 399, 851, 285, 708, 36, 805, 311, 797, 734, 295, 532, 707, 760, 639, 630, 221, 250, 84, 540, 400, 203, 458, 752, 287, 669, 346, 451, 519, 803, 494, 34, 96, 498, 163, 271, 613, 351, 850, 598, 605, 413, 15, 511, 865, 354, 845, 156, 125, 698, 192, 66, 874, 876, 695, 191, 350, 664, 565, 706, 691, 35, 827, 685, 870, 342, 463, 879, 145, 52, 562, 133, 339, 772, 341, 423, 253, 193, 152, 357, 530, 385, 780, 793, 380, 148, 289, 59, 111, 682, 338, 582, 615, 189, 578, 290, 802, 561, 233, 643, 889, 326, 840, 469, 49, 248, 480, 788, 701, 623, 43, 855, 884, 186, 467, 69, 348, 39, 374, 320, 579, 638, 548, 327, 212, 576, 528, 462, 726, 165, 382, 739, 736, 464, 330, 126, 259, 260, 804, 516, 238, 218, 220, 168, 766, 10, 393, 98, 572, 45, 279, 136, 344, 190, 823, 818, 745, 848, 518, 21, 861, 770, 307, 387, 2, 141, 31, 118, 798, 337, 628, 164, 515, 492, 743, 488, 727, 82, 384, 131, 554, 316, 194, 172, 771, 671, 722, 154, 732, 158, 890, 174, 71, 24, 318, 563, 371, 317, 761, 211, 571, 619, 155, 854, 595, 105, 733, 829, 264, 672, 768, 683, 825, 592, 117, 742, 263, 175, 109, 546, 226, 367, 38, 146, 143, 658, 661, 783, 305, 577, 188, 670, 646, 856, 215, 590, 196, 589, 531, 808, 6, 255, 368, 650, 19, 725, 3, 559, 30, 441, 415, 159, 529, 294, 545, 414, 759, 356, 476, 558, 160, 499, 364, 37, 737, 774, 135, 710, 4, 473, 185, 161, 699, 130, 87, 56, 199, 538, 362, 696, 493, 831, 882, 731, 746, 324, 25, 888, 702, 151, 869, 728, 794, 62, 322, 625, 79, 773, 543, 169, 312, 679, 108, 171, 373, 815, 1, 16, 23, 713, 510, 883, 521, 811, 741, 137, 234, 27, 97, 181, 252, 14, 700, 355, 714, 144, 7, 535, 560, 112, 204, 0, 139, 411, 207, 243, 231, 29, 523, 381, 891, 792, 867, 83, 60, 176, 369, 349, 705, 314, 162, 738, 491, 844, 17, 8, 222, 892, 12], 'CSL': [], 'CMG': [], 'CKG': [], 'SMG': [[446, 268, 288], [389, 569, 390, 404, 581, 402, 564], [587], [405, 403], [33, 208], [420, 447, 422, 450], [580], [419, 429, 602, 610, 395, 573], [244], [92], [475, 444, 292, 262], [425, 245, 453, 277], [434], [634, 455, 655], [470, 618, 647, 440], [608], [479, 496], [75, 103], [232], [864, 836, 662, 875], [57, 73, 85], [416, 236], [433], [461, 452, 637], [601, 621], [652, 812], [651, 629, 819, 853], [626], [121, 104, 94, 128], [107], [359, 361], [483, 300], [303, 296], [310, 323, 301, 319, 501], [65, 89, 55], [607], [77, 81, 251], [407, 366], [230, 205, 378], [801, 776, 796, 779], [789], [223, 51], [435, 437], [116, 100], [213, 228, 214, 258, 229, 216], [106, 102], [76], [178], [358, 177], [198], [574, 604, 754, 751, 620], [586], [666], [640, 474, 649, 502, 677], [687, 660, 477], [785, 821, 809, 820], [249, 431], [401], [654, 814, 795], [553, 544], [93, 283], [799, 764], [500, 514, 527, 509, 487, 524, 534], [767], [807, 826], [552], [335], [551], [832, 810, 816, 817], [644, 667], [753], [302, 284], [852, 881], [68, 47], [41, 209], [692], [729], [843, 872], [377, 549], [790, 750, 762], [678, 703], [313, 321], [28], [504, 517], [478], [557], [730], [182], [379, 550], [114], [372], [353], [721], [781], [588], [18], [711], [505], [9], [555], [224], [147], [134]], 'trash': [412, 394, 397, 424, 414, 54, 48, 221, 43, 218, 42, 30, 584, 766, 278, 227, 273, 274, 287, 119, 111, 465, 282, 418, 241, 265, 219, 448, 599, 650, 603, 630, 451, 423, 857, 472, 533, 246, 427, 439, 263, 308, 406, 645, 408, 482, 66, 88, 39, 82, 71, 264, 688, 669, 489, 494, 512, 668, 777, 638, 622, 95, 74, 760, 582, 598, 788, 571, 396, 805, 829, 628, 658, 808, 445, 756, 886, 133, 115, 383, 306, 180, 787, 382, 744, 466, 325, 279, 110, 127, 101, 141, 311, 138, 146, 318, 859, 32, 50, 340, 206, 46, 332, 315, 360, 370, 203, 188, 800, 617, 786, 614, 825, 824, 653, 765, 757, 24, 226, 526, 44, 187, 503, 862, 885, 72, 880, 735, 858, 380, 189, 179, 186, 374, 384, 194, 611, 763, 334, 329, 124, 685, 454, 664, 698, 520, 683, 525, 706, 530, 822, 665, 712, 200, 201, 715, 851, 708, 565, 562, 367, 548, 343, 797, 684, 734, 532, 707, 540, 804, 761, 768, 752, 346, 519, 803, 96, 163, 351, 850, 15, 511, 865, 554, 354, 845, 156, 125, 192, 371, 545, 874, 876, 191, 350, 35, 827, 870, 342, 879, 145, 339, 592, 546, 577, 341, 193, 152, 547, 385, 780, 148, 289, 338, 802, 561, 233, 889, 326, 840, 694, 722, 701, 855, 884, 348, 327, 528, 462, 726, 165, 739, 736, 330, 518, 515, 168, 173, 10, 45, 344, 190, 823, 818, 848, 21, 556, 861, 2, 337, 164, 743, 727, 131, 172, 771, 154, 732, 158, 890, 174, 563, 155, 854, 733, 742, 175, 196, 143, 305, 167, 856, 531, 6, 19, 725, 3, 559, 22, 159]}\n"
     ]
    }
   ],
   "source": []
  },
  {
   "cell_type": "code",
   "execution_count": 8,
   "id": "47eea54c-e10b-40c8-8e2f-8486e4c24caa",
   "metadata": {},
   "outputs": [],
   "source": []
  },
  {
   "cell_type": "code",
   "execution_count": null,
   "id": "0c730479-10dc-403f-a0f3-ed7d8d55c86c",
   "metadata": {},
   "outputs": [],
   "source": []
  },
  {
   "cell_type": "code",
   "execution_count": null,
   "id": "91658261-4661-44d0-8799-f2880954f3c5",
   "metadata": {},
   "outputs": [],
   "source": []
  },
  {
   "cell_type": "code",
   "execution_count": null,
   "id": "29316824-945c-4493-ba6d-18cba31d4b10",
   "metadata": {},
   "outputs": [],
   "source": []
  },
  {
   "cell_type": "code",
   "execution_count": null,
   "id": "b858e115-9cd7-4ab1-a724-2dd90d8349c9",
   "metadata": {},
   "outputs": [],
   "source": []
  },
  {
   "cell_type": "code",
   "execution_count": null,
   "id": "bada932a-7371-4d0d-9850-367525839866",
   "metadata": {},
   "outputs": [],
   "source": []
  },
  {
   "cell_type": "code",
   "execution_count": null,
   "id": "10deec39-fcfe-47f3-80ec-37db2288431f",
   "metadata": {},
   "outputs": [],
   "source": []
  },
  {
   "cell_type": "code",
   "execution_count": null,
   "id": "347fedca-2465-4ab7-a3dc-aba284f4a18b",
   "metadata": {},
   "outputs": [],
   "source": [
    "#find the post-merge/refit ds GUI further down!\n",
    "%matplotlib qt\n",
    "data_dir = input(\"Enter the data directory:\")\n",
    "\n",
    "# Parameters (unlikely to change)\n",
    "n_range_lim = 10 # size of n_range below which SNR considered unreliable\n",
    "Athresh = 0.05 # overlap threshold - automatically split anything below it\n",
    "cr_thresh = 0.9 # component-raw correlation threshold below which component deemed suspicious quality\n",
    "pb_thresh = 0.95 # component-best parent correlation threshold above which component deemed likely merge"
   ]
  },
  {
   "cell_type": "code",
   "execution_count": null,
   "id": "60f8623e-af66-418d-a7e8-5d8ccd9ffb5d",
   "metadata": {},
   "outputs": [],
   "source": [
    "%%time\n",
    "## LOADING EVERYTHING UP - TAKES ~20 sec\n",
    "\n",
    "# load packages\n",
    "\n",
    "import napari\n",
    "from magicgui import magicgui, widgets\n",
    "import time\n",
    "\n",
    "from IPython import get_ipython\n",
    "from IPython.display import clear_output\n",
    "import os\n",
    "import matplotlib.pyplot as plt\n",
    "import numpy as np\n",
    "from scipy.sparse import csc_matrix\n",
    "from scipy import signal as sg\n",
    "import scipy\n",
    "import pickle\n",
    "\n",
    "from tifffile.tifffile import imwrite,imread\n",
    "from tqdm.auto import tqdm,trange\n",
    "\n",
    "from copy import deepcopy\n",
    "import h5py\n",
    "\n",
    "import caiman as cm\n",
    "from caiman.source_extraction.cnmf import cnmf,params\n",
    "from caiman.paths import caiman_datadir\n",
    "from caiman.utils.visualization import get_contours\n",
    "\n",
    "try:\n",
    "    if __IPYTHON__:\n",
    "        get_ipython().run_line_magic('load_ext', 'autoreload')\n",
    "        get_ipython().run_line_magic('autoreload', '2')\n",
    "except NameError:\n",
    "    pass\n",
    "\n",
    "def load_pickle(file_path):\n",
    "    \"\"\"\n",
    "    Load a dictionary from a pickle file.\n",
    "\n",
    "    Args:\n",
    "    - file_path (str): Path to the pickle file.\n",
    "\n",
    "    Returns:\n",
    "    - dict: Loaded dictionary.\n",
    "    \"\"\"\n",
    "    with open(file_path, 'rb') as f:\n",
    "        data = pickle.load(f)\n",
    "    return data\n",
    "\n",
    "## Loading all the inputs\n",
    "os.chdir(data_dir)\n",
    "#cnmf_path = caiman_datadir()+'/example_movies/demoMovie3DYxxbnobg_20240318170305_cnmf.hdf5'\n",
    "cnmf_path = os.path.join(data_dir, 'ch0_means_movie_nobg_cnmf.hdf5')\n",
    "\n",
    "# CNMFE model\n",
    "cnmf_model = cnmf.load_CNMF(cnmf_path, \n",
    "                            n_processes=1,\n",
    "                            dview=None)\n",
    "print(f\"Successfully loaded CNMF model\")\n",
    "\n",
    "mc_memmapped_fname = [i for i in os.listdir() if 'memmap__' in i][0]\n",
    "Yr, dims, T = cm.load_memmap(mc_memmapped_fname)\n",
    "images = np.array(np.reshape(Yr.T, [T] + list(dims), order='F')) \n",
    "print(f\"Successfully loaded data\")\n",
    "\n",
    "#d = cnmf_model.estimates.A.shape[0]\n",
    "#dims = cnmf_model.estimates.dims\n",
    "#axis = 2\n",
    "#order = list(range(4))\n",
    "#order.insert(0, order.pop(axis))\n",
    "#index_permut = np.reshape(np.arange(d), dims, order='F').transpose(\n",
    "#        order[:-1]).reshape(d, order='F')\n",
    "#A = csc_matrix(cnmf_model.estimates.A)[index_permut, :]\n",
    "#dims = tuple(np.array(dims)[order[:3]])\n",
    "#d1, d2, d3 = dims\n",
    "#nr, T = cnmf_model.estimates.C.shape\n",
    "#image_cells = np.array(A.mean(axis=1)).reshape(dims, order='F')\n",
    "#coors = get_contours(A, dims, thr=Cthr)\n",
    "coors = load_pickle(os.path.join(data_dir, 'ch0_means_movie_nobg_coors.pickle'))\n",
    "print(f\"Successfully loaded contours\")\n",
    "\n",
    "cc = [[l for l in n['coordinates']] for n in coors] # x,y values of contour coordinates for each component\n",
    "cc1 = [[(l[:, 0]) for l in n['coordinates']] for n in coors] # x values of contour coordinates for each component\n",
    "cc2 = [[(l[:, 1]) for l in n['coordinates']] for n in coors] # y values of contour coordinates for each component\n",
    "length = np.ravel([list(map(len, cc)) for cc in cc1])\n",
    "shapes = [[np.vstack([np.append(i,np.flip(pt)) for pt in cc[j][i]]) for i in range(len(cc[j]))] for j in range(len(cc))]\n",
    "\n",
    "# Line up all static inputs\n",
    "SNRs = cnmf_model.estimates.SNR_comp\n",
    "SNR_min = cnmf_model.estimates.SNRmin\n",
    "SOL = np.argsort(-SNRs)\n",
    "spcomps = np.reshape(cnmf_model.estimates.A.toarray(),cnmf_model.estimates.dims + (-1,),order='F')\n",
    "spcomps = spcomps.transpose([3,2,0,1])\n",
    "images2 = images.transpose([0,3,1,2])\n",
    "#SOL = np.argsort(-cnmf_model.estimates.SNR_comp) \n",
    "C = cnmf_model.estimates.C\n",
    "CY = cnmf_model.estimates.C + cnmf_model.estimates.YrA # temporal loadings\n",
    "R = cnmf_model.estimates.Craw # masks applied to raw movie\n",
    "\n",
    "CYsav = cnmf_model.estimates.CYsav # smoothened CY curve\n",
    "def sav_calc(sraw):\n",
    "    return sg.savgol_filter(sraw,3,1)\n",
    "Rsav = np.zeros(R.shape)\n",
    "for i in range(R.shape[0]):\n",
    "    Rsav[i,:] = sav_calc(R[i,:])\n",
    "CYsavsort = np.sort(CYsav,axis=1)\n",
    "CYsavb10 = np.mean(CYsavsort[:,:int(np.ceil(CYsavsort.shape[1]/10))],axis=1) # bottom 10% mean\n",
    "Rsavsort = np.sort(Rsav,axis=1)\n",
    "Rsavb10 = np.mean(Rsavsort[:,:int(np.ceil(Rsavsort.shape[1]/10))],axis=1) # bottom 10% mean\n",
    "n_range = cnmf_model.estimates.n_range\n",
    "if n_range is None:\n",
    "    CYf = CYsavb10\n",
    "    Rf = Rsavb10\n",
    "else:\n",
    "    CYf = np.mean(CY[:,n_range],axis=1)\n",
    "    Rf = np.mean(R[:,n_range],axis=1)\n",
    "\n",
    "Cn = cnmf_model.estimates.Cn # correlation image (not necessary)\n",
    "keepargs = cnmf_model.estimates.keepargs\n",
    "SOL = np.array([x for x in list(SOL) if x in list(keepargs)]) # initial search order list\n",
    "print(f\"Successfully generated search list\")\n",
    "\n",
    "A1 = csc_matrix(cnmf_model.estimates.A)\n",
    "nr = A1.shape[1]\n",
    "A_corr = scipy.sparse.triu(A1.T * A1)\n",
    "A_corr.setdiag(0)\n",
    "A_corr = A_corr.tocsc()\n",
    "C_corr = scipy.sparse.lil_matrix(A_corr.shape)\n",
    "for ii in range(nr):\n",
    "    overlap_indices = scipy.sparse.find(A_corr[ii, :])[1][scipy.sparse.find(A_corr[ii, :])[2]>Athresh]\n",
    "    if len(overlap_indices) > 0:\n",
    "            # we chesk the correlation of the calcium traces for each overlapping components\n",
    "        corr_values = [scipy.stats.pearsonr(C[ii, :], C[jj, :])[\n",
    "            0] for jj in overlap_indices]\n",
    "        C_corr[ii, overlap_indices] = corr_values\n",
    "C_tot = C_corr + C_corr.T\n",
    "CYR_corr = np.zeros(nr)\n",
    "for ii in range(nr):\n",
    "    CYR_corr[ii] = scipy.stats.pearsonr(R[ii,:],CY[ii,:])[0]\n",
    "print(f\"Successfully calculated correlations\")\n",
    "\n",
    "# Initialize all running variables in a single dictionary - just lists of arguments/component IDs (SOL, CSL, CMG, CKG, saved merge groups, trash)\n",
    "# check if saved file exists - load that if it does, else instantiate new vars_dict!\n",
    "save_path = 'ch0_means_movie_nobg_compfilt.pickle'\n",
    "ori_path = 'ch0_means_movie_nobg_compfilt_ori.pickle'\n",
    "if save_path in os.listdir():\n",
    "    vars_dict1 = load_pickle(save_path)\n",
    "# duplicate original version if not already saved\n",
    "if ori_path not in os.listdir():\n",
    "    with open(ori_path, 'wb') as f:\n",
    "        pickle.dump(vars_dict1, f)\n",
    "print(f\"Successfully initialized\")"
   ]
  },
  {
   "cell_type": "code",
   "execution_count": null,
   "id": "476f1350-71db-47c2-973f-b8b94e94bd4b",
   "metadata": {},
   "outputs": [],
   "source": [
    "%%time\n",
    "spcomps_merge = np.asarray([np.sum(spcomps[vars_dict1[\"SMG\"][component],...],axis=0) for component in range(len(vars_dict1[\"SMG\"]))])\n",
    "spcomps_merge_e = np.concatenate((np.zeros(spcomps[0,...][np.newaxis,...].shape,dtype=np.float32),spcomps_merge))\n",
    "spcomps_merge_e2 = np.argmax(spcomps_merge_e,axis=0)"
   ]
  },
  {
   "cell_type": "code",
   "execution_count": null,
   "id": "57bfe9e1-b915-4efa-adc2-035019d27a47",
   "metadata": {},
   "outputs": [],
   "source": [
    "# Initialize viewer and start GUI\n",
    "viewer = napari.Viewer()\n",
    "viewer.add_image(images.transpose([0,3,1,2]),name='cells',colormap='gray')\n",
    "\n",
    "global fig1, ax11, ax12, leg1\n",
    "fig1, ax11 = plt.subplots() # dF/F\n",
    "ax12 = ax11.twinx()\n",
    "fig1.suptitle('Fluorescence signal plots')\n",
    "ax11.plot(CY[0,:].T/100,c='green',label='initialization')\n",
    "leg1 = fig1.legend(loc=\"upper left\")\n",
    "\n",
    "@magicgui(\n",
    "    auto_call=True,\n",
    "    component={\"widget_type\": \"Slider\", \"min\": 1, \"max\": len(vars_dict1[\"SMG\"]), \"step\": 1, \"orientation\": \"vertical\"},\n",
    "    layout=\"horizontal\",\n",
    ")\n",
    "def show_comp(component: int = 1):\n",
    "    try:\n",
    "        viewer.layers.remove('component')\n",
    "    except:\n",
    "        pass\n",
    "    try:\n",
    "        viewer.layers.remove('component contours')\n",
    "    except:\n",
    "        pass\n",
    "    plt.sca(ax11)\n",
    "    plt.cla()\n",
    "    plt.sca(ax12)\n",
    "    plt.cla()\n",
    "    ax11.set_xlabel('Frame')\n",
    "    ax11.set_ylabel('Signal')\n",
    "    ax11.tick_params(axis='y', labelcolor='green')\n",
    "    ax12.tick_params(axis='y', labelcolor='darkorange')\n",
    "    viewer.add_image(np.sum(spcomps[vars_dict1[\"SMG\"][component-1],...],axis=0),name='component',colormap='green',opacity=1,blending='additive',visible=False)\n",
    "    viewer.add_points(np.vstack([g for g in [v[~np.isnan(v).any(axis=1)] for v in [j for k in [shapes[i] for i in vars_dict1[\"SMG\"][component-1]] for j in k]] if g.size>0]),name='component contours',symbol='disc',size=2,face_color='lime',visible=True)\n",
    "    #viewer.camera.center = coors[vars_dict1[\"SMG\"][component-1][0]].get('CoM')\n",
    "    viewer.dims.set_point(1,coors[vars_dict1[\"SMG\"][component-1][0]].get('CoM')[0])\n",
    "    #viewer.camera.zoom = 3\n",
    "    ax11.plot(CY[vars_dict1[\"SMG\"][component-1],:].T/100,c='green',label='components')\n",
    "    ax12.plot(np.mean(R[vars_dict1[\"SMG\"][component-1],:],axis=0).T,c='darkorange',ls='--',label='components raw')\n",
    "    global leg1\n",
    "    leg1.remove()\n",
    "    leg1 = fig1.legend(loc=\"upper left\")\n",
    "    fig1.canvas.draw_idle()\n",
    "\n",
    "viewer.window.add_dock_widget(show_comp)\n",
    "show_comp()\n",
    "viewer.add_labels(spcomps_merge_e2,name='all components')"
   ]
  },
  {
   "cell_type": "code",
   "execution_count": null,
   "id": "f8eac17a-e152-468f-af54-e4d598dfb346",
   "metadata": {},
   "outputs": [],
   "source": []
  },
  {
   "cell_type": "code",
   "execution_count": null,
   "id": "18642220-5ad2-4e5b-99b5-8a2d0edfd32e",
   "metadata": {},
   "outputs": [],
   "source": [
    "# this part adjusts vars_dict for cleanup clicking in cleangui using points placed above\n",
    "# run first line before closing napari!\n",
    "spots = viewer.layers['Points'].data\n",
    "print(spots.shape[0])"
   ]
  },
  {
   "cell_type": "code",
   "execution_count": null,
   "id": "9d706029-5edd-4bf4-98c0-e3d9c35d9b83",
   "metadata": {
    "scrolled": true
   },
   "outputs": [],
   "source": [
    "# we are adding to the search list the components that overlap the points but have not already been added to components\n",
    "# ignoring any SNR cutoffs - but keeping sigmin cutoff!\n",
    "spotcomps = []\n",
    "for r in trange(0,spots.shape[0]):\n",
    "    spotcomps = spotcomps + np.where(spcomps[:,spots[r,1].astype('int'),spots[r,2].astype('int'),spots[r,3].astype('int')]!=0)[0].tolist()\n",
    "\n",
    "spotcomps2 = []\n",
    "tr = [spotcomps2.append(x) for x in spotcomps if x not in spotcomps2]\n",
    "\n",
    "spotcomps3 = [x for x in spotcomps2 if x not in [x for i in range(len(vars_dict1['SMG'])) for x in vars_dict1['SMG'][i]]]\n",
    "\n",
    "SOL = np.argsort(-SNRs)\n",
    "SOL = np.array([x for x in list(SOL) if x in [x for x in spotcomps3 if CYsavb10[x]>cnmf_model.estimates.Sigmin]]) # initial search order list\n",
    "print(SOL)\n",
    "print(len(SOL))\n",
    "\n",
    "vars_dict1['SOL'] = list(SOL)\n",
    "print(vars_dict1)"
   ]
  },
  {
   "cell_type": "code",
   "execution_count": null,
   "id": "db136ca7-80dc-4d6c-bb27-03b4631a8578",
   "metadata": {},
   "outputs": [],
   "source": [
    "# save vars_dict1 and run cleangui-qc!\n",
    "save_path = 'ch0_means_movie_nobg_compfilt.pickle'\n",
    "with open(save_path, 'wb') as f:\n",
    "    pickle.dump(vars_dict1, f)"
   ]
  },
  {
   "cell_type": "code",
   "execution_count": null,
   "id": "82071957-4220-4fd9-8008-d909b1be0db4",
   "metadata": {},
   "outputs": [],
   "source": []
  },
  {
   "cell_type": "code",
   "execution_count": null,
   "id": "e803190e-c8e9-459f-9c50-831a97cf028b",
   "metadata": {},
   "outputs": [],
   "source": []
  },
  {
   "cell_type": "code",
   "execution_count": null,
   "id": "f8392617-3476-4751-b64a-cf1e1abb3ee2",
   "metadata": {},
   "outputs": [],
   "source": []
  },
  {
   "cell_type": "code",
   "execution_count": null,
   "id": "db4825bb-cf56-48a1-8e5a-37438e758e5c",
   "metadata": {},
   "outputs": [],
   "source": [
    "#USE THIS FOR POST-MERGE/REFIT\n",
    "#find the post-merge/refit ds GUI further down!\n",
    "%matplotlib qt\n",
    "data_dir = input(\"Enter the data directory:\")"
   ]
  },
  {
   "cell_type": "code",
   "execution_count": null,
   "id": "20e8def2-723f-4e2d-b173-9e9cb3359a47",
   "metadata": {},
   "outputs": [],
   "source": [
    "%%time\n",
    "## LOADING EVERYTHING UP - TAKES ~20 sec\n",
    "\n",
    "# load packages\n",
    "\n",
    "import napari\n",
    "from magicgui import magicgui, widgets\n",
    "import time\n",
    "\n",
    "from IPython import get_ipython\n",
    "from IPython.display import clear_output\n",
    "import os\n",
    "import matplotlib.pyplot as plt\n",
    "import numpy as np\n",
    "from scipy.sparse import csc_matrix\n",
    "from scipy import signal as sg\n",
    "import scipy\n",
    "import pickle\n",
    "\n",
    "from tifffile.tifffile import imwrite,imread\n",
    "from tqdm.auto import tqdm,trange\n",
    "\n",
    "from copy import deepcopy\n",
    "import h5py\n",
    "\n",
    "import caiman as cm\n",
    "from caiman.source_extraction.cnmf import cnmf,params\n",
    "from caiman.paths import caiman_datadir\n",
    "from caiman.utils.visualization import get_contours\n",
    "\n",
    "try:\n",
    "    if __IPYTHON__:\n",
    "        get_ipython().run_line_magic('load_ext', 'autoreload')\n",
    "        get_ipython().run_line_magic('autoreload', '2')\n",
    "except NameError:\n",
    "    pass\n",
    "\n",
    "def load_pickle(file_path):\n",
    "    \"\"\"\n",
    "    Load a dictionary from a pickle file.\n",
    "\n",
    "    Args:\n",
    "    - file_path (str): Path to the pickle file.\n",
    "\n",
    "    Returns:\n",
    "    - dict: Loaded dictionary.\n",
    "    \"\"\"\n",
    "    with open(file_path, 'rb') as f:\n",
    "        data = pickle.load(f)\n",
    "    return data\n",
    "\n",
    "## Loading all the inputs\n",
    "os.chdir(data_dir)\n",
    "#cnmf_path = caiman_datadir()+'/example_movies/demoMovie3DYxxbnobg_20240318170305_cnmf.hdf5'\n",
    "cnmf_path_merged = os.path.join(data_dir, 'ch0_means_movie_nobg_cnmf_merged.hdf5')\n",
    "cnmf_path_merged_refit = os.path.join(data_dir, 'ch0_means_movie_nobg_cnmf_merged_refit.hdf5')\n",
    "\n",
    "# CNMFE model\n",
    "cnmf_model_merged = cnmf.load_CNMF(cnmf_path_merged, \n",
    "                            n_processes=1,\n",
    "                            dview=None)\n",
    "cnmf_model_merged_refit = cnmf.load_CNMF(cnmf_path_merged_refit, \n",
    "                            n_processes=1,\n",
    "                            dview=None)\n",
    "print(f\"Successfully loaded CNMF model\")\n",
    "\n",
    "mc_memmapped_fname = [i for i in os.listdir() if 'memmap__' in i][0]\n",
    "Yr, dims, T = cm.load_memmap(mc_memmapped_fname)\n",
    "images = np.array(np.reshape(Yr.T, [T] + list(dims), order='F')) \n",
    "print(f\"Successfully loaded data\")\n",
    "\n",
    "# Line up all static inputs\n",
    "spcomps_m = np.reshape(cnmf_model_merged.estimates.A.toarray(),cnmf_model_merged.estimates.dims + (-1,),order='F')\n",
    "spcomps_m = spcomps_m.transpose([3,2,0,1]).astype(np.float32)\n",
    "CY_m = cnmf_model_merged.estimates.C + cnmf_model_merged.estimates.YrA # temporal loadings\n",
    "spcomps_mr = np.reshape(cnmf_model_merged_refit.estimates.A.toarray(),cnmf_model_merged_refit.estimates.dims + (-1,),order='F')\n",
    "spcomps_mr = spcomps_mr.transpose([3,2,0,1]).astype(np.float32)\n",
    "CY_mr = cnmf_model_merged_refit.estimates.C + cnmf_model_merged_refit.estimates.YrA # temporal loadings\n",
    "print(f\"Setup done\")"
   ]
  },
  {
   "cell_type": "code",
   "execution_count": null,
   "id": "28a08393-98a7-463c-aa0e-c0ad06e3661f",
   "metadata": {},
   "outputs": [],
   "source": [
    "%%time\n",
    "spcomps_m_e = np.concatenate((np.zeros(spcomps_m[0,...][np.newaxis,...].shape,dtype=np.float32),spcomps_m))\n",
    "spcomps_m_e2 = np.argmax(spcomps_m_e,axis=0)\n",
    "spcomps_mr_e = np.concatenate((np.zeros(spcomps_mr[0,...][np.newaxis,...].shape,dtype=np.float32),spcomps_mr))\n",
    "spcomps_mr_e2 = np.argmax(spcomps_mr_e,axis=0)"
   ]
  },
  {
   "cell_type": "code",
   "execution_count": null,
   "id": "e7589561-8b1b-4b2c-a8dd-1a284442560e",
   "metadata": {
    "scrolled": true
   },
   "outputs": [],
   "source": [
    "# Initialize viewer and start GUI\n",
    "viewer = napari.Viewer()\n",
    "viewer.add_image(images.transpose([0,3,1,2]),name='cells',colormap='gray')\n",
    "\n",
    "global fig1, ax11, ax12, leg1\n",
    "fig1, ax11 = plt.subplots() # dF/F\n",
    "ax12 = ax11.twinx()\n",
    "fig1.suptitle('Fluorescence signal plots')\n",
    "ax11.plot(CY_m[0,:].T/100,c='green',label='initialization')\n",
    "leg1 = fig1.legend(loc=\"upper left\")\n",
    "\n",
    "@magicgui(\n",
    "    auto_call=True,\n",
    "    component={\"widget_type\": \"Slider\", \"min\": 1, \"max\": np.max([CY_mr.shape[0],CY_m.shape[0]]), \"step\": 1, \"orientation\": \"vertical\"},\n",
    "    layout=\"horizontal\",\n",
    ")\n",
    "def show_comp(component: int = 1):\n",
    "    try:\n",
    "        viewer.layers.remove('component merged')\n",
    "    except:\n",
    "        pass\n",
    "    try:\n",
    "        viewer.layers.remove('component refit')\n",
    "    except:\n",
    "        pass\n",
    "    plt.sca(ax11)\n",
    "    plt.cla()\n",
    "    plt.sca(ax12)\n",
    "    plt.cla()\n",
    "    ax11.set_xlabel('Frame')\n",
    "    ax11.set_ylabel('Signal')\n",
    "    ax11.tick_params(axis='y', labelcolor='green')\n",
    "    ax12.tick_params(axis='y', labelcolor='darkorange')\n",
    "    viewer.add_image(spcomps_m[component-1,...],name='component merged',colormap='green',opacity=1,blending='additive',visible=True)\n",
    "    viewer.add_image(spcomps_mr[component-1,...],name='component refit',colormap='darkorange',opacity=1,blending='additive',visible=True)\n",
    "    #viewer.add_points(np.vstack([g for g in [v[~np.isnan(v).any(axis=1)] for v in [j for k in [shapes[i] for i in vars_dict1[\"SMG\"][component-1]] for j in k]] if g.size>0]),name='component contours',symbol='disc',size=2,face_color='lime',visible=True)\n",
    "    #viewer.camera.center = coors[vars_dict1[\"SMG\"][component-1][0]].get('CoM')\n",
    "    #viewer.dims.set_point(1,coors[vars_dict1[\"SMG\"][component-1][0]].get('CoM')[0])\n",
    "    #viewer.camera.zoom = 3\n",
    "    ax11.plot(CY_m[component-1,:].T/100,c='green',label='component merged')\n",
    "    ax12.plot(CY_mr[component-1,:].T/100,c='darkorange',label='component refit')\n",
    "    #ax12.plot(np.mean(R[vars_dict1[\"SMG\"][component-1],:],axis=0).T,c='darkorange',ls='--',label='components raw')\n",
    "    fig1.canvas.draw_idle()\n",
    "\n",
    "viewer.window.add_dock_widget(show_comp)\n",
    "show_comp()\n",
    "viewer.add_labels(spcomps_m_e2,name='all components merged')\n",
    "viewer.add_labels(spcomps_mr_e2,name='all components refit')"
   ]
  },
  {
   "cell_type": "code",
   "execution_count": null,
   "id": "9cb3190d-1ed1-4f50-9975-c4305abd867d",
   "metadata": {},
   "outputs": [],
   "source": []
  },
  {
   "cell_type": "code",
   "execution_count": null,
   "id": "a4c905f4-f63b-4b3d-9c3d-442291c9b1c0",
   "metadata": {},
   "outputs": [],
   "source": [
    "#USE THIS FOR POST-RAW\n",
    "%matplotlib qt\n",
    "data_dir = input(\"Enter the data directory:\")"
   ]
  },
  {
   "cell_type": "code",
   "execution_count": null,
   "id": "2f248fc3-72f5-4515-a0c8-1cba7bbb9304",
   "metadata": {},
   "outputs": [],
   "source": [
    "%%time\n",
    "## LOADING EVERYTHING UP - TAKES ~20 sec\n",
    "\n",
    "# load packages\n",
    "\n",
    "import napari\n",
    "from magicgui import magicgui, widgets\n",
    "import time\n",
    "\n",
    "from IPython import get_ipython\n",
    "from IPython.display import clear_output\n",
    "import os\n",
    "import matplotlib.pyplot as plt\n",
    "import numpy as np\n",
    "from scipy.sparse import csc_matrix\n",
    "from scipy import signal as sg\n",
    "import scipy\n",
    "import pickle\n",
    "\n",
    "from tifffile.tifffile import imwrite,imread\n",
    "from tqdm.auto import tqdm,trange\n",
    "\n",
    "from copy import deepcopy\n",
    "import h5py\n",
    "\n",
    "import caiman as cm\n",
    "from caiman.source_extraction.cnmf import cnmf,params\n",
    "from caiman.paths import caiman_datadir\n",
    "from caiman.utils.visualization import get_contours\n",
    "\n",
    "try:\n",
    "    if __IPYTHON__:\n",
    "        get_ipython().run_line_magic('load_ext', 'autoreload')\n",
    "        get_ipython().run_line_magic('autoreload', '2')\n",
    "except NameError:\n",
    "    pass\n",
    "\n",
    "def load_pickle(file_path):\n",
    "    \"\"\"\n",
    "    Load a dictionary from a pickle file.\n",
    "\n",
    "    Args:\n",
    "    - file_path (str): Path to the pickle file.\n",
    "\n",
    "    Returns:\n",
    "    - dict: Loaded dictionary.\n",
    "    \"\"\"\n",
    "    with open(file_path, 'rb') as f:\n",
    "        data = pickle.load(f)\n",
    "    return data\n",
    "\n",
    "## Loading all the inputs\n",
    "os.chdir(data_dir)\n",
    "#cnmf_path = caiman_datadir()+'/example_movies/demoMovie3DYxxbnobg_20240318170305_cnmf.hdf5'\n",
    "cnmf_path_merged = os.path.join(data_dir, 'ch0_means_movie_nobg_cnmf_mr_raw.hdf5')\n",
    "cnmf_path_merged_refit = os.path.join(data_dir, 'ch0_means_movie_nobg_cnmf_mr_raw_refit.hdf5')\n",
    "\n",
    "# CNMFE model\n",
    "cnmf_model_merged = cnmf.load_CNMF(cnmf_path_merged, \n",
    "                            n_processes=1,\n",
    "                            dview=None)\n",
    "cnmf_model_merged_refit = cnmf.load_CNMF(cnmf_path_merged_refit, \n",
    "                            n_processes=1,\n",
    "                            dview=None)\n",
    "print(f\"Successfully loaded CNMF model\")\n",
    "\n",
    "mc_memmapped_fname = [i for i in os.listdir() if 'memmap__' in i][0]\n",
    "Yr, dims, T = cm.load_memmap(mc_memmapped_fname)\n",
    "images = np.array(np.reshape(Yr.T, [T] + list(dims), order='F')) \n",
    "print(f\"Successfully loaded data\")\n",
    "\n",
    "# Line up all static inputs\n",
    "spcomps_m = np.reshape(cnmf_model_merged.estimates.A.toarray(),cnmf_model_merged.estimates.dims + (-1,),order='F')\n",
    "spcomps_m = spcomps_m.transpose([3,2,0,1]).astype(np.float32)\n",
    "CY_m = cnmf_model_merged.estimates.C + cnmf_model_merged.estimates.YrA # temporal loadings\n",
    "spcomps_mr = np.reshape(cnmf_model_merged_refit.estimates.A.toarray(),cnmf_model_merged_refit.estimates.dims + (-1,),order='F')\n",
    "spcomps_mr = spcomps_mr.transpose([3,2,0,1]).astype(np.float32)\n",
    "CY_mr = cnmf_model_merged_refit.estimates.C + cnmf_model_merged_refit.estimates.YrA # temporal loadings\n",
    "print(f\"Setup done\")"
   ]
  },
  {
   "cell_type": "code",
   "execution_count": null,
   "id": "c4e3fa65-7ec2-4281-84fc-5809072d0be7",
   "metadata": {},
   "outputs": [],
   "source": [
    "%%time\n",
    "spcomps_m_e = np.concatenate((np.zeros(spcomps_m[0,...][np.newaxis,...].shape,dtype=np.float32),spcomps_m))\n",
    "spcomps_m_e2 = np.argmax(spcomps_m_e,axis=0)\n",
    "spcomps_mr_e = np.concatenate((np.zeros(spcomps_mr[0,...][np.newaxis,...].shape,dtype=np.float32),spcomps_mr))\n",
    "spcomps_mr_e2 = np.argmax(spcomps_mr_e,axis=0)"
   ]
  },
  {
   "cell_type": "code",
   "execution_count": null,
   "id": "5088bda5-f866-4765-a560-45217542d060",
   "metadata": {},
   "outputs": [],
   "source": [
    "# Initialize viewer and start GUI\n",
    "viewer = napari.Viewer()\n",
    "viewer.add_image(images.transpose([0,3,1,2]),name='cells',colormap='gray')\n",
    "\n",
    "global fig1, ax11, ax12, leg1\n",
    "fig1, ax11 = plt.subplots() # dF/F\n",
    "ax12 = ax11.twinx()\n",
    "fig1.suptitle('Fluorescence signal plots')\n",
    "ax11.plot(CY_m[0,:].T/100,c='green',label='initialization')\n",
    "leg1 = fig1.legend(loc=\"upper left\")\n",
    "\n",
    "@magicgui(\n",
    "    auto_call=True,\n",
    "    component={\"widget_type\": \"Slider\", \"min\": 1, \"max\": np.max([CY_mr.shape[0],CY_m.shape[0]]), \"step\": 1, \"orientation\": \"vertical\"},\n",
    "    layout=\"horizontal\",\n",
    ")\n",
    "def show_comp(component: int = 1):\n",
    "    try:\n",
    "        viewer.layers.remove('component ds')\n",
    "    except:\n",
    "        pass\n",
    "    try:\n",
    "        viewer.layers.remove('component raw')\n",
    "    except:\n",
    "        pass\n",
    "    plt.sca(ax11)\n",
    "    plt.cla()\n",
    "    plt.sca(ax12)\n",
    "    plt.cla()\n",
    "    ax11.set_xlabel('Frame')\n",
    "    ax11.set_ylabel('Signal')\n",
    "    ax11.tick_params(axis='y', labelcolor='green')\n",
    "    ax12.tick_params(axis='y', labelcolor='darkorange')\n",
    "    viewer.add_image(spcomps_m[component-1,...],name='component ds',colormap='green',opacity=1,blending='additive',visible=True)\n",
    "    viewer.add_image(spcomps_mr[component-1,...],name='component raw',colormap='darkorange',opacity=1,blending='additive',visible=True)\n",
    "    #viewer.add_points(np.vstack([g for g in [v[~np.isnan(v).any(axis=1)] for v in [j for k in [shapes[i] for i in vars_dict1[\"SMG\"][component-1]] for j in k]] if g.size>0]),name='component contours',symbol='disc',size=2,face_color='lime',visible=True)\n",
    "    #viewer.camera.center = coors[vars_dict1[\"SMG\"][component-1][0]].get('CoM')\n",
    "    #viewer.dims.set_point(1,coors[vars_dict1[\"SMG\"][component-1][0]].get('CoM')[0])\n",
    "    #viewer.camera.zoom = 3\n",
    "    ax11.plot(CY_m[component-1,:].T/100,c='green',label='component ds')\n",
    "    ax12.plot(CY_mr[component-1,:].T/100,c='darkorange',label='component raw')\n",
    "    ax11.set_zorder(1)  # default zorder is 0 for ax1 and ax2\n",
    "    ax11.patch.set_visible(False)  # prevents ax1 from hiding ax2\n",
    "    #ax12.plot(np.mean(R[vars_dict1[\"SMG\"][component-1],:],axis=0).T,c='darkorange',ls='--',label='components raw')\n",
    "    fig1.canvas.draw_idle()\n",
    "\n",
    "viewer.window.add_dock_widget(show_comp)\n",
    "show_comp()\n",
    "viewer.add_labels(spcomps_m_e2,name='all components ds')\n",
    "viewer.add_labels(spcomps_mr_e2,name='all components raw')"
   ]
  },
  {
   "cell_type": "code",
   "execution_count": null,
   "id": "bc79a915-d062-4528-a0ad-08de48f7b3d7",
   "metadata": {},
   "outputs": [],
   "source": [
    "# visualizing reference and moving masks\n",
    "%matplotlib qt\n",
    "ref_dir = input(\"Enter the reference CNMF directory (e.g. in vivo/slice):\")\n",
    "mov_dir = input(\"Enter the moving CNMF directory (e.g. wells):\")"
   ]
  },
  {
   "cell_type": "code",
   "execution_count": null,
   "id": "83ad72e6-0d12-4cd1-88b9-0d48d89ba236",
   "metadata": {},
   "outputs": [],
   "source": [
    "%%time\n",
    "## LOADING EVERYTHING UP - TAKES ~20 sec\n",
    "\n",
    "# load packages\n",
    "\n",
    "import napari\n",
    "from magicgui import magicgui, widgets\n",
    "import time\n",
    "\n",
    "from IPython import get_ipython\n",
    "from IPython.display import clear_output\n",
    "import os\n",
    "import matplotlib.pyplot as plt\n",
    "import numpy as np\n",
    "from scipy.sparse import csc_matrix\n",
    "from scipy import signal as sg\n",
    "import scipy\n",
    "import pickle\n",
    "\n",
    "from tifffile.tifffile import imwrite,imread\n",
    "from tqdm.auto import tqdm,trange\n",
    "\n",
    "from copy import deepcopy\n",
    "import h5py\n",
    "\n",
    "import caiman as cm\n",
    "from caiman.source_extraction.cnmf import cnmf,params\n",
    "from caiman.paths import caiman_datadir\n",
    "from caiman.utils.visualization import get_contours\n",
    "\n",
    "try:\n",
    "    if __IPYTHON__:\n",
    "        get_ipython().run_line_magic('load_ext', 'autoreload')\n",
    "        get_ipython().run_line_magic('autoreload', '2')\n",
    "except NameError:\n",
    "    pass\n",
    "\n",
    "def load_pickle(file_path):\n",
    "    \"\"\"\n",
    "    Load a dictionary from a pickle file.\n",
    "\n",
    "    Args:\n",
    "    - file_path (str): Path to the pickle file.\n",
    "\n",
    "    Returns:\n",
    "    - dict: Loaded dictionary.\n",
    "    \"\"\"\n",
    "    with open(file_path, 'rb') as f:\n",
    "        data = pickle.load(f)\n",
    "    return data\n",
    "\n",
    "# CNMFE model\n",
    "cnmf_ref_path = os.path.join(ref_dir, 'ch0_means_movie_nobg_cnmf_merged_refit.hdf5')\n",
    "cnmf_mov_path = os.path.join(mov_dir, 'ch0_means_movie_nobg_cnmf_merged_refit.hdf5')\n",
    "\n",
    "# CNMFE model\n",
    "cnmf_ref = cnmf.load_CNMF(cnmf_ref_path, \n",
    "                            n_processes=1,\n",
    "                            dview=None)\n",
    "cnmf_mov = cnmf.load_CNMF(cnmf_mov_path, \n",
    "                            n_processes=1,\n",
    "                            dview=None)\n",
    "\n",
    "# Line up all static inputs\n",
    "spcomps_r = np.reshape(cnmf_ref.estimates.A.toarray(),cnmf_ref.estimates.dims + (-1,),order='F')\n",
    "spcomps_r = spcomps_r.transpose([3,2,0,1]).astype(np.float32)\n",
    "CY_r = cnmf_ref.estimates.C + cnmf_ref.estimates.YrA # temporal loadings\n",
    "spcomps_m = np.reshape(cnmf_mov.estimates.A.toarray(),cnmf_mov.estimates.dims + (-1,),order='F')\n",
    "spcomps_m = spcomps_m.transpose([3,2,0,1]).astype(np.float32)\n",
    "CY_m = cnmf_mov.estimates.C + cnmf_mov.estimates.YrA # temporal loadings\n",
    "print(f\"Successfully loaded CNMF model\")\n",
    "\n",
    "mc_memmapped_fname_r = [i for i in os.listdir(ref_dir) if 'memmap__' in i][0]\n",
    "Yr_r, dims_r, T_r = cm.load_memmap(ref_dir + mc_memmapped_fname_r)\n",
    "images_r = np.array(np.reshape(Yr_r.T, [T_r] + list(dims_r), order='F')) \n",
    "\n",
    "mc_memmapped_fname_m = [i for i in os.listdir(mov_dir) if 'memmap__' in i][0]\n",
    "Yr_m, dims_m, T_m = cm.load_memmap(mov_dir + mc_memmapped_fname_m)\n",
    "images_m = np.array(np.reshape(Yr_m.T, [T_m] + list(dims_m), order='F')) \n",
    "print(f\"Successfully loaded data\")\n",
    "\n",
    "base_dir = r'/mnt/ssd_cache/pkalugin/stitch_warp'\n",
    "warp_dir = os.path.join(base_dir,os.path.split(os.path.dirname(ref_dir))[1].split('_')[0] + '_' + os.path.split(os.path.dirname(ref_dir))[1].split('_')[1])\n",
    "dfield_path = warp_dir + r'/bigwarp dfield.tif'\n",
    "dfield = imread(dfield_path)\n",
    "# will need to adjust this to several moving images per group!\n",
    "ref_img = imread(warp_dir + r'/' + [f for f in os.listdir(warp_dir) if 'fr0_coor' in f][0])\n",
    "mov_img = imread(warp_dir + r'/' + [f for f in os.listdir(warp_dir) if 'fr1_coor_rot' in f][0])\n",
    "\n",
    "import SimpleITK as sitk\n",
    "\n",
    "displacement_image = sitk.GetImageFromArray(np.double(dfield.transpose([0,2,3,1])),sitk.sitkVectorFloat64)\n",
    "\n",
    "tx = sitk.DisplacementFieldTransform(displacement_image)\n",
    "tx.SetInterpolator(sitk.sitkLinear)\n",
    "\n",
    "mov_img_d = sitk.GetArrayFromImage(sitk.Resample(sitk.GetImageFromArray(np.double(mov_img)),tx))\n",
    "\n",
    "print(mov_img_d.shape)\n",
    "print(ref_img.shape)\n",
    "shape_keep = ()\n",
    "for i in range(len(ref_img.shape)):\n",
    "    shape_keep += (np.min([ref_img.shape[i],mov_img_d.shape[i]]),)\n",
    "print(shape_keep)\n",
    "mov_img_d = mov_img_d[:shape_keep[0],:shape_keep[1],:shape_keep[2]]\n",
    "ref_img = ref_img[:shape_keep[0],:shape_keep[1],:shape_keep[2]]\n",
    "print(mov_img_d.shape)\n",
    "print(ref_img.shape)"
   ]
  },
  {
   "cell_type": "code",
   "execution_count": null,
   "id": "e94084fe-0abb-4bbf-8dd4-e36128516f71",
   "metadata": {},
   "outputs": [],
   "source": [
    "print(spcomps_m.shape)\n",
    "print(images_m.shape)"
   ]
  },
  {
   "cell_type": "code",
   "execution_count": null,
   "id": "6f691a21-cfe0-477f-b196-de50a796589c",
   "metadata": {},
   "outputs": [],
   "source": [
    "# this part just performs the bigstitcher rigid body move on the spcomps_m\n",
    "# will need to adjust for multiple moving images\n",
    "from scipy.ndimage import affine_transform\n",
    "import xml.etree.ElementTree as ET\n",
    "base_dir = r'/mnt/ssd_cache/pkalugin/stitch_warp'\n",
    "\n",
    "spcomps_m_rot = np.zeros(spcomps_m.shape)\n",
    "images_m_rot = np.zeros(images_m.shape)\n",
    "\n",
    "n = 0\n",
    "if n==0:\n",
    "    tree = ET.parse(warp_dir+f'/dataset.xml')\n",
    "else:\n",
    "    tree = ET.parse(warp_dir+f'/dataset{n:01}.xml')\n",
    "root = tree.getroot()\n",
    "w_mat = np.array(root[2][1][0][1].text.split()).astype(np.float64).reshape([3,4])\n",
    "w_mat_i = np.linalg.inv(np.append(w_mat,np.array([0,0,0,1])[np.newaxis,:],axis=0))\n",
    "w_mat[0,3] = w_mat_i[1,3]\n",
    "w_mat[1,3] = w_mat_i[0,3]\n",
    "\n",
    "for ncomp in trange(spcomps_m.shape[0]):\n",
    "    spcomps_m_rot[ncomp,...] = affine_transform(spcomps_m[ncomp,...].transpose([1,2,0]),w_mat).transpose([2,0,1])\n",
    "\n",
    "for nfr in trange(images_m.shape[0]):\n",
    "    images_m_rot[nfr,...] = affine_transform(images_m[nfr,...],w_mat)\n",
    "\n",
    "print(f\"Setup done\")"
   ]
  },
  {
   "cell_type": "code",
   "execution_count": null,
   "id": "bc8ec53e-8572-426c-9ad2-7ab0eddc4d97",
   "metadata": {},
   "outputs": [],
   "source": [
    "spcomps_m_rot[spcomps_m_rot<0.001] = 0"
   ]
  },
  {
   "cell_type": "code",
   "execution_count": null,
   "id": "7804c84b-e95a-4c05-a594-887a5ca49415",
   "metadata": {},
   "outputs": [],
   "source": [
    "spcomps_m_warp = np.zeros(spcomps_m_rot.shape)\n",
    "images_m_warp = np.zeros(images_m_rot.shape)\n",
    "\n",
    "for ncomp in trange(spcomps_m.shape[0]):\n",
    "    spcomps_m_warp[ncomp,...] = sitk.GetArrayFromImage(sitk.Resample(sitk.GetImageFromArray(np.double(spcomps_m_rot[ncomp,...])),tx))\n",
    "\n",
    "for nfr in trange(images_m.shape[0]):\n",
    "    images_m_warp[nfr,...] = sitk.GetArrayFromImage(sitk.Resample(sitk.GetImageFromArray(np.double(images_m_rot[nfr,...].transpose([2,0,1]))),tx)).transpose([1,2,0])"
   ]
  },
  {
   "cell_type": "code",
   "execution_count": null,
   "id": "11d89759-92a3-443a-95dd-80f5acb79d8a",
   "metadata": {},
   "outputs": [],
   "source": [
    "%%time\n",
    "spcomps_r_e = np.concatenate((np.zeros(spcomps_r[0,...][np.newaxis,...].shape,dtype=np.float32),spcomps_r))\n",
    "spcomps_r_e2 = np.argmax(spcomps_r_e,axis=0)\n",
    "spcomps_m_rot_e = np.concatenate((np.zeros(spcomps_m_rot[0,...][np.newaxis,...].shape,dtype=np.float32),spcomps_m_rot.astype(np.float32)))\n",
    "spcomps_m_rot_e2 = np.argmax(spcomps_m_rot_e,axis=0)\n",
    "spcomps_m_warp_e = np.concatenate((np.zeros(spcomps_m_warp[0,...][np.newaxis,...].shape,dtype=np.float32),spcomps_m_warp.astype(np.float32)))\n",
    "spcomps_m_warp_e2 = np.argmax(spcomps_m_warp_e,axis=0)"
   ]
  },
  {
   "cell_type": "code",
   "execution_count": null,
   "id": "4250d0e1-8d01-44b7-99de-68a4ad86a12c",
   "metadata": {},
   "outputs": [],
   "source": [
    "# Initialize viewer and start GUI\n",
    "viewer = napari.Viewer()\n",
    "viewer.add_image(images_r.transpose([0,3,1,2]),name='cells',colormap='gray')\n",
    "viewer.add_image(images_m_rot.transpose([0,3,1,2]),name='cells',colormap='gray')\n",
    "viewer.add_image(images_m_warp.transpose([0,3,1,2]),name='cells',colormap='gray')\n",
    "\n",
    "global fig1, ax11, ax12, leg1\n",
    "fig1, ax11 = plt.subplots() # dF/F\n",
    "ax12 = ax11.twinx()\n",
    "fig1.suptitle('Fluorescence signal plots')\n",
    "ax11.plot(CY_m[0,:].T/100,c='green',label='initialization')\n",
    "leg1 = fig1.legend(loc=\"upper left\")\n",
    "\n",
    "@magicgui(\n",
    "    auto_call=True,\n",
    "    component={\"widget_type\": \"Slider\", \"min\": 1, \"max\": np.max([CY_r.shape[0],CY_m.shape[0]]), \"step\": 1, \"orientation\": \"vertical\"},\n",
    "    layout=\"horizontal\",\n",
    ")\n",
    "def show_comp(component: int = 1):\n",
    "    try:\n",
    "        viewer.layers.remove('component mov')\n",
    "    except:\n",
    "        pass\n",
    "    try:\n",
    "        viewer.layers.remove('component ref')\n",
    "    except:\n",
    "        pass\n",
    "    plt.sca(ax11)\n",
    "    plt.cla()\n",
    "    plt.sca(ax12)\n",
    "    plt.cla()\n",
    "    ax11.set_xlabel('Frame')\n",
    "    ax11.set_ylabel('Signal')\n",
    "    ax11.tick_params(axis='y', labelcolor='green')\n",
    "    ax12.tick_params(axis='y', labelcolor='darkorange')\n",
    "    viewer.add_image(spcomps_m_warp[component-1,...],name='component mov',colormap='green',opacity=1,blending='additive',visible=True)\n",
    "    viewer.add_image(spcomps_r[component-1,...],name='component ref',colormap='darkorange',opacity=1,blending='additive',visible=True)\n",
    "    #viewer.add_points(np.vstack([g for g in [v[~np.isnan(v).any(axis=1)] for v in [j for k in [shapes[i] for i in vars_dict1[\"SMG\"][component-1]] for j in k]] if g.size>0]),name='component contours',symbol='disc',size=2,face_color='lime',visible=True)\n",
    "    #viewer.camera.center = coors[vars_dict1[\"SMG\"][component-1][0]].get('CoM')\n",
    "    #viewer.dims.set_point(1,coors[vars_dict1[\"SMG\"][component-1][0]].get('CoM')[0])\n",
    "    #viewer.camera.zoom = 3\n",
    "    ax11.plot(CY_m[component-1,:].T/100,c='green',label='component mov')\n",
    "    ax12.plot(CY_r[component-1,:].T/100,c='darkorange',label='component ref')\n",
    "    ax11.set_zorder(1)  # default zorder is 0 for ax1 and ax2\n",
    "    ax11.patch.set_visible(False)  # prevents ax1 from hiding ax2\n",
    "    #ax12.plot(np.mean(R[vars_dict1[\"SMG\"][component-1],:],axis=0).T,c='darkorange',ls='--',label='components raw')\n",
    "    fig1.canvas.draw_idle()\n",
    "\n",
    "viewer.window.add_dock_widget(show_comp)\n",
    "show_comp()\n",
    "viewer.add_labels(spcomps_r_e2,name='all components ref')\n",
    "viewer.add_labels(spcomps_m_rot_e2,name='all components rot')\n",
    "viewer.add_labels(spcomps_m_warp_e2,name='all components mov')"
   ]
  },
  {
   "cell_type": "code",
   "execution_count": null,
   "id": "a8d116c2-9bda-4a82-86bd-af5cb03346c2",
   "metadata": {},
   "outputs": [],
   "source": [
    "np.amin(spcomps_r[spcomps_r>0])"
   ]
  },
  {
   "cell_type": "code",
   "execution_count": null,
   "id": "ac570f41-853f-4079-8f4b-f918787fb596",
   "metadata": {},
   "outputs": [],
   "source": [
    "spcomps_m_rot.shape"
   ]
  },
  {
   "cell_type": "code",
   "execution_count": null,
   "id": "6d2d7a29-7b89-439c-8d7a-5870768437e1",
   "metadata": {},
   "outputs": [],
   "source": [
    "%matplotlib qt\n",
    "plt.imshow(spcomps_r.astype(np.float32)[77,10,...])"
   ]
  },
  {
   "cell_type": "code",
   "execution_count": null,
   "id": "bd3704e4-9da1-4e3f-9ce9-5e8832459204",
   "metadata": {},
   "outputs": [],
   "source": [
    "spcomps_m_rot.astype(np.float32)[0,10,200,200] == 0"
   ]
  },
  {
   "cell_type": "code",
   "execution_count": null,
   "id": "90378126-cd4f-44a7-819e-bcd8d3849491",
   "metadata": {},
   "outputs": [],
   "source": [
    "%matplotlib inline\n",
    "spcomps_m_rot_z = spcomps_m_rot\n",
    "spcomps_m_rot_z[spcomps_m_rot<0.001] = 0\n",
    "plt.plot(spcomps_m_rot[:,10,239,248])\n",
    "plt.plot(spcomps_m_rot_z[:,10,239,248])"
   ]
  },
  {
   "cell_type": "code",
   "execution_count": null,
   "id": "b2724c94-fb38-4e0a-b05c-5e1a5ab183db",
   "metadata": {},
   "outputs": [],
   "source": [
    "%matplotlib qt"
   ]
  },
  {
   "cell_type": "code",
   "execution_count": null,
   "id": "c1414390-2560-4698-a286-fc3e23b3fe2b",
   "metadata": {},
   "outputs": [],
   "source": [
    "viewer = napari.Viewer()\n",
    "viewer.add_image(images_r.transpose([0,3,1,2]),scale=[1,4,1,1],name='cells',colormap='gray')"
   ]
  },
  {
   "cell_type": "code",
   "execution_count": null,
   "id": "ad294c5b-8612-4f48-93d8-5dfe2a5b2be8",
   "metadata": {},
   "outputs": [],
   "source": [
    "viewer = napari.Viewer()\n",
    "viewer.add_image(images.transpose([0,3,1,2]),scale=[1,4,1,1],name='cells',colormap='gray')"
   ]
  },
  {
   "cell_type": "code",
   "execution_count": null,
   "id": "edeb85b3-70ba-4b22-8b63-ef60a6e31ecf",
   "metadata": {},
   "outputs": [],
   "source": []
  },
  {
   "cell_type": "code",
   "execution_count": null,
   "id": "21d81da2-c058-4d1e-a1b6-b73e55bd4433",
   "metadata": {},
   "outputs": [],
   "source": [
    "images_r.shape"
   ]
  },
  {
   "cell_type": "code",
   "execution_count": null,
   "id": "9d3446ff-0ca5-4c2e-a8ad-7e62e98e44d7",
   "metadata": {},
   "outputs": [],
   "source": [
    "plt.plot(images_r[:,215,275,4])"
   ]
  },
  {
   "cell_type": "code",
   "execution_count": null,
   "id": "3b0ff06a-43e0-424e-a8d5-7b917a014c6c",
   "metadata": {},
   "outputs": [],
   "source": [
    "spcomps_r.shape"
   ]
  },
  {
   "cell_type": "code",
   "execution_count": null,
   "id": "42888322-6723-4fec-aa67-340e81caed6b",
   "metadata": {},
   "outputs": [],
   "source": [
    "cnmf_ref.estimates.A.shape"
   ]
  },
  {
   "cell_type": "code",
   "execution_count": null,
   "id": "c997e65f-c3ba-4bed-98d4-9fba84624b6f",
   "metadata": {},
   "outputs": [],
   "source": [
    "cnmf_ref_path"
   ]
  },
  {
   "cell_type": "code",
   "execution_count": null,
   "id": "b56e5756-1b25-4305-8bcc-c7c8e0f7ce91",
   "metadata": {},
   "outputs": [],
   "source": [
    "cnmf_path = os.path.join(ref_dir, 'ch0_means_movie_nobg_cnmf.hdf5')\n",
    "\n",
    "# CNMFE model\n",
    "cnmf_model = cnmf.load_CNMF(cnmf_path, \n",
    "                            n_processes=1,\n",
    "                            dview=None)"
   ]
  },
  {
   "cell_type": "code",
   "execution_count": null,
   "id": "cb7554c2-5f20-414e-bbf1-0bcfdea77d7d",
   "metadata": {},
   "outputs": [],
   "source": [
    "save_path = 'ch0_means_movie_nobg_compfilt.pickle'\n",
    "if save_path in os.listdir(ref_dir):\n",
    "    vars_dict1 = load_pickle(save_path)"
   ]
  },
  {
   "cell_type": "code",
   "execution_count": null,
   "id": "2064b406-60aa-42ff-98ed-0291737b0ce8",
   "metadata": {},
   "outputs": [],
   "source": [
    "print(vars_dict1)"
   ]
  },
  {
   "cell_type": "code",
   "execution_count": null,
   "id": "4c2c9e52-24f6-4c01-8c47-8dbcc0a82a37",
   "metadata": {
    "scrolled": true
   },
   "outputs": [],
   "source": [
    "#keepargs = cnmf_model.estimates.keepargs\n",
    "keepargs"
   ]
  },
  {
   "cell_type": "code",
   "execution_count": null,
   "id": "2eba8d2f-ae00-41b5-a4c7-5aac7cedea9f",
   "metadata": {},
   "outputs": [],
   "source": [
    "keepargs.shape"
   ]
  },
  {
   "cell_type": "code",
   "execution_count": null,
   "id": "626214d8-d2f9-4b89-8a76-dbe2ad7dbf02",
   "metadata": {},
   "outputs": [],
   "source": [
    "spcomps = np.reshape(cnmf_model.estimates.A.toarray(),cnmf_model.estimates.dims + (-1,),order='F')\n",
    "spcomps = spcomps.transpose([3,2,0,1])\n",
    "spcomps.shape"
   ]
  },
  {
   "cell_type": "code",
   "execution_count": null,
   "id": "d04174ee-aba4-40d5-98fb-e47df5aabf9c",
   "metadata": {},
   "outputs": [],
   "source": [
    "np.where(spcomps[:,12,192,328]!=0)"
   ]
  },
  {
   "cell_type": "code",
   "execution_count": null,
   "id": "8aab758a-58bd-43bb-8300-3f4235438e54",
   "metadata": {},
   "outputs": [],
   "source": [
    "viewer.layers['Points'].data"
   ]
  },
  {
   "cell_type": "code",
   "execution_count": null,
   "id": "095d8817-6559-4f5d-81aa-e9121005930b",
   "metadata": {},
   "outputs": [],
   "source": [
    "np.where(spcomps[:,8,255,345]!=0)"
   ]
  },
  {
   "cell_type": "code",
   "execution_count": null,
   "id": "dbd02ad3-0e75-4556-9c8a-909b442f7ddf",
   "metadata": {},
   "outputs": [],
   "source": [
    "plt.imshow(spcomps[484,13,...])"
   ]
  },
  {
   "cell_type": "code",
   "execution_count": null,
   "id": "7e8ece92-3260-4403-b97a-39dc3c214e0d",
   "metadata": {},
   "outputs": [],
   "source": [
    "#%matplotlib inline\n",
    "plt.plot(cnmf_model.estimates.C[[455, 484],...].T+cnmf_model.estimates.YrA[[455, 484],...].T)"
   ]
  },
  {
   "cell_type": "code",
   "execution_count": null,
   "id": "279af6d4-38c4-440c-9858-7d3a264e0db7",
   "metadata": {},
   "outputs": [],
   "source": [
    "#%matplotlib inline\n",
    "plt.plot(cnmf_model.estimates.C[[504,672],...].T+cnmf_model.estimates.YrA[[504,672],...].T)"
   ]
  },
  {
   "cell_type": "code",
   "execution_count": null,
   "id": "f07caaea-787b-4682-a208-6b27fe15743e",
   "metadata": {},
   "outputs": [],
   "source": [
    "#%matplotlib inline\n",
    "plt.plot(cnmf_model.estimates.C[[504,672],...].T)"
   ]
  },
  {
   "cell_type": "code",
   "execution_count": null,
   "id": "73734fd7-6670-4c44-bfb0-b9a15297bfdd",
   "metadata": {},
   "outputs": [],
   "source": [
    "%matplotlib inline\n",
    "plt.plot(cnmf_model.estimates.C[[445, 477, 624, 654],...].T+cnmf_model.estimates.YrA[[445, 477, 624, 654],...].T)"
   ]
  },
  {
   "cell_type": "code",
   "execution_count": null,
   "id": "d62311b9-3f32-4719-8062-b007c34b8e07",
   "metadata": {},
   "outputs": [],
   "source": [
    "%matplotlib inline\n",
    "plt.plot(CY[[274, 290, 446, 456],...].T)\n",
    "plt.plot(CYsav[[274, 290, 446, 456],...].T)"
   ]
  },
  {
   "cell_type": "code",
   "execution_count": null,
   "id": "7da011b1-34ab-4e5f-ba0a-9e3eabd0e1d1",
   "metadata": {},
   "outputs": [],
   "source": [
    "plt.plot((CY-CYsav)[[274, 290, 446, 456],...].T)"
   ]
  },
  {
   "cell_type": "code",
   "execution_count": null,
   "id": "a76fb747-6145-43f5-a0f8-dd3083048941",
   "metadata": {},
   "outputs": [],
   "source": [
    "CYsavsort = np.sort(CYsav,axis=1)\n",
    "CYsavt10 = np.mean(CYsavsort[:,int(CYsavsort.shape[1]-np.ceil(CYsavsort.shape[1]/10)):],axis=1) # top 10% mean\n",
    "CYsavb10 = np.mean(CYsavsort[:,:int(np.ceil(CYsavsort.shape[1]/10))],axis=1) # bottom 10% mean\n",
    "if n_range is None:\n",
    "    sig = CYsavt10 - CYsavb10\n",
    "else:\n",
    "    sig = CYsavt10 - np.mean(CYsav[:,n_range],axis=1) # baseline mean\n",
    "\n",
    "noisestd = np.std(CY - CYsav,axis=1) # noise calculated across whole movie\n",
    "#SNR = sig/noisestd"
   ]
  },
  {
   "cell_type": "code",
   "execution_count": null,
   "id": "efb5c86e-27c5-4b97-93bc-c1dbed528bd3",
   "metadata": {},
   "outputs": [],
   "source": [
    "sig[[274, 290, 446, 456]]"
   ]
  },
  {
   "cell_type": "code",
   "execution_count": null,
   "id": "c929ca35-8930-4ee9-b7ae-9d85c7a6dcaa",
   "metadata": {},
   "outputs": [],
   "source": [
    "noisestd[[274, 290, 446, 456]]"
   ]
  },
  {
   "cell_type": "code",
   "execution_count": null,
   "id": "ab9bf3ad-f7cb-45e0-a5a9-3cb5cbf92be1",
   "metadata": {},
   "outputs": [],
   "source": [
    "cnmf_model.estimates.C.shape"
   ]
  },
  {
   "cell_type": "code",
   "execution_count": null,
   "id": "ad58ad2b-9cb1-47f1-87fa-1d6ddc40f5e4",
   "metadata": {},
   "outputs": [],
   "source": [
    "%matplotlib qt"
   ]
  },
  {
   "cell_type": "code",
   "execution_count": null,
   "id": "c3963094-8d09-41d0-b208-48e828640908",
   "metadata": {},
   "outputs": [],
   "source": [
    "SNRs[[271, 297, 301, 323, 455, 484]]"
   ]
  },
  {
   "cell_type": "code",
   "execution_count": null,
   "id": "cfdfd45b-0b5f-4977-a4ba-866c20a36c0d",
   "metadata": {},
   "outputs": [],
   "source": [
    "SNR_min"
   ]
  },
  {
   "cell_type": "code",
   "execution_count": null,
   "id": "ed841de9-ae0c-4a45-a644-9e61c793eb4f",
   "metadata": {},
   "outputs": [],
   "source": [
    "SNR = sig/noisestd\n",
    "SNRsort = np.sort(SNR)\n",
    "SNRsort[int(np.floor(SNRsort.shape[0]/4))]"
   ]
  },
  {
   "cell_type": "code",
   "execution_count": null,
   "id": "8149a946-5504-423a-a518-56d8cb2082cb",
   "metadata": {},
   "outputs": [],
   "source": [
    "SNRsort[int(np.floor(0.2*SNRsort.shape[0]))]"
   ]
  },
  {
   "cell_type": "code",
   "execution_count": null,
   "id": "7f1e7403-1de3-4b2e-aaa1-dda4e810fca9",
   "metadata": {},
   "outputs": [],
   "source": [
    "cnmf_model.estimates.Sigmin"
   ]
  },
  {
   "cell_type": "code",
   "execution_count": null,
   "id": "25cb4859-90d8-4175-8143-752605063bcb",
   "metadata": {},
   "outputs": [],
   "source": [
    "CY.shape"
   ]
  },
  {
   "cell_type": "code",
   "execution_count": null,
   "id": "805e286e-dc11-4171-9e7f-7751a2a41042",
   "metadata": {},
   "outputs": [],
   "source": [
    "plt.hist(SNR,bins=50)\n",
    "plt.vlines(SNRmin,0,plt.gca().get_ylim()[1],color='r')\n",
    "plt.vlines(np.mean(SNR),0,plt.gca().get_ylim()[1],color='g')\n",
    "plt.vlines(np.median(SNR),0,plt.gca().get_ylim()[1],color='b')"
   ]
  },
  {
   "cell_type": "code",
   "execution_count": null,
   "id": "008a8c97-77f4-4294-9620-b46c9c24f7d8",
   "metadata": {},
   "outputs": [],
   "source": [
    "np.median(SNR)"
   ]
  },
  {
   "cell_type": "code",
   "execution_count": null,
   "id": "a69f9dac-cc61-48df-92b0-095b6f9ac3be",
   "metadata": {},
   "outputs": [],
   "source": []
  },
  {
   "cell_type": "code",
   "execution_count": null,
   "id": "1c5b620b-6a49-4964-968a-304643bc435e",
   "metadata": {},
   "outputs": [],
   "source": []
  },
  {
   "cell_type": "code",
   "execution_count": null,
   "id": "0773f6f7-fbde-4940-9d17-0cc807113812",
   "metadata": {},
   "outputs": [],
   "source": [
    "np.mean(R[vars_dict1[\"SMG\"][component],:],axis=0).T"
   ]
  },
  {
   "cell_type": "code",
   "execution_count": null,
   "id": "6b4888d2-718d-4e74-a8a9-69a9291ac9f6",
   "metadata": {},
   "outputs": [],
   "source": []
  },
  {
   "cell_type": "code",
   "execution_count": null,
   "id": "0cea543d-b2a6-4a5f-a0bc-c9c704793aae",
   "metadata": {
    "scrolled": true
   },
   "outputs": [],
   "source": [
    "merge_traces_raw = np.asarray([np.mean(R[vars_dict1[\"SMG\"][component],:],axis=0) for component in range(len(vars_dict1[\"SMG\"]))])\n",
    "merge_traces_raw_dff = np.asarray([np.mean((R[vars_dict1[\"SMG\"][component],:].T-Rf[np.array(vars_dict1[\"SMG\"][component])])/Rf[np.array(vars_dict1[\"SMG\"][component])],axis=1) for component in range(len(vars_dict1[\"SMG\"]))])"
   ]
  },
  {
   "cell_type": "code",
   "execution_count": null,
   "id": "ad9b76f1-7e88-4637-912f-7f0b2f5c974a",
   "metadata": {},
   "outputs": [],
   "source": [
    "merge_traces_raw_dff.shape"
   ]
  },
  {
   "cell_type": "code",
   "execution_count": null,
   "id": "253fd7e3-5b6e-41ae-b4c8-60fabfabe3aa",
   "metadata": {},
   "outputs": [],
   "source": [
    "from scipy.cluster.hierarchy import dendrogram, linkage\n",
    "\n",
    "data = merge_traces_raw_dff\n",
    "linkage_data = linkage(data, method='ward', metric='euclidean')\n",
    "dendrogram(linkage_data)\n",
    "\n",
    "plt.show() "
   ]
  },
  {
   "cell_type": "code",
   "execution_count": null,
   "id": "13f8bfeb-0e93-4d9a-9349-3df193663d45",
   "metadata": {
    "scrolled": true
   },
   "outputs": [],
   "source": [
    "linkage_data.shape"
   ]
  },
  {
   "cell_type": "code",
   "execution_count": null,
   "id": "cd573725-400d-4a1f-991d-8896a70fc973",
   "metadata": {},
   "outputs": [],
   "source": [
    "from sklearn.cluster import AgglomerativeClustering\n",
    "\n",
    "hierarchical_cluster = AgglomerativeClustering(n_clusters=4, metric='euclidean', linkage='ward')\n",
    "labels = hierarchical_cluster.fit_predict(data)"
   ]
  },
  {
   "cell_type": "code",
   "execution_count": null,
   "id": "6f340664-e1ef-4a0c-afd5-167571022e88",
   "metadata": {
    "scrolled": true
   },
   "outputs": [],
   "source": [
    "labels[69]"
   ]
  },
  {
   "cell_type": "code",
   "execution_count": null,
   "id": "c405212b-518a-47fd-88cb-1289af1ab045",
   "metadata": {
    "scrolled": true
   },
   "outputs": [],
   "source": [
    "plt.imshow(merge_traces_raw_dff[np.argsort(labels),...],cmap='turbo')"
   ]
  },
  {
   "cell_type": "code",
   "execution_count": null,
   "id": "ad4f80d6-461d-4e63-a718-f6ba22b9b902",
   "metadata": {
    "scrolled": true
   },
   "outputs": [],
   "source": [
    "plt.imshow(merge_traces_raw_dff,cmap='turbo')"
   ]
  },
  {
   "cell_type": "code",
   "execution_count": null,
   "id": "ddfad29f-cf74-4b4c-a696-edb2b7710156",
   "metadata": {},
   "outputs": [],
   "source": [
    "spcomps_merge_e.shape"
   ]
  },
  {
   "cell_type": "code",
   "execution_count": null,
   "id": "52af7ae4-000b-4437-9293-bdff0b030611",
   "metadata": {},
   "outputs": [],
   "source": [
    "np.amax(spcomps_merge_e2)"
   ]
  },
  {
   "cell_type": "code",
   "execution_count": null,
   "id": "3be973c4-6656-4ed7-b422-13b58461a991",
   "metadata": {},
   "outputs": [],
   "source": [
    "len(vars_dict1[\"SMG\"])"
   ]
  },
  {
   "cell_type": "code",
   "execution_count": null,
   "id": "6c99bfbe-b64b-4fbb-bfee-63bbe3bc0302",
   "metadata": {
    "scrolled": true
   },
   "outputs": [],
   "source": [
    "type(spcomps)"
   ]
  },
  {
   "cell_type": "code",
   "execution_count": null,
   "id": "b7ac8f04-bc48-46a5-aa62-c2761c77d83c",
   "metadata": {},
   "outputs": [],
   "source": [
    "spcomps.dtype"
   ]
  },
  {
   "cell_type": "code",
   "execution_count": null,
   "id": "d03f4e25-7327-44d6-81de-b6a6fc7cfc78",
   "metadata": {},
   "outputs": [],
   "source": [
    "spcomps_add = np.zeros(spcomps[0,...][np.newaxis,...].shape,dtype=np.float32)"
   ]
  },
  {
   "cell_type": "code",
   "execution_count": null,
   "id": "1e18c367-5917-4492-b838-19ca60470dc0",
   "metadata": {},
   "outputs": [],
   "source": [
    "spcomps_add.dtype"
   ]
  },
  {
   "cell_type": "code",
   "execution_count": null,
   "id": "f5a87e5a-3ff5-41a6-a2ee-f7c67583390b",
   "metadata": {},
   "outputs": [],
   "source": [
    "spcompse.dtype"
   ]
  },
  {
   "cell_type": "code",
   "execution_count": null,
   "id": "cb53b906-8262-4bb4-8c58-9018f49fcbcf",
   "metadata": {
    "scrolled": true
   },
   "outputs": [],
   "source": [
    "spcompse"
   ]
  },
  {
   "cell_type": "code",
   "execution_count": null,
   "id": "6fd7f3f6-8058-4d83-8b8c-b6e890e8614b",
   "metadata": {},
   "outputs": [],
   "source": [
    "spcompse = np.concatenate((spcomps_add,spcomps))"
   ]
  },
  {
   "cell_type": "code",
   "execution_count": null,
   "id": "7ba1e188-6c83-4a2c-bbe6-19eb5282a9ad",
   "metadata": {},
   "outputs": [],
   "source": [
    "spcomps[vars_dict1[\"SMG\"][0],...].shape"
   ]
  },
  {
   "cell_type": "code",
   "execution_count": null,
   "id": "78aede7e-1f8f-462a-bcee-ad4ae89af9fb",
   "metadata": {},
   "outputs": [],
   "source": [
    "images.shape"
   ]
  },
  {
   "cell_type": "code",
   "execution_count": null,
   "id": "a082677a-6453-42c9-b98f-187166fc4b07",
   "metadata": {},
   "outputs": [],
   "source": [
    "spcomps[0,...][np.newaxis,...].shape"
   ]
  },
  {
   "cell_type": "code",
   "execution_count": null,
   "id": "52b8983c-633e-44b4-9042-f2fa0e445f36",
   "metadata": {},
   "outputs": [],
   "source": [
    "spcompse = np.append(np.zeros(spcomps[0,...][np.newaxis,...].shape,dtype=np.float32),spcomps,axis=0)"
   ]
  },
  {
   "cell_type": "code",
   "execution_count": null,
   "id": "0481f35f-8b00-48a6-adff-f6f5a2d08d22",
   "metadata": {},
   "outputs": [],
   "source": [
    "spcompse.shape"
   ]
  },
  {
   "cell_type": "code",
   "execution_count": null,
   "id": "2546bd99-adee-4e1e-82ef-c71228c6958a",
   "metadata": {
    "scrolled": true
   },
   "outputs": [],
   "source": [
    "spcompse2 = np.argmax(spcompse,axis=0)"
   ]
  },
  {
   "cell_type": "code",
   "execution_count": null,
   "id": "d7f5906b-0267-4093-bfde-158b3dff8236",
   "metadata": {},
   "outputs": [],
   "source": [
    "np.amax(spcomps2)"
   ]
  },
  {
   "cell_type": "code",
   "execution_count": null,
   "id": "b1c85dad-e697-4df1-b72b-091523c514e7",
   "metadata": {},
   "outputs": [],
   "source": [
    "spcomps_merge = np.asarray([np.sum(spcomps[vars_dict1[\"SMG\"][component],...],axis=0) for component in range(len(vars_dict1[\"SMG\"])-1)])"
   ]
  },
  {
   "cell_type": "code",
   "execution_count": null,
   "id": "35c7e044-ea7c-41ef-9b17-b43904acb2ce",
   "metadata": {},
   "outputs": [],
   "source": [
    "spcomps_merge.shape"
   ]
  },
  {
   "cell_type": "code",
   "execution_count": null,
   "id": "9bb1ac90-a4df-40e4-a032-5aa03705026d",
   "metadata": {},
   "outputs": [],
   "source": []
  },
  {
   "cell_type": "code",
   "execution_count": null,
   "id": "f554cee7-9d3c-4851-9071-a6207f4a1878",
   "metadata": {},
   "outputs": [],
   "source": [
    "spcomps_merge2 = np.nanargmax(spcomps_merge,0)"
   ]
  },
  {
   "cell_type": "code",
   "execution_count": null,
   "id": "70f503d6-f1a3-45b3-b57b-ddfd334a5dd2",
   "metadata": {
    "scrolled": true
   },
   "outputs": [],
   "source": [
    "spcomps_merge2"
   ]
  },
  {
   "cell_type": "code",
   "execution_count": null,
   "id": "9bb8dece-eea9-4bc5-b37c-cd2a5bb47bbc",
   "metadata": {},
   "outputs": [],
   "source": [
    "spcomps[vars_dict1[\"SMG\"],...].shape"
   ]
  },
  {
   "cell_type": "code",
   "execution_count": null,
   "id": "00fda147-53ff-4ccc-b21f-0282496d2bce",
   "metadata": {
    "scrolled": true
   },
   "outputs": [],
   "source": [
    "spcomps_merge[spcomps_merge == 0] = None"
   ]
  },
  {
   "cell_type": "code",
   "execution_count": null,
   "id": "96ecd54f-573c-4937-b472-3ed674339623",
   "metadata": {
    "scrolled": true
   },
   "outputs": [],
   "source": [
    "spcomps_merge"
   ]
  },
  {
   "cell_type": "code",
   "execution_count": null,
   "id": "4e546c5d-f169-45d2-a7b8-e7e8cf451f99",
   "metadata": {},
   "outputs": [],
   "source": []
  }
 ],
 "metadata": {
  "kernelspec": {
   "display_name": "Python 3 (ipykernel)",
   "language": "python",
   "name": "python3"
  },
  "language_info": {
   "codemirror_mode": {
    "name": "ipython",
    "version": 3
   },
   "file_extension": ".py",
   "mimetype": "text/x-python",
   "name": "python",
   "nbconvert_exporter": "python",
   "pygments_lexer": "ipython3",
   "version": "3.10.8"
  }
 },
 "nbformat": 4,
 "nbformat_minor": 5
}
