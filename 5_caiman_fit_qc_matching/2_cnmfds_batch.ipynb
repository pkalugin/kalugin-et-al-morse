{
 "cells": [
  {
   "cell_type": "code",
   "execution_count": null,
   "id": "36ea39ed-40b2-4909-9736-c610672b6dde",
   "metadata": {},
   "outputs": [],
   "source": [
    "# Need to build a semi-automated pipeline to speed up movie processing and run things overnight\n",
    "# Most time consuming steps: background interpolation, CNMF fitting, Craw calculation (all parallelizable, ~45 min total per movie)\n",
    "# Also somewhat time consuming - moving preprocessed files to nasquatch and then to BIDMC desktop - best to do in bulk e.g. once a day\n",
    "# Rough plan would be:\n",
    "    # 1. Prepare batch of movies night before - manual masking, z ranges, check for reasonable background masks, specify n_range and ?rolling sum?\n",
    "        # 1.1. Manual check in napari - z range and n_range; manual check in fiji - ring mask, check threshold quality\n",
    "    # 2. Overnight - run background interpolation, CNMF, Craw\n",
    "        # 2.0. Room for ~15 movies' worth of outputs on colab05 HDD (main one) - save other one for raw movie archive\n",
    "        # 2.1. May need to add parallel stuff here like: GPU cellpose, raw movie refitting (post-curation)\n",
    "        # 2.2. Raw movie refitting is particularly important to think about - need to do smart parallelization, each one will run on just one core but for a long time (plus memmap on SSD)\n",
    "    # 3. Morning - quick output quality check (probably peak SNR/bottom 10% scatterplot is enough - could print it automatically to image for each movie), move files to nasquatch/BIDMC desktop\n",
    "    # 4. Rest of day - colab05 for other stuff, particularly any development/hands on work\n",
    "        # 4.1. If bigwarp doesn't need colab, could just let it run unsupervised stuff all day\n",
    "    # 5. Afternoon - leave enough time to prep next overnight batch, probably could be running like 15 movies overnight for CNMF-ds, raw refitting different setup (not multicore, SSD)\n"
   ]
  },
  {
   "cell_type": "code",
   "execution_count": 1,
   "id": "2a5d3328-48b9-4195-bc89-96219514982d",
   "metadata": {},
   "outputs": [
    {
     "name": "stderr",
     "output_type": "stream",
     "text": [
      "2024-09-10 14:53:16.988092: E tensorflow/compiler/xla/stream_executor/cuda/cuda_dnn.cc:9342] Unable to register cuDNN factory: Attempting to register factory for plugin cuDNN when one has already been registered\n",
      "2024-09-10 14:53:16.988173: E tensorflow/compiler/xla/stream_executor/cuda/cuda_fft.cc:609] Unable to register cuFFT factory: Attempting to register factory for plugin cuFFT when one has already been registered\n",
      "2024-09-10 14:53:16.988210: E tensorflow/compiler/xla/stream_executor/cuda/cuda_blas.cc:1518] Unable to register cuBLAS factory: Attempting to register factory for plugin cuBLAS when one has already been registered\n"
     ]
    },
    {
     "data": {
      "text/html": [
       "    <style>\n",
       "        .bk-notebook-logo {\n",
       "            display: block;\n",
       "            width: 20px;\n",
       "            height: 20px;\n",
       "            background-image: url(data:image/png;base64,iVBORw0KGgoAAAANSUhEUgAAABQAAAAUCAYAAACNiR0NAAAABHNCSVQICAgIfAhkiAAAAAlwSFlzAAALEgAACxIB0t1+/AAAABx0RVh0U29mdHdhcmUAQWRvYmUgRmlyZXdvcmtzIENTNui8sowAAAOkSURBVDiNjZRtaJVlGMd/1/08zzln5zjP1LWcU9N0NkN8m2CYjpgQYQXqSs0I84OLIC0hkEKoPtiH3gmKoiJDU7QpLgoLjLIQCpEsNJ1vqUOdO7ppbuec5+V+rj4ctwzd8IIbbi6u+8f1539dt3A78eXC7QizUF7gyV1fD1Yqg4JWz84yffhm0qkFqBogB9rM8tZdtwVsPUhWhGcFJngGeWrPzHm5oaMmkfEg1usvLFyc8jLRqDOMru7AyC8saQr7GG7f5fvDeH7Ej8CM66nIF+8yngt6HWaKh7k49Soy9nXurCi1o3qUbS3zWfrYeQDTB/Qj6kX6Ybhw4B+bOYoLKCC9H3Nu/leUTZ1JdRWkkn2ldcCamzrcf47KKXdAJllSlxAOkRgyHsGC/zRday5Qld9DyoM4/q/rUoy/CXh3jzOu3bHUVZeU+DEn8FInkPBFlu3+nW3Nw0mk6vCDiWg8CeJaxEwuHS3+z5RgY+YBR6V1Z1nxSOfoaPa4LASWxxdNp+VWTk7+4vzaou8v8PN+xo+KY2xsw6une2frhw05CTYOmQvsEhjhWjn0bmXPjpE1+kplmmkP3suftwTubK9Vq22qKmrBhpY4jvd5afdRA3wGjFAgcnTK2s4hY0/GPNIb0nErGMCRxWOOX64Z8RAC4oCXdklmEvcL8o0BfkNK4lUg9HTl+oPlQxdNo3Mg4Nv175e/1LDGzZen30MEjRUtmXSfiTVu1kK8W4txyV6BMKlbgk3lMwYCiusNy9fVfvvwMxv8Ynl6vxoByANLTWplvuj/nF9m2+PDtt1eiHPBr1oIfhCChQMBw6Aw0UulqTKZdfVvfG7VcfIqLG9bcldL/+pdWTLxLUy8Qq38heUIjh4XlzZxzQm19lLFlr8vdQ97rjZVOLf8nclzckbcD4wxXMidpX30sFd37Fv/GtwwhzhxGVAprjbg0gCAEeIgwCZyTV2Z1REEW8O4py0wsjeloKoMr6iCY6dP92H6Vw/oTyICIthibxjm/DfN9lVz8IqtqKYLUXfoKVMVQVVJOElGjrnnUt9T9wbgp8AyYKaGlqingHZU/uG2NTZSVqwHQTWkx9hxjkpWDaCg6Ckj5qebgBVbT3V3NNXMSiWSDdGV3hrtzla7J+duwPOToIg42ChPQOQjspnSlp1V+Gjdged7+8UN5CRAV7a5EdFNwCjEaBR27b3W890TE7g24NAP/mMDXRWrGoFPQI9ls/MWO2dWFAar/xcOIImbbpA3zgAAAABJRU5ErkJggg==);\n",
       "        }\n",
       "    </style>\n",
       "    <div>\n",
       "        <a href=\"https://bokeh.org\" target=\"_blank\" class=\"bk-notebook-logo\"></a>\n",
       "        <span id=\"e0ba9b9b-473a-4f5f-8328-06fad31ea84e\">Loading BokehJS ...</span>\n",
       "    </div>\n"
      ]
     },
     "metadata": {},
     "output_type": "display_data"
    },
    {
     "data": {
      "application/javascript": [
       "(function(root) {\n",
       "  function now() {\n",
       "    return new Date();\n",
       "  }\n",
       "\n",
       "  const force = true;\n",
       "\n",
       "  if (typeof root._bokeh_onload_callbacks === \"undefined\" || force === true) {\n",
       "    root._bokeh_onload_callbacks = [];\n",
       "    root._bokeh_is_loading = undefined;\n",
       "  }\n",
       "\n",
       "const JS_MIME_TYPE = 'application/javascript';\n",
       "  const HTML_MIME_TYPE = 'text/html';\n",
       "  const EXEC_MIME_TYPE = 'application/vnd.bokehjs_exec.v0+json';\n",
       "  const CLASS_NAME = 'output_bokeh rendered_html';\n",
       "\n",
       "  /**\n",
       "   * Render data to the DOM node\n",
       "   */\n",
       "  function render(props, node) {\n",
       "    const script = document.createElement(\"script\");\n",
       "    node.appendChild(script);\n",
       "  }\n",
       "\n",
       "  /**\n",
       "   * Handle when an output is cleared or removed\n",
       "   */\n",
       "  function handleClearOutput(event, handle) {\n",
       "    function drop(id) {\n",
       "      const view = Bokeh.index.get_by_id(id)\n",
       "      if (view != null) {\n",
       "        view.model.document.clear()\n",
       "        Bokeh.index.delete(view)\n",
       "      }\n",
       "    }\n",
       "\n",
       "    const cell = handle.cell;\n",
       "\n",
       "    const id = cell.output_area._bokeh_element_id;\n",
       "    const server_id = cell.output_area._bokeh_server_id;\n",
       "\n",
       "    // Clean up Bokeh references\n",
       "    if (id != null) {\n",
       "      drop(id)\n",
       "    }\n",
       "\n",
       "    if (server_id !== undefined) {\n",
       "      // Clean up Bokeh references\n",
       "      const cmd_clean = \"from bokeh.io.state import curstate; print(curstate().uuid_to_server['\" + server_id + \"'].get_sessions()[0].document.roots[0]._id)\";\n",
       "      cell.notebook.kernel.execute(cmd_clean, {\n",
       "        iopub: {\n",
       "          output: function(msg) {\n",
       "            const id = msg.content.text.trim()\n",
       "            drop(id)\n",
       "          }\n",
       "        }\n",
       "      });\n",
       "      // Destroy server and session\n",
       "      const cmd_destroy = \"import bokeh.io.notebook as ion; ion.destroy_server('\" + server_id + \"')\";\n",
       "      cell.notebook.kernel.execute(cmd_destroy);\n",
       "    }\n",
       "  }\n",
       "\n",
       "  /**\n",
       "   * Handle when a new output is added\n",
       "   */\n",
       "  function handleAddOutput(event, handle) {\n",
       "    const output_area = handle.output_area;\n",
       "    const output = handle.output;\n",
       "\n",
       "    // limit handleAddOutput to display_data with EXEC_MIME_TYPE content only\n",
       "    if ((output.output_type != \"display_data\") || (!Object.prototype.hasOwnProperty.call(output.data, EXEC_MIME_TYPE))) {\n",
       "      return\n",
       "    }\n",
       "\n",
       "    const toinsert = output_area.element.find(\".\" + CLASS_NAME.split(' ')[0]);\n",
       "\n",
       "    if (output.metadata[EXEC_MIME_TYPE][\"id\"] !== undefined) {\n",
       "      toinsert[toinsert.length - 1].firstChild.textContent = output.data[JS_MIME_TYPE];\n",
       "      // store reference to embed id on output_area\n",
       "      output_area._bokeh_element_id = output.metadata[EXEC_MIME_TYPE][\"id\"];\n",
       "    }\n",
       "    if (output.metadata[EXEC_MIME_TYPE][\"server_id\"] !== undefined) {\n",
       "      const bk_div = document.createElement(\"div\");\n",
       "      bk_div.innerHTML = output.data[HTML_MIME_TYPE];\n",
       "      const script_attrs = bk_div.children[0].attributes;\n",
       "      for (let i = 0; i < script_attrs.length; i++) {\n",
       "        toinsert[toinsert.length - 1].firstChild.setAttribute(script_attrs[i].name, script_attrs[i].value);\n",
       "        toinsert[toinsert.length - 1].firstChild.textContent = bk_div.children[0].textContent\n",
       "      }\n",
       "      // store reference to server id on output_area\n",
       "      output_area._bokeh_server_id = output.metadata[EXEC_MIME_TYPE][\"server_id\"];\n",
       "    }\n",
       "  }\n",
       "\n",
       "  function register_renderer(events, OutputArea) {\n",
       "\n",
       "    function append_mime(data, metadata, element) {\n",
       "      // create a DOM node to render to\n",
       "      const toinsert = this.create_output_subarea(\n",
       "        metadata,\n",
       "        CLASS_NAME,\n",
       "        EXEC_MIME_TYPE\n",
       "      );\n",
       "      this.keyboard_manager.register_events(toinsert);\n",
       "      // Render to node\n",
       "      const props = {data: data, metadata: metadata[EXEC_MIME_TYPE]};\n",
       "      render(props, toinsert[toinsert.length - 1]);\n",
       "      element.append(toinsert);\n",
       "      return toinsert\n",
       "    }\n",
       "\n",
       "    /* Handle when an output is cleared or removed */\n",
       "    events.on('clear_output.CodeCell', handleClearOutput);\n",
       "    events.on('delete.Cell', handleClearOutput);\n",
       "\n",
       "    /* Handle when a new output is added */\n",
       "    events.on('output_added.OutputArea', handleAddOutput);\n",
       "\n",
       "    /**\n",
       "     * Register the mime type and append_mime function with output_area\n",
       "     */\n",
       "    OutputArea.prototype.register_mime_type(EXEC_MIME_TYPE, append_mime, {\n",
       "      /* Is output safe? */\n",
       "      safe: true,\n",
       "      /* Index of renderer in `output_area.display_order` */\n",
       "      index: 0\n",
       "    });\n",
       "  }\n",
       "\n",
       "  // register the mime type if in Jupyter Notebook environment and previously unregistered\n",
       "  if (root.Jupyter !== undefined) {\n",
       "    const events = require('base/js/events');\n",
       "    const OutputArea = require('notebook/js/outputarea').OutputArea;\n",
       "\n",
       "    if (OutputArea.prototype.mime_types().indexOf(EXEC_MIME_TYPE) == -1) {\n",
       "      register_renderer(events, OutputArea);\n",
       "    }\n",
       "  }\n",
       "  if (typeof (root._bokeh_timeout) === \"undefined\" || force === true) {\n",
       "    root._bokeh_timeout = Date.now() + 5000;\n",
       "    root._bokeh_failed_load = false;\n",
       "  }\n",
       "\n",
       "  const NB_LOAD_WARNING = {'data': {'text/html':\n",
       "     \"<div style='background-color: #fdd'>\\n\"+\n",
       "     \"<p>\\n\"+\n",
       "     \"BokehJS does not appear to have successfully loaded. If loading BokehJS from CDN, this \\n\"+\n",
       "     \"may be due to a slow or bad network connection. Possible fixes:\\n\"+\n",
       "     \"</p>\\n\"+\n",
       "     \"<ul>\\n\"+\n",
       "     \"<li>re-rerun `output_notebook()` to attempt to load from CDN again, or</li>\\n\"+\n",
       "     \"<li>use INLINE resources instead, as so:</li>\\n\"+\n",
       "     \"</ul>\\n\"+\n",
       "     \"<code>\\n\"+\n",
       "     \"from bokeh.resources import INLINE\\n\"+\n",
       "     \"output_notebook(resources=INLINE)\\n\"+\n",
       "     \"</code>\\n\"+\n",
       "     \"</div>\"}};\n",
       "\n",
       "  function display_loaded() {\n",
       "    const el = document.getElementById(\"e0ba9b9b-473a-4f5f-8328-06fad31ea84e\");\n",
       "    if (el != null) {\n",
       "      el.textContent = \"BokehJS is loading...\";\n",
       "    }\n",
       "    if (root.Bokeh !== undefined) {\n",
       "      if (el != null) {\n",
       "        el.textContent = \"BokehJS \" + root.Bokeh.version + \" successfully loaded.\";\n",
       "      }\n",
       "    } else if (Date.now() < root._bokeh_timeout) {\n",
       "      setTimeout(display_loaded, 100)\n",
       "    }\n",
       "  }\n",
       "\n",
       "  function run_callbacks() {\n",
       "    try {\n",
       "      root._bokeh_onload_callbacks.forEach(function(callback) {\n",
       "        if (callback != null)\n",
       "          callback();\n",
       "      });\n",
       "    } finally {\n",
       "      delete root._bokeh_onload_callbacks\n",
       "    }\n",
       "    console.debug(\"Bokeh: all callbacks have finished\");\n",
       "  }\n",
       "\n",
       "  function load_libs(css_urls, js_urls, callback) {\n",
       "    if (css_urls == null) css_urls = [];\n",
       "    if (js_urls == null) js_urls = [];\n",
       "\n",
       "    root._bokeh_onload_callbacks.push(callback);\n",
       "    if (root._bokeh_is_loading > 0) {\n",
       "      console.debug(\"Bokeh: BokehJS is being loaded, scheduling callback at\", now());\n",
       "      return null;\n",
       "    }\n",
       "    if (js_urls == null || js_urls.length === 0) {\n",
       "      run_callbacks();\n",
       "      return null;\n",
       "    }\n",
       "    console.debug(\"Bokeh: BokehJS not loaded, scheduling load and callback at\", now());\n",
       "    root._bokeh_is_loading = css_urls.length + js_urls.length;\n",
       "\n",
       "    function on_load() {\n",
       "      root._bokeh_is_loading--;\n",
       "      if (root._bokeh_is_loading === 0) {\n",
       "        console.debug(\"Bokeh: all BokehJS libraries/stylesheets loaded\");\n",
       "        run_callbacks()\n",
       "      }\n",
       "    }\n",
       "\n",
       "    function on_error(url) {\n",
       "      console.error(\"failed to load \" + url);\n",
       "    }\n",
       "\n",
       "    for (let i = 0; i < css_urls.length; i++) {\n",
       "      const url = css_urls[i];\n",
       "      const element = document.createElement(\"link\");\n",
       "      element.onload = on_load;\n",
       "      element.onerror = on_error.bind(null, url);\n",
       "      element.rel = \"stylesheet\";\n",
       "      element.type = \"text/css\";\n",
       "      element.href = url;\n",
       "      console.debug(\"Bokeh: injecting link tag for BokehJS stylesheet: \", url);\n",
       "      document.body.appendChild(element);\n",
       "    }\n",
       "\n",
       "    for (let i = 0; i < js_urls.length; i++) {\n",
       "      const url = js_urls[i];\n",
       "      const element = document.createElement('script');\n",
       "      element.onload = on_load;\n",
       "      element.onerror = on_error.bind(null, url);\n",
       "      element.async = false;\n",
       "      element.src = url;\n",
       "      console.debug(\"Bokeh: injecting script tag for BokehJS library: \", url);\n",
       "      document.head.appendChild(element);\n",
       "    }\n",
       "  };\n",
       "\n",
       "  function inject_raw_css(css) {\n",
       "    const element = document.createElement(\"style\");\n",
       "    element.appendChild(document.createTextNode(css));\n",
       "    document.body.appendChild(element);\n",
       "  }\n",
       "\n",
       "  const js_urls = [\"https://cdn.bokeh.org/bokeh/release/bokeh-3.3.4.min.js\", \"https://cdn.bokeh.org/bokeh/release/bokeh-gl-3.3.4.min.js\", \"https://cdn.bokeh.org/bokeh/release/bokeh-widgets-3.3.4.min.js\", \"https://cdn.bokeh.org/bokeh/release/bokeh-tables-3.3.4.min.js\", \"https://cdn.bokeh.org/bokeh/release/bokeh-mathjax-3.3.4.min.js\", \"https://unpkg.com/@holoviz/panel@1.3.8/dist/panel.min.js\"];\n",
       "  const css_urls = [];\n",
       "\n",
       "  const inline_js = [    function(Bokeh) {\n",
       "      Bokeh.set_log_level(\"info\");\n",
       "    },\n",
       "function(Bokeh) {\n",
       "    }\n",
       "  ];\n",
       "\n",
       "  function run_inline_js() {\n",
       "    if (root.Bokeh !== undefined || force === true) {\n",
       "          for (let i = 0; i < inline_js.length; i++) {\n",
       "      inline_js[i].call(root, root.Bokeh);\n",
       "    }\n",
       "if (force === true) {\n",
       "        display_loaded();\n",
       "      }} else if (Date.now() < root._bokeh_timeout) {\n",
       "      setTimeout(run_inline_js, 100);\n",
       "    } else if (!root._bokeh_failed_load) {\n",
       "      console.log(\"Bokeh: BokehJS failed to load within specified timeout.\");\n",
       "      root._bokeh_failed_load = true;\n",
       "    } else if (force !== true) {\n",
       "      const cell = $(document.getElementById(\"e0ba9b9b-473a-4f5f-8328-06fad31ea84e\")).parents('.cell').data().cell;\n",
       "      cell.output_area.append_execute_result(NB_LOAD_WARNING)\n",
       "    }\n",
       "  }\n",
       "\n",
       "  if (root._bokeh_is_loading === 0) {\n",
       "    console.debug(\"Bokeh: BokehJS loaded, going straight to plotting\");\n",
       "    run_inline_js();\n",
       "  } else {\n",
       "    load_libs(css_urls, js_urls, function() {\n",
       "      console.debug(\"Bokeh: BokehJS plotting callback run at\", now());\n",
       "      run_inline_js();\n",
       "    });\n",
       "  }\n",
       "}(window));"
      ],
      "application/vnd.bokehjs_load.v0+json": "(function(root) {\n  function now() {\n    return new Date();\n  }\n\n  const force = true;\n\n  if (typeof root._bokeh_onload_callbacks === \"undefined\" || force === true) {\n    root._bokeh_onload_callbacks = [];\n    root._bokeh_is_loading = undefined;\n  }\n\n\n  if (typeof (root._bokeh_timeout) === \"undefined\" || force === true) {\n    root._bokeh_timeout = Date.now() + 5000;\n    root._bokeh_failed_load = false;\n  }\n\n  const NB_LOAD_WARNING = {'data': {'text/html':\n     \"<div style='background-color: #fdd'>\\n\"+\n     \"<p>\\n\"+\n     \"BokehJS does not appear to have successfully loaded. If loading BokehJS from CDN, this \\n\"+\n     \"may be due to a slow or bad network connection. Possible fixes:\\n\"+\n     \"</p>\\n\"+\n     \"<ul>\\n\"+\n     \"<li>re-rerun `output_notebook()` to attempt to load from CDN again, or</li>\\n\"+\n     \"<li>use INLINE resources instead, as so:</li>\\n\"+\n     \"</ul>\\n\"+\n     \"<code>\\n\"+\n     \"from bokeh.resources import INLINE\\n\"+\n     \"output_notebook(resources=INLINE)\\n\"+\n     \"</code>\\n\"+\n     \"</div>\"}};\n\n  function display_loaded() {\n    const el = document.getElementById(\"e0ba9b9b-473a-4f5f-8328-06fad31ea84e\");\n    if (el != null) {\n      el.textContent = \"BokehJS is loading...\";\n    }\n    if (root.Bokeh !== undefined) {\n      if (el != null) {\n        el.textContent = \"BokehJS \" + root.Bokeh.version + \" successfully loaded.\";\n      }\n    } else if (Date.now() < root._bokeh_timeout) {\n      setTimeout(display_loaded, 100)\n    }\n  }\n\n  function run_callbacks() {\n    try {\n      root._bokeh_onload_callbacks.forEach(function(callback) {\n        if (callback != null)\n          callback();\n      });\n    } finally {\n      delete root._bokeh_onload_callbacks\n    }\n    console.debug(\"Bokeh: all callbacks have finished\");\n  }\n\n  function load_libs(css_urls, js_urls, callback) {\n    if (css_urls == null) css_urls = [];\n    if (js_urls == null) js_urls = [];\n\n    root._bokeh_onload_callbacks.push(callback);\n    if (root._bokeh_is_loading > 0) {\n      console.debug(\"Bokeh: BokehJS is being loaded, scheduling callback at\", now());\n      return null;\n    }\n    if (js_urls == null || js_urls.length === 0) {\n      run_callbacks();\n      return null;\n    }\n    console.debug(\"Bokeh: BokehJS not loaded, scheduling load and callback at\", now());\n    root._bokeh_is_loading = css_urls.length + js_urls.length;\n\n    function on_load() {\n      root._bokeh_is_loading--;\n      if (root._bokeh_is_loading === 0) {\n        console.debug(\"Bokeh: all BokehJS libraries/stylesheets loaded\");\n        run_callbacks()\n      }\n    }\n\n    function on_error(url) {\n      console.error(\"failed to load \" + url);\n    }\n\n    for (let i = 0; i < css_urls.length; i++) {\n      const url = css_urls[i];\n      const element = document.createElement(\"link\");\n      element.onload = on_load;\n      element.onerror = on_error.bind(null, url);\n      element.rel = \"stylesheet\";\n      element.type = \"text/css\";\n      element.href = url;\n      console.debug(\"Bokeh: injecting link tag for BokehJS stylesheet: \", url);\n      document.body.appendChild(element);\n    }\n\n    for (let i = 0; i < js_urls.length; i++) {\n      const url = js_urls[i];\n      const element = document.createElement('script');\n      element.onload = on_load;\n      element.onerror = on_error.bind(null, url);\n      element.async = false;\n      element.src = url;\n      console.debug(\"Bokeh: injecting script tag for BokehJS library: \", url);\n      document.head.appendChild(element);\n    }\n  };\n\n  function inject_raw_css(css) {\n    const element = document.createElement(\"style\");\n    element.appendChild(document.createTextNode(css));\n    document.body.appendChild(element);\n  }\n\n  const js_urls = [\"https://cdn.bokeh.org/bokeh/release/bokeh-3.3.4.min.js\", \"https://cdn.bokeh.org/bokeh/release/bokeh-gl-3.3.4.min.js\", \"https://cdn.bokeh.org/bokeh/release/bokeh-widgets-3.3.4.min.js\", \"https://cdn.bokeh.org/bokeh/release/bokeh-tables-3.3.4.min.js\", \"https://cdn.bokeh.org/bokeh/release/bokeh-mathjax-3.3.4.min.js\", \"https://unpkg.com/@holoviz/panel@1.3.8/dist/panel.min.js\"];\n  const css_urls = [];\n\n  const inline_js = [    function(Bokeh) {\n      Bokeh.set_log_level(\"info\");\n    },\nfunction(Bokeh) {\n    }\n  ];\n\n  function run_inline_js() {\n    if (root.Bokeh !== undefined || force === true) {\n          for (let i = 0; i < inline_js.length; i++) {\n      inline_js[i].call(root, root.Bokeh);\n    }\nif (force === true) {\n        display_loaded();\n      }} else if (Date.now() < root._bokeh_timeout) {\n      setTimeout(run_inline_js, 100);\n    } else if (!root._bokeh_failed_load) {\n      console.log(\"Bokeh: BokehJS failed to load within specified timeout.\");\n      root._bokeh_failed_load = true;\n    } else if (force !== true) {\n      const cell = $(document.getElementById(\"e0ba9b9b-473a-4f5f-8328-06fad31ea84e\")).parents('.cell').data().cell;\n      cell.output_area.append_execute_result(NB_LOAD_WARNING)\n    }\n  }\n\n  if (root._bokeh_is_loading === 0) {\n    console.debug(\"Bokeh: BokehJS loaded, going straight to plotting\");\n    run_inline_js();\n  } else {\n    load_libs(css_urls, js_urls, function() {\n      console.debug(\"Bokeh: BokehJS plotting callback run at\", now());\n      run_inline_js();\n    });\n  }\n}(window));"
     },
     "metadata": {},
     "output_type": "display_data"
    }
   ],
   "source": [
    "# make sure this is running in the right environment!! caiman, NOT caiman_test!\n",
    "from IPython import get_ipython\n",
    "import logging\n",
    "import matplotlib.pyplot as plt\n",
    "import numpy as np\n",
    "import os\n",
    "import shutil\n",
    "from scipy.ndimage import gaussian_filter\n",
    "from tifffile.tifffile import imwrite,imread\n",
    "from skimage import measure as sm\n",
    "\n",
    "import largestinteriorrectangle as lir\n",
    "import matplotlib.patches as pac\n",
    "from copy import deepcopy\n",
    "\n",
    "from scipy import interpolate as si\n",
    "from scipy import signal as sg\n",
    "from skimage import measure as sm\n",
    "from skimage import transform as st\n",
    "from scipy.sparse import csc_matrix\n",
    "\n",
    "from tqdm.auto import tqdm,trange\n",
    "\n",
    "from pathlib import Path\n",
    "import pickle\n",
    "\n",
    "import cv2\n",
    "import multiprocessing\n",
    "from joblib import Parallel, delayed\n",
    "from joblib.externals.loky import get_reusable_executor\n",
    "\n",
    "import caiman as cm\n",
    "from caiman.utils.visualization import nb_view_patches3d\n",
    "from caiman.source_extraction.cnmf import cnmf,params\n",
    "from caiman.utils.visualization import view_quilt,get_contours\n",
    "from caiman.paths import caiman_datadir\n",
    "\n",
    "try:\n",
    "    if __IPYTHON__:\n",
    "        get_ipython().run_line_magic('load_ext', 'autoreload')\n",
    "        get_ipython().run_line_magic('autoreload', '2')\n",
    "except NameError:\n",
    "    pass\n",
    "\n",
    "import bokeh.plotting as bpl\n",
    "bpl.output_notebook()\n",
    "\n",
    "logging.basicConfig(format=\n",
    "                          \"%(relativeCreated)12d [%(filename)s:%(funcName)20s():%(lineno)s] [%(process)d] %(message)s\",\n",
    "                    # filename=\"/tmp/caiman.log\",\n",
    "                    level=logging.WARNING)"
   ]
  },
  {
   "cell_type": "code",
   "execution_count": 2,
   "id": "cafd7711-bd6d-4dbd-9165-ef1a2786bc3c",
   "metadata": {},
   "outputs": [],
   "source": [
    "import contextlib\n",
    "import joblib\n",
    "from tqdm import tqdm\n",
    "\n",
    "@contextlib.contextmanager\n",
    "def tqdm_joblib(tqdm_object):\n",
    "    \"\"\"Context manager to patch joblib to report into tqdm progress bar given as argument\"\"\"\n",
    "    class TqdmBatchCompletionCallback(joblib.parallel.BatchCompletionCallBack):\n",
    "        def __call__(self, *args, **kwargs):\n",
    "            tqdm_object.update(n=self.batch_size)\n",
    "            return super().__call__(*args, **kwargs)\n",
    "\n",
    "    old_batch_callback = joblib.parallel.BatchCompletionCallBack\n",
    "    joblib.parallel.BatchCompletionCallBack = TqdmBatchCompletionCallback\n",
    "    try:\n",
    "        yield tqdm_object\n",
    "    finally:\n",
    "        joblib.parallel.BatchCompletionCallBack = old_batch_callback\n",
    "        tqdm_object.close()"
   ]
  },
  {
   "cell_type": "code",
   "execution_count": 3,
   "id": "bab23ff9-a232-425c-a07f-a7167767b2e0",
   "metadata": {},
   "outputs": [],
   "source": [
    "# remember to check space on local drive - using HDD!\n",
    "# CNMF parameters for source extraction and deconvolution\n",
    "# May need to adjust these a bit, e.g. gSig for the early zoomed in slice movies!\n",
    "p = 0                       # order of the autoregressive system (set p=2 if there is visible rise time in data)\n",
    "gnb = 0                     # number of global background components (set to 1 or 2)\n",
    "low_rank_background = True\n",
    "merge_thr = 1            # merging threshold, max correlation allowed\n",
    "bas_nonneg = True           # enforce nonnegativity constraint on calcium traces (technically on baseline)\n",
    "rf = 60                     # half-size of the patches in pixels (patch width is rf*2 + 1)\n",
    "K = 30                       # number of components per patch\n",
    "#gSig = np.array([10, 10, 2.5])     # expected half-width of neurons in pixels (Gaussian kernel standard deviation)\n",
    "gSig = np.array([10, 10, 1.25])     # expected half-width of neurons in pixels (Gaussian kernel standard deviation) -- !!IMPORTANT - use anisotropy ~8 here!\n",
    "gSiz = 2*gSig + 1           # Gaussian kernel width and hight\n",
    "method_init = 'greedy_roi'  # initialization method (if analyzing dendritic data see demo_dendritic.ipynb)\n",
    "rolling_sum = False         # IS THIS NECESSARY FOR DIPPING??\n",
    "rolling_length = 6\n",
    "ssub = 1                    # spatial subsampling during initialization \n",
    "tsub = 1                    # temporal subsampling during intialization\n",
    "only_init = False\n",
    "nIter = 10 #5-10 all looks fine\n",
    "kernel = None\n",
    "gSig = gSig/2\n",
    "seed_method = 'auto'\n",
    "in_memory = True\n",
    "check_nan = False\n",
    "\n",
    "# interpolation/parallelization parameters\n",
    "dxy = 16\n",
    "dz = 1\n",
    "sigmag = [1.2,1.2,0]\n",
    "n_cores = 30"
   ]
  },
  {
   "cell_type": "code",
   "execution_count": 4,
   "id": "84066a10-35de-47e5-846b-978a1c37a223",
   "metadata": {},
   "outputs": [],
   "source": [
    "# one more dipping\n",
    "warp_ch0 = True\n",
    "\n",
    "data_dir_l = ['/mnt/nasquatch/data/2p/peter/dipping/20230819_PL43/wells001/',\n",
    "             '/mnt/nasquatch/data/2p/peter/dipping/20230819_PL43/wells101/']\n",
    "zmt_l = [(3,27,52,0,None),\n",
    "        (3,25,52,0,None)]\n",
    "n_range_l = [None for i in range(len(data_dir_l))]\n",
    "snr_cutoff_l = [0.2 for i in range(len(data_dir_l))]"
   ]
  },
  {
   "cell_type": "code",
   "execution_count": 6,
   "id": "3a1b86ac",
   "metadata": {},
   "outputs": [],
   "source": [
    "# last stray slice using ch0\n",
    "warp_ch0 = False\n",
    "\n",
    "data_dir_l = ['/mnt/nasquatch/data/2p/peter/slice/20230511_DA1PL37/slice/']\n",
    "zmt_l = [(3,27,52,0,None)]\n",
    "n_range_l = [np.arange(4)]\n",
    "snr_cutoff_l = [0.2]"
   ]
  },
  {
   "cell_type": "code",
   "execution_count": 4,
   "id": "f021fe9f-e42a-40dd-a169-cd0cc8579d57",
   "metadata": {},
   "outputs": [],
   "source": [
    "# unpaired slices using ch0\n",
    "warp_ch0 = False\n",
    "\n",
    "data_dir_l = ['/mnt/nasquatch/data/2p/peter/in_vivo/231107_DG44PL58/wells/']\n",
    "zmt_l = [(4,26,52,0,None)]\n",
    "n_range_l = [None]\n",
    "snr_cutoff_l = [0.2]"
   ]
  },
  {
   "cell_type": "code",
   "execution_count": 4,
   "id": "af0587af-604e-427c-bd5c-6297c9d7632d",
   "metadata": {},
   "outputs": [],
   "source": [
    "# in vivo and unpaired slices using ch1\n",
    "warp_ch0 = False\n",
    "\n",
    "data_dir_l = ['/mnt/nasquatch/data/2p/peter/in_vivo/220216_PK25PL8/mouse/',\n",
    "             '/mnt/nasquatch/data/2p/peter/in_vivo/220216_PK25PL8/wells101/',\n",
    "             '/mnt/nasquatch/data/2p/peter/in_vivo/220311_PK24PL9/mouse/',\n",
    "             '/mnt/nasquatch/data/2p/peter/in_vivo/220311_PK24PL9/wells101/',\n",
    "             '/mnt/nasquatch/data/2p/peter/in_vivo/220622_PK44PL17/mouse/',\n",
    "             '/mnt/nasquatch/data/2p/peter/in_vivo/220622_PK44PL17/wells101/',\n",
    "             '/mnt/nasquatch/data/2p/peter/in_vivo/220624_PK45PL13/mouse/',\n",
    "             '/mnt/nasquatch/data/2p/peter/in_vivo/220624_PK45PL13/wells101/',\n",
    "             '/mnt/nasquatch/data/2p/peter/in_vivo/220901_PK60PL36/mouse/',\n",
    "             '/mnt/nasquatch/data/2p/peter/in_vivo/220901_PK60PL36/wells101/',\n",
    "             '/mnt/nasquatch/data/2p/peter/in_vivo/220903_PK63PL34/mouse/',\n",
    "             '/mnt/nasquatch/data/2p/peter/in_vivo/220903_PK63PL34/wells101/',\n",
    "             '/mnt/nasquatch/data/2p/peter/in_vivo/230615_DG69PL32/mouse/',\n",
    "             '/mnt/nasquatch/data/2p/peter/in_vivo/230615_DG69PL32/wells101/',\n",
    "             '/mnt/nasquatch/data/2p/peter/in_vivo/230617_DG70PL54/mouse/',\n",
    "             '/mnt/nasquatch/data/2p/peter/in_vivo/230617_DG70PL54/wells101/',\n",
    "             '/mnt/nasquatch/data/2p/peter/in_vivo/230720_PK97PL48/mouse/',\n",
    "             '/mnt/nasquatch/data/2p/peter/in_vivo/230720_PK97PL48/wells101/',\n",
    "             '/mnt/nasquatch/data/2p/peter/in_vivo/230807_DG84PL52/mouse/',\n",
    "             '/mnt/nasquatch/data/2p/peter/in_vivo/230807_DG84PL52/wells101/',\n",
    "             '/mnt/nasquatch/data/2p/peter/slice/20230829_SL3PL61/slice/',\n",
    "             '/mnt/nasquatch/data/2p/peter/slice/20230824_SL2PL54/slice/',\n",
    "             '/mnt/nasquatch/data/2p/peter/slice/20230822_SL1PL32/slice/',\n",
    "             '/mnt/nasquatch/data/2p/peter/slice/20230817_SL2PL60/slice/',\n",
    "             '/mnt/nasquatch/data/2p/peter/slice/20230801_SL2PL34/slice/',\n",
    "             '/mnt/nasquatch/data/2p/peter/slice/20230727_SL1PL52/slice/',\n",
    "             '/mnt/nasquatch/data/2p/peter/slice/20230616_SL2PL39/slice/',\n",
    "             '/mnt/nasquatch/data/2p/peter/slice/20230608_SL2PL45/slice/',\n",
    "             '/mnt/nasquatch/data/2p/peter/slice/20230608_SL1PL37/slice/',\n",
    "             '/mnt/nasquatch/data/2p/peter/slice/20230607_SL2PL42/slice/',\n",
    "             '/mnt/nasquatch/data/2p/peter/slice/20230511_DA2PL45/slice/',\n",
    "             '/mnt/nasquatch/data/2p/peter/slice/20230509_DA2PL55/slice/']\n",
    "zmt_l = [(2,27,52,0,None),\n",
    "        (3,27,52,33,75),\n",
    "        (2,26,52,10,None),\n",
    "        (5,25,52,0,120),\n",
    "        (4,26,52,5,None),\n",
    "        (3,26,52,0,165),\n",
    "        (3,27,52,0,None),\n",
    "        (1,26,52,0,15),\n",
    "        (2,25,52,0,None),\n",
    "        (9,27,52,0,None),\n",
    "        (2,26,52,6,None),\n",
    "        (3,25,52,0,156),\n",
    "        (2,27,52,0,None),\n",
    "        (3,27,52,0,None),\n",
    "        (3,27,52,0,None),\n",
    "        (2,26,52,0,75),\n",
    "        (4,26,52,0,None),\n",
    "        (5,27,52,0,None),\n",
    "        (2,26,52,0,None),\n",
    "        (5,27,52,0,None),\n",
    "        (2,27,52,0,None),\n",
    "        (2,27,52,0,None),\n",
    "        (2,26,52,0,None),\n",
    "        (3,27,52,0,None),\n",
    "        (3,27,52,0,None),\n",
    "        (2,26,52,0,None),\n",
    "        (2,25,52,0,40),\n",
    "        (8,27,52,0,None),\n",
    "        (2,27,52,0,None),\n",
    "        (2,26,52,0,None),\n",
    "        (2,26,52,0,None),\n",
    "        (1,17,52,0,None)]\n",
    "n_range_l = [np.arange(30),\n",
    "            None,\n",
    "            np.arange(20),\n",
    "            None,\n",
    "            np.arange(20),\n",
    "            None,\n",
    "            np.arange(20),\n",
    "            None,\n",
    "            np.arange(30),\n",
    "            None,\n",
    "            np.arange(5),\n",
    "            None,\n",
    "            np.arange(10),\n",
    "            None,\n",
    "            np.arange(20),\n",
    "            None,\n",
    "            np.arange(30),\n",
    "            None,\n",
    "            np.arange(20),\n",
    "            None,\n",
    "            np.arange(5),\n",
    "            np.arange(5),\n",
    "            np.arange(5),\n",
    "            np.arange(5),\n",
    "            np.arange(5),\n",
    "            np.arange(3),\n",
    "            np.arange(5),\n",
    "            np.arange(3),\n",
    "            np.arange(3),\n",
    "            np.arange(4),\n",
    "            np.arange(5),\n",
    "            np.arange(4)]\n",
    "snr_cutoff_l = [0.25,\n",
    "               0.2,\n",
    "               0.25,\n",
    "               0.2,\n",
    "               0.25,\n",
    "               0.2,\n",
    "               0.25,\n",
    "               0.2,\n",
    "               0.25,\n",
    "               0.2,\n",
    "               0.25,\n",
    "               0.2,\n",
    "               0.25,\n",
    "               0.2,\n",
    "               0.25,\n",
    "               0.2,\n",
    "               0.25,\n",
    "               0.2,\n",
    "               0.25,\n",
    "               0.2,\n",
    "               0.25,\n",
    "               0.25,\n",
    "               0.25,\n",
    "               0.25,\n",
    "               0.25,\n",
    "               0.25,\n",
    "               0.25,\n",
    "               0.25,\n",
    "               0.25,\n",
    "               0.25,\n",
    "               0.25,\n",
    "               0.25]"
   ]
  },
  {
   "cell_type": "code",
   "execution_count": 24,
   "id": "60dc8326-209a-4599-83be-cf16f46c0bba",
   "metadata": {},
   "outputs": [],
   "source": [
    "#dipping warps - all ch0 (including rerun of 0922 wells006)\n",
    "warp_ch0 = True\n",
    "\n",
    "data_dir_l = [#'/mnt/nasquatch/data/2p/peter/dipping/20230927_PL58/wells001/',\n",
    "             #'/mnt/nasquatch/data/2p/peter/dipping/20230927_PL58/wells101/',\n",
    "             #'/mnt/nasquatch/data/2p/peter/dipping/20230927_PL58/wells201/',\n",
    "             #'/mnt/nasquatch/data/2p/peter/dipping/20230927_PL58/wells301/',\n",
    "             #'/mnt/nasquatch/data/2p/peter/dipping/20230927_PL34/wells001/',\n",
    "             #'/mnt/nasquatch/data/2p/peter/dipping/20230927_PL34/wells101/',\n",
    "             #'/mnt/nasquatch/data/2p/peter/dipping/20230927_PL34/wells201/',\n",
    "             #'/mnt/nasquatch/data/2p/peter/dipping/20230927_PL34/wells301/',\n",
    "             #'/mnt/nasquatch/data/2p/peter/dipping/20230926_PL56/wells001/',\n",
    "             #'/mnt/nasquatch/data/2p/peter/dipping/20230926_PL56/wells101/',\n",
    "             #'/mnt/nasquatch/data/2p/peter/dipping/20230926_PL56/wells201/',\n",
    "             #'/mnt/nasquatch/data/2p/peter/dipping/20230926_PL56/wells301/',\n",
    "             #'/mnt/nasquatch/data/2p/peter/dipping/20230926_PL56/wells401/',\n",
    "             #'/mnt/nasquatch/data/2p/peter/dipping/20230926_PL56/wells501/',\n",
    "             #'/mnt/nasquatch/data/2p/peter/dipping/20230925_PL58/wells001/',\n",
    "             #'/mnt/nasquatch/data/2p/peter/dipping/20230925_PL58/wells101/',\n",
    "             #'/mnt/nasquatch/data/2p/peter/dipping/20230925_PL58/wells201/',\n",
    "             #'/mnt/nasquatch/data/2p/peter/dipping/20230925_PL58/wells301/',\n",
    "             #'/mnt/nasquatch/data/2p/peter/dipping/20230925_PL58/wells401/',\n",
    "             #'/mnt/nasquatch/data/2p/peter/dipping/20230923_PL35/wells001/',\n",
    "             #'/mnt/nasquatch/data/2p/peter/dipping/20230923_PL35/wells101/',\n",
    "             #'/mnt/nasquatch/data/2p/peter/dipping/20230923_PL35/wells201/',\n",
    "             #'/mnt/nasquatch/data/2p/peter/dipping/20230923_PL35/wells301/',\n",
    "             #'/mnt/nasquatch/data/2p/peter/dipping/20230923_PL35/wells401/',\n",
    "             #'/mnt/nasquatch/data/2p/peter/dipping/20230923_PL35/wells501/',\n",
    "             #'/mnt/nasquatch/data/2p/peter/dipping/20230922_PL28/wells101/',\n",
    "             '/mnt/nasquatch/data/2p/peter/dipping/20230922_PL28/wells301/',\n",
    "             '/mnt/nasquatch/data/2p/peter/dipping/20230922_PL28/wells501/',\n",
    "             '/mnt/nasquatch/data/2p/peter/dipping/20230922_PL28/wells601/',\n",
    "             '/mnt/nasquatch/data/2p/peter/dipping/20230922_PL28/wells701/',\n",
    "             '/mnt/nasquatch/data/2p/peter/dipping/20230920_PL58/wells001/',\n",
    "             '/mnt/nasquatch/data/2p/peter/dipping/20230920_PL58/wells101/',\n",
    "             '/mnt/nasquatch/data/2p/peter/dipping/20230920_PL58/wells201/',\n",
    "             '/mnt/nasquatch/data/2p/peter/dipping/20230920_PL58/wells301/',\n",
    "             '/mnt/nasquatch/data/2p/peter/dipping/20230916_PL54/wells001/',\n",
    "             '/mnt/nasquatch/data/2p/peter/dipping/20230916_PL54/wells101/',\n",
    "             '/mnt/nasquatch/data/2p/peter/dipping/20230916_PL54/wells201/',\n",
    "             '/mnt/nasquatch/data/2p/peter/dipping/20230916_PL54/wells301/',\n",
    "             '/mnt/nasquatch/data/2p/peter/dipping/20230916_PL54/wells401/',\n",
    "             '/mnt/nasquatch/data/2p/peter/dipping/20230916_PL54/wells501/',\n",
    "             '/mnt/nasquatch/data/2p/peter/dipping/20230916_PL48/wells001/',\n",
    "             '/mnt/nasquatch/data/2p/peter/dipping/20230916_PL48/wells101/',\n",
    "             '/mnt/nasquatch/data/2p/peter/dipping/20230915_PL52/wells001/',\n",
    "             '/mnt/nasquatch/data/2p/peter/dipping/20230915_PL52/wells101/',\n",
    "             '/mnt/nasquatch/data/2p/peter/dipping/20230915_PL52/wells201/',\n",
    "             '/mnt/nasquatch/data/2p/peter/dipping/20230915_PL52/wells301/',\n",
    "             '/mnt/nasquatch/data/2p/peter/dipping/20230915_PL52/wells401/',\n",
    "             '/mnt/nasquatch/data/2p/peter/dipping/20230823_PL28/wells001/',\n",
    "             '/mnt/nasquatch/data/2p/peter/dipping/20230823_PL28/wells101/',\n",
    "             '/mnt/nasquatch/data/2p/peter/dipping/20230823_PL28/wells201/']\n",
    "zmt_l = [#(3,26,31,0,None),\n",
    "        #(3,27,31,0,None),\n",
    "        #(4,27,31,0,None),\n",
    "        #(4,27,31,0,None),\n",
    "        #(2,27,31,0,None),\n",
    "        #(3,27,31,0,None),\n",
    "        #(3,26,31,0,None),\n",
    "        #(3,27,31,0,None),\n",
    "        #(2,26,31,0,None),\n",
    "        #(3,27,31,0,None),\n",
    "        #(3,26,31,0,None),\n",
    "        #(3,27,31,0,None),\n",
    "        #(2,26,31,0,None),\n",
    "        #(3,27,31,0,None),\n",
    "        #(2,27,31,0,None),\n",
    "        #(3,25,31,0,None),\n",
    "        #(5,27,31,0,None),\n",
    "        #(2,27,31,0,None),\n",
    "        #(2,27,31,0,None),\n",
    "        #(2,26,31,0,None),\n",
    "        #(3,27,31,0,None),\n",
    "        #(2,27,31,0,None),\n",
    "        #(2,26,31,0,None),\n",
    "        #(2,26,31,0,None),\n",
    "        #(3,27,31,0,None),\n",
    "        #(3,27,31,0,None),\n",
    "        (3,27,31,0,None),\n",
    "        (2,27,31,0,None),\n",
    "        (2,27,31,0,None),\n",
    "        (2,26,31,0,None),\n",
    "        (3,26,31,0,None),\n",
    "        (3,26,31,0,None),\n",
    "        (4,27,31,0,None),\n",
    "        (3,26,31,0,None),\n",
    "        (3,26,31,0,None),\n",
    "        (3,25,31,0,None),\n",
    "        (3,27,31,0,None),\n",
    "        (2,27,31,0,None),\n",
    "        (2,27,31,0,None),\n",
    "        (3,27,31,0,None),\n",
    "        (2,26,31,0,None),\n",
    "        (3,27,31,0,None),\n",
    "        (4,26,31,0,None),\n",
    "        (2,27,31,0,None),\n",
    "        (3,26,31,0,None),\n",
    "        (2,27,31,0,None),\n",
    "        (3,27,31,0,None),\n",
    "        (2,26,52,0,None),\n",
    "        (2,26,52,0,None),\n",
    "        (5,25,52,0,89)]\n",
    "n_range_l = [None for i in range(len(data_dir_l))]\n",
    "snr_cutoff_l = [0.2 for i in range(len(data_dir_l))]"
   ]
  },
  {
   "cell_type": "code",
   "execution_count": 12,
   "id": "93a28ecd-6012-4a8d-82d8-720ce77083bb",
   "metadata": {},
   "outputs": [],
   "source": [
    "#slice and in vivo ch0 warp reruns!\n",
    "#changed to warped_ch0 option throughout code!\n",
    "warp_ch0 = True\n",
    "\n",
    "data_dir_l = ['/mnt/nasquatch/data/2p/peter/in_vivo/231030_DG60PL67/mouse/',\n",
    "             '/mnt/nasquatch/data/2p/peter/in_vivo/231025_DG56PL62/mouse/',\n",
    "             '/mnt/nasquatch/data/2p/peter/in_vivo/231024_DG54PL61/mouse/',\n",
    "             '/mnt/nasquatch/data/2p/peter/in_vivo/231018_DG52PL66/mouse/',\n",
    "             '/mnt/nasquatch/data/2p/peter/in_vivo/231018_DG52PL66/wells101/',\n",
    "             '/mnt/nasquatch/data/2p/peter/in_vivo/230906_PS57PL56/mouse/',\n",
    "             '/mnt/nasquatch/data/2p/peter/in_vivo/230905_PS56PL58/mouse/',\n",
    "             '/mnt/nasquatch/data/2p/peter/in_vivo/230905_PS56PL58/wells101/',\n",
    "             '/mnt/nasquatch/data/2p/peter/in_vivo/230902_DG90PL61/mouse/',\n",
    "             '/mnt/nasquatch/data/2p/peter/in_vivo/230902_DG90PL61/wells101/',\n",
    "             '/mnt/nasquatch/data/2p/peter/slice/20230831_SL1PL55/wells001/',\n",
    "             '/mnt/nasquatch/data/2p/peter/slice/20230830_SL1PL28/wells001/',\n",
    "             '/mnt/nasquatch/data/2p/peter/slice/20230824_SL1PL60/slice/',\n",
    "             '/mnt/nasquatch/data/2p/peter/slice/20230824_SL1PL60/wells101/',\n",
    "             '/mnt/nasquatch/data/2p/peter/slice/20230822_SL2PL52/wells001/']\n",
    "zmt_l = [(3,27,52,10,80),\n",
    "        (6,26,52,20,None),\n",
    "        (4,27,52,0,130),\n",
    "        (4,26,52,0,None),\n",
    "        (5,27,52,0,None),\n",
    "        (3,27,52,0,None),\n",
    "        (3,27,52,0,155),\n",
    "        (2,26,52,0,None),\n",
    "        (3,27,52,10,None),\n",
    "        (3,27,52,0,None),\n",
    "        (6,23,52,0,None),\n",
    "        (3,25,52,0,None),\n",
    "        (3,25,52,0,None),\n",
    "        (2,26,52,0,None),\n",
    "        (3,27,52,0,81)]\n",
    "n_range_l = [np.arange(20),\n",
    "            np.arange(10),\n",
    "            np.arange(20,35),\n",
    "            np.arange(30),\n",
    "            None,\n",
    "            np.arange(30),\n",
    "            np.arange(30),\n",
    "            None,\n",
    "            np.arange(20),\n",
    "            None,\n",
    "            None,\n",
    "            None,\n",
    "            np.arange(5),\n",
    "            None,\n",
    "            None]\n",
    "snr_cutoff_l = [0.25,\n",
    "               0.25,\n",
    "               0.25,\n",
    "               0.25,\n",
    "               0.2,\n",
    "               0.25,\n",
    "               0.25,\n",
    "               0.2,\n",
    "               0.25,\n",
    "               0.2,\n",
    "               0.2,\n",
    "               0.2,\n",
    "               0.25,\n",
    "               0.2,\n",
    "               0.2]"
   ]
  },
  {
   "cell_type": "code",
   "execution_count": 4,
   "id": "cc7894fa-4c18-43fa-b9ed-b93694bae143",
   "metadata": {},
   "outputs": [],
   "source": [
    "#remaining 0922 dipping, remaining slice\n",
    "data_dir_l = ['/mnt/nasquatch/data/2p/peter/dipping/20230922_PL28/wells101/',\n",
    "             '/mnt/nasquatch/data/2p/peter/dipping/20230922_PL28/wells301/',\n",
    "             '/mnt/nasquatch/data/2p/peter/dipping/20230922_PL28/wells501/',\n",
    "             '/mnt/nasquatch/data/2p/peter/dipping/20230922_PL28/wells701/',\n",
    "             '/mnt/nasquatch/data/2p/peter/slice/20230801_SL1PL35/slice/',\n",
    "             '/mnt/nasquatch/data/2p/peter/slice/20230801_SL1PL35/wells101/',\n",
    "             '/mnt/nasquatch/data/2p/peter/slice/20230727_SL2PL32/slice/',\n",
    "             '/mnt/nasquatch/data/2p/peter/slice/20230727_SL2PL32/wells101/',\n",
    "             '/mnt/nasquatch/data/2p/peter/slice/20230616_SL1PL28/slice/',\n",
    "             '/mnt/nasquatch/data/2p/peter/slice/20230616_SL1PL28/wells001/',\n",
    "             '/mnt/nasquatch/data/2p/peter/slice/20230607_SL1PL47/slice/',\n",
    "             '/mnt/nasquatch/data/2p/peter/slice/20230607_SL1PL47/wells001/',\n",
    "             '/mnt/nasquatch/data/2p/peter/slice/20230606_SL1PL35/slice/',\n",
    "             '/mnt/nasquatch/data/2p/peter/slice/20230606_SL1PL35/washes/',\n",
    "             '/mnt/nasquatch/data/2p/peter/slice/20230509_DA1PL53/slice/',\n",
    "             '/mnt/nasquatch/data/2p/peter/slice/20230509_DA1PL53/wells101/']\n",
    "zmt_l = [(2,27,31,0,None),\n",
    "        (3,27,31,0,None),\n",
    "        (2,28,31,0,None),\n",
    "        (2,27,31,0,None),\n",
    "        (2,27,52,0,None),\n",
    "        (4,27,52,0,None),\n",
    "        (2,27,52,0,None),\n",
    "        (8,23,52,0,71),\n",
    "        (1,28,52,0,None),\n",
    "        (3,27,52,0,23),\n",
    "        (3,26,52,0,None),\n",
    "        (5,26,52,0,None),\n",
    "        (4,27,52,0,None),\n",
    "        (3,27,52,0,None),\n",
    "        (2,27,52,0,None),\n",
    "        (2,25,52,0,None)]\n",
    "n_range_l = [None,\n",
    "            None,\n",
    "            None,\n",
    "            None,\n",
    "            np.arange(5),\n",
    "            None,\n",
    "            np.arange(5),\n",
    "            None,\n",
    "            np.arange(5),\n",
    "            None,\n",
    "            np.arange(4),\n",
    "            None,\n",
    "            np.arange(5),\n",
    "            np.arange(4),\n",
    "            np.arange(4),\n",
    "            None]\n",
    "snr_cutoff_l = [0.2,\n",
    "               0.2,\n",
    "               0.2,\n",
    "               0.2,\n",
    "               0.25,\n",
    "               0.2,\n",
    "               0.25,\n",
    "               0.2,\n",
    "               0.25,\n",
    "               0.2,\n",
    "               0.25,\n",
    "               0.2,\n",
    "               0.25,\n",
    "               0.2,\n",
    "               0.25,\n",
    "               0.2]"
   ]
  },
  {
   "cell_type": "code",
   "execution_count": 16,
   "id": "4c24f0cd-5ea2-4719-b6cd-e7a4ed1d8cad",
   "metadata": {},
   "outputs": [],
   "source": [
    "data_dir_l = ['/mnt/nasquatch/data/2p/peter/in_vivo/230905_PS56PL58/mouse/',\n",
    "             '/mnt/nasquatch/data/2p/peter/in_vivo/231024_DG54PL61/mouse/',\n",
    "             '/mnt/nasquatch/data/2p/peter/in_vivo/231025_DG56PL62/mouse/',\n",
    "             '/mnt/nasquatch/data/2p/peter/in_vivo/231030_DG60PL67/mouse/',\n",
    "             '/mnt/nasquatch/data/2p/peter/in_vivo/220701_PK49PL18/mouse/',\n",
    "             '/mnt/nasquatch/data/2p/peter/in_vivo/220701_PK49PL18/wells101/']\n",
    "zmt_l = [(5,27,52,0,155),\n",
    "        (5,26,52,0,120),\n",
    "        (5,25,52,15,None),\n",
    "        (3,27,52,10,80),\n",
    "        (2,26,52,60,None),\n",
    "        (6,26,52,0,159)]\n",
    "n_range_l = [np.arange(30),\n",
    "            np.arange(20,35),\n",
    "            np.arange(20),\n",
    "            np.arange(20),\n",
    "            np.arange(20),\n",
    "            None]\n",
    "snr_cutoff_l = [0.25,\n",
    "               0.25,\n",
    "               0.25,\n",
    "               0.25,\n",
    "               0.25,\n",
    "               0.2]"
   ]
  },
  {
   "cell_type": "code",
   "execution_count": 13,
   "id": "f3c5f198-c3f5-4394-b119-2d9aa301f2ea",
   "metadata": {},
   "outputs": [],
   "source": [
    "data_dir_l = ['/mnt/nasquatch/data/2p/peter/in_vivo/220406_PK24PL10/mouse/',\n",
    "             '/mnt/nasquatch/data/2p/peter/in_vivo/220406_PK24PL10/wells101/',\n",
    "             '/mnt/nasquatch/data/2p/peter/in_vivo/220427_PK27PL20/mouse/',\n",
    "             '/mnt/nasquatch/data/2p/peter/in_vivo/220427_PK27PL20/wells101/',\n",
    "             '/mnt/nasquatch/data/2p/peter/in_vivo/221018_PS10PL24/mouse/',\n",
    "             '/mnt/nasquatch/data/2p/peter/in_vivo/221018_PS10PL24/wells101/',\n",
    "             '/mnt/nasquatch/data/2p/peter/in_vivo/230519_DG41PL52/mouse/',\n",
    "             '/mnt/nasquatch/data/2p/peter/in_vivo/230519_DG41PL52/wells101/',\n",
    "             '/mnt/nasquatch/data/2p/peter/in_vivo/230525_DG42PL39/mouse/',\n",
    "             '/mnt/nasquatch/data/2p/peter/in_vivo/230525_DG42PL39/wells101/',\n",
    "             '/mnt/nasquatch/data/2p/peter/in_vivo/230526_PK84PL50/mouse/',\n",
    "             '/mnt/nasquatch/data/2p/peter/in_vivo/230526_PK84PL50/wells101/',\n",
    "             '/mnt/nasquatch/data/2p/peter/in_vivo/230726_DG47PL54/mouse/',\n",
    "             '/mnt/nasquatch/data/2p/peter/in_vivo/230726_DG47PL54/wells101/',\n",
    "             '/mnt/nasquatch/data/2p/peter/in_vivo/230802_DG48PL58/mouse/',\n",
    "             '/mnt/nasquatch/data/2p/peter/in_vivo/230802_DG48PL58/wells101/',\n",
    "             '/mnt/nasquatch/data/2p/peter/in_vivo/230810_DG87PL55/mouse/',\n",
    "             '/mnt/nasquatch/data/2p/peter/in_vivo/230810_DG87PL55/wells101/']\n",
    "zmt_l = [(3,26,52,10,None),\n",
    "        (3,27,52,0,None),\n",
    "        (2,25,52,10,None),\n",
    "        (7,28,52,0,153),\n",
    "        (2,26,52,0,62),\n",
    "        (7,27,52,0,174),\n",
    "        (3,26,52,5,None),\n",
    "        (9,27,52,0,51),\n",
    "        (4,23,52,0,None),\n",
    "        (10,27,52,0,18),\n",
    "        (3,24,52,0,None),\n",
    "        (11,27,52,0,24),\n",
    "        (4,27,52,0,None),\n",
    "        (3,23,52,0,45),\n",
    "        (4,27,52,0,None),\n",
    "        (5,26,52,0,None),\n",
    "        (3,26,52,0,None),\n",
    "        (4,27,52,0,None)]\n",
    "n_range_l = [np.arange(20),\n",
    "            None,\n",
    "            np.arange(10),\n",
    "            None,\n",
    "            np.arange(20),\n",
    "            None,\n",
    "            np.arange(20),\n",
    "            None,\n",
    "            np.arange(20),\n",
    "            None,\n",
    "            np.arange(20),\n",
    "            None,\n",
    "            np.arange(30),\n",
    "            None,\n",
    "            np.arange(30),\n",
    "            None,\n",
    "            np.arange(30),\n",
    "            None]\n",
    "snr_cutoff_l = [0.25,\n",
    "               0.2,\n",
    "               0.25,\n",
    "               0.2,\n",
    "               0.25,\n",
    "               0.2,\n",
    "               0.25,\n",
    "               0.2,\n",
    "               0.25,\n",
    "               0.2,\n",
    "               0.25,\n",
    "               0.2,\n",
    "               0.25,\n",
    "               0.2,\n",
    "               0.25,\n",
    "               0.2,\n",
    "               0.25,\n",
    "               0.2]"
   ]
  },
  {
   "cell_type": "code",
   "execution_count": 11,
   "id": "4014524b-861c-4b33-91cc-161611492413",
   "metadata": {},
   "outputs": [],
   "source": [
    "data_dir_l = ['/mnt/nasquatch/data/2p/peter/in_vivo/230902_DG90PL61/mouse/',\n",
    "             '/mnt/nasquatch/data/2p/peter/in_vivo/231024_DG54PL61/mouse/',\n",
    "             '/mnt/nasquatch/data/2p/peter/in_vivo/231030_DG60PL67/mouse/']\n",
    "zmt_l = [(3,27,52,10,160),\n",
    "        (5,26,52,0,120),\n",
    "        (3,27,52,10,80)]\n",
    "n_range_l = [np.arange(20),\n",
    "            np.arange(20,35),\n",
    "            np.arange(20)]\n",
    "snr_cutoff_l = [0.25,\n",
    "               0.25,\n",
    "               0.25]"
   ]
  },
  {
   "cell_type": "code",
   "execution_count": 9,
   "id": "1776f23e-0836-43e2-b185-8bbae1cb6f79",
   "metadata": {},
   "outputs": [],
   "source": [
    "data_dir_l = ['/mnt/nasquatch/data/2p/peter/slice/20230824_SL1PL60/wells001/']\n",
    "zmt_l = [(3,26,52,0,None)]\n",
    "n_range_l = [None]\n",
    "snr_cutoff_l = [0.2]"
   ]
  },
  {
   "cell_type": "code",
   "execution_count": 7,
   "id": "d2d2a398-3832-4659-a026-cd7ff40d5f59",
   "metadata": {},
   "outputs": [],
   "source": [
    "data_dir_l = ['/mnt/nasquatch/data/2p/peter/in_vivo/230906_PS57PL56/wells/',\n",
    "             '/mnt/nasquatch/data/2p/peter/in_vivo/230707_DG72PL32/mouse/',\n",
    "             '/mnt/nasquatch/data/2p/peter/in_vivo/230707_DG72PL32/wells101/']\n",
    "zmt_l = [(3,25,31,3,None),\n",
    "        (2,27,52,10,None),\n",
    "        (3,21,52,0,75)]\n",
    "n_range_l = [None,\n",
    "            np.arange(20),\n",
    "            None]\n",
    "snr_cutoff_l = [0.2,\n",
    "               0.25,\n",
    "               0.2]"
   ]
  },
  {
   "cell_type": "code",
   "execution_count": 4,
   "id": "fc8cb293-d033-4823-869f-d57ec0b0c92f",
   "metadata": {},
   "outputs": [],
   "source": [
    "#updated to include SNR cutoff adjustment (20% for dipping, 25% for in vivo and slice)\n",
    "data_dir_l = [#'/mnt/nasquatch/data/2p/peter/dipping/20230922_PL28/wells001/',\n",
    "             #'/mnt/nasquatch/data/2p/peter/dipping/20230922_PL28/wells201/',\n",
    "             #'/mnt/nasquatch/data/2p/peter/dipping/20230922_PL28/wells401/',\n",
    "             #'/mnt/nasquatch/data/2p/peter/dipping/20230922_PL28/wells601/',\n",
    "             #'/mnt/nasquatch/data/2p/peter/in_vivo/220701_PK49PL18/mouse/',\n",
    "             #'/mnt/nasquatch/data/2p/peter/in_vivo/220701_PK49PL18/wells101/']\n",
    "             '/mnt/nasquatch/data/2p/peter/in_vivo/220408_PK27PL20/mouse/',\n",
    "             '/mnt/nasquatch/data/2p/peter/in_vivo/220408_PK27PL20/wells101/']\n",
    "zmt_l = [#(3,27,31,0,None),\n",
    "        #(2,27,31,0,None),\n",
    "        #(2,27,31,0,None),\n",
    "        #(2,27,31,0,None),\n",
    "        #(2,26,52,60,None),\n",
    "        #(6,26,52,0,159)]\n",
    "        (3,26,52,5,None),\n",
    "        (3,26,52,0,81)]\n",
    "n_range_l = [#None,\n",
    "            #None,\n",
    "            #None,\n",
    "            #None,\n",
    "            #np.arange(20),\n",
    "            #None]\n",
    "            np.arange(10),\n",
    "            None]\n",
    "snr_cutoff_l = [#0.2,\n",
    "               #0.2,\n",
    "               #0.2,\n",
    "               #0.2,\n",
    "               #0.25,\n",
    "               #0.2]\n",
    "               0.25,\n",
    "               0.2]"
   ]
  },
  {
   "cell_type": "code",
   "execution_count": 4,
   "id": "9ae5828f-9201-4c23-a6da-500ee066deb8",
   "metadata": {},
   "outputs": [],
   "source": [
    "#previous version\n",
    "data_dir_l = [#'/mnt/nasquatch/data/2p/peter/slice/20230830_SL1PL28/slice/',\n",
    "             '/mnt/nasquatch/data/2p/peter/slice/20230830_SL1PL28/wells001/',\n",
    "             '/mnt/nasquatch/data/2p/peter/slice/20230829_SL1PL56/slice/',\n",
    "             '/mnt/nasquatch/data/2p/peter/slice/20230829_SL1PL56/wells001/',\n",
    "             '/mnt/nasquatch/data/2p/peter/slice/20230824_SL1PL60/slice/',\n",
    "             '/mnt/nasquatch/data/2p/peter/slice/20230824_SL1PL60/wells001/',\n",
    "             '/mnt/nasquatch/data/2p/peter/slice/20230824_SL1PL60/wells101/',\n",
    "             '/mnt/nasquatch/data/2p/peter/slice/20230822_SL2PL52/slice/',\n",
    "             '/mnt/nasquatch/data/2p/peter/slice/20230822_SL2PL52/wells001/',\n",
    "             '/mnt/nasquatch/data/2p/peter/slice/20230817_SL1PL55/slice/',\n",
    "             '/mnt/nasquatch/data/2p/peter/slice/20230817_SL1PL55/wells001/',\n",
    "             '/mnt/nasquatch/data/2p/peter/slice/20230817_SL1PL55/wells101/']\n",
    "zmt_l = [#(1,27,52,0,42),\n",
    "        (3,25,52,0,None),\n",
    "        (2,27,52,0,None),\n",
    "        (5,23,52,0,None),\n",
    "        (2,27,52,0,None),\n",
    "        (3,26,52,0,None),\n",
    "        (2,24,52,0,None),\n",
    "        (1,27,52,0,None),\n",
    "        (2,27,52,0,80),\n",
    "        (3,27,52,0,None),\n",
    "        (3,27,52,0,None),\n",
    "        (3,24,52,0,None)]\n",
    "n_range_l = [#np.arange(5),\n",
    "            None,\n",
    "            np.arange(5),\n",
    "            None,\n",
    "            np.arange(5),\n",
    "            None,\n",
    "            None,\n",
    "            np.arange(5),\n",
    "            None,\n",
    "            np.arange(5),\n",
    "            None,\n",
    "            None]"
   ]
  },
  {
   "cell_type": "code",
   "execution_count": 6,
   "id": "00ccef08-f3e5-4593-b111-bf64c25458f3",
   "metadata": {
    "scrolled": true
   },
   "outputs": [
    {
     "data": {
      "application/vnd.jupyter.widget-view+json": {
       "model_id": "a30ef8d83c5142f286365495d44e4776",
       "version_major": 2,
       "version_minor": 0
      },
      "text/plain": [
       "  0%|          | 0/2 [00:00<?, ?it/s]"
      ]
     },
     "metadata": {},
     "output_type": "display_data"
    },
    {
     "name": "stderr",
     "output_type": "stream",
     "text": [
      "/mnt/colab/colab_shared/anaconda3/envs/caiman/lib/python3.11/site-packages/skimage/measure/block.py:90: RuntimeWarning: All-NaN slice encountered\n",
      "  return func(blocked, axis=tuple(range(image.ndim, blocked.ndim)),\n",
      "\n",
      "Interpolating background...:   0%|                                           | 0/69 [00:00<?, ?it/s]\u001b[A/mnt/colab/colab_shared/anaconda3/envs/caiman/lib/python3.11/site-packages/skimage/measure/block.py:90: RuntimeWarning: All-NaN slice encountered\n",
      "  return func(blocked, axis=tuple(range(image.ndim, blocked.ndim)),\n",
      "/mnt/colab/colab_shared/anaconda3/envs/caiman/lib/python3.11/site-packages/skimage/measure/block.py:90: RuntimeWarning: All-NaN slice encountered\n",
      "  return func(blocked, axis=tuple(range(image.ndim, blocked.ndim)),\n",
      "/mnt/colab/colab_shared/anaconda3/envs/caiman/lib/python3.11/site-packages/skimage/measure/block.py:90: RuntimeWarning: All-NaN slice encountered\n",
      "  return func(blocked, axis=tuple(range(image.ndim, blocked.ndim)),\n",
      "/mnt/colab/colab_shared/anaconda3/envs/caiman/lib/python3.11/site-packages/skimage/measure/block.py:90: RuntimeWarning: All-NaN slice encountered\n",
      "  return func(blocked, axis=tuple(range(image.ndim, blocked.ndim)),\n",
      "/mnt/colab/colab_shared/anaconda3/envs/caiman/lib/python3.11/site-packages/skimage/measure/block.py:90: RuntimeWarning: All-NaN slice encountered\n",
      "  return func(blocked, axis=tuple(range(image.ndim, blocked.ndim)),\n",
      "/mnt/colab/colab_shared/anaconda3/envs/caiman/lib/python3.11/site-packages/skimage/measure/block.py:90: RuntimeWarning: All-NaN slice encountered\n",
      "  return func(blocked, axis=tuple(range(image.ndim, blocked.ndim)),\n",
      "/mnt/colab/colab_shared/anaconda3/envs/caiman/lib/python3.11/site-packages/skimage/measure/block.py:90: RuntimeWarning: All-NaN slice encountered\n",
      "  return func(blocked, axis=tuple(range(image.ndim, blocked.ndim)),\n",
      "/mnt/colab/colab_shared/anaconda3/envs/caiman/lib/python3.11/site-packages/skimage/measure/block.py:90: RuntimeWarning: All-NaN slice encountered\n",
      "  return func(blocked, axis=tuple(range(image.ndim, blocked.ndim)),\n",
      "/mnt/colab/colab_shared/anaconda3/envs/caiman/lib/python3.11/site-packages/skimage/measure/block.py:90: RuntimeWarning: All-NaN slice encountered\n",
      "  return func(blocked, axis=tuple(range(image.ndim, blocked.ndim)),\n",
      "/mnt/colab/colab_shared/anaconda3/envs/caiman/lib/python3.11/site-packages/skimage/measure/block.py:90: RuntimeWarning: All-NaN slice encountered\n",
      "  return func(blocked, axis=tuple(range(image.ndim, blocked.ndim)),\n",
      "/mnt/colab/colab_shared/anaconda3/envs/caiman/lib/python3.11/site-packages/skimage/measure/block.py:90: RuntimeWarning: All-NaN slice encountered\n",
      "  return func(blocked, axis=tuple(range(image.ndim, blocked.ndim)),\n",
      "/mnt/colab/colab_shared/anaconda3/envs/caiman/lib/python3.11/site-packages/skimage/measure/block.py:90: RuntimeWarning: All-NaN slice encountered\n",
      "  return func(blocked, axis=tuple(range(image.ndim, blocked.ndim)),\n",
      "/mnt/colab/colab_shared/anaconda3/envs/caiman/lib/python3.11/site-packages/skimage/measure/block.py:90: RuntimeWarning: All-NaN slice encountered\n",
      "  return func(blocked, axis=tuple(range(image.ndim, blocked.ndim)),\n",
      "/mnt/colab/colab_shared/anaconda3/envs/caiman/lib/python3.11/site-packages/skimage/measure/block.py:90: RuntimeWarning: All-NaN slice encountered\n",
      "  return func(blocked, axis=tuple(range(image.ndim, blocked.ndim)),\n",
      "/mnt/colab/colab_shared/anaconda3/envs/caiman/lib/python3.11/site-packages/skimage/measure/block.py:90: RuntimeWarning: All-NaN slice encountered\n",
      "  return func(blocked, axis=tuple(range(image.ndim, blocked.ndim)),\n",
      "/mnt/colab/colab_shared/anaconda3/envs/caiman/lib/python3.11/site-packages/skimage/measure/block.py:90: RuntimeWarning: All-NaN slice encountered\n",
      "  return func(blocked, axis=tuple(range(image.ndim, blocked.ndim)),\n",
      "/mnt/colab/colab_shared/anaconda3/envs/caiman/lib/python3.11/site-packages/skimage/measure/block.py:90: RuntimeWarning: All-NaN slice encountered\n",
      "  return func(blocked, axis=tuple(range(image.ndim, blocked.ndim)),\n",
      "/mnt/colab/colab_shared/anaconda3/envs/caiman/lib/python3.11/site-packages/skimage/measure/block.py:90: RuntimeWarning: All-NaN slice encountered\n",
      "  return func(blocked, axis=tuple(range(image.ndim, blocked.ndim)),\n",
      "/mnt/colab/colab_shared/anaconda3/envs/caiman/lib/python3.11/site-packages/skimage/measure/block.py:90: RuntimeWarning: All-NaN slice encountered\n",
      "  return func(blocked, axis=tuple(range(image.ndim, blocked.ndim)),\n",
      "/mnt/colab/colab_shared/anaconda3/envs/caiman/lib/python3.11/site-packages/skimage/measure/block.py:90: RuntimeWarning: All-NaN slice encountered\n",
      "  return func(blocked, axis=tuple(range(image.ndim, blocked.ndim)),\n",
      "/mnt/colab/colab_shared/anaconda3/envs/caiman/lib/python3.11/site-packages/skimage/measure/block.py:90: RuntimeWarning: All-NaN slice encountered\n",
      "  return func(blocked, axis=tuple(range(image.ndim, blocked.ndim)),\n",
      "/mnt/colab/colab_shared/anaconda3/envs/caiman/lib/python3.11/site-packages/skimage/measure/block.py:90: RuntimeWarning: All-NaN slice encountered\n",
      "  return func(blocked, axis=tuple(range(image.ndim, blocked.ndim)),\n",
      "/mnt/colab/colab_shared/anaconda3/envs/caiman/lib/python3.11/site-packages/skimage/measure/block.py:90: RuntimeWarning: All-NaN slice encountered\n",
      "  return func(blocked, axis=tuple(range(image.ndim, blocked.ndim)),\n",
      "/mnt/colab/colab_shared/anaconda3/envs/caiman/lib/python3.11/site-packages/skimage/measure/block.py:90: RuntimeWarning: All-NaN slice encountered\n",
      "  return func(blocked, axis=tuple(range(image.ndim, blocked.ndim)),\n",
      "/mnt/colab/colab_shared/anaconda3/envs/caiman/lib/python3.11/site-packages/skimage/measure/block.py:90: RuntimeWarning: All-NaN slice encountered\n",
      "  return func(blocked, axis=tuple(range(image.ndim, blocked.ndim)),\n",
      "/mnt/colab/colab_shared/anaconda3/envs/caiman/lib/python3.11/site-packages/skimage/measure/block.py:90: RuntimeWarning: All-NaN slice encountered\n",
      "  return func(blocked, axis=tuple(range(image.ndim, blocked.ndim)),\n",
      "/mnt/colab/colab_shared/anaconda3/envs/caiman/lib/python3.11/site-packages/skimage/measure/block.py:90: RuntimeWarning: All-NaN slice encountered\n",
      "  return func(blocked, axis=tuple(range(image.ndim, blocked.ndim)),\n",
      "/mnt/colab/colab_shared/anaconda3/envs/caiman/lib/python3.11/site-packages/skimage/measure/block.py:90: RuntimeWarning: All-NaN slice encountered\n",
      "  return func(blocked, axis=tuple(range(image.ndim, blocked.ndim)),\n",
      "/mnt/colab/colab_shared/anaconda3/envs/caiman/lib/python3.11/site-packages/skimage/measure/block.py:90: RuntimeWarning: All-NaN slice encountered\n",
      "  return func(blocked, axis=tuple(range(image.ndim, blocked.ndim)),\n",
      "/mnt/colab/colab_shared/anaconda3/envs/caiman/lib/python3.11/site-packages/skimage/measure/block.py:90: RuntimeWarning: All-NaN slice encountered\n",
      "  return func(blocked, axis=tuple(range(image.ndim, blocked.ndim)),\n",
      "\n",
      "Interpolating background...:   1%|▍                               | 1/69 [02:59<3:22:52, 179.01s/it]\u001b[A\n",
      "Interpolating background...:   3%|▉                                | 2/69 [03:00<1:23:24, 74.69s/it]\u001b[A\n",
      "Interpolating background...:   4%|█▌                                 | 3/69 [03:00<44:47, 40.73s/it]\u001b[A\n",
      "Interpolating background...:   6%|██                                 | 4/69 [03:05<28:47, 26.58s/it]\u001b[A\n",
      "Interpolating background...:   7%|██▌                                | 5/69 [03:18<23:05, 21.65s/it]\u001b[A\n",
      "Interpolating background...:   9%|███                                | 6/69 [03:25<17:32, 16.70s/it]\u001b[A\n",
      "Interpolating background...:  10%|███▌                               | 7/69 [03:31<13:37, 13.19s/it]\u001b[A\n",
      "Interpolating background...:  12%|████                               | 8/69 [03:32<09:21,  9.20s/it]\u001b[A\n",
      "Interpolating background...:  13%|████▌                              | 9/69 [03:41<09:04,  9.07s/it]\u001b[A\n",
      "Interpolating background...:  14%|████▉                             | 10/69 [03:47<08:03,  8.19s/it]\u001b[A\n",
      "Interpolating background...:  16%|█████▍                            | 11/69 [03:51<06:45,  6.99s/it]\u001b[A\n",
      "Interpolating background...:  17%|█████▉                            | 12/69 [03:52<04:55,  5.19s/it]\u001b[A\n",
      "Interpolating background...:  19%|██████▍                           | 13/69 [03:55<04:02,  4.34s/it]\u001b[A\n",
      "Interpolating background...:  20%|██████▉                           | 14/69 [03:56<03:00,  3.27s/it]\u001b[A\n",
      "Interpolating background...:  22%|███████▍                          | 15/69 [03:56<02:08,  2.38s/it]\u001b[A\n",
      "Interpolating background...:  23%|███████▉                          | 16/69 [03:59<02:21,  2.67s/it]\u001b[A\n",
      "Interpolating background...:  25%|████████▍                         | 17/69 [04:00<01:43,  1.98s/it]\u001b[A\n",
      "Interpolating background...:  26%|████████▊                         | 18/69 [04:10<03:51,  4.55s/it]\u001b[A\n",
      "Interpolating background...:  28%|█████████▎                        | 19/69 [04:19<04:54,  5.89s/it]\u001b[A\n",
      "Interpolating background...:  29%|█████████▊                        | 20/69 [04:20<03:33,  4.37s/it]\u001b[A\n",
      "Interpolating background...:  30%|██████████▎                       | 21/69 [04:20<02:31,  3.16s/it]\u001b[A\n",
      "Interpolating background...:  32%|██████████▊                       | 22/69 [04:21<01:52,  2.39s/it]\u001b[A\n",
      "Interpolating background...:  33%|███████████▎                      | 23/69 [04:28<02:49,  3.69s/it]\u001b[A\n",
      "Interpolating background...:  35%|███████████▊                      | 24/69 [04:29<02:12,  2.94s/it]\u001b[A\n",
      "Interpolating background...:  36%|████████████▎                     | 25/69 [04:30<01:44,  2.37s/it]\u001b[A\n",
      "Interpolating background...:  38%|████████████▊                     | 26/69 [04:33<01:53,  2.63s/it]\u001b[A\n",
      "Interpolating background...:  39%|█████████████▎                    | 27/69 [04:37<02:11,  3.13s/it]\u001b[A\n",
      "Interpolating background...:  41%|█████████████▊                    | 28/69 [04:39<01:49,  2.68s/it]\u001b[A\n",
      "Interpolating background...:  42%|██████████████▎                   | 29/69 [04:42<01:55,  2.88s/it]\u001b[A\n",
      "Interpolating background...:  43%|██████████████▊                   | 30/69 [05:08<06:18,  9.71s/it]\u001b[A\n",
      "Interpolating background...:  45%|███████████████▎                  | 31/69 [06:05<15:11, 23.99s/it]\u001b[A\n",
      "Interpolating background...:  46%|███████████████▊                  | 32/69 [06:39<16:38, 26.98s/it]\u001b[A\n",
      "Interpolating background...:  48%|████████████████▎                 | 33/69 [06:45<12:19, 20.53s/it]\u001b[A\n",
      "Interpolating background...:  49%|████████████████▊                 | 34/69 [06:46<08:37, 14.78s/it]\u001b[A\n",
      "Interpolating background...:  51%|█████████████████▏                | 35/69 [07:02<08:35, 15.17s/it]\u001b[A\n",
      "Interpolating background...:  52%|█████████████████▋                | 36/69 [07:02<05:53, 10.71s/it]\u001b[A\n",
      "Interpolating background...:  54%|██████████████████▏               | 37/69 [07:07<04:38,  8.72s/it]\u001b[A\n",
      "Interpolating background...:  55%|██████████████████▋               | 38/69 [07:08<03:25,  6.64s/it]\u001b[A\n",
      "Interpolating background...:  57%|███████████████████▏              | 39/69 [07:29<05:26, 10.88s/it]\u001b[A\n",
      "Interpolating background...:  58%|███████████████████▋              | 40/69 [07:29<03:43,  7.71s/it]\u001b[A\n",
      "Interpolating background...:  59%|████████████████████▏             | 41/69 [07:36<03:26,  7.36s/it]\u001b[A\n",
      "Interpolating background...:  61%|████████████████████▋             | 42/69 [07:38<02:36,  5.81s/it]\u001b[A\n",
      "Interpolating background...:  62%|█████████████████████▏            | 43/69 [07:39<01:53,  4.36s/it]\u001b[A\n",
      "Interpolating background...:  64%|█████████████████████▋            | 44/69 [07:42<01:40,  4.03s/it]\u001b[A\n",
      "Interpolating background...:  65%|██████████████████████▏           | 45/69 [07:44<01:20,  3.36s/it]\u001b[A\n",
      "Interpolating background...:  67%|██████████████████████▋           | 46/69 [07:50<01:32,  4.01s/it]\u001b[A\n",
      "Interpolating background...:  68%|███████████████████████▏          | 47/69 [07:53<01:22,  3.77s/it]\u001b[A\n",
      "Interpolating background...:  70%|███████████████████████▋          | 48/69 [07:53<00:57,  2.72s/it]\u001b[A\n",
      "Interpolating background...:  71%|████████████████████████▏         | 49/69 [07:54<00:43,  2.17s/it]\u001b[A\n",
      "Interpolating background...:  72%|████████████████████████▋         | 50/69 [07:58<00:50,  2.63s/it]\u001b[A\n",
      "Interpolating background...:  74%|█████████████████████████▏        | 51/69 [07:58<00:34,  1.91s/it]\u001b[A\n",
      "Interpolating background...:  75%|█████████████████████████▌        | 52/69 [07:58<00:23,  1.39s/it]\u001b[A\n",
      "Interpolating background...:  77%|██████████████████████████        | 53/69 [08:06<00:52,  3.30s/it]\u001b[A\n",
      "Interpolating background...:  78%|██████████████████████████▌       | 54/69 [08:09<00:47,  3.16s/it]\u001b[A\n",
      "Interpolating background...:  80%|███████████████████████████       | 55/69 [08:10<00:36,  2.63s/it]\u001b[A\n",
      "Interpolating background...:  81%|███████████████████████████▌      | 56/69 [08:12<00:31,  2.39s/it]\u001b[A\n",
      "Interpolating background...:  83%|████████████████████████████      | 57/69 [08:15<00:29,  2.45s/it]\u001b[A\n",
      "Interpolating background...:  84%|████████████████████████████▌     | 58/69 [08:23<00:46,  4.26s/it]\u001b[A\n",
      "Interpolating background...:  86%|█████████████████████████████     | 59/69 [08:24<00:31,  3.14s/it]\u001b[A\n",
      "Interpolating background...:  87%|█████████████████████████████▌    | 60/69 [08:59<01:54, 12.69s/it]\u001b[A\n",
      "Interpolating background...:  88%|██████████████████████████████    | 61/69 [09:01<01:16,  9.58s/it]\u001b[A\n",
      "Interpolating background...:  90%|██████████████████████████████▌   | 62/69 [09:18<01:23, 11.87s/it]\u001b[A\n",
      "Interpolating background...:  91%|███████████████████████████████   | 63/69 [09:31<01:13, 12.26s/it]\u001b[A\n",
      "Interpolating background...:  93%|███████████████████████████████▌  | 64/69 [09:39<00:54, 10.83s/it]\u001b[A\n",
      "Interpolating background...:  94%|████████████████████████████████  | 65/69 [09:39<00:30,  7.71s/it]\u001b[A\n",
      "Interpolating background...:  96%|████████████████████████████████▌ | 66/69 [09:42<00:18,  6.32s/it]\u001b[A\n",
      "Interpolating background...:  97%|█████████████████████████████████ | 67/69 [09:43<00:09,  4.73s/it]\u001b[A\n",
      "Interpolating background...:  99%|█████████████████████████████████▌| 68/69 [09:45<00:03,  3.68s/it]\u001b[A\n",
      "Interpolating background...: 100%|██████████████████████████████████| 69/69 [09:47<00:00,  8.52s/it]\u001b[A\n",
      "/mnt/colab/colab_shared/anaconda3/envs/caiman/lib/python3.11/site-packages/caiman/summary_images.py:209: RuntimeWarning: invalid value encountered in divide\n",
      "  w_mov = (Y - np.mean(Y, axis=0)) / np.std(Y, axis=0)\n",
      "     3483371 [params.py:   check_consistency():928] [7927] gnb=0, hence setting keys nb_patch and low_rank_background in group patch automatically.\n"
     ]
    },
    {
     "name": "stdout",
     "output_type": "stream",
     "text": [
      "(348480, 30, 9, <1x1 sparse matrix of type '<class 'numpy.float32'>'\n",
      "\twith 1 stored elements in Compressed Sparse Row format>)\n",
      "(351384, 30, 9, <1x1 sparse matrix of type '<class 'numpy.float32'>'\n",
      "\twith 1 stored elements in Compressed Sparse Row format>)\n",
      "(351384, 30, 9, <1x1 sparse matrix of type '<class 'numpy.float32'>'\n",
      "\twith 1 stored elements in Compressed Sparse Row format>)\n",
      "(348480, 30, 10, 807705.3527794648)\n",
      "(348480, 30, 0, 124081220.60120213)\n",
      "(348480, 30, 9, <1x1 sparse matrix of type '<class 'numpy.float32'>'\n",
      "\twith 1 stored elements in Compressed Sparse Row format>)\n",
      "(351384, 30, 10, 1205945.1349741966)\n",
      "(351384, 30, 0, 213492035.6172937)\n",
      "(351384, 30, 9, <1x1 sparse matrix of type '<class 'numpy.float32'>'\n",
      "\twith 1 stored elements in Compressed Sparse Row format>)\n",
      "(351384, 30, 10, 2124749.307626862)\n",
      "(351384, 30, 0, 382769943.63717085)\n",
      "(348480, 30, 9, <1x1 sparse matrix of type '<class 'numpy.float32'>'\n",
      "\twith 1 stored elements in Compressed Sparse Row format>)\n",
      "(348480, 30, 10, 1649332.8974946141)\n",
      "(348480, 30, 0, 185361728.3005968)\n",
      "(348480, 30, 10, 1307783.0071805343)\n",
      "(348480, 30, 0, 258336393.31484923)\n",
      "(351384, 30, 10, 1934852.8025261238)\n",
      "(351384, 30, 0, 362243025.9567788)\n",
      "(351384, 30, 9, <1x1 sparse matrix of type '<class 'numpy.float32'>'\n",
      "\twith 1 stored elements in Compressed Sparse Row format>)\n",
      "(348480, 30, 9, <1x1 sparse matrix of type '<class 'numpy.float32'>'\n",
      "\twith 1 stored elements in Compressed Sparse Row format>)\n",
      "(351384, 30, 9, <1x1 sparse matrix of type '<class 'numpy.float32'>'\n",
      "\twith 1 stored elements in Compressed Sparse Row format>)\n",
      "(351384, 30, 10, 1709577.5674749315)\n",
      "(351384, 30, 0, 323881499.6554219)\n",
      "(348480, 30, 10, 2485737.9524457157)\n",
      "(348480, 30, 0, 411478992.68091327)\n",
      "(351384, 30, 10, 2411791.84705548)\n",
      "(351384, 30, 0, 293616336.8418997)\n",
      "(351384, 30, 9, <1x1 sparse matrix of type '<class 'numpy.float32'>'\n",
      "\twith 1 stored elements in Compressed Sparse Row format>)\n",
      "(351384, 30, 10, 533042.8846000284)\n",
      "(351384, 30, 0, 132091525.87384829)\n",
      "(351384, 30, 9, <1x1 sparse matrix of type '<class 'numpy.float32'>'\n",
      "\twith 1 stored elements in Compressed Sparse Row format>)\n",
      "(351384, 30, 9, <1x1 sparse matrix of type '<class 'numpy.float32'>'\n",
      "\twith 1 stored elements in Compressed Sparse Row format>)\n",
      "(351384, 30, 10, 984606.326941519)\n",
      "(351384, 30, 0, 170497800.5325861)\n",
      "(348480, 30, 9, <1x1 sparse matrix of type '<class 'numpy.float32'>'\n",
      "\twith 1 stored elements in Compressed Sparse Row format>)(351384, 30, 10, 1635257.5224165618)\n",
      "\n",
      "(351384, 30, 0, 316460232.7509439)\n",
      "(348480, 30, 9, <1x1 sparse matrix of type '<class 'numpy.float32'>'\n",
      "\twith 1 stored elements in Compressed Sparse Row format>)\n",
      "(348480, 30, 10, 1283371.1449885368)\n",
      "(348480, 30, 0, 176682388.57478476)\n",
      "(348480, 30, 10, 1160621.7141427994)\n",
      "(348480, 30, 0, 226291712.21808892)\n",
      "(351384, 30, 9, <1x1 sparse matrix of type '<class 'numpy.float32'>'\n",
      "\twith 1 stored elements in Compressed Sparse Row format>)\n",
      "(351384, 30, 9, <1x1 sparse matrix of type '<class 'numpy.float32'>'\n",
      "\twith 1 stored elements in Compressed Sparse Row format>)\n",
      "(351384, 30, 10, 1653244.1101207435)\n",
      "(351384, 30, 0, 294013733.73761225)\n",
      "(351384, 30, 9, <1x1 sparse matrix of type '<class 'numpy.float32'>'\n",
      "\twith 1 stored elements in Compressed Sparse Row format>)\n",
      "(351384, 30, 10, 2605291.546777919)\n",
      "(351384, 30, 0, 465640526.98348427)\n",
      "(351384, 30, 10, 2268454.3389489353)\n",
      "(351384, 30, 0, 500062891.34353095)\n",
      "(351384, 30, 9, <1x1 sparse matrix of type '<class 'numpy.float32'>'\n",
      "\twith 1 stored elements in Compressed Sparse Row format>)\n",
      "(351384, 30, 9, <1x1 sparse matrix of type '<class 'numpy.float32'>'\n",
      "\twith 1 stored elements in Compressed Sparse Row format>)\n",
      "(345600, 30, 9, <1x1 sparse matrix of type '<class 'numpy.float32'>'\n",
      "\twith 1 stored elements in Compressed Sparse Row format>)\n",
      "(351384, 30, 10, 1062914.4739781749)\n",
      "(351384, 30, 0, 191325416.255459)\n",
      "(351384, 30, 9, <1x1 sparse matrix of type '<class 'numpy.float32'>'\n",
      "\twith 1 stored elements in Compressed Sparse Row format>)\n",
      "(351384, 30, 10, 1639924.715144366)\n",
      "(351384, 30, 0, 306038563.4474904)\n",
      "(351384, 30, 9, <1x1 sparse matrix of type '<class 'numpy.float32'>'\n",
      "\twith 1 stored elements in Compressed Sparse Row format>)\n",
      "(345600, 30, 10, 1099640.8087233384)\n",
      "(345600, 30, 0, 208597109.54901728)\n",
      "(351384, 30, 10, 2682106.916319549)\n",
      "(351384, 30, 0, 542994869.7888616)\n",
      "(351384, 30, 10, 2640630.5721923113)\n",
      "(351384, 30, 0, 398494345.8938283)\n",
      "(351384, 30, 9, <1x1 sparse matrix of type '<class 'numpy.float32'>'\n",
      "\twith 1 stored elements in Compressed Sparse Row format>)\n",
      "(348480, 30, 9, <1x1 sparse matrix of type '<class 'numpy.float32'>'\n",
      "\twith 1 stored elements in Compressed Sparse Row format>)\n",
      "(351384, 30, 9, <1x1 sparse matrix of type '<class 'numpy.float32'>'\n",
      "\twith 1 stored elements in Compressed Sparse Row format>)\n",
      "(348480, 30, 9, <1x1 sparse matrix of type '<class 'numpy.float32'>'\n",
      "\twith 1 stored elements in Compressed Sparse Row format>)\n",
      "(351384, 30, 10, 853852.5595532074)\n",
      "(351384, 30, 0, 109705943.75973453)\n",
      "(348480, 30, 9, <1x1 sparse matrix of type '<class 'numpy.float32'>'\n",
      "\twith 1 stored elements in Compressed Sparse Row format>)\n",
      "(351384, 30, 9, <1x1 sparse matrix of type '<class 'numpy.float32'>'\n",
      "\twith 1 stored elements in Compressed Sparse Row format>)\n",
      "(351384, 30, 9, <1x1 sparse matrix of type '<class 'numpy.float32'>'\n",
      "\twith 1 stored elements in Compressed Sparse Row format>)\n",
      "(351384, 30, 9, <1x1 sparse matrix of type '<class 'numpy.float32'>'\n",
      "\twith 1 stored elements in Compressed Sparse Row format>)\n",
      "(348480, 30, 10, 1978481.595630832)\n",
      "(348480, 30, 0, 382638358.7085424)\n",
      "(348480, 30, 10, 395394.7798350839)\n",
      "(348480, 30, 0, 86475202.175536)\n",
      "(351384, 30, 10, 1336642.33442159)\n",
      "(351384, 30, 0, 239721895.51076213)\n",
      "(348480, 30, 10, 2050377.662190929)\n",
      "(348480, 30, 0, 459851253.43858004)\n",
      "(351384, 30, 10, 1719279.289593793)\n",
      "(351384, 30, 0, 353197119.73643935)\n",
      "(351384, 30, 10, 2188174.3764462546)\n",
      "(351384, 30, 0, 273422565.27100986)\n",
      "(351384, 30, 10, 2751714.711350143)\n",
      "(351384, 30, 0, 544985756.4743371)\n",
      "(348480, 30, 11, 5174138.264250721)\n",
      "(348480, 30, 1, 4455148.857849121)\n",
      "(348480, 30, 2, 4455148.857849121)\n"
     ]
    },
    {
     "name": "stderr",
     "output_type": "stream",
     "text": [
      "/mnt/colab/colab_shared/anaconda3/envs/caiman/lib/python3.11/site-packages/scipy/signal/_spectral_py.py:589: UserWarning: nperseg = 256 is greater than input length  = 69, using nperseg = 69\n",
      "  freqs, _, Pxy = _spectral_helper(x, y, fs, window, nperseg, noverlap,\n"
     ]
    },
    {
     "name": "stdout",
     "output_type": "stream",
     "text": [
      "(348480, 30, 11, 3926999.0219386527)\n",
      "(348480, 30, 1, 3153276.631668091)\n",
      "(348480, 30, 2, 3153276.631668091)\n"
     ]
    },
    {
     "name": "stderr",
     "output_type": "stream",
     "text": [
      "/mnt/colab/colab_shared/anaconda3/envs/caiman/lib/python3.11/site-packages/scipy/signal/_spectral_py.py:589: UserWarning: nperseg = 256 is greater than input length  = 69, using nperseg = 69\n",
      "  freqs, _, Pxy = _spectral_helper(x, y, fs, window, nperseg, noverlap,\n"
     ]
    },
    {
     "name": "stdout",
     "output_type": "stream",
     "text": [
      "(351384, 30, 11, 7210049.3348450065)\n",
      "(351384, 30, 11, 2559491.1669097003)\n",
      "(351384, 30, 11, 6536532.68880657)\n",
      "(351384, 30, 1, 2133232.51197052)\n",
      "(351384, 30, 2, 2133232.51197052)\n"
     ]
    },
    {
     "name": "stderr",
     "output_type": "stream",
     "text": [
      "/mnt/colab/colab_shared/anaconda3/envs/caiman/lib/python3.11/site-packages/scipy/signal/_spectral_py.py:589: UserWarning: nperseg = 256 is greater than input length  = 69, using nperseg = 69\n",
      "  freqs, _, Pxy = _spectral_helper(x, y, fs, window, nperseg, noverlap,\n"
     ]
    },
    {
     "name": "stdout",
     "output_type": "stream",
     "text": [
      "(351384, 30, 1, 6370893.335075378)\n",
      "(351384, 30, 2, 6370893.335075378)\n"
     ]
    },
    {
     "name": "stderr",
     "output_type": "stream",
     "text": [
      "/mnt/colab/colab_shared/anaconda3/envs/caiman/lib/python3.11/site-packages/scipy/signal/_spectral_py.py:589: UserWarning: nperseg = 256 is greater than input length  = 69, using nperseg = 69\n",
      "  freqs, _, Pxy = _spectral_helper(x, y, fs, window, nperseg, noverlap,\n"
     ]
    },
    {
     "name": "stdout",
     "output_type": "stream",
     "text": [
      "(348480, 30, 11, 3872361.73236181)\n",
      "(351384, 30, 1, 5247664.509567261)\n",
      "(351384, 30, 2, 5247664.509567261)\n"
     ]
    },
    {
     "name": "stderr",
     "output_type": "stream",
     "text": [
      "/mnt/colab/colab_shared/anaconda3/envs/caiman/lib/python3.11/site-packages/scipy/signal/_spectral_py.py:589: UserWarning: nperseg = 256 is greater than input length  = 69, using nperseg = 69\n",
      "  freqs, _, Pxy = _spectral_helper(x, y, fs, window, nperseg, noverlap,\n"
     ]
    },
    {
     "name": "stdout",
     "output_type": "stream",
     "text": [
      "(348480, 30, 1, 2954774.2130355835)\n",
      "(348480, 30, 2, 2954774.2130355835)\n"
     ]
    },
    {
     "name": "stderr",
     "output_type": "stream",
     "text": [
      "/mnt/colab/colab_shared/anaconda3/envs/caiman/lib/python3.11/site-packages/scipy/signal/_spectral_py.py:589: UserWarning: nperseg = 256 is greater than input length  = 69, using nperseg = 69\n",
      "  freqs, _, Pxy = _spectral_helper(x, y, fs, window, nperseg, noverlap,\n"
     ]
    },
    {
     "name": "stdout",
     "output_type": "stream",
     "text": [
      "(351384, 30, 11, 1900748.0924174082)\n",
      "(351384, 30, 11, 8981449.23406106)\n",
      "(351384, 30, 1, 1447942.212551117)\n",
      "(351384, 30, 2, 1447942.212551117)\n"
     ]
    },
    {
     "name": "stderr",
     "output_type": "stream",
     "text": [
      "/mnt/colab/colab_shared/anaconda3/envs/caiman/lib/python3.11/site-packages/scipy/signal/_spectral_py.py:589: UserWarning: nperseg = 256 is greater than input length  = 69, using nperseg = 69\n",
      "  freqs, _, Pxy = _spectral_helper(x, y, fs, window, nperseg, noverlap,\n"
     ]
    },
    {
     "name": "stdout",
     "output_type": "stream",
     "text": [
      "(345600, 30, 11, 4156753.7689256878)\n",
      "(351384, 30, 1, 7760937.7306518555)\n",
      "(351384, 30, 2, 7760937.7306518555)\n"
     ]
    },
    {
     "name": "stderr",
     "output_type": "stream",
     "text": [
      "/mnt/colab/colab_shared/anaconda3/envs/caiman/lib/python3.11/site-packages/scipy/signal/_spectral_py.py:589: UserWarning: nperseg = 256 is greater than input length  = 69, using nperseg = 69\n",
      "  freqs, _, Pxy = _spectral_helper(x, y, fs, window, nperseg, noverlap,\n"
     ]
    },
    {
     "name": "stdout",
     "output_type": "stream",
     "text": [
      "(345600, 30, 1, 3480836.64352417)\n",
      "(345600, 30, 2, 3480836.64352417)\n"
     ]
    },
    {
     "name": "stderr",
     "output_type": "stream",
     "text": [
      "/mnt/colab/colab_shared/anaconda3/envs/caiman/lib/python3.11/site-packages/scipy/signal/_spectral_py.py:589: UserWarning: nperseg = 256 is greater than input length  = 69, using nperseg = 69\n",
      "  freqs, _, Pxy = _spectral_helper(x, y, fs, window, nperseg, noverlap,\n"
     ]
    },
    {
     "name": "stdout",
     "output_type": "stream",
     "text": [
      "(351384, 30, 11, 6994317.334834322)\n",
      "(351384, 30, 1, 6278216.918449402)\n",
      "(351384, 30, 2, 6278216.918449402)\n"
     ]
    },
    {
     "name": "stderr",
     "output_type": "stream",
     "text": [
      "/mnt/colab/colab_shared/anaconda3/envs/caiman/lib/python3.11/site-packages/scipy/signal/_spectral_py.py:589: UserWarning: nperseg = 256 is greater than input length  = 69, using nperseg = 69\n",
      "  freqs, _, Pxy = _spectral_helper(x, y, fs, window, nperseg, noverlap,\n"
     ]
    },
    {
     "name": "stdout",
     "output_type": "stream",
     "text": [
      "(351384, 30, 11, 19220449.013748348)\n",
      "(348480, 30, 9, <1x1 sparse matrix of type '<class 'numpy.float64'>'\n",
      "\twith 1 stored elements in Compressed Sparse Row format>)\n",
      "(351384, 30, 11, 14545366.005224943)\n",
      "(351384, 30, 1, 17672520.967773438)\n",
      "(351384, 30, 2, 17672520.967773438)\n",
      "(348480, 30, 10, 4455148.857849121)\n",
      "(348480, 30, 0, 142781807.16021574)\n"
     ]
    },
    {
     "name": "stderr",
     "output_type": "stream",
     "text": [
      "/mnt/colab/colab_shared/anaconda3/envs/caiman/lib/python3.11/site-packages/scipy/signal/_spectral_py.py:589: UserWarning: nperseg = 256 is greater than input length  = 69, using nperseg = 69\n",
      "  freqs, _, Pxy = _spectral_helper(x, y, fs, window, nperseg, noverlap,\n"
     ]
    },
    {
     "name": "stdout",
     "output_type": "stream",
     "text": [
      "(351384, 30, 11, 2871546.54784461)\n",
      "(351384, 30, 11, 4762622.591253863)\n",
      "(351384, 30, 1, 2518839.1381492615)\n",
      "(351384, 30, 1, 12315333.365020752)\n",
      "(351384, 30, 2, 2518839.1381492615)\n",
      "(351384, 30, 2, 12315333.365020752)\n"
     ]
    },
    {
     "name": "stderr",
     "output_type": "stream",
     "text": [
      "/mnt/colab/colab_shared/anaconda3/envs/caiman/lib/python3.11/site-packages/scipy/signal/_spectral_py.py:589: UserWarning: nperseg = 256 is greater than input length  = 69, using nperseg = 69\n",
      "  freqs, _, Pxy = _spectral_helper(x, y, fs, window, nperseg, noverlap,\n"
     ]
    },
    {
     "name": "stdout",
     "output_type": "stream",
     "text": [
      "(348480, 30, 11, 2225063.7017672947)\n"
     ]
    },
    {
     "name": "stderr",
     "output_type": "stream",
     "text": [
      "/mnt/colab/colab_shared/anaconda3/envs/caiman/lib/python3.11/site-packages/scipy/signal/_spectral_py.py:589: UserWarning: nperseg = 256 is greater than input length  = 69, using nperseg = 69\n",
      "  freqs, _, Pxy = _spectral_helper(x, y, fs, window, nperseg, noverlap,\n"
     ]
    },
    {
     "name": "stdout",
     "output_type": "stream",
     "text": [
      "(351384, 30, 1, 4110724.6008605957)\n",
      "(351384, 30, 2, 4110724.6008605957)\n"
     ]
    },
    {
     "name": "stderr",
     "output_type": "stream",
     "text": [
      "/mnt/colab/colab_shared/anaconda3/envs/caiman/lib/python3.11/site-packages/scipy/signal/_spectral_py.py:589: UserWarning: nperseg = 256 is greater than input length  = 69, using nperseg = 69\n",
      "  freqs, _, Pxy = _spectral_helper(x, y, fs, window, nperseg, noverlap,\n"
     ]
    },
    {
     "name": "stdout",
     "output_type": "stream",
     "text": [
      "(348480, 30, 11, 1271045.8380957954)\n",
      "(348480, 30, 1, 1452729.163230896)\n",
      "(348480, 30, 2, 1452729.163230896)\n"
     ]
    },
    {
     "name": "stderr",
     "output_type": "stream",
     "text": [
      "/mnt/colab/colab_shared/anaconda3/envs/caiman/lib/python3.11/site-packages/scipy/signal/_spectral_py.py:589: UserWarning: nperseg = 256 is greater than input length  = 69, using nperseg = 69\n",
      "  freqs, _, Pxy = _spectral_helper(x, y, fs, window, nperseg, noverlap,\n"
     ]
    },
    {
     "name": "stdout",
     "output_type": "stream",
     "text": [
      "(348480, 30, 9, <1x1 sparse matrix of type '<class 'numpy.float64'>'\n",
      "\twith 1 stored elements in Compressed Sparse Row format>)\n",
      "(351384, 30, 11, 1631558.1452444936)\n",
      "(348480, 30, 1, 837474.9274368286)\n",
      "(348480, 30, 2, 837474.9274368286)\n",
      "(348480, 30, 10, 3153276.631668091)\n",
      "(348480, 30, 0, 176070487.2924976)\n"
     ]
    },
    {
     "name": "stderr",
     "output_type": "stream",
     "text": [
      "/mnt/colab/colab_shared/anaconda3/envs/caiman/lib/python3.11/site-packages/scipy/signal/_spectral_py.py:589: UserWarning: nperseg = 256 is greater than input length  = 69, using nperseg = 69\n",
      "  freqs, _, Pxy = _spectral_helper(x, y, fs, window, nperseg, noverlap,\n"
     ]
    },
    {
     "name": "stdout",
     "output_type": "stream",
     "text": [
      "(351384, 30, 1, 1137770.4912452698)\n",
      "(351384, 30, 2, 1137770.4912452698)\n"
     ]
    },
    {
     "name": "stderr",
     "output_type": "stream",
     "text": [
      "/mnt/colab/colab_shared/anaconda3/envs/caiman/lib/python3.11/site-packages/scipy/signal/_spectral_py.py:589: UserWarning: nperseg = 256 is greater than input length  = 69, using nperseg = 69\n",
      "  freqs, _, Pxy = _spectral_helper(x, y, fs, window, nperseg, noverlap,\n"
     ]
    },
    {
     "name": "stdout",
     "output_type": "stream",
     "text": [
      "(348480, 30, 11, 589872.1973670032)\n",
      "(348480, 30, 11, 14005287.200150825)\n",
      "(348480, 30, 1, 354042.78457832336)\n",
      "(348480, 30, 2, 354042.78457832336)\n"
     ]
    },
    {
     "name": "stderr",
     "output_type": "stream",
     "text": [
      "/mnt/colab/colab_shared/anaconda3/envs/caiman/lib/python3.11/site-packages/scipy/signal/_spectral_py.py:589: UserWarning: nperseg = 256 is greater than input length  = 69, using nperseg = 69\n",
      "  freqs, _, Pxy = _spectral_helper(x, y, fs, window, nperseg, noverlap,\n"
     ]
    },
    {
     "name": "stdout",
     "output_type": "stream",
     "text": [
      "(348480, 30, 1, 11592462.219055176)\n",
      "(348480, 30, 2, 11592462.219055176)\n"
     ]
    },
    {
     "name": "stderr",
     "output_type": "stream",
     "text": [
      "/mnt/colab/colab_shared/anaconda3/envs/caiman/lib/python3.11/site-packages/scipy/signal/_spectral_py.py:589: UserWarning: nperseg = 256 is greater than input length  = 69, using nperseg = 69\n",
      "  freqs, _, Pxy = _spectral_helper(x, y, fs, window, nperseg, noverlap,\n"
     ]
    },
    {
     "name": "stdout",
     "output_type": "stream",
     "text": [
      "(345600, 30, 9, <1x1 sparse matrix of type '<class 'numpy.float64'>'\n",
      "\twith 1 stored elements in Compressed Sparse Row format>)\n",
      "(345600, 30, 10, 3480836.64352417)\n",
      "(345600, 30, 0, 130952377.11761312)\n",
      "(351384, 30, 9, <1x1 sparse matrix of type '<class 'numpy.float64'>'\n",
      "\twith 1 stored elements in Compressed Sparse Row format>)\n",
      "(351384, 30, 9, <1x1 sparse matrix of type '<class 'numpy.float64'>'\n",
      "\twith 1 stored elements in Compressed Sparse Row format>)\n",
      "(351384, 30, 10, 5247664.509567261)\n",
      "(351384, 30, 0, 175117381.65260452)\n",
      "(348480, 30, 11, 11601644.24800819)\n",
      "(351384, 30, 10, 2133232.51197052)\n",
      "(351384, 30, 0, 131092624.25493476)\n",
      "(348480, 30, 1, 10394685.189849854)\n",
      "(348480, 30, 2, 10394685.189849854)\n",
      "(351384, 30, 11, 6165453.813761124)\n"
     ]
    },
    {
     "name": "stderr",
     "output_type": "stream",
     "text": [
      "/mnt/colab/colab_shared/anaconda3/envs/caiman/lib/python3.11/site-packages/scipy/signal/_spectral_py.py:589: UserWarning: nperseg = 256 is greater than input length  = 69, using nperseg = 69\n",
      "  freqs, _, Pxy = _spectral_helper(x, y, fs, window, nperseg, noverlap,\n"
     ]
    },
    {
     "name": "stdout",
     "output_type": "stream",
     "text": [
      "(351384, 30, 9, <1x1 sparse matrix of type '<class 'numpy.float64'>'\n",
      "\twith 1 stored elements in Compressed Sparse Row format>)\n",
      "(351384, 30, 10, 7760937.7306518555)\n",
      "(351384, 30, 1, 5150199.756973267)\n",
      "(351384, 30, 0, 285953358.86357665)\n",
      "(351384, 30, 2, 5150199.756973267)\n"
     ]
    },
    {
     "name": "stderr",
     "output_type": "stream",
     "text": [
      "/mnt/colab/colab_shared/anaconda3/envs/caiman/lib/python3.11/site-packages/scipy/signal/_spectral_py.py:589: UserWarning: nperseg = 256 is greater than input length  = 69, using nperseg = 69\n",
      "  freqs, _, Pxy = _spectral_helper(x, y, fs, window, nperseg, noverlap,\n"
     ]
    },
    {
     "name": "stdout",
     "output_type": "stream",
     "text": [
      "(351384, 30, 9, <1x1 sparse matrix of type '<class 'numpy.float64'>'\n",
      "\twith 1 stored elements in Compressed Sparse Row format>)\n",
      "(351384, 30, 9, <1x1 sparse matrix of type '<class 'numpy.float64'>'\n",
      "\twith 1 stored elements in Compressed Sparse Row format>)\n",
      "(351384, 30, 10, 1447942.212551117)\n",
      "(351384, 30, 0, 73231782.94318157)\n",
      "(351384, 30, 11, 5401730.317346817)\n",
      "(351384, 30, 10, 6370893.335075378)\n",
      "(351384, 30, 0, 261413712.851479)\n",
      "(351384, 30, 1, 4612354.563285828)\n",
      "(351384, 30, 2, 4612354.563285828)\n"
     ]
    },
    {
     "name": "stderr",
     "output_type": "stream",
     "text": [
      "/mnt/colab/colab_shared/anaconda3/envs/caiman/lib/python3.11/site-packages/scipy/signal/_spectral_py.py:589: UserWarning: nperseg = 256 is greater than input length  = 69, using nperseg = 69\n",
      "  freqs, _, Pxy = _spectral_helper(x, y, fs, window, nperseg, noverlap,\n"
     ]
    },
    {
     "name": "stdout",
     "output_type": "stream",
     "text": [
      "(348480, 30, 9, <1x1 sparse matrix of type '<class 'numpy.float64'>'\n",
      "\twith 1 stored elements in Compressed Sparse Row format>)\n",
      "(351384, 30, 9, <1x1 sparse matrix of type '<class 'numpy.float64'>'\n",
      "\twith 1 stored elements in Compressed Sparse Row format>)\n",
      "(351384, 30, 9, <1x1 sparse matrix of type '<class 'numpy.float64'>'\n",
      "\twith 1 stored elements in Compressed Sparse Row format>)\n",
      "(348480, 30, 10, 2954774.2130355835)\n",
      "(351384, 30, 10, 2518839.1381492615)\n",
      "(348480, 30, 0, 82915679.99143164)\n",
      "(351384, 30, 0, 156389168.69616085)\n",
      "(351384, 30, 10, 12315333.365020752)\n",
      "(351384, 30, 0, 297198016.95045215)\n",
      "(351384, 30, 9, <1x1 sparse matrix of type '<class 'numpy.float64'>'\n",
      "\twith 1 stored elements in Compressed Sparse Row format>)\n",
      "(351384, 30, 11, 7924281.655369439)\n",
      "(351384, 30, 11, 8615228.425628934)\n",
      "(351384, 30, 10, 6278216.918449402)\n",
      "(351384, 30, 0, 203461011.10502765)\n",
      "(351384, 30, 1, 6960096.000411987)\n",
      "(351384, 30, 2, 6960096.000411987)\n"
     ]
    },
    {
     "name": "stderr",
     "output_type": "stream",
     "text": [
      "/mnt/colab/colab_shared/anaconda3/envs/caiman/lib/python3.11/site-packages/scipy/signal/_spectral_py.py:589: UserWarning: nperseg = 256 is greater than input length  = 69, using nperseg = 69\n",
      "  freqs, _, Pxy = _spectral_helper(x, y, fs, window, nperseg, noverlap,\n"
     ]
    },
    {
     "name": "stdout",
     "output_type": "stream",
     "text": [
      "(351384, 30, 1, 7087391.471817017)\n",
      "(351384, 30, 2, 7087391.471817017)\n"
     ]
    },
    {
     "name": "stderr",
     "output_type": "stream",
     "text": [
      "/mnt/colab/colab_shared/anaconda3/envs/caiman/lib/python3.11/site-packages/scipy/signal/_spectral_py.py:589: UserWarning: nperseg = 256 is greater than input length  = 69, using nperseg = 69\n",
      "  freqs, _, Pxy = _spectral_helper(x, y, fs, window, nperseg, noverlap,\n"
     ]
    },
    {
     "name": "stdout",
     "output_type": "stream",
     "text": [
      "(351384, 30, 11, 8715044.14975112)\n",
      "(351384, 30, 9, <1x1 sparse matrix of type '<class 'numpy.float64'>'\n",
      "\twith 1 stored elements in Compressed Sparse Row format>)\n",
      "(351384, 30, 11, 17765170.905376952)(351384, 30, 1, 7102857.945251465)\n",
      "\n",
      "(351384, 30, 2, 7102857.945251465)\n"
     ]
    },
    {
     "name": "stderr",
     "output_type": "stream",
     "text": [
      "/mnt/colab/colab_shared/anaconda3/envs/caiman/lib/python3.11/site-packages/scipy/signal/_spectral_py.py:589: UserWarning: nperseg = 256 is greater than input length  = 69, using nperseg = 69\n",
      "  freqs, _, Pxy = _spectral_helper(x, y, fs, window, nperseg, noverlap,\n"
     ]
    },
    {
     "name": "stdout",
     "output_type": "stream",
     "text": [
      "(351384, 30, 10, 1137770.4912452698)\n",
      "(351384, 30, 0, 46582349.245832786)\n",
      "(351384, 30, 9, <1x1 sparse matrix of type '<class 'numpy.float64'>'\n",
      "\twith 1 stored elements in Compressed Sparse Row format>)\n",
      "(351384, 30, 1, 15921069.265045166)\n",
      "(351384, 30, 2, 15921069.265045166)\n"
     ]
    },
    {
     "name": "stderr",
     "output_type": "stream",
     "text": [
      "/mnt/colab/colab_shared/anaconda3/envs/caiman/lib/python3.11/site-packages/scipy/signal/_spectral_py.py:589: UserWarning: nperseg = 256 is greater than input length  = 69, using nperseg = 69\n",
      "  freqs, _, Pxy = _spectral_helper(x, y, fs, window, nperseg, noverlap,\n"
     ]
    },
    {
     "name": "stdout",
     "output_type": "stream",
     "text": [
      "(348480, 30, 9, <1x1 sparse matrix of type '<class 'numpy.float64'>'\n",
      "\twith 1 stored elements in Compressed Sparse Row format>)\n",
      "(348480, 30, 9, <1x1 sparse matrix of type '<class 'numpy.float64'>'\n",
      "\twith 1 stored elements in Compressed Sparse Row format>)\n",
      "(351384, 30, 10, 17672520.967773438)\n",
      "(351384, 30, 0, 497505053.8623843)\n",
      "(348480, 30, 10, 10394685.189849854)\n",
      "(348480, 30, 0, 336137989.577493)\n",
      "(348480, 30, 10, 837474.9274368286)\n",
      "(348480, 30, 0, 71759816.62285711)\n",
      "(348480, 30, 9, <1x1 sparse matrix of type '<class 'numpy.float64'>'\n",
      "\twith 1 stored elements in Compressed Sparse Row format>)\n",
      "(348480, 30, 9, <1x1 sparse matrix of type '<class 'numpy.float64'>'\n",
      "\twith 1 stored elements in Compressed Sparse Row format>)\n",
      "(348480, 30, 10, 11592462.219055176)\n",
      "(348480, 30, 0, 335230637.07312983)\n",
      "(351384, 30, 11, 6182989.285150776)\n",
      "(348480, 30, 10, 1452729.163230896)\n",
      "(348480, 30, 0, 73247976.0971233)\n",
      "(351384, 30, 1, 5068888.300048828)\n",
      "(351384, 30, 2, 5068888.300048828)\n"
     ]
    },
    {
     "name": "stderr",
     "output_type": "stream",
     "text": [
      "/mnt/colab/colab_shared/anaconda3/envs/caiman/lib/python3.11/site-packages/scipy/signal/_spectral_py.py:589: UserWarning: nperseg = 256 is greater than input length  = 69, using nperseg = 69\n",
      "  freqs, _, Pxy = _spectral_helper(x, y, fs, window, nperseg, noverlap,\n"
     ]
    },
    {
     "name": "stdout",
     "output_type": "stream",
     "text": [
      "(351384, 30, 11, 21370323.093328416)\n",
      "(351384, 30, 1, 19573279.37954712)\n",
      "(351384, 30, 2, 19573279.37954712)\n"
     ]
    },
    {
     "name": "stderr",
     "output_type": "stream",
     "text": [
      "/mnt/colab/colab_shared/anaconda3/envs/caiman/lib/python3.11/site-packages/scipy/signal/_spectral_py.py:589: UserWarning: nperseg = 256 is greater than input length  = 69, using nperseg = 69\n",
      "  freqs, _, Pxy = _spectral_helper(x, y, fs, window, nperseg, noverlap,\n"
     ]
    },
    {
     "name": "stdout",
     "output_type": "stream",
     "text": [
      "(351384, 30, 11, 5915790.798393434)\n",
      "(351384, 30, 9, <1x1 sparse matrix of type '<class 'numpy.float64'>'\n",
      "\twith 1 stored elements in Compressed Sparse Row format>)\n",
      "(348480, 30, 9, <1x1 sparse matrix of type '<class 'numpy.float64'>'\n",
      "\twith 1 stored elements in Compressed Sparse Row format>)\n",
      "(351384, 30, 10, 4110724.6008605957)\n",
      "(351384, 30, 0, 151568417.53107265)\n",
      "(351384, 30, 1, 5045070.057861328)\n",
      "(351384, 30, 2, 5045070.057861328)\n"
     ]
    },
    {
     "name": "stderr",
     "output_type": "stream",
     "text": [
      "/mnt/colab/colab_shared/anaconda3/envs/caiman/lib/python3.11/site-packages/scipy/signal/_spectral_py.py:589: UserWarning: nperseg = 256 is greater than input length  = 69, using nperseg = 69\n",
      "  freqs, _, Pxy = _spectral_helper(x, y, fs, window, nperseg, noverlap,\n"
     ]
    },
    {
     "name": "stdout",
     "output_type": "stream",
     "text": [
      "(348480, 30, 10, 354042.78457832336)\n",
      "(348480, 30, 0, 42539243.22731531)\n",
      "(351384, 30, 9, <1x1 sparse matrix of type '<class 'numpy.float64'>'\n",
      "\twith 1 stored elements in Compressed Sparse Row format>)\n",
      "(351384, 30, 10, 4612354.563285828)\n",
      "(351384, 30, 0, 160179963.598066)\n",
      "(348480, 30, 11, 7150144.471351415)\n",
      "(351384, 30, 9, <1x1 sparse matrix of type '<class 'numpy.float64'>'\n",
      "\twith 1 stored elements in Compressed Sparse Row format>)\n",
      "(351384, 30, 9, <1x1 sparse matrix of type '<class 'numpy.float64'>'\n",
      "\twith 1 stored elements in Compressed Sparse Row format>)\n",
      "(351384, 30, 10, 7087391.471817017)\n",
      "(351384, 30, 0, 209267031.82614926)\n",
      "(348480, 30, 1, 6270340.867233276)\n",
      "(348480, 30, 2, 6270340.867233276)\n"
     ]
    },
    {
     "name": "stderr",
     "output_type": "stream",
     "text": [
      "/mnt/colab/colab_shared/anaconda3/envs/caiman/lib/python3.11/site-packages/scipy/signal/_spectral_py.py:589: UserWarning: nperseg = 256 is greater than input length  = 69, using nperseg = 69\n",
      "  freqs, _, Pxy = _spectral_helper(x, y, fs, window, nperseg, noverlap,\n"
     ]
    },
    {
     "name": "stdout",
     "output_type": "stream",
     "text": [
      "(351384, 30, 10, 5150199.756973267)\n",
      "(351384, 30, 0, 227382879.19873354)\n",
      "(351384, 30, 9, <1x1 sparse matrix of type '<class 'numpy.float64'>'\n",
      "\twith 1 stored elements in Compressed Sparse Row format>)\n",
      "(351384, 30, 9, <1x1 sparse matrix of type '<class 'numpy.float64'>'\n",
      "\twith 1 stored elements in Compressed Sparse Row format>)\n",
      "(351384, 30, 10, 19573279.37954712)\n",
      "(351384, 30, 0, 477549556.33464265)\n",
      "(351384, 30, 10, 6960096.000411987)\n",
      "(351384, 30, 0, 221483328.80870366)\n",
      "(351384, 30, 9, <1x1 sparse matrix of type '<class 'numpy.float64'>'\n",
      "\twith 1 stored elements in Compressed Sparse Row format>)\n",
      "(351384, 30, 10, 7102857.945251465)\n",
      "(351384, 30, 0, 206475634.67938408)\n",
      "(351384, 30, 9, <1x1 sparse matrix of type '<class 'numpy.float64'>'\n",
      "\twith 1 stored elements in Compressed Sparse Row format>)\n",
      "(351384, 30, 10, 15921069.265045166)\n",
      "(351384, 30, 0, 447247769.4158614)\n",
      "(351384, 30, 9, <1x1 sparse matrix of type '<class 'numpy.float64'>'\n",
      "\twith 1 stored elements in Compressed Sparse Row format>)\n",
      "(351384, 30, 10, 5068888.300048828)\n",
      "(351384, 30, 0, 196069377.0525519)\n",
      "(351384, 30, 9, <1x1 sparse matrix of type '<class 'numpy.float64'>'\n",
      "\twith 1 stored elements in Compressed Sparse Row format>)\n",
      "(351384, 30, 10, 5045070.057861328)\n",
      "(351384, 30, 0, 141717539.08292294)\n",
      "(351384, 30, 11, 1840598.0050526722)\n",
      "(351384, 30, 1, 1401571.3050727844)\n",
      "(348480, 30, 9, <1x1 sparse matrix of type '<class 'numpy.float64'>'\n",
      "\twith 1 stored elements in Compressed Sparse Row format>)\n",
      "(351384, 30, 2, 1401571.3050727844)\n"
     ]
    },
    {
     "name": "stderr",
     "output_type": "stream",
     "text": [
      "/mnt/colab/colab_shared/anaconda3/envs/caiman/lib/python3.11/site-packages/scipy/signal/_spectral_py.py:589: UserWarning: nperseg = 256 is greater than input length  = 69, using nperseg = 69\n",
      "  freqs, _, Pxy = _spectral_helper(x, y, fs, window, nperseg, noverlap,\n",
      "/mnt/colab/colab_shared/anaconda3/envs/caiman/lib/python3.11/site-packages/scipy/sparse/_dia.py:277: RuntimeWarning: divide by zero encountered in remainder\n",
      "  c = np.arange(num_rows, dtype=np.intc) - (offsets % max_dim)[:, None]\n"
     ]
    },
    {
     "name": "stdout",
     "output_type": "stream",
     "text": [
      "(348480, 30, 10, 6270340.867233276)\n",
      "(348480, 30, 0, 256004107.96931428)\n",
      "(345600, 30, 11, 4432184.968575893)\n",
      "(348480, 30, 11, 4338190.541105289)\n",
      "(348480, 30, 1, 3672277.1120300293)\n",
      "(348480, 30, 2, 3672277.1120300293)\n"
     ]
    },
    {
     "name": "stderr",
     "output_type": "stream",
     "text": [
      "/mnt/colab/colab_shared/anaconda3/envs/caiman/lib/python3.11/site-packages/scipy/signal/_spectral_py.py:589: UserWarning: nperseg = 256 is greater than input length  = 69, using nperseg = 69\n",
      "  freqs, _, Pxy = _spectral_helper(x, y, fs, window, nperseg, noverlap,\n",
      "/mnt/colab/colab_shared/anaconda3/envs/caiman/lib/python3.11/site-packages/scipy/sparse/_dia.py:277: RuntimeWarning: divide by zero encountered in remainder\n",
      "  c = np.arange(num_rows, dtype=np.intc) - (offsets % max_dim)[:, None]\n"
     ]
    },
    {
     "name": "stdout",
     "output_type": "stream",
     "text": [
      "(345600, 30, 1, 3725278.4222869873)\n",
      "(345600, 30, 2, 3725278.4222869873)\n"
     ]
    },
    {
     "name": "stderr",
     "output_type": "stream",
     "text": [
      "/mnt/colab/colab_shared/anaconda3/envs/caiman/lib/python3.11/site-packages/scipy/signal/_spectral_py.py:589: UserWarning: nperseg = 256 is greater than input length  = 69, using nperseg = 69\n",
      "  freqs, _, Pxy = _spectral_helper(x, y, fs, window, nperseg, noverlap,\n",
      "/mnt/colab/colab_shared/anaconda3/envs/caiman/lib/python3.11/site-packages/scipy/sparse/_dia.py:277: RuntimeWarning: divide by zero encountered in remainder\n",
      "  c = np.arange(num_rows, dtype=np.intc) - (offsets % max_dim)[:, None]\n"
     ]
    },
    {
     "name": "stdout",
     "output_type": "stream",
     "text": [
      "(351384, 30, 11, 7192655.602374389)\n",
      "(351384, 30, 1, 5965894.921852112)\n",
      "(351384, 30, 2, 5965894.921852112)\n"
     ]
    },
    {
     "name": "stderr",
     "output_type": "stream",
     "text": [
      "/mnt/colab/colab_shared/anaconda3/envs/caiman/lib/python3.11/site-packages/scipy/signal/_spectral_py.py:589: UserWarning: nperseg = 256 is greater than input length  = 69, using nperseg = 69\n",
      "  freqs, _, Pxy = _spectral_helper(x, y, fs, window, nperseg, noverlap,\n",
      "/mnt/colab/colab_shared/anaconda3/envs/caiman/lib/python3.11/site-packages/scipy/sparse/_dia.py:277: RuntimeWarning: divide by zero encountered in remainder\n",
      "  c = np.arange(num_rows, dtype=np.intc) - (offsets % max_dim)[:, None]\n"
     ]
    },
    {
     "name": "stdout",
     "output_type": "stream",
     "text": [
      "(348480, 30, 11, 2205545.310393258)\n",
      "(348480, 30, 1, 1513056.0776405334)\n",
      "(348480, 30, 2, 1513056.0776405334)\n"
     ]
    },
    {
     "name": "stderr",
     "output_type": "stream",
     "text": [
      "/mnt/colab/colab_shared/anaconda3/envs/caiman/lib/python3.11/site-packages/scipy/signal/_spectral_py.py:589: UserWarning: nperseg = 256 is greater than input length  = 69, using nperseg = 69\n",
      "  freqs, _, Pxy = _spectral_helper(x, y, fs, window, nperseg, noverlap,\n",
      "/mnt/colab/colab_shared/anaconda3/envs/caiman/lib/python3.11/site-packages/scipy/sparse/_dia.py:277: RuntimeWarning: divide by zero encountered in remainder\n",
      "  c = np.arange(num_rows, dtype=np.intc) - (offsets % max_dim)[:, None]\n"
     ]
    },
    {
     "name": "stdout",
     "output_type": "stream",
     "text": [
      "(351384, 30, 11, 2840948.492883444)\n",
      "(351384, 30, 1, 2396622.9523468018)\n",
      "(351384, 30, 2, 2396622.9523468018)\n"
     ]
    },
    {
     "name": "stderr",
     "output_type": "stream",
     "text": [
      "/mnt/colab/colab_shared/anaconda3/envs/caiman/lib/python3.11/site-packages/scipy/signal/_spectral_py.py:589: UserWarning: nperseg = 256 is greater than input length  = 69, using nperseg = 69\n",
      "  freqs, _, Pxy = _spectral_helper(x, y, fs, window, nperseg, noverlap,\n",
      "/mnt/colab/colab_shared/anaconda3/envs/caiman/lib/python3.11/site-packages/scipy/sparse/_dia.py:277: RuntimeWarning: divide by zero encountered in remainder\n",
      "  c = np.arange(num_rows, dtype=np.intc) - (offsets % max_dim)[:, None]\n"
     ]
    },
    {
     "name": "stdout",
     "output_type": "stream",
     "text": [
      "(351384, 30, 11, 3013728.1761240615)\n",
      "(351384, 30, 11, 1551468.5391287794)\n",
      "(351384, 30, 1, 2648636.121623993)\n",
      "(351384, 30, 2, 2648636.121623993)\n"
     ]
    },
    {
     "name": "stderr",
     "output_type": "stream",
     "text": [
      "/mnt/colab/colab_shared/anaconda3/envs/caiman/lib/python3.11/site-packages/scipy/signal/_spectral_py.py:589: UserWarning: nperseg = 256 is greater than input length  = 69, using nperseg = 69\n",
      "  freqs, _, Pxy = _spectral_helper(x, y, fs, window, nperseg, noverlap,\n",
      "/mnt/colab/colab_shared/anaconda3/envs/caiman/lib/python3.11/site-packages/scipy/sparse/_dia.py:277: RuntimeWarning: divide by zero encountered in remainder\n",
      "  c = np.arange(num_rows, dtype=np.intc) - (offsets % max_dim)[:, None]\n"
     ]
    },
    {
     "name": "stdout",
     "output_type": "stream",
     "text": [
      "(348480, 30, 11, 3709747.798074471)\n",
      "(351384, 30, 1, 1051095.0570831299)\n",
      "(351384, 30, 2, 1051095.0570831299)\n"
     ]
    },
    {
     "name": "stderr",
     "output_type": "stream",
     "text": [
      "/mnt/colab/colab_shared/anaconda3/envs/caiman/lib/python3.11/site-packages/scipy/signal/_spectral_py.py:589: UserWarning: nperseg = 256 is greater than input length  = 69, using nperseg = 69\n",
      "  freqs, _, Pxy = _spectral_helper(x, y, fs, window, nperseg, noverlap,\n",
      "/mnt/colab/colab_shared/anaconda3/envs/caiman/lib/python3.11/site-packages/scipy/sparse/_dia.py:277: RuntimeWarning: divide by zero encountered in remainder\n",
      "  c = np.arange(num_rows, dtype=np.intc) - (offsets % max_dim)[:, None]\n"
     ]
    },
    {
     "name": "stdout",
     "output_type": "stream",
     "text": [
      "(348480, 30, 1, 2837589.3254241943)\n",
      "(348480, 30, 2, 2837589.3254241943)\n"
     ]
    },
    {
     "name": "stderr",
     "output_type": "stream",
     "text": [
      "/mnt/colab/colab_shared/anaconda3/envs/caiman/lib/python3.11/site-packages/scipy/signal/_spectral_py.py:589: UserWarning: nperseg = 256 is greater than input length  = 69, using nperseg = 69\n",
      "  freqs, _, Pxy = _spectral_helper(x, y, fs, window, nperseg, noverlap,\n",
      "/mnt/colab/colab_shared/anaconda3/envs/caiman/lib/python3.11/site-packages/scipy/sparse/_dia.py:277: RuntimeWarning: divide by zero encountered in remainder\n",
      "  c = np.arange(num_rows, dtype=np.intc) - (offsets % max_dim)[:, None]\n"
     ]
    },
    {
     "name": "stdout",
     "output_type": "stream",
     "text": [
      "(348480, 30, 11, 5452930.613605545)\n",
      "(348480, 30, 11, 13959480.109231643)\n",
      "(348480, 30, 1, 4680820.522132874)\n",
      "(348480, 30, 2, 4680820.522132874)\n"
     ]
    },
    {
     "name": "stderr",
     "output_type": "stream",
     "text": [
      "/mnt/colab/colab_shared/anaconda3/envs/caiman/lib/python3.11/site-packages/scipy/signal/_spectral_py.py:589: UserWarning: nperseg = 256 is greater than input length  = 69, using nperseg = 69\n",
      "  freqs, _, Pxy = _spectral_helper(x, y, fs, window, nperseg, noverlap,\n",
      "/mnt/colab/colab_shared/anaconda3/envs/caiman/lib/python3.11/site-packages/scipy/sparse/_dia.py:277: RuntimeWarning: divide by zero encountered in remainder\n",
      "  c = np.arange(num_rows, dtype=np.intc) - (offsets % max_dim)[:, None]\n"
     ]
    },
    {
     "name": "stdout",
     "output_type": "stream",
     "text": [
      "(348480, 30, 1, 11625210.025543213)\n",
      "(348480, 30, 2, 11625210.025543213)\n"
     ]
    },
    {
     "name": "stderr",
     "output_type": "stream",
     "text": [
      "/mnt/colab/colab_shared/anaconda3/envs/caiman/lib/python3.11/site-packages/scipy/signal/_spectral_py.py:589: UserWarning: nperseg = 256 is greater than input length  = 69, using nperseg = 69\n",
      "  freqs, _, Pxy = _spectral_helper(x, y, fs, window, nperseg, noverlap,\n",
      "/mnt/colab/colab_shared/anaconda3/envs/caiman/lib/python3.11/site-packages/scipy/sparse/_dia.py:277: RuntimeWarning: divide by zero encountered in remainder\n",
      "  c = np.arange(num_rows, dtype=np.intc) - (offsets % max_dim)[:, None]\n"
     ]
    },
    {
     "name": "stdout",
     "output_type": "stream",
     "text": [
      "(348480, 30, 11, 1471246.129543556)\n",
      "(348480, 30, 1, 1008443.1888504028)\n",
      "(348480, 30, 2, 1008443.1888504028)\n"
     ]
    },
    {
     "name": "stderr",
     "output_type": "stream",
     "text": [
      "/mnt/colab/colab_shared/anaconda3/envs/caiman/lib/python3.11/site-packages/scipy/signal/_spectral_py.py:589: UserWarning: nperseg = 256 is greater than input length  = 69, using nperseg = 69\n",
      "  freqs, _, Pxy = _spectral_helper(x, y, fs, window, nperseg, noverlap,\n",
      "/mnt/colab/colab_shared/anaconda3/envs/caiman/lib/python3.11/site-packages/scipy/sparse/_dia.py:277: RuntimeWarning: divide by zero encountered in remainder\n",
      "  c = np.arange(num_rows, dtype=np.intc) - (offsets % max_dim)[:, None]\n"
     ]
    },
    {
     "name": "stdout",
     "output_type": "stream",
     "text": [
      "(351384, 30, 11, 9821879.491028938)\n",
      "(351384, 30, 1, 8619149.47266388)\n",
      "(351384, 30, 2, 8619149.47266388)\n"
     ]
    },
    {
     "name": "stderr",
     "output_type": "stream",
     "text": [
      "/mnt/colab/colab_shared/anaconda3/envs/caiman/lib/python3.11/site-packages/scipy/signal/_spectral_py.py:589: UserWarning: nperseg = 256 is greater than input length  = 69, using nperseg = 69\n",
      "  freqs, _, Pxy = _spectral_helper(x, y, fs, window, nperseg, noverlap,\n",
      "/mnt/colab/colab_shared/anaconda3/envs/caiman/lib/python3.11/site-packages/scipy/sparse/_dia.py:277: RuntimeWarning: divide by zero encountered in remainder\n",
      "  c = np.arange(num_rows, dtype=np.intc) - (offsets % max_dim)[:, None]\n"
     ]
    },
    {
     "name": "stdout",
     "output_type": "stream",
     "text": [
      "(351384, 30, 11, 8135947.10271523)\n",
      "(351384, 30, 1, 7359714.816734314)\n",
      "(351384, 30, 2, 7359714.816734314)\n"
     ]
    },
    {
     "name": "stderr",
     "output_type": "stream",
     "text": [
      "/mnt/colab/colab_shared/anaconda3/envs/caiman/lib/python3.11/site-packages/scipy/signal/_spectral_py.py:589: UserWarning: nperseg = 256 is greater than input length  = 69, using nperseg = 69\n",
      "  freqs, _, Pxy = _spectral_helper(x, y, fs, window, nperseg, noverlap,\n",
      "/mnt/colab/colab_shared/anaconda3/envs/caiman/lib/python3.11/site-packages/scipy/sparse/_dia.py:277: RuntimeWarning: divide by zero encountered in remainder\n",
      "  c = np.arange(num_rows, dtype=np.intc) - (offsets % max_dim)[:, None]\n"
     ]
    },
    {
     "name": "stdout",
     "output_type": "stream",
     "text": [
      "(351384, 30, 11, 7568888.007415898)\n",
      "(348480, 30, 11, 623090.3579551764)\n",
      "(351384, 30, 1, 6714945.572349548)\n",
      "(351384, 30, 2, 6714945.572349548)\n"
     ]
    },
    {
     "name": "stderr",
     "output_type": "stream",
     "text": [
      "/mnt/colab/colab_shared/anaconda3/envs/caiman/lib/python3.11/site-packages/scipy/signal/_spectral_py.py:589: UserWarning: nperseg = 256 is greater than input length  = 69, using nperseg = 69\n",
      "  freqs, _, Pxy = _spectral_helper(x, y, fs, window, nperseg, noverlap,\n",
      "/mnt/colab/colab_shared/anaconda3/envs/caiman/lib/python3.11/site-packages/scipy/sparse/_dia.py:277: RuntimeWarning: divide by zero encountered in remainder\n",
      "  c = np.arange(num_rows, dtype=np.intc) - (offsets % max_dim)[:, None]\n"
     ]
    },
    {
     "name": "stdout",
     "output_type": "stream",
     "text": [
      "(348480, 30, 1, 395762.8636608124)\n",
      "(348480, 30, 2, 395762.8636608124)\n"
     ]
    },
    {
     "name": "stderr",
     "output_type": "stream",
     "text": [
      "/mnt/colab/colab_shared/anaconda3/envs/caiman/lib/python3.11/site-packages/scipy/signal/_spectral_py.py:589: UserWarning: nperseg = 256 is greater than input length  = 69, using nperseg = 69\n",
      "  freqs, _, Pxy = _spectral_helper(x, y, fs, window, nperseg, noverlap,\n",
      "/mnt/colab/colab_shared/anaconda3/envs/caiman/lib/python3.11/site-packages/scipy/sparse/_dia.py:277: RuntimeWarning: divide by zero encountered in remainder\n",
      "  c = np.arange(num_rows, dtype=np.intc) - (offsets % max_dim)[:, None]\n"
     ]
    },
    {
     "name": "stdout",
     "output_type": "stream",
     "text": [
      "(348480, 30, 11, 12062589.885783374)\n",
      "(351384, 30, 11, 5690514.659741655)\n",
      "(348480, 30, 1, 10833733.80834961)\n",
      "(348480, 30, 2, 10833733.80834961)\n"
     ]
    },
    {
     "name": "stderr",
     "output_type": "stream",
     "text": [
      "/mnt/colab/colab_shared/anaconda3/envs/caiman/lib/python3.11/site-packages/scipy/signal/_spectral_py.py:589: UserWarning: nperseg = 256 is greater than input length  = 69, using nperseg = 69\n",
      "  freqs, _, Pxy = _spectral_helper(x, y, fs, window, nperseg, noverlap,\n",
      "/mnt/colab/colab_shared/anaconda3/envs/caiman/lib/python3.11/site-packages/scipy/sparse/_dia.py:277: RuntimeWarning: divide by zero encountered in remainder\n",
      "  c = np.arange(num_rows, dtype=np.intc) - (offsets % max_dim)[:, None]\n"
     ]
    },
    {
     "name": "stdout",
     "output_type": "stream",
     "text": [
      "(351384, 30, 11, 5140442.293149329)\n",
      "(351384, 30, 1, 4875986.768951416)\n",
      "(351384, 30, 2, 4875986.768951416)\n"
     ]
    },
    {
     "name": "stderr",
     "output_type": "stream",
     "text": [
      "/mnt/colab/colab_shared/anaconda3/envs/caiman/lib/python3.11/site-packages/scipy/signal/_spectral_py.py:589: UserWarning: nperseg = 256 is greater than input length  = 69, using nperseg = 69\n",
      "  freqs, _, Pxy = _spectral_helper(x, y, fs, window, nperseg, noverlap,\n",
      "/mnt/colab/colab_shared/anaconda3/envs/caiman/lib/python3.11/site-packages/scipy/sparse/_dia.py:277: RuntimeWarning: divide by zero encountered in remainder\n",
      "  c = np.arange(num_rows, dtype=np.intc) - (offsets % max_dim)[:, None]\n"
     ]
    },
    {
     "name": "stdout",
     "output_type": "stream",
     "text": [
      "(351384, 30, 1, 4423757.746559143)\n",
      "(351384, 30, 2, 4423757.746559143)\n"
     ]
    },
    {
     "name": "stderr",
     "output_type": "stream",
     "text": [
      "/mnt/colab/colab_shared/anaconda3/envs/caiman/lib/python3.11/site-packages/scipy/signal/_spectral_py.py:589: UserWarning: nperseg = 256 is greater than input length  = 69, using nperseg = 69\n",
      "  freqs, _, Pxy = _spectral_helper(x, y, fs, window, nperseg, noverlap,\n",
      "/mnt/colab/colab_shared/anaconda3/envs/caiman/lib/python3.11/site-packages/scipy/sparse/_dia.py:277: RuntimeWarning: divide by zero encountered in remainder\n",
      "  c = np.arange(num_rows, dtype=np.intc) - (offsets % max_dim)[:, None]\n"
     ]
    },
    {
     "name": "stdout",
     "output_type": "stream",
     "text": [
      "(351384, 30, 11, 20249472.566081688)\n",
      "(351384, 30, 1, 18543793.350830078)\n",
      "(351384, 30, 2, 18543793.350830078)\n"
     ]
    },
    {
     "name": "stderr",
     "output_type": "stream",
     "text": [
      "/mnt/colab/colab_shared/anaconda3/envs/caiman/lib/python3.11/site-packages/scipy/signal/_spectral_py.py:589: UserWarning: nperseg = 256 is greater than input length  = 69, using nperseg = 69\n",
      "  freqs, _, Pxy = _spectral_helper(x, y, fs, window, nperseg, noverlap,\n",
      "/mnt/colab/colab_shared/anaconda3/envs/caiman/lib/python3.11/site-packages/scipy/sparse/_dia.py:277: RuntimeWarning: divide by zero encountered in remainder\n",
      "  c = np.arange(num_rows, dtype=np.intc) - (offsets % max_dim)[:, None]\n"
     ]
    },
    {
     "name": "stdout",
     "output_type": "stream",
     "text": [
      "(351384, 30, 11, 6170130.577418523)\n",
      "(351384, 30, 1, 5211998.129646301)\n",
      "(351384, 30, 2, 5211998.129646301)\n"
     ]
    },
    {
     "name": "stderr",
     "output_type": "stream",
     "text": [
      "/mnt/colab/colab_shared/anaconda3/envs/caiman/lib/python3.11/site-packages/scipy/signal/_spectral_py.py:589: UserWarning: nperseg = 256 is greater than input length  = 69, using nperseg = 69\n",
      "  freqs, _, Pxy = _spectral_helper(x, y, fs, window, nperseg, noverlap,\n",
      "/mnt/colab/colab_shared/anaconda3/envs/caiman/lib/python3.11/site-packages/scipy/sparse/_dia.py:277: RuntimeWarning: divide by zero encountered in remainder\n",
      "  c = np.arange(num_rows, dtype=np.intc) - (offsets % max_dim)[:, None]\n"
     ]
    },
    {
     "name": "stdout",
     "output_type": "stream",
     "text": [
      "(351384, 30, 11, 14438894.004245162)\n",
      "(351384, 30, 11, 20611755.19403797)\n",
      "(351384, 30, 1, 12239190.07788086)\n",
      "(351384, 30, 2, 12239190.07788086)\n"
     ]
    },
    {
     "name": "stderr",
     "output_type": "stream",
     "text": [
      "/mnt/colab/colab_shared/anaconda3/envs/caiman/lib/python3.11/site-packages/scipy/signal/_spectral_py.py:589: UserWarning: nperseg = 256 is greater than input length  = 69, using nperseg = 69\n",
      "  freqs, _, Pxy = _spectral_helper(x, y, fs, window, nperseg, noverlap,\n",
      "/mnt/colab/colab_shared/anaconda3/envs/caiman/lib/python3.11/site-packages/scipy/sparse/_dia.py:277: RuntimeWarning: divide by zero encountered in remainder\n",
      "  c = np.arange(num_rows, dtype=np.intc) - (offsets % max_dim)[:, None]\n"
     ]
    },
    {
     "name": "stdout",
     "output_type": "stream",
     "text": [
      "(351384, 30, 1, 18933953.938171387)\n",
      "(351384, 30, 2, 18933953.938171387)\n"
     ]
    },
    {
     "name": "stderr",
     "output_type": "stream",
     "text": [
      "/mnt/colab/colab_shared/anaconda3/envs/caiman/lib/python3.11/site-packages/scipy/signal/_spectral_py.py:589: UserWarning: nperseg = 256 is greater than input length  = 69, using nperseg = 69\n",
      "  freqs, _, Pxy = _spectral_helper(x, y, fs, window, nperseg, noverlap,\n",
      "/mnt/colab/colab_shared/anaconda3/envs/caiman/lib/python3.11/site-packages/scipy/sparse/_dia.py:277: RuntimeWarning: divide by zero encountered in remainder\n",
      "  c = np.arange(num_rows, dtype=np.intc) - (offsets % max_dim)[:, None]\n"
     ]
    },
    {
     "name": "stdout",
     "output_type": "stream",
     "text": [
      "(351384, 30, 11, 9296693.297136756)\n",
      "(351384, 30, 1, 7737559.86138916)\n",
      "(351384, 30, 2, 7737559.86138916)\n"
     ]
    },
    {
     "name": "stderr",
     "output_type": "stream",
     "text": [
      "/mnt/colab/colab_shared/anaconda3/envs/caiman/lib/python3.11/site-packages/scipy/signal/_spectral_py.py:589: UserWarning: nperseg = 256 is greater than input length  = 69, using nperseg = 69\n",
      "  freqs, _, Pxy = _spectral_helper(x, y, fs, window, nperseg, noverlap,\n",
      "/mnt/colab/colab_shared/anaconda3/envs/caiman/lib/python3.11/site-packages/scipy/sparse/_dia.py:277: RuntimeWarning: divide by zero encountered in remainder\n",
      "  c = np.arange(num_rows, dtype=np.intc) - (offsets % max_dim)[:, None]\n"
     ]
    },
    {
     "name": "stdout",
     "output_type": "stream",
     "text": [
      "(351384, 30, 11, 18114018.50174413)\n",
      "(351384, 30, 1, 16079631.623474121)\n",
      "(351384, 30, 2, 16079631.623474121)\n"
     ]
    },
    {
     "name": "stderr",
     "output_type": "stream",
     "text": [
      "/mnt/colab/colab_shared/anaconda3/envs/caiman/lib/python3.11/site-packages/scipy/signal/_spectral_py.py:589: UserWarning: nperseg = 256 is greater than input length  = 69, using nperseg = 69\n",
      "  freqs, _, Pxy = _spectral_helper(x, y, fs, window, nperseg, noverlap,\n",
      "/mnt/colab/colab_shared/anaconda3/envs/caiman/lib/python3.11/site-packages/scipy/sparse/_dia.py:277: RuntimeWarning: divide by zero encountered in remainder\n",
      "  c = np.arange(num_rows, dtype=np.intc) - (offsets % max_dim)[:, None]\n"
     ]
    },
    {
     "name": "stdout",
     "output_type": "stream",
     "text": [
      "(351384, 30, 11, 9131840.834021948)\n",
      "(351384, 30, 11, 5648912.978124726)\n",
      "(351384, 30, 1, 7679899.443664551)\n",
      "(351384, 30, 2, 7679899.443664551)\n"
     ]
    },
    {
     "name": "stderr",
     "output_type": "stream",
     "text": [
      "/mnt/colab/colab_shared/anaconda3/envs/caiman/lib/python3.11/site-packages/scipy/signal/_spectral_py.py:589: UserWarning: nperseg = 256 is greater than input length  = 69, using nperseg = 69\n",
      "  freqs, _, Pxy = _spectral_helper(x, y, fs, window, nperseg, noverlap,\n",
      "/mnt/colab/colab_shared/anaconda3/envs/caiman/lib/python3.11/site-packages/scipy/sparse/_dia.py:277: RuntimeWarning: divide by zero encountered in remainder\n",
      "  c = np.arange(num_rows, dtype=np.intc) - (offsets % max_dim)[:, None]\n"
     ]
    },
    {
     "name": "stdout",
     "output_type": "stream",
     "text": [
      "(351384, 30, 1, 4756451.529884338)\n",
      "(351384, 30, 2, 4756451.529884338)\n"
     ]
    },
    {
     "name": "stderr",
     "output_type": "stream",
     "text": [
      "/mnt/colab/colab_shared/anaconda3/envs/caiman/lib/python3.11/site-packages/scipy/signal/_spectral_py.py:589: UserWarning: nperseg = 256 is greater than input length  = 69, using nperseg = 69\n",
      "  freqs, _, Pxy = _spectral_helper(x, y, fs, window, nperseg, noverlap,\n",
      "/mnt/colab/colab_shared/anaconda3/envs/caiman/lib/python3.11/site-packages/scipy/sparse/_dia.py:277: RuntimeWarning: divide by zero encountered in remainder\n",
      "  c = np.arange(num_rows, dtype=np.intc) - (offsets % max_dim)[:, None]\n"
     ]
    },
    {
     "name": "stdout",
     "output_type": "stream",
     "text": [
      "(351384, 30, 11, 7740154.871379951)\n",
      "(351384, 30, 1, 6858474.524856567)\n",
      "(351384, 30, 2, 6858474.524856567)\n"
     ]
    },
    {
     "name": "stderr",
     "output_type": "stream",
     "text": [
      "/mnt/colab/colab_shared/anaconda3/envs/caiman/lib/python3.11/site-packages/scipy/signal/_spectral_py.py:589: UserWarning: nperseg = 256 is greater than input length  = 69, using nperseg = 69\n",
      "  freqs, _, Pxy = _spectral_helper(x, y, fs, window, nperseg, noverlap,\n",
      "/mnt/colab/colab_shared/anaconda3/envs/caiman/lib/python3.11/site-packages/scipy/sparse/_dia.py:277: RuntimeWarning: divide by zero encountered in remainder\n",
      "  c = np.arange(num_rows, dtype=np.intc) - (offsets % max_dim)[:, None]\n"
     ]
    },
    {
     "name": "stdout",
     "output_type": "stream",
     "text": [
      "(351384, 30, 11, 6887651.101190448)\n",
      "(351384, 30, 1, 5896522.711929321)\n",
      "(351384, 30, 2, 5896522.711929321)\n"
     ]
    },
    {
     "name": "stderr",
     "output_type": "stream",
     "text": [
      "/mnt/colab/colab_shared/anaconda3/envs/caiman/lib/python3.11/site-packages/scipy/signal/_spectral_py.py:589: UserWarning: nperseg = 256 is greater than input length  = 69, using nperseg = 69\n",
      "  freqs, _, Pxy = _spectral_helper(x, y, fs, window, nperseg, noverlap,\n",
      "/mnt/colab/colab_shared/anaconda3/envs/caiman/lib/python3.11/site-packages/scipy/sparse/_dia.py:277: RuntimeWarning: divide by zero encountered in remainder\n",
      "  c = np.arange(num_rows, dtype=np.intc) - (offsets % max_dim)[:, None]\n"
     ]
    },
    {
     "name": "stdout",
     "output_type": "stream",
     "text": [
      "(348480, 30, 11, 7435945.475520015)\n",
      "(348480, 30, 1, 6545559.767601013)\n",
      "(348480, 30, 2, 6545559.767601013)\n"
     ]
    },
    {
     "name": "stderr",
     "output_type": "stream",
     "text": [
      "/mnt/colab/colab_shared/anaconda3/envs/caiman/lib/python3.11/site-packages/scipy/signal/_spectral_py.py:589: UserWarning: nperseg = 256 is greater than input length  = 69, using nperseg = 69\n",
      "  freqs, _, Pxy = _spectral_helper(x, y, fs, window, nperseg, noverlap,\n",
      "/mnt/colab/colab_shared/anaconda3/envs/caiman/lib/python3.11/site-packages/scipy/sparse/_dia.py:277: RuntimeWarning: divide by zero encountered in remainder\n",
      "  c = np.arange(num_rows, dtype=np.intc) - (offsets % max_dim)[:, None]\n",
      "/mnt/colab/colab_shared/anaconda3/envs/caiman/lib/python3.11/site-packages/scipy/sparse/_dia.py:277: RuntimeWarning: divide by zero encountered in remainder\n",
      "  c = np.arange(num_rows, dtype=np.intc) - (offsets % max_dim)[:, None]\n"
     ]
    },
    {
     "data": {
      "image/png": "[encoded data removed]",
      "text/plain": [
       "<Figure size 640x480 with 1 Axes>"
      ]
     },
     "metadata": {},
     "output_type": "display_data"
    },
    {
     "name": "stdout",
     "output_type": "stream",
     "text": [
      "Keeping  553  components\n",
      "Saved to: /mnt/hdd_cache/pkalugin/preprocessing/20230819_PL43_wells001/ch0_means_movie_nobg_cnmf.hdf5\n"
     ]
    },
    {
     "name": "stderr",
     "output_type": "stream",
     "text": [
      "/mnt/colab/colab_shared/anaconda3/envs/caiman/lib/python3.11/site-packages/skimage/measure/block.py:90: RuntimeWarning: All-NaN slice encountered\n",
      "  return func(blocked, axis=tuple(range(image.ndim, blocked.ndim)),\n",
      "\n",
      "Interpolating background...:   0%|                                           | 0/63 [00:00<?, ?it/s]\u001b[A/mnt/colab/colab_shared/anaconda3/envs/caiman/lib/python3.11/site-packages/skimage/measure/block.py:90: RuntimeWarning: All-NaN slice encountered\n",
      "  return func(blocked, axis=tuple(range(image.ndim, blocked.ndim)),\n",
      "/mnt/colab/colab_shared/anaconda3/envs/caiman/lib/python3.11/site-packages/skimage/measure/block.py:90: RuntimeWarning: All-NaN slice encountered\n",
      "  return func(blocked, axis=tuple(range(image.ndim, blocked.ndim)),\n",
      "/mnt/colab/colab_shared/anaconda3/envs/caiman/lib/python3.11/site-packages/skimage/measure/block.py:90: RuntimeWarning: All-NaN slice encountered\n",
      "  return func(blocked, axis=tuple(range(image.ndim, blocked.ndim)),\n",
      "/mnt/colab/colab_shared/anaconda3/envs/caiman/lib/python3.11/site-packages/skimage/measure/block.py:90: RuntimeWarning: All-NaN slice encountered\n",
      "  return func(blocked, axis=tuple(range(image.ndim, blocked.ndim)),\n",
      "/mnt/colab/colab_shared/anaconda3/envs/caiman/lib/python3.11/site-packages/skimage/measure/block.py:90: RuntimeWarning: All-NaN slice encountered\n",
      "  return func(blocked, axis=tuple(range(image.ndim, blocked.ndim)),\n",
      "/mnt/colab/colab_shared/anaconda3/envs/caiman/lib/python3.11/site-packages/skimage/measure/block.py:90: RuntimeWarning: All-NaN slice encountered\n",
      "  return func(blocked, axis=tuple(range(image.ndim, blocked.ndim)),\n",
      "/mnt/colab/colab_shared/anaconda3/envs/caiman/lib/python3.11/site-packages/skimage/measure/block.py:90: RuntimeWarning: All-NaN slice encountered\n",
      "  return func(blocked, axis=tuple(range(image.ndim, blocked.ndim)),\n",
      "/mnt/colab/colab_shared/anaconda3/envs/caiman/lib/python3.11/site-packages/skimage/measure/block.py:90: RuntimeWarning: All-NaN slice encountered\n",
      "  return func(blocked, axis=tuple(range(image.ndim, blocked.ndim)),\n",
      "/mnt/colab/colab_shared/anaconda3/envs/caiman/lib/python3.11/site-packages/skimage/measure/block.py:90: RuntimeWarning: All-NaN slice encountered\n",
      "  return func(blocked, axis=tuple(range(image.ndim, blocked.ndim)),\n",
      "/mnt/colab/colab_shared/anaconda3/envs/caiman/lib/python3.11/site-packages/skimage/measure/block.py:90: RuntimeWarning: All-NaN slice encountered\n",
      "  return func(blocked, axis=tuple(range(image.ndim, blocked.ndim)),\n",
      "/mnt/colab/colab_shared/anaconda3/envs/caiman/lib/python3.11/site-packages/skimage/measure/block.py:90: RuntimeWarning: All-NaN slice encountered\n",
      "  return func(blocked, axis=tuple(range(image.ndim, blocked.ndim)),\n",
      "/mnt/colab/colab_shared/anaconda3/envs/caiman/lib/python3.11/site-packages/skimage/measure/block.py:90: RuntimeWarning: All-NaN slice encountered\n",
      "  return func(blocked, axis=tuple(range(image.ndim, blocked.ndim)),\n",
      "/mnt/colab/colab_shared/anaconda3/envs/caiman/lib/python3.11/site-packages/skimage/measure/block.py:90: RuntimeWarning: All-NaN slice encountered\n",
      "  return func(blocked, axis=tuple(range(image.ndim, blocked.ndim)),\n",
      "/mnt/colab/colab_shared/anaconda3/envs/caiman/lib/python3.11/site-packages/skimage/measure/block.py:90: RuntimeWarning: All-NaN slice encountered\n",
      "  return func(blocked, axis=tuple(range(image.ndim, blocked.ndim)),\n",
      "/mnt/colab/colab_shared/anaconda3/envs/caiman/lib/python3.11/site-packages/skimage/measure/block.py:90: RuntimeWarning: All-NaN slice encountered\n",
      "  return func(blocked, axis=tuple(range(image.ndim, blocked.ndim)),\n",
      "/mnt/colab/colab_shared/anaconda3/envs/caiman/lib/python3.11/site-packages/skimage/measure/block.py:90: RuntimeWarning: All-NaN slice encountered\n",
      "  return func(blocked, axis=tuple(range(image.ndim, blocked.ndim)),\n",
      "/mnt/colab/colab_shared/anaconda3/envs/caiman/lib/python3.11/site-packages/skimage/measure/block.py:90: RuntimeWarning: All-NaN slice encountered\n",
      "  return func(blocked, axis=tuple(range(image.ndim, blocked.ndim)),\n",
      "/mnt/colab/colab_shared/anaconda3/envs/caiman/lib/python3.11/site-packages/skimage/measure/block.py:90: RuntimeWarning: All-NaN slice encountered\n",
      "  return func(blocked, axis=tuple(range(image.ndim, blocked.ndim)),\n",
      "/mnt/colab/colab_shared/anaconda3/envs/caiman/lib/python3.11/site-packages/skimage/measure/block.py:90: RuntimeWarning: All-NaN slice encountered\n",
      "  return func(blocked, axis=tuple(range(image.ndim, blocked.ndim)),\n",
      "/mnt/colab/colab_shared/anaconda3/envs/caiman/lib/python3.11/site-packages/skimage/measure/block.py:90: RuntimeWarning: All-NaN slice encountered\n",
      "  return func(blocked, axis=tuple(range(image.ndim, blocked.ndim)),\n",
      "/mnt/colab/colab_shared/anaconda3/envs/caiman/lib/python3.11/site-packages/skimage/measure/block.py:90: RuntimeWarning: All-NaN slice encountered\n",
      "  return func(blocked, axis=tuple(range(image.ndim, blocked.ndim)),\n",
      "/mnt/colab/colab_shared/anaconda3/envs/caiman/lib/python3.11/site-packages/skimage/measure/block.py:90: RuntimeWarning: All-NaN slice encountered\n",
      "  return func(blocked, axis=tuple(range(image.ndim, blocked.ndim)),\n",
      "/mnt/colab/colab_shared/anaconda3/envs/caiman/lib/python3.11/site-packages/skimage/measure/block.py:90: RuntimeWarning: All-NaN slice encountered\n",
      "  return func(blocked, axis=tuple(range(image.ndim, blocked.ndim)),\n",
      "/mnt/colab/colab_shared/anaconda3/envs/caiman/lib/python3.11/site-packages/skimage/measure/block.py:90: RuntimeWarning: All-NaN slice encountered\n",
      "  return func(blocked, axis=tuple(range(image.ndim, blocked.ndim)),\n",
      "/mnt/colab/colab_shared/anaconda3/envs/caiman/lib/python3.11/site-packages/skimage/measure/block.py:90: RuntimeWarning: All-NaN slice encountered\n",
      "  return func(blocked, axis=tuple(range(image.ndim, blocked.ndim)),\n",
      "/mnt/colab/colab_shared/anaconda3/envs/caiman/lib/python3.11/site-packages/skimage/measure/block.py:90: RuntimeWarning: All-NaN slice encountered\n",
      "  return func(blocked, axis=tuple(range(image.ndim, blocked.ndim)),\n",
      "/mnt/colab/colab_shared/anaconda3/envs/caiman/lib/python3.11/site-packages/skimage/measure/block.py:90: RuntimeWarning: All-NaN slice encountered\n",
      "  return func(blocked, axis=tuple(range(image.ndim, blocked.ndim)),\n",
      "/mnt/colab/colab_shared/anaconda3/envs/caiman/lib/python3.11/site-packages/skimage/measure/block.py:90: RuntimeWarning: All-NaN slice encountered\n",
      "  return func(blocked, axis=tuple(range(image.ndim, blocked.ndim)),\n",
      "/mnt/colab/colab_shared/anaconda3/envs/caiman/lib/python3.11/site-packages/skimage/measure/block.py:90: RuntimeWarning: All-NaN slice encountered\n",
      "  return func(blocked, axis=tuple(range(image.ndim, blocked.ndim)),\n",
      "/mnt/colab/colab_shared/anaconda3/envs/caiman/lib/python3.11/site-packages/skimage/measure/block.py:90: RuntimeWarning: All-NaN slice encountered\n",
      "  return func(blocked, axis=tuple(range(image.ndim, blocked.ndim)),\n",
      "\n",
      "Interpolating background...:   2%|▌                               | 1/63 [02:04<2:08:29, 124.35s/it]\u001b[A\n",
      "Interpolating background...:   3%|█                                  | 2/63 [02:10<55:50, 54.93s/it]\u001b[A\n",
      "Interpolating background...:   5%|█▋                                 | 3/63 [02:25<36:37, 36.62s/it]\u001b[A\n",
      "Interpolating background...:   6%|██▏                                | 4/63 [02:37<26:27, 26.90s/it]\u001b[A\n",
      "Interpolating background...:   8%|██▊                                | 5/63 [02:40<17:34, 18.19s/it]\u001b[A\n",
      "Interpolating background...:  10%|███▎                               | 6/63 [02:40<11:38, 12.25s/it]\u001b[A\n",
      "Interpolating background...:  11%|███▉                               | 7/63 [02:50<10:40, 11.44s/it]\u001b[A\n",
      "Interpolating background...:  13%|████▍                              | 8/63 [02:50<07:11,  7.85s/it]\u001b[A\n",
      "Interpolating background...:  14%|█████                              | 9/63 [02:51<04:55,  5.47s/it]\u001b[A\n",
      "Interpolating background...:  16%|█████▍                            | 10/63 [02:51<03:25,  3.87s/it]\u001b[A\n",
      "Interpolating background...:  17%|█████▉                            | 11/63 [02:53<02:51,  3.30s/it]\u001b[A\n",
      "Interpolating background...:  19%|██████▍                           | 12/63 [02:57<03:04,  3.62s/it]\u001b[A\n",
      "Interpolating background...:  21%|███████                           | 13/63 [03:00<02:41,  3.23s/it]\u001b[A\n",
      "Interpolating background...:  22%|███████▌                          | 14/63 [03:03<02:35,  3.18s/it]\u001b[A\n",
      "Interpolating background...:  24%|████████                          | 15/63 [03:11<03:53,  4.86s/it]\u001b[A\n",
      "Interpolating background...:  25%|████████▋                         | 16/63 [03:15<03:28,  4.45s/it]\u001b[A\n",
      "Interpolating background...:  27%|█████████▏                        | 17/63 [03:15<02:25,  3.16s/it]\u001b[A\n",
      "Interpolating background...:  29%|█████████▋                        | 18/63 [03:19<02:28,  3.30s/it]\u001b[A\n",
      "Interpolating background...:  30%|██████████▎                       | 19/63 [03:23<02:40,  3.65s/it]\u001b[A\n",
      "Interpolating background...:  32%|██████████▊                       | 20/63 [03:26<02:22,  3.31s/it]\u001b[A\n",
      "Interpolating background...:  33%|███████████▎                      | 21/63 [03:28<02:01,  2.90s/it]\u001b[A\n",
      "Interpolating background...:  35%|███████████▊                      | 22/63 [03:28<01:25,  2.09s/it]\u001b[A\n",
      "Interpolating background...:  37%|████████████▍                     | 23/63 [03:32<01:47,  2.69s/it]\u001b[A\n",
      "Interpolating background...:  38%|████████████▉                     | 24/63 [03:33<01:20,  2.07s/it]\u001b[A\n",
      "Interpolating background...:  40%|█████████████▍                    | 25/63 [03:33<01:03,  1.67s/it]\u001b[A\n",
      "Interpolating background...:  41%|██████████████                    | 26/63 [03:35<00:57,  1.54s/it]\u001b[A\n",
      "Interpolating background...:  43%|██████████████▌                   | 27/63 [03:38<01:13,  2.05s/it]\u001b[A\n",
      "Interpolating background...:  44%|███████████████                   | 28/63 [03:44<01:55,  3.29s/it]\u001b[A\n",
      "Interpolating background...:  46%|███████████████▋                  | 29/63 [03:47<01:44,  3.08s/it]\u001b[A\n",
      "Interpolating background...:  48%|████████████████▏                 | 30/63 [03:49<01:34,  2.86s/it]\u001b[A\n",
      "Interpolating background...:  49%|████████████████▋                 | 31/63 [04:54<11:31, 21.60s/it]\u001b[A\n",
      "Interpolating background...:  51%|█████████████████▎                | 32/63 [05:01<08:51, 17.15s/it]\u001b[A\n",
      "Interpolating background...:  52%|█████████████████▊                | 33/63 [05:02<06:13, 12.44s/it]\u001b[A\n",
      "Interpolating background...:  54%|██████████████████▎               | 34/63 [05:06<04:41,  9.69s/it]\u001b[A\n",
      "Interpolating background...:  56%|██████████████████▉               | 35/63 [05:10<03:47,  8.11s/it]\u001b[A\n",
      "Interpolating background...:  57%|███████████████████▍              | 36/63 [05:12<02:47,  6.19s/it]\u001b[A\n",
      "Interpolating background...:  59%|███████████████████▉              | 37/63 [05:17<02:35,  5.96s/it]\u001b[A\n",
      "Interpolating background...:  60%|████████████████████▌             | 38/63 [05:21<02:09,  5.17s/it]\u001b[A\n",
      "Interpolating background...:  62%|█████████████████████             | 39/63 [05:23<01:42,  4.28s/it]\u001b[A\n",
      "Interpolating background...:  63%|█████████████████████▌            | 40/63 [05:33<02:16,  5.95s/it]\u001b[A\n",
      "Interpolating background...:  65%|██████████████████████▏           | 41/63 [05:39<02:13,  6.05s/it]\u001b[A\n",
      "Interpolating background...:  67%|██████████████████████▋           | 42/63 [05:46<02:15,  6.44s/it]\u001b[A\n",
      "Interpolating background...:  68%|███████████████████████▏          | 43/63 [05:48<01:43,  5.17s/it]\u001b[A\n",
      "Interpolating background...:  70%|███████████████████████▋          | 44/63 [05:54<01:37,  5.16s/it]\u001b[A\n",
      "Interpolating background...:  71%|████████████████████████▎         | 45/63 [05:57<01:23,  4.64s/it]\u001b[A\n",
      "Interpolating background...:  73%|████████████████████████▊         | 46/63 [05:59<01:07,  3.96s/it]\u001b[A\n",
      "Interpolating background...:  75%|█████████████████████████▎        | 47/63 [06:01<00:49,  3.12s/it]\u001b[A\n",
      "Interpolating background...:  76%|█████████████████████████▉        | 48/63 [06:04<00:48,  3.26s/it]\u001b[A\n",
      "Interpolating background...:  78%|██████████████████████████▍       | 49/63 [06:06<00:40,  2.91s/it]\u001b[A\n",
      "Interpolating background...:  79%|██████████████████████████▉       | 50/63 [06:10<00:40,  3.14s/it]\u001b[A\n",
      "Interpolating background...:  81%|███████████████████████████▌      | 51/63 [06:13<00:38,  3.25s/it]\u001b[A\n",
      "Interpolating background...:  83%|████████████████████████████      | 52/63 [06:19<00:44,  4.02s/it]\u001b[A\n",
      "Interpolating background...:  84%|████████████████████████████▌     | 53/63 [06:21<00:32,  3.21s/it]\u001b[A\n",
      "Interpolating background...:  86%|█████████████████████████████▏    | 54/63 [06:21<00:22,  2.47s/it]\u001b[A\n",
      "Interpolating background...:  87%|█████████████████████████████▋    | 55/63 [06:29<00:32,  4.06s/it]\u001b[A\n",
      "Interpolating background...:  89%|██████████████████████████████▏   | 56/63 [06:30<00:21,  3.03s/it]\u001b[A\n",
      "Interpolating background...:  90%|██████████████████████████████▊   | 57/63 [06:30<00:12,  2.15s/it]\u001b[A\n",
      "Interpolating background...:  92%|███████████████████████████████▎  | 58/63 [06:33<00:11,  2.39s/it]\u001b[A\n",
      "Interpolating background...:  94%|███████████████████████████████▊  | 59/63 [06:33<00:07,  1.87s/it]\u001b[A\n",
      "Interpolating background...:  95%|████████████████████████████████▍ | 60/63 [06:41<00:10,  3.62s/it]\u001b[A\n",
      "Interpolating background...:  97%|████████████████████████████████▉ | 61/63 [06:47<00:08,  4.15s/it]\u001b[A\n",
      "Interpolating background...:  98%|█████████████████████████████████▍| 62/63 [06:53<00:04,  4.73s/it]\u001b[A\n",
      "Interpolating background...: 100%|██████████████████████████████████| 63/63 [06:56<00:00,  6.61s/it]\u001b[A\n",
      "/mnt/colab/colab_shared/anaconda3/envs/caiman/lib/python3.11/site-packages/caiman/summary_images.py:209: RuntimeWarning: invalid value encountered in divide\n",
      "  w_mov = (Y - np.mean(Y, axis=0)) / np.std(Y, axis=0)\n",
      "     5250455 [params.py:   check_consistency():928] [7927] gnb=0, hence setting keys nb_patch and low_rank_background in group patch automatically.\n"
     ]
    },
    {
     "name": "stdout",
     "output_type": "stream",
     "text": [
      "(319440, 30, 9, <1x1 sparse matrix of type '<class 'numpy.float32'>'\n",
      "\twith 1 stored elements in Compressed Sparse Row format>)\n",
      "(319440, 30, 9, <1x1 sparse matrix of type '<class 'numpy.float32'>'\n",
      "\twith 1 stored elements in Compressed Sparse Row format>)\n",
      "(319440, 30, 10, 1714812.854798615)\n",
      "(319440, 30, 0, 185973319.73640147)\n",
      "(319440, 30, 10, 1125236.5112874433)\n",
      "(319440, 30, 0, 196832978.84646)\n",
      "(322102, 30, 9, <1x1 sparse matrix of type '<class 'numpy.float32'>'\n",
      "\twith 1 stored elements in Compressed Sparse Row format>)\n",
      "(322102, 30, 9, <1x1 sparse matrix of type '<class 'numpy.float32'>'\n",
      "\twith 1 stored elements in Compressed Sparse Row format>)\n",
      "(322102, 30, 9, <1x1 sparse matrix of type '<class 'numpy.float32'>'\n",
      "\twith 1 stored elements in Compressed Sparse Row format>)\n",
      "(322102, 30, 10, 2875577.2267801464)\n",
      "(322102, 30, 0, 487002846.56604886)\n",
      "(322102, 30, 10, 2201373.893933445)\n",
      "(322102, 30, 0, 406801776.21869874)\n",
      "(322102, 30, 9, <1x1 sparse matrix of type '<class 'numpy.float32'>'\n",
      "\twith 1 stored elements in Compressed Sparse Row format>)\n",
      "(322102, 30, 10, 1958094.724085044)\n",
      "(322102, 30, 0, 286861683.7886265)\n",
      "(322102, 30, 10, 1853763.7813792378)\n",
      "(322102, 30, 0, 322244089.2986436)\n",
      "(322102, 30, 9, <1x1 sparse matrix of type '<class 'numpy.float32'>'\n",
      "\twith 1 stored elements in Compressed Sparse Row format>)\n",
      "(322102, 30, 9, <1x1 sparse matrix of type '<class 'numpy.float32'>'\n",
      "\twith 1 stored elements in Compressed Sparse Row format>)\n",
      "(322102, 30, 10, 3246217.3376016077)\n",
      "(322102, 30, 0, 600662004.2173294)\n",
      "(319440, 30, 9, <1x1 sparse matrix of type '<class 'numpy.float32'>'\n",
      "\twith 1 stored elements in Compressed Sparse Row format>)\n",
      "(319440, 30, 10, 1930261.2214731425)\n",
      "(322102, 30, 9, <1x1 sparse matrix of type '<class 'numpy.float32'>'\n",
      "\twith 1 stored elements in Compressed Sparse Row format>)\n",
      "(319440, 30, 0, 323387498.94628334)\n",
      "(322102, 30, 10, 2027781.5322879702)\n",
      "(322102, 30, 9, <1x1 sparse matrix of type '<class 'numpy.float32'>'\n",
      "\twith 1 stored elements in Compressed Sparse Row format>)\n",
      "(322102, 30, 0, 344642319.7887512)\n",
      "(322102, 30, 9, <1x1 sparse matrix of type '<class 'numpy.float32'>'\n",
      "\twith 1 stored elements in Compressed Sparse Row format>)\n",
      "(322102, 30, 10, 1690011.3498149607)\n",
      "(322102, 30, 0, 280142461.0682263)\n",
      "(322102, 30, 9, <1x1 sparse matrix of type '<class 'numpy.float32'>'\n",
      "\twith 1 stored elements in Compressed Sparse Row format>)\n",
      "(322102, 30, 10, 1584609.3873055205)\n",
      "(322102, 30, 0, 275707791.8303523)\n",
      "(322102, 30, 9, <1x1 sparse matrix of type '<class 'numpy.float32'>'\n",
      "\twith 1 stored elements in Compressed Sparse Row format>)\n",
      "(322102, 30, 9, <1x1 sparse matrix of type '<class 'numpy.float32'>'\n",
      "\twith 1 stored elements in Compressed Sparse Row format>)\n",
      "(319440, 30, 9, <1x1 sparse matrix of type '<class 'numpy.float32'>'\n",
      "\twith 1 stored elements in Compressed Sparse Row format>)\n",
      "(322102, 30, 10, 2279490.3122698665)\n",
      "(322102, 30, 0, 446278297.51325727)\n",
      "(319440, 30, 9, <1x1 sparse matrix of type '<class 'numpy.float32'>'\n",
      "\twith 1 stored elements in Compressed Sparse Row format>)\n",
      "(322102, 30, 9, <1x1 sparse matrix of type '<class 'numpy.float32'>'\n",
      "\twith 1 stored elements in Compressed Sparse Row format>)\n",
      "(322102, 30, 10, 1954608.0813617855)\n",
      "(322102, 30, 9, <1x1 sparse matrix of type '<class 'numpy.float32'>'\n",
      "\twith 1 stored elements in Compressed Sparse Row format>)\n",
      "(322102, 30, 0, 404517678.72941446)\n",
      "(322102, 30, 9, <1x1 sparse matrix of type '<class 'numpy.float32'>'\n",
      "\twith 1 stored elements in Compressed Sparse Row format>)\n",
      "(322102, 30, 9, <1x1 sparse matrix of type '<class 'numpy.float32'>'\n",
      "\twith 1 stored elements in Compressed Sparse Row format>)\n",
      "(322102, 30, 10, 1456801.5723741204)\n",
      "(322102, 30, 0, 224406015.63412774)\n",
      "(319440, 30, 10, 560768.8179842597)\n",
      "(319440, 30, 0, 78756273.74376348)\n",
      "(322102, 30, 10, 1777809.4636044651)\n",
      "(322102, 30, 0, 313472845.0434449)\n",
      "(322102, 30, 10, 2846996.5289106816)\n",
      "(322102, 30, 0, 482209863.31736994)\n",
      "(322102, 30, 10, 1026991.6982388943)\n",
      "(322102, 30, 0, 143569853.96914756)\n",
      "(322102, 30, 10, 2120574.6358216777)\n",
      "(322102, 30, 0, 316840306.0028641)\n",
      "(319440, 30, 10, 1054539.602063857)\n",
      "(322102, 30, 9, <1x1 sparse matrix of type '<class 'numpy.float32'>'\n",
      "\twith 1 stored elements in Compressed Sparse Row format>)\n",
      "(319440, 30, 0, 208708216.71159127)\n",
      "(319440, 30, 9, <1x1 sparse matrix of type '<class 'numpy.float32'>'\n",
      "\twith 1 stored elements in Compressed Sparse Row format>)\n",
      "(319440, 30, 9, <1x1 sparse matrix of type '<class 'numpy.float32'>'\n",
      "\twith 1 stored elements in Compressed Sparse Row format>)\n",
      "(322102, 30, 10, 1747754.483178556)\n",
      "(322102, 30, 0, 245815096.91183698)\n",
      "(319440, 30, 10, 1298122.8863417804)\n",
      "(319440, 30, 0, 207440080.81454003)\n",
      "(322102, 30, 9, <1x1 sparse matrix of type '<class 'numpy.float32'>'\n",
      "\twith 1 stored elements in Compressed Sparse Row format>)\n",
      "(319440, 30, 10, 1484639.7882654709)\n",
      "(322102, 30, 10, 2409860.8697066307)\n",
      "(319440, 30, 0, 215736923.11657396)\n",
      "(316800, 30, 9, <1x1 sparse matrix of type '<class 'numpy.float32'>'\n",
      "\twith 1 stored elements in Compressed Sparse Row format>)\n",
      "(322102, 30, 0, 422847405.367777)\n",
      "(322102, 30, 9, <1x1 sparse matrix of type '<class 'numpy.float32'>'\n",
      "\twith 1 stored elements in Compressed Sparse Row format>)\n",
      "(316800, 30, 10, 947971.7198851593)\n",
      "(316800, 30, 0, 88770508.6071863)\n",
      "(322102, 30, 10, 1442770.2434539646)\n",
      "(322102, 30, 0, 187386830.14516303)\n",
      "(322102, 30, 10, 1287609.3616789584)\n",
      "(322102, 30, 0, 236138216.57714516)\n",
      "(322102, 30, 9, <1x1 sparse matrix of type '<class 'numpy.float32'>'\n",
      "\twith 1 stored elements in Compressed Sparse Row format>)\n",
      "(319440, 30, 9, <1x1 sparse matrix of type '<class 'numpy.float32'>'\n",
      "\twith 1 stored elements in Compressed Sparse Row format>)\n",
      "(322102, 30, 10, 1242931.2947149426)\n",
      "(322102, 30, 0, 171439609.56106666)\n",
      "(319440, 30, 9, <1x1 sparse matrix of type '<class 'numpy.float32'>'\n",
      "\twith 1 stored elements in Compressed Sparse Row format>)\n",
      "(319440, 30, 10, 971844.2069377033)\n",
      "(319440, 30, 0, 124316796.59706394)\n",
      "(319440, 30, 10, 1948895.1009876179)\n",
      "(319440, 30, 0, 322416407.88277894)\n",
      "(322102, 30, 11, 10370203.806208752)\n",
      "(322102, 30, 1, 9297633.940948486)\n",
      "(322102, 30, 2, 9297633.940948486)\n"
     ]
    },
    {
     "name": "stderr",
     "output_type": "stream",
     "text": [
      "/mnt/colab/colab_shared/anaconda3/envs/caiman/lib/python3.11/site-packages/scipy/signal/_spectral_py.py:589: UserWarning: nperseg = 256 is greater than input length  = 63, using nperseg = 63\n",
      "  freqs, _, Pxy = _spectral_helper(x, y, fs, window, nperseg, noverlap,\n"
     ]
    },
    {
     "name": "stdout",
     "output_type": "stream",
     "text": [
      "(316800, 30, 11, 3543031.092236324)\n",
      "(319440, 30, 11, 8723609.63371354)\n",
      "(316800, 30, 1, 2754148.4449920654)\n",
      "(316800, 30, 2, 2754148.4449920654)\n"
     ]
    },
    {
     "name": "stderr",
     "output_type": "stream",
     "text": [
      "/mnt/colab/colab_shared/anaconda3/envs/caiman/lib/python3.11/site-packages/scipy/signal/_spectral_py.py:589: UserWarning: nperseg = 256 is greater than input length  = 63, using nperseg = 63\n",
      "  freqs, _, Pxy = _spectral_helper(x, y, fs, window, nperseg, noverlap,\n"
     ]
    },
    {
     "name": "stdout",
     "output_type": "stream",
     "text": [
      "(319440, 30, 1, 6956106.732192993)\n",
      "(319440, 30, 2, 6956106.732192993)\n"
     ]
    },
    {
     "name": "stderr",
     "output_type": "stream",
     "text": [
      "/mnt/colab/colab_shared/anaconda3/envs/caiman/lib/python3.11/site-packages/scipy/signal/_spectral_py.py:589: UserWarning: nperseg = 256 is greater than input length  = 63, using nperseg = 63\n",
      "  freqs, _, Pxy = _spectral_helper(x, y, fs, window, nperseg, noverlap,\n"
     ]
    },
    {
     "name": "stdout",
     "output_type": "stream",
     "text": [
      "(322102, 30, 11, 5099908.760069277)\n",
      "(322102, 30, 1, 4465050.051071167)\n",
      "(322102, 30, 2, 4465050.051071167)\n"
     ]
    },
    {
     "name": "stderr",
     "output_type": "stream",
     "text": [
      "/mnt/colab/colab_shared/anaconda3/envs/caiman/lib/python3.11/site-packages/scipy/signal/_spectral_py.py:589: UserWarning: nperseg = 256 is greater than input length  = 63, using nperseg = 63\n",
      "  freqs, _, Pxy = _spectral_helper(x, y, fs, window, nperseg, noverlap,\n"
     ]
    },
    {
     "name": "stdout",
     "output_type": "stream",
     "text": [
      "(319440, 30, 11, 7340538.6527774595)\n",
      "(319440, 30, 1, 6020490.432937622)\n",
      "(319440, 30, 2, 6020490.432937622)\n"
     ]
    },
    {
     "name": "stderr",
     "output_type": "stream",
     "text": [
      "/mnt/colab/colab_shared/anaconda3/envs/caiman/lib/python3.11/site-packages/scipy/signal/_spectral_py.py:589: UserWarning: nperseg = 256 is greater than input length  = 63, using nperseg = 63\n",
      "  freqs, _, Pxy = _spectral_helper(x, y, fs, window, nperseg, noverlap,\n"
     ]
    },
    {
     "name": "stdout",
     "output_type": "stream",
     "text": [
      "(322102, 30, 11, 2347603.8721254384)\n",
      "(322102, 30, 1, 1855628.813194275)\n",
      "(322102, 30, 2, 1855628.813194275)\n"
     ]
    },
    {
     "name": "stderr",
     "output_type": "stream",
     "text": [
      "/mnt/colab/colab_shared/anaconda3/envs/caiman/lib/python3.11/site-packages/scipy/signal/_spectral_py.py:589: UserWarning: nperseg = 256 is greater than input length  = 63, using nperseg = 63\n",
      "  freqs, _, Pxy = _spectral_helper(x, y, fs, window, nperseg, noverlap,\n"
     ]
    },
    {
     "name": "stdout",
     "output_type": "stream",
     "text": [
      "(319440, 30, 11, 2271464.5798354195)\n",
      "(316800, 30, 9, <1x1 sparse matrix of type '<class 'numpy.float64'>'\n",
      "\twith 1 stored elements in Compressed Sparse Row format>)\n",
      "(319440, 30, 1, 2010881.4828147888)\n",
      "(319440, 30, 2, 2010881.4828147888)\n"
     ]
    },
    {
     "name": "stderr",
     "output_type": "stream",
     "text": [
      "/mnt/colab/colab_shared/anaconda3/envs/caiman/lib/python3.11/site-packages/scipy/signal/_spectral_py.py:589: UserWarning: nperseg = 256 is greater than input length  = 63, using nperseg = 63\n",
      "  freqs, _, Pxy = _spectral_helper(x, y, fs, window, nperseg, noverlap,\n"
     ]
    },
    {
     "name": "stdout",
     "output_type": "stream",
     "text": [
      "(316800, 30, 10, 2754148.4449920654)\n",
      "(316800, 30, 0, 46748466.50038909)\n",
      "(319440, 30, 9, <1x1 sparse matrix of type '<class 'numpy.float64'>'\n",
      "\twith 1 stored elements in Compressed Sparse Row format>)\n",
      "(319440, 30, 11, 3902466.1467171363)\n",
      "(319440, 30, 11, 6385141.2102133185)\n",
      "(319440, 30, 10, 6956106.732192993)\n",
      "(319440, 30, 0, 148879733.86226174)\n",
      "(319440, 30, 11, 624101.3717823431)\n",
      "(319440, 30, 11, 5494452.9644696545)\n",
      "(319440, 30, 1, 3332768.4284362793)\n",
      "(319440, 30, 2, 3332768.4284362793)\n"
     ]
    },
    {
     "name": "stderr",
     "output_type": "stream",
     "text": [
      "/mnt/colab/colab_shared/anaconda3/envs/caiman/lib/python3.11/site-packages/scipy/signal/_spectral_py.py:589: UserWarning: nperseg = 256 is greater than input length  = 63, using nperseg = 63\n",
      "  freqs, _, Pxy = _spectral_helper(x, y, fs, window, nperseg, noverlap,\n"
     ]
    },
    {
     "name": "stdout",
     "output_type": "stream",
     "text": [
      "(319440, 30, 1, 5623412.522445679)\n",
      "(319440, 30, 2, 5623412.522445679)\n",
      "(319440, 30, 11, 4756270.782075582)\n",
      "(319440, 30, 1, 386171.0038280487)\n"
     ]
    },
    {
     "name": "stderr",
     "output_type": "stream",
     "text": [
      "/mnt/colab/colab_shared/anaconda3/envs/caiman/lib/python3.11/site-packages/scipy/signal/_spectral_py.py:589: UserWarning: nperseg = 256 is greater than input length  = 63, using nperseg = 63\n",
      "  freqs, _, Pxy = _spectral_helper(x, y, fs, window, nperseg, noverlap,\n"
     ]
    },
    {
     "name": "stdout",
     "output_type": "stream",
     "text": [
      "(319440, 30, 2, 386171.0038280487)\n",
      "(319440, 30, 1, 4294544.795822144)\n",
      "(319440, 30, 2, 4294544.795822144)\n"
     ]
    },
    {
     "name": "stderr",
     "output_type": "stream",
     "text": [
      "/mnt/colab/colab_shared/anaconda3/envs/caiman/lib/python3.11/site-packages/scipy/signal/_spectral_py.py:589: UserWarning: nperseg = 256 is greater than input length  = 63, using nperseg = 63\n",
      "  freqs, _, Pxy = _spectral_helper(x, y, fs, window, nperseg, noverlap,\n",
      "/mnt/colab/colab_shared/anaconda3/envs/caiman/lib/python3.11/site-packages/scipy/signal/_spectral_py.py:589: UserWarning: nperseg = 256 is greater than input length  = 63, using nperseg = 63\n",
      "  freqs, _, Pxy = _spectral_helper(x, y, fs, window, nperseg, noverlap,\n"
     ]
    },
    {
     "name": "stdout",
     "output_type": "stream",
     "text": [
      "(319440, 30, 1, 3901569.6499557495)\n",
      "(319440, 30, 2, 3901569.6499557495)\n"
     ]
    },
    {
     "name": "stderr",
     "output_type": "stream",
     "text": [
      "/mnt/colab/colab_shared/anaconda3/envs/caiman/lib/python3.11/site-packages/scipy/signal/_spectral_py.py:589: UserWarning: nperseg = 256 is greater than input length  = 63, using nperseg = 63\n",
      "  freqs, _, Pxy = _spectral_helper(x, y, fs, window, nperseg, noverlap,\n"
     ]
    },
    {
     "name": "stdout",
     "output_type": "stream",
     "text": [
      "(322102, 30, 11, 25980643.46080801)\n",
      "(322102, 30, 11, 4746618.043593977)\n",
      "(322102, 30, 1, 23463790.550201416)\n",
      "(322102, 30, 2, 23463790.550201416)\n"
     ]
    },
    {
     "name": "stderr",
     "output_type": "stream",
     "text": [
      "/mnt/colab/colab_shared/anaconda3/envs/caiman/lib/python3.11/site-packages/scipy/signal/_spectral_py.py:589: UserWarning: nperseg = 256 is greater than input length  = 63, using nperseg = 63\n",
      "  freqs, _, Pxy = _spectral_helper(x, y, fs, window, nperseg, noverlap,\n"
     ]
    },
    {
     "name": "stdout",
     "output_type": "stream",
     "text": [
      "(322102, 30, 1, 3834565.3644866943)\n",
      "(322102, 30, 2, 3834565.3644866943)\n"
     ]
    },
    {
     "name": "stderr",
     "output_type": "stream",
     "text": [
      "/mnt/colab/colab_shared/anaconda3/envs/caiman/lib/python3.11/site-packages/scipy/signal/_spectral_py.py:589: UserWarning: nperseg = 256 is greater than input length  = 63, using nperseg = 63\n",
      "  freqs, _, Pxy = _spectral_helper(x, y, fs, window, nperseg, noverlap,\n"
     ]
    },
    {
     "name": "stdout",
     "output_type": "stream",
     "text": [
      "(322102, 30, 11, 2854224.0739734797)\n",
      "(322102, 30, 9, <1x1 sparse matrix of type '<class 'numpy.float64'>'\n",
      "\twith 1 stored elements in Compressed Sparse Row format>)\n",
      "(322102, 30, 9, <1x1 sparse matrix of type '<class 'numpy.float64'>'\n",
      "\twith 1 stored elements in Compressed Sparse Row format>)\n",
      "(319440, 30, 9, <1x1 sparse matrix of type '<class 'numpy.float64'>'\n",
      "\twith 1 stored elements in Compressed Sparse Row format>)\n",
      "(322102, 30, 1, 2199471.5115890503)\n",
      "(322102, 30, 2, 2199471.5115890503)\n"
     ]
    },
    {
     "name": "stderr",
     "output_type": "stream",
     "text": [
      "/mnt/colab/colab_shared/anaconda3/envs/caiman/lib/python3.11/site-packages/scipy/signal/_spectral_py.py:589: UserWarning: nperseg = 256 is greater than input length  = 63, using nperseg = 63\n",
      "  freqs, _, Pxy = _spectral_helper(x, y, fs, window, nperseg, noverlap,\n"
     ]
    },
    {
     "name": "stdout",
     "output_type": "stream",
     "text": [
      "(322102, 30, 10, 4465050.051071167)\n",
      "(322102, 30, 0, 180386019.0043225)\n",
      "(319440, 30, 10, 6020490.432937622)\n",
      "(322102, 30, 10, 9297633.940948486)\n",
      "(319440, 30, 0, 128942346.79566047)\n",
      "(322102, 30, 0, 222648405.27524522)\n",
      "(322102, 30, 11, 11368846.531518683)\n",
      "(322102, 30, 11, 18057984.80550454)\n",
      "(322102, 30, 11, 3704214.3631758867)\n",
      "(322102, 30, 1, 16049606.218597412)\n",
      "(322102, 30, 2, 16049606.218597412)\n",
      "(322102, 30, 1, 10316759.371932983)\n"
     ]
    },
    {
     "name": "stderr",
     "output_type": "stream",
     "text": [
      "/mnt/colab/colab_shared/anaconda3/envs/caiman/lib/python3.11/site-packages/scipy/signal/_spectral_py.py:589: UserWarning: nperseg = 256 is greater than input length  = 63, using nperseg = 63\n",
      "  freqs, _, Pxy = _spectral_helper(x, y, fs, window, nperseg, noverlap,\n"
     ]
    },
    {
     "name": "stdout",
     "output_type": "stream",
     "text": [
      "(322102, 30, 2, 10316759.371932983)\n"
     ]
    },
    {
     "name": "stderr",
     "output_type": "stream",
     "text": [
      "/mnt/colab/colab_shared/anaconda3/envs/caiman/lib/python3.11/site-packages/scipy/signal/_spectral_py.py:589: UserWarning: nperseg = 256 is greater than input length  = 63, using nperseg = 63\n",
      "  freqs, _, Pxy = _spectral_helper(x, y, fs, window, nperseg, noverlap,\n"
     ]
    },
    {
     "name": "stdout",
     "output_type": "stream",
     "text": [
      "(322102, 30, 1, 3083693.4244918823)\n",
      "(322102, 30, 2, 3083693.4244918823)\n"
     ]
    },
    {
     "name": "stderr",
     "output_type": "stream",
     "text": [
      "/mnt/colab/colab_shared/anaconda3/envs/caiman/lib/python3.11/site-packages/scipy/signal/_spectral_py.py:589: UserWarning: nperseg = 256 is greater than input length  = 63, using nperseg = 63\n",
      "  freqs, _, Pxy = _spectral_helper(x, y, fs, window, nperseg, noverlap,\n"
     ]
    },
    {
     "name": "stdout",
     "output_type": "stream",
     "text": [
      "(322102, 30, 11, 8853133.377658878)\n",
      "(322102, 30, 1, 7666713.490783691)\n",
      "(322102, 30, 2, 7666713.490783691)\n",
      "(319440, 30, 9, <1x1 sparse matrix of type '<class 'numpy.float64'>'\n",
      "\twith 1 stored elements in Compressed Sparse Row format>)\n"
     ]
    },
    {
     "name": "stderr",
     "output_type": "stream",
     "text": [
      "/mnt/colab/colab_shared/anaconda3/envs/caiman/lib/python3.11/site-packages/scipy/signal/_spectral_py.py:589: UserWarning: nperseg = 256 is greater than input length  = 63, using nperseg = 63\n",
      "  freqs, _, Pxy = _spectral_helper(x, y, fs, window, nperseg, noverlap,\n"
     ]
    },
    {
     "name": "stdout",
     "output_type": "stream",
     "text": [
      "(319440, 30, 9, <1x1 sparse matrix of type '<class 'numpy.float64'>'\n",
      "\twith 1 stored elements in Compressed Sparse Row format>)\n",
      "(322102, 30, 11, 10306302.932648297)\n",
      "(319440, 30, 10, 2010881.4828147888)\n",
      "(319440, 30, 0, 86118056.83802144)\n",
      "(322102, 30, 1, 9270405.40284729)\n",
      "(322102, 30, 2, 9270405.40284729)\n"
     ]
    },
    {
     "name": "stderr",
     "output_type": "stream",
     "text": [
      "/mnt/colab/colab_shared/anaconda3/envs/caiman/lib/python3.11/site-packages/scipy/signal/_spectral_py.py:589: UserWarning: nperseg = 256 is greater than input length  = 63, using nperseg = 63\n",
      "  freqs, _, Pxy = _spectral_helper(x, y, fs, window, nperseg, noverlap,\n"
     ]
    },
    {
     "name": "stdout",
     "output_type": "stream",
     "text": [
      "(319440, 30, 10, 386171.0038280487)\n",
      "(319440, 30, 11, 8394721.65078966)\n",
      "(319440, 30, 0, 34627116.470892504)\n",
      "(322102, 30, 11, 13056307.491706666)\n",
      "(319440, 30, 1, 6758477.384933472)\n",
      "(319440, 30, 2, 6758477.384933472)\n",
      "(322102, 30, 1, 11012938.421524048)\n",
      "(322102, 30, 2, 11012938.421524048)\n"
     ]
    },
    {
     "name": "stderr",
     "output_type": "stream",
     "text": [
      "/mnt/colab/colab_shared/anaconda3/envs/caiman/lib/python3.11/site-packages/scipy/signal/_spectral_py.py:589: UserWarning: nperseg = 256 is greater than input length  = 63, using nperseg = 63\n",
      "  freqs, _, Pxy = _spectral_helper(x, y, fs, window, nperseg, noverlap,\n",
      "/mnt/colab/colab_shared/anaconda3/envs/caiman/lib/python3.11/site-packages/scipy/signal/_spectral_py.py:589: UserWarning: nperseg = 256 is greater than input length  = 63, using nperseg = 63\n",
      "  freqs, _, Pxy = _spectral_helper(x, y, fs, window, nperseg, noverlap,\n"
     ]
    },
    {
     "name": "stdout",
     "output_type": "stream",
     "text": [
      "(319440, 30, 9, <1x1 sparse matrix of type '<class 'numpy.float64'>'\n",
      "\twith 1 stored elements in Compressed Sparse Row format>)\n",
      "(319440, 30, 10, 4294544.795822144)\n",
      "(319440, 30, 0, 107057703.36782554)\n",
      "(322102, 30, 9, <1x1 sparse matrix of type '<class 'numpy.float64'>'\n",
      "\twith 1 stored elements in Compressed Sparse Row format>)\n",
      "(322102, 30, 11, 9328781.369934628)\n",
      "(322102, 30, 11, 2392953.7789395563)\n",
      "(322102, 30, 10, 3834565.3644866943)\n",
      "(322102, 30, 0, 115359765.15084663)\n",
      "(322102, 30, 1, 7417257.046401978)\n",
      "(322102, 30, 2, 7417257.046401978)\n",
      "(322102, 30, 1, 1955428.1853256226)\n",
      "(322102, 30, 2, 1955428.1853256226)\n"
     ]
    },
    {
     "name": "stderr",
     "output_type": "stream",
     "text": [
      "/mnt/colab/colab_shared/anaconda3/envs/caiman/lib/python3.11/site-packages/scipy/signal/_spectral_py.py:589: UserWarning: nperseg = 256 is greater than input length  = 63, using nperseg = 63\n",
      "  freqs, _, Pxy = _spectral_helper(x, y, fs, window, nperseg, noverlap,\n",
      "/mnt/colab/colab_shared/anaconda3/envs/caiman/lib/python3.11/site-packages/scipy/signal/_spectral_py.py:589: UserWarning: nperseg = 256 is greater than input length  = 63, using nperseg = 63\n",
      "  freqs, _, Pxy = _spectral_helper(x, y, fs, window, nperseg, noverlap,\n"
     ]
    },
    {
     "name": "stdout",
     "output_type": "stream",
     "text": [
      "(319440, 30, 9, <1x1 sparse matrix of type '<class 'numpy.float64'>'\n",
      "\twith 1 stored elements in Compressed Sparse Row format>)\n",
      "(322102, 30, 11, 8014042.333539581)\n",
      "(322102, 30, 9, <1x1 sparse matrix of type '<class 'numpy.float64'>'\n",
      "\twith 1 stored elements in Compressed Sparse Row format>)\n",
      "(319440, 30, 10, 5623412.522445679)\n",
      "(319440, 30, 0, 119574280.71116078)\n",
      "(322102, 30, 1, 6614579.88142395)\n",
      "(322102, 30, 2, 6614579.88142395)\n"
     ]
    },
    {
     "name": "stderr",
     "output_type": "stream",
     "text": [
      "/mnt/colab/colab_shared/anaconda3/envs/caiman/lib/python3.11/site-packages/scipy/signal/_spectral_py.py:589: UserWarning: nperseg = 256 is greater than input length  = 63, using nperseg = 63\n",
      "  freqs, _, Pxy = _spectral_helper(x, y, fs, window, nperseg, noverlap,\n"
     ]
    },
    {
     "name": "stdout",
     "output_type": "stream",
     "text": [
      "(322102, 30, 10, 1855628.813194275)\n",
      "(322102, 30, 0, 151569729.8960819)\n",
      "(322102, 30, 9, <1x1 sparse matrix of type '<class 'numpy.float64'>'\n",
      "\twith 1 stored elements in Compressed Sparse Row format>)\n",
      "(319440, 30, 9, <1x1 sparse matrix of type '<class 'numpy.float64'>'\n",
      "\twith 1 stored elements in Compressed Sparse Row format>)\n",
      "(319440, 30, 10, 3901569.6499557495)\n",
      "(319440, 30, 0, 86315813.79992163)\n",
      "(322102, 30, 10, 16049606.218597412)\n",
      "(322102, 30, 0, 280798098.7366825)\n",
      "(319440, 30, 9, <1x1 sparse matrix of type '<class 'numpy.float64'>'\n",
      "\twith 1 stored elements in Compressed Sparse Row format>)\n",
      "(319440, 30, 10, 3332768.4284362793)\n",
      "(319440, 30, 0, 149223262.12933794)\n",
      "(322102, 30, 11, 10636445.837948374)\n",
      "(322102, 30, 11, 10926665.43986293)\n",
      "(322102, 30, 1, 9586565.954986572)\n",
      "(322102, 30, 2, 9586565.954986572)\n"
     ]
    },
    {
     "name": "stderr",
     "output_type": "stream",
     "text": [
      "/mnt/colab/colab_shared/anaconda3/envs/caiman/lib/python3.11/site-packages/scipy/signal/_spectral_py.py:589: UserWarning: nperseg = 256 is greater than input length  = 63, using nperseg = 63\n",
      "  freqs, _, Pxy = _spectral_helper(x, y, fs, window, nperseg, noverlap,\n"
     ]
    },
    {
     "name": "stdout",
     "output_type": "stream",
     "text": [
      "(322102, 30, 1, 9065494.479598999)\n",
      "(322102, 30, 2, 9065494.479598999)\n"
     ]
    },
    {
     "name": "stderr",
     "output_type": "stream",
     "text": [
      "/mnt/colab/colab_shared/anaconda3/envs/caiman/lib/python3.11/site-packages/scipy/signal/_spectral_py.py:589: UserWarning: nperseg = 256 is greater than input length  = 63, using nperseg = 63\n",
      "  freqs, _, Pxy = _spectral_helper(x, y, fs, window, nperseg, noverlap,\n"
     ]
    },
    {
     "name": "stdout",
     "output_type": "stream",
     "text": [
      "(322102, 30, 9, <1x1 sparse matrix of type '<class 'numpy.float64'>'\n",
      "\twith 1 stored elements in Compressed Sparse Row format>)\n",
      "(322102, 30, 9, <1x1 sparse matrix of type '<class 'numpy.float64'>'\n",
      "\twith 1 stored elements in Compressed Sparse Row format>)\n",
      "(322102, 30, 10, 11012938.421524048)\n",
      "(322102, 30, 0, 258742674.79670706)\n",
      "(322102, 30, 11, 8699080.517135568)\n",
      "(322102, 30, 10, 10316759.371932983)\n",
      "(322102, 30, 0, 265242929.4795909)\n",
      "(322102, 30, 11, 12140769.912670814)\n",
      "(322102, 30, 1, 7615213.749237061)\n",
      "(322102, 30, 2, 7615213.749237061)\n",
      "(322102, 30, 9, <1x1 sparse matrix of type '<class 'numpy.float64'>'\n",
      "\twith 1 stored elements in Compressed Sparse Row format>)\n"
     ]
    },
    {
     "name": "stderr",
     "output_type": "stream",
     "text": [
      "/mnt/colab/colab_shared/anaconda3/envs/caiman/lib/python3.11/site-packages/scipy/signal/_spectral_py.py:589: UserWarning: nperseg = 256 is greater than input length  = 63, using nperseg = 63\n",
      "  freqs, _, Pxy = _spectral_helper(x, y, fs, window, nperseg, noverlap,\n"
     ]
    },
    {
     "name": "stdout",
     "output_type": "stream",
     "text": [
      "(322102, 30, 9, <1x1 sparse matrix of type '<class 'numpy.float64'>'\n",
      "\twith 1 stored elements in Compressed Sparse Row format>)\n",
      "(322102, 30, 9, <1x1 sparse matrix of type '<class 'numpy.float64'>'\n",
      "\twith 1 stored elements in Compressed Sparse Row format>)\n",
      "(322102, 30, 10, 2199471.5115890503)\n",
      "(322102, 30, 0, 98127403.11465682)\n",
      "(322102, 30, 10, 9270405.40284729)\n",
      "(322102, 30, 0, 226807312.48860267)\n",
      "(322102, 30, 1, 10148028.018081665)\n",
      "(322102, 30, 2, 10148028.018081665)\n",
      "(322102, 30, 10, 23463790.550201416)\n",
      "(322102, 30, 0, 446433245.5755662)\n"
     ]
    },
    {
     "name": "stderr",
     "output_type": "stream",
     "text": [
      "/mnt/colab/colab_shared/anaconda3/envs/caiman/lib/python3.11/site-packages/scipy/signal/_spectral_py.py:589: UserWarning: nperseg = 256 is greater than input length  = 63, using nperseg = 63\n",
      "  freqs, _, Pxy = _spectral_helper(x, y, fs, window, nperseg, noverlap,\n"
     ]
    },
    {
     "name": "stdout",
     "output_type": "stream",
     "text": [
      "(322102, 30, 11, 11375203.5116769)\n",
      "(322102, 30, 1, 9549672.649093628)\n",
      "(322102, 30, 2, 9549672.649093628)\n"
     ]
    },
    {
     "name": "stderr",
     "output_type": "stream",
     "text": [
      "/mnt/colab/colab_shared/anaconda3/envs/caiman/lib/python3.11/site-packages/scipy/signal/_spectral_py.py:589: UserWarning: nperseg = 256 is greater than input length  = 63, using nperseg = 63\n",
      "  freqs, _, Pxy = _spectral_helper(x, y, fs, window, nperseg, noverlap,\n"
     ]
    },
    {
     "name": "stdout",
     "output_type": "stream",
     "text": [
      "(322102, 30, 9, <1x1 sparse matrix of type '<class 'numpy.float64'>'\n",
      "\twith 1 stored elements in Compressed Sparse Row format>)\n",
      "(319440, 30, 9, <1x1 sparse matrix of type '<class 'numpy.float64'>'\n",
      "\twith 1 stored elements in Compressed Sparse Row format>)\n",
      "(322102, 30, 10, 7666713.490783691)\n",
      "(322102, 30, 0, 236671013.2017904)\n",
      "(322102, 30, 9, <1x1 sparse matrix of type '<class 'numpy.float64'>'\n",
      "\twith 1 stored elements in Compressed Sparse Row format>)\n",
      "(322102, 30, 9, <1x1 sparse matrix of type '<class 'numpy.float64'>'\n",
      "\twith 1 stored elements in Compressed Sparse Row format>)\n",
      "(319440, 30, 10, 6758477.384933472)\n",
      "(319440, 30, 0, 144518490.29144526)\n",
      "(322102, 30, 10, 1955428.1853256226)\n",
      "(322102, 30, 0, 73720591.41820133)\n",
      "(322102, 30, 10, 3083693.4244918823)\n",
      "(322102, 30, 0, 104875914.13010289)\n",
      "(322102, 30, 9, <1x1 sparse matrix of type '<class 'numpy.float64'>'\n",
      "\twith 1 stored elements in Compressed Sparse Row format>)\n",
      "(322102, 30, 10, 6614579.88142395)\n",
      "(322102, 30, 0, 133297811.42403206)\n",
      "(322102, 30, 9, <1x1 sparse matrix of type '<class 'numpy.float64'>'\n",
      "\twith 1 stored elements in Compressed Sparse Row format>)\n",
      "(322102, 30, 9, <1x1 sparse matrix of type '<class 'numpy.float64'>'\n",
      "\twith 1 stored elements in Compressed Sparse Row format>)\n",
      "(322102, 30, 10, 9065494.479598999)\n",
      "(322102, 30, 0, 253697626.46989736)\n",
      "(322102, 30, 10, 7417257.046401978)\n",
      "(322102, 30, 0, 175313563.65996227)\n",
      "(322102, 30, 9, <1x1 sparse matrix of type '<class 'numpy.float64'>'\n",
      "\twith 1 stored elements in Compressed Sparse Row format>)\n",
      "(322102, 30, 10, 9586565.954986572)\n",
      "(322102, 30, 0, 246353103.00773746)\n",
      "(319440, 30, 11, 7795138.357265698)\n",
      "(319440, 30, 1, 6439661.291503906)\n",
      "(319440, 30, 2, 6439661.291503906)\n"
     ]
    },
    {
     "name": "stderr",
     "output_type": "stream",
     "text": [
      "/mnt/colab/colab_shared/anaconda3/envs/caiman/lib/python3.11/site-packages/scipy/signal/_spectral_py.py:589: UserWarning: nperseg = 256 is greater than input length  = 63, using nperseg = 63\n",
      "  freqs, _, Pxy = _spectral_helper(x, y, fs, window, nperseg, noverlap,\n",
      "/mnt/colab/colab_shared/anaconda3/envs/caiman/lib/python3.11/site-packages/scipy/sparse/_dia.py:277: RuntimeWarning: divide by zero encountered in remainder\n",
      "  c = np.arange(num_rows, dtype=np.intc) - (offsets % max_dim)[:, None]\n"
     ]
    },
    {
     "name": "stdout",
     "output_type": "stream",
     "text": [
      "(322102, 30, 9, <1x1 sparse matrix of type '<class 'numpy.float64'>'\n",
      "\twith 1 stored elements in Compressed Sparse Row format>)\n",
      "(322102, 30, 9, <1x1 sparse matrix of type '<class 'numpy.float64'>'\n",
      "\twith 1 stored elements in Compressed Sparse Row format>)\n",
      "(322102, 30, 10, 10148028.018081665)\n",
      "(322102, 30, 0, 228401008.19514018)\n",
      "(322102, 30, 10, 7615213.749237061)\n",
      "(322102, 30, 0, 214775105.67565453)\n",
      "(322102, 30, 9, <1x1 sparse matrix of type '<class 'numpy.float64'>'\n",
      "\twith 1 stored elements in Compressed Sparse Row format>)\n",
      "(322102, 30, 10, 9549672.649093628)\n",
      "(322102, 30, 0, 252813944.32591677)\n",
      "(316800, 30, 11, 3513768.857887791)\n",
      "(316800, 30, 1, 2758722.3643341064)\n",
      "(316800, 30, 2, 2758722.3643341064)\n"
     ]
    },
    {
     "name": "stderr",
     "output_type": "stream",
     "text": [
      "/mnt/colab/colab_shared/anaconda3/envs/caiman/lib/python3.11/site-packages/scipy/signal/_spectral_py.py:589: UserWarning: nperseg = 256 is greater than input length  = 63, using nperseg = 63\n",
      "  freqs, _, Pxy = _spectral_helper(x, y, fs, window, nperseg, noverlap,\n",
      "/mnt/colab/colab_shared/anaconda3/envs/caiman/lib/python3.11/site-packages/scipy/sparse/_dia.py:277: RuntimeWarning: divide by zero encountered in remainder\n",
      "  c = np.arange(num_rows, dtype=np.intc) - (offsets % max_dim)[:, None]\n"
     ]
    },
    {
     "name": "stdout",
     "output_type": "stream",
     "text": [
      "(319440, 30, 11, 2539752.362644344)\n",
      "(319440, 30, 1, 2257532.8407058716)\n",
      "(319440, 30, 2, 2257532.8407058716)\n"
     ]
    },
    {
     "name": "stderr",
     "output_type": "stream",
     "text": [
      "/mnt/colab/colab_shared/anaconda3/envs/caiman/lib/python3.11/site-packages/scipy/signal/_spectral_py.py:589: UserWarning: nperseg = 256 is greater than input length  = 63, using nperseg = 63\n",
      "  freqs, _, Pxy = _spectral_helper(x, y, fs, window, nperseg, noverlap,\n",
      "/mnt/colab/colab_shared/anaconda3/envs/caiman/lib/python3.11/site-packages/scipy/sparse/_dia.py:277: RuntimeWarning: divide by zero encountered in remainder\n",
      "  c = np.arange(num_rows, dtype=np.intc) - (offsets % max_dim)[:, None]\n"
     ]
    },
    {
     "name": "stdout",
     "output_type": "stream",
     "text": [
      "(319440, 30, 11, 6383200.698475537)\n",
      "(319440, 30, 1, 5016825.653869629)\n",
      "(319440, 30, 2, 5016825.653869629)\n"
     ]
    },
    {
     "name": "stderr",
     "output_type": "stream",
     "text": [
      "/mnt/colab/colab_shared/anaconda3/envs/caiman/lib/python3.11/site-packages/scipy/signal/_spectral_py.py:589: UserWarning: nperseg = 256 is greater than input length  = 63, using nperseg = 63\n",
      "  freqs, _, Pxy = _spectral_helper(x, y, fs, window, nperseg, noverlap,\n",
      "/mnt/colab/colab_shared/anaconda3/envs/caiman/lib/python3.11/site-packages/scipy/sparse/_dia.py:277: RuntimeWarning: divide by zero encountered in remainder\n",
      "  c = np.arange(num_rows, dtype=np.intc) - (offsets % max_dim)[:, None]\n"
     ]
    },
    {
     "name": "stdout",
     "output_type": "stream",
     "text": [
      "(322102, 30, 11, 9827632.61757198)\n",
      "(322102, 30, 1, 8735460.265670776)\n",
      "(322102, 30, 2, 8735460.265670776)\n"
     ]
    },
    {
     "name": "stderr",
     "output_type": "stream",
     "text": [
      "/mnt/colab/colab_shared/anaconda3/envs/caiman/lib/python3.11/site-packages/scipy/signal/_spectral_py.py:589: UserWarning: nperseg = 256 is greater than input length  = 63, using nperseg = 63\n",
      "  freqs, _, Pxy = _spectral_helper(x, y, fs, window, nperseg, noverlap,\n",
      "/mnt/colab/colab_shared/anaconda3/envs/caiman/lib/python3.11/site-packages/scipy/sparse/_dia.py:277: RuntimeWarning: divide by zero encountered in remainder\n",
      "  c = np.arange(num_rows, dtype=np.intc) - (offsets % max_dim)[:, None]\n"
     ]
    },
    {
     "name": "stdout",
     "output_type": "stream",
     "text": [
      "(322102, 30, 11, 5487327.988533346)\n",
      "(322102, 30, 1, 4877592.524291992)\n",
      "(322102, 30, 2, 4877592.524291992)\n"
     ]
    },
    {
     "name": "stderr",
     "output_type": "stream",
     "text": [
      "/mnt/colab/colab_shared/anaconda3/envs/caiman/lib/python3.11/site-packages/scipy/signal/_spectral_py.py:589: UserWarning: nperseg = 256 is greater than input length  = 63, using nperseg = 63\n",
      "  freqs, _, Pxy = _spectral_helper(x, y, fs, window, nperseg, noverlap,\n",
      "/mnt/colab/colab_shared/anaconda3/envs/caiman/lib/python3.11/site-packages/scipy/sparse/_dia.py:277: RuntimeWarning: divide by zero encountered in remainder\n",
      "  c = np.arange(num_rows, dtype=np.intc) - (offsets % max_dim)[:, None]\n"
     ]
    },
    {
     "name": "stdout",
     "output_type": "stream",
     "text": [
      "(319440, 30, 11, 5206685.135173058)\n",
      "(319440, 30, 11, 608502.4882586405)\n",
      "(319440, 30, 1, 4162067.9084625244)\n",
      "(319440, 30, 2, 4162067.9084625244)\n"
     ]
    },
    {
     "name": "stderr",
     "output_type": "stream",
     "text": [
      "/mnt/colab/colab_shared/anaconda3/envs/caiman/lib/python3.11/site-packages/scipy/signal/_spectral_py.py:589: UserWarning: nperseg = 256 is greater than input length  = 63, using nperseg = 63\n",
      "  freqs, _, Pxy = _spectral_helper(x, y, fs, window, nperseg, noverlap,\n",
      "/mnt/colab/colab_shared/anaconda3/envs/caiman/lib/python3.11/site-packages/scipy/sparse/_dia.py:277: RuntimeWarning: divide by zero encountered in remainder\n",
      "  c = np.arange(num_rows, dtype=np.intc) - (offsets % max_dim)[:, None]\n"
     ]
    },
    {
     "name": "stdout",
     "output_type": "stream",
     "text": [
      "(319440, 30, 1, 398064.14622306824)\n",
      "(319440, 30, 2, 398064.14622306824)\n"
     ]
    },
    {
     "name": "stderr",
     "output_type": "stream",
     "text": [
      "/mnt/colab/colab_shared/anaconda3/envs/caiman/lib/python3.11/site-packages/scipy/signal/_spectral_py.py:589: UserWarning: nperseg = 256 is greater than input length  = 63, using nperseg = 63\n",
      "  freqs, _, Pxy = _spectral_helper(x, y, fs, window, nperseg, noverlap,\n",
      "/mnt/colab/colab_shared/anaconda3/envs/caiman/lib/python3.11/site-packages/scipy/sparse/_dia.py:277: RuntimeWarning: divide by zero encountered in remainder\n",
      "  c = np.arange(num_rows, dtype=np.intc) - (offsets % max_dim)[:, None]\n"
     ]
    },
    {
     "name": "stdout",
     "output_type": "stream",
     "text": [
      "(319440, 30, 11, 5243306.628248324)\n",
      "(319440, 30, 1, 4342978.422668457)\n",
      "(319440, 30, 2, 4342978.422668457)\n"
     ]
    },
    {
     "name": "stderr",
     "output_type": "stream",
     "text": [
      "/mnt/colab/colab_shared/anaconda3/envs/caiman/lib/python3.11/site-packages/scipy/signal/_spectral_py.py:589: UserWarning: nperseg = 256 is greater than input length  = 63, using nperseg = 63\n",
      "  freqs, _, Pxy = _spectral_helper(x, y, fs, window, nperseg, noverlap,\n",
      "/mnt/colab/colab_shared/anaconda3/envs/caiman/lib/python3.11/site-packages/scipy/sparse/_dia.py:277: RuntimeWarning: divide by zero encountered in remainder\n",
      "  c = np.arange(num_rows, dtype=np.intc) - (offsets % max_dim)[:, None]\n"
     ]
    },
    {
     "name": "stdout",
     "output_type": "stream",
     "text": [
      "(319440, 30, 11, 6170532.233880568)\n",
      "(319440, 30, 1, 5406607.890426636)\n",
      "(319440, 30, 2, 5406607.890426636)\n"
     ]
    },
    {
     "name": "stderr",
     "output_type": "stream",
     "text": [
      "/mnt/colab/colab_shared/anaconda3/envs/caiman/lib/python3.11/site-packages/scipy/signal/_spectral_py.py:589: UserWarning: nperseg = 256 is greater than input length  = 63, using nperseg = 63\n",
      "  freqs, _, Pxy = _spectral_helper(x, y, fs, window, nperseg, noverlap,\n",
      "/mnt/colab/colab_shared/anaconda3/envs/caiman/lib/python3.11/site-packages/scipy/sparse/_dia.py:277: RuntimeWarning: divide by zero encountered in remainder\n",
      "  c = np.arange(num_rows, dtype=np.intc) - (offsets % max_dim)[:, None]\n"
     ]
    },
    {
     "name": "stdout",
     "output_type": "stream",
     "text": [
      "(322102, 30, 11, 5036383.160424459)\n",
      "(322102, 30, 1, 4077645.3343811035)\n",
      "(322102, 30, 2, 4077645.3343811035)\n"
     ]
    },
    {
     "name": "stderr",
     "output_type": "stream",
     "text": [
      "/mnt/colab/colab_shared/anaconda3/envs/caiman/lib/python3.11/site-packages/scipy/signal/_spectral_py.py:589: UserWarning: nperseg = 256 is greater than input length  = 63, using nperseg = 63\n",
      "  freqs, _, Pxy = _spectral_helper(x, y, fs, window, nperseg, noverlap,\n",
      "/mnt/colab/colab_shared/anaconda3/envs/caiman/lib/python3.11/site-packages/scipy/sparse/_dia.py:277: RuntimeWarning: divide by zero encountered in remainder\n",
      "  c = np.arange(num_rows, dtype=np.intc) - (offsets % max_dim)[:, None]\n"
     ]
    },
    {
     "name": "stdout",
     "output_type": "stream",
     "text": [
      "(322102, 30, 11, 3198078.4325398253)\n",
      "(322102, 30, 11, 2508479.1119433306)\n",
      "(322102, 30, 1, 2512829.213104248)\n",
      "(322102, 30, 2, 2512829.213104248)\n"
     ]
    },
    {
     "name": "stderr",
     "output_type": "stream",
     "text": [
      "/mnt/colab/colab_shared/anaconda3/envs/caiman/lib/python3.11/site-packages/scipy/signal/_spectral_py.py:589: UserWarning: nperseg = 256 is greater than input length  = 63, using nperseg = 63\n",
      "  freqs, _, Pxy = _spectral_helper(x, y, fs, window, nperseg, noverlap,\n",
      "/mnt/colab/colab_shared/anaconda3/envs/caiman/lib/python3.11/site-packages/scipy/sparse/_dia.py:277: RuntimeWarning: divide by zero encountered in remainder\n",
      "  c = np.arange(num_rows, dtype=np.intc) - (offsets % max_dim)[:, None]\n"
     ]
    },
    {
     "name": "stdout",
     "output_type": "stream",
     "text": [
      "(322102, 30, 1, 1960079.2382507324)\n",
      "(322102, 30, 2, 1960079.2382507324)\n"
     ]
    },
    {
     "name": "stderr",
     "output_type": "stream",
     "text": [
      "/mnt/colab/colab_shared/anaconda3/envs/caiman/lib/python3.11/site-packages/scipy/signal/_spectral_py.py:589: UserWarning: nperseg = 256 is greater than input length  = 63, using nperseg = 63\n",
      "  freqs, _, Pxy = _spectral_helper(x, y, fs, window, nperseg, noverlap,\n",
      "/mnt/colab/colab_shared/anaconda3/envs/caiman/lib/python3.11/site-packages/scipy/sparse/_dia.py:277: RuntimeWarning: divide by zero encountered in remainder\n",
      "  c = np.arange(num_rows, dtype=np.intc) - (offsets % max_dim)[:, None]\n"
     ]
    },
    {
     "name": "stdout",
     "output_type": "stream",
     "text": [
      "(319440, 30, 11, 7491547.9226611415)\n",
      "(319440, 30, 1, 6185898.211212158)\n",
      "(319440, 30, 2, 6185898.211212158)\n"
     ]
    },
    {
     "name": "stderr",
     "output_type": "stream",
     "text": [
      "/mnt/colab/colab_shared/anaconda3/envs/caiman/lib/python3.11/site-packages/scipy/signal/_spectral_py.py:589: UserWarning: nperseg = 256 is greater than input length  = 63, using nperseg = 63\n",
      "  freqs, _, Pxy = _spectral_helper(x, y, fs, window, nperseg, noverlap,\n",
      "/mnt/colab/colab_shared/anaconda3/envs/caiman/lib/python3.11/site-packages/scipy/sparse/_dia.py:277: RuntimeWarning: divide by zero encountered in remainder\n",
      "  c = np.arange(num_rows, dtype=np.intc) - (offsets % max_dim)[:, None]\n"
     ]
    },
    {
     "name": "stdout",
     "output_type": "stream",
     "text": [
      "(319440, 30, 11, 4795279.709646317)\n",
      "(319440, 30, 1, 4107498.490776062)\n",
      "(319440, 30, 2, 4107498.490776062)\n"
     ]
    },
    {
     "name": "stderr",
     "output_type": "stream",
     "text": [
      "/mnt/colab/colab_shared/anaconda3/envs/caiman/lib/python3.11/site-packages/scipy/signal/_spectral_py.py:589: UserWarning: nperseg = 256 is greater than input length  = 63, using nperseg = 63\n",
      "  freqs, _, Pxy = _spectral_helper(x, y, fs, window, nperseg, noverlap,\n",
      "/mnt/colab/colab_shared/anaconda3/envs/caiman/lib/python3.11/site-packages/scipy/sparse/_dia.py:277: RuntimeWarning: divide by zero encountered in remainder\n",
      "  c = np.arange(num_rows, dtype=np.intc) - (offsets % max_dim)[:, None]\n"
     ]
    },
    {
     "name": "stdout",
     "output_type": "stream",
     "text": [
      "(322102, 30, 11, 18594380.783511367)\n",
      "(322102, 30, 1, 16659195.482971191)\n",
      "(322102, 30, 2, 16659195.482971191)\n"
     ]
    },
    {
     "name": "stderr",
     "output_type": "stream",
     "text": [
      "/mnt/colab/colab_shared/anaconda3/envs/caiman/lib/python3.11/site-packages/scipy/signal/_spectral_py.py:589: UserWarning: nperseg = 256 is greater than input length  = 63, using nperseg = 63\n",
      "  freqs, _, Pxy = _spectral_helper(x, y, fs, window, nperseg, noverlap,\n",
      "/mnt/colab/colab_shared/anaconda3/envs/caiman/lib/python3.11/site-packages/scipy/sparse/_dia.py:277: RuntimeWarning: divide by zero encountered in remainder\n",
      "  c = np.arange(num_rows, dtype=np.intc) - (offsets % max_dim)[:, None]\n"
     ]
    },
    {
     "name": "stdout",
     "output_type": "stream",
     "text": [
      "(322102, 30, 11, 2724297.9745964827)\n",
      "(322102, 30, 1, 2342521.6970329285)\n",
      "(322102, 30, 2, 2342521.6970329285)\n"
     ]
    },
    {
     "name": "stderr",
     "output_type": "stream",
     "text": [
      "/mnt/colab/colab_shared/anaconda3/envs/caiman/lib/python3.11/site-packages/scipy/signal/_spectral_py.py:589: UserWarning: nperseg = 256 is greater than input length  = 63, using nperseg = 63\n",
      "  freqs, _, Pxy = _spectral_helper(x, y, fs, window, nperseg, noverlap,\n",
      "/mnt/colab/colab_shared/anaconda3/envs/caiman/lib/python3.11/site-packages/scipy/sparse/_dia.py:277: RuntimeWarning: divide by zero encountered in remainder\n",
      "  c = np.arange(num_rows, dtype=np.intc) - (offsets % max_dim)[:, None]\n"
     ]
    },
    {
     "name": "stdout",
     "output_type": "stream",
     "text": [
      "(322102, 30, 11, 11497975.808272317)\n",
      "(322102, 30, 11, 11248763.422290087)\n",
      "(322102, 30, 11, 23265370.934589304)\n",
      "(322102, 30, 11, 12158566.414092895)\n",
      "(322102, 30, 1, 10397008.34689331)\n",
      "(322102, 30, 2, 10397008.34689331)\n"
     ]
    },
    {
     "name": "stderr",
     "output_type": "stream",
     "text": [
      "/mnt/colab/colab_shared/anaconda3/envs/caiman/lib/python3.11/site-packages/scipy/signal/_spectral_py.py:589: UserWarning: nperseg = 256 is greater than input length  = 63, using nperseg = 63\n",
      "  freqs, _, Pxy = _spectral_helper(x, y, fs, window, nperseg, noverlap,\n",
      "/mnt/colab/colab_shared/anaconda3/envs/caiman/lib/python3.11/site-packages/scipy/sparse/_dia.py:277: RuntimeWarning: divide by zero encountered in remainder\n",
      "  c = np.arange(num_rows, dtype=np.intc) - (offsets % max_dim)[:, None]\n"
     ]
    },
    {
     "name": "stdout",
     "output_type": "stream",
     "text": [
      "(322102, 30, 1, 9508717.70187378)\n",
      "(322102, 30, 2, 9508717.70187378)\n"
     ]
    },
    {
     "name": "stderr",
     "output_type": "stream",
     "text": [
      "/mnt/colab/colab_shared/anaconda3/envs/caiman/lib/python3.11/site-packages/scipy/signal/_spectral_py.py:589: UserWarning: nperseg = 256 is greater than input length  = 63, using nperseg = 63\n",
      "  freqs, _, Pxy = _spectral_helper(x, y, fs, window, nperseg, noverlap,\n",
      "/mnt/colab/colab_shared/anaconda3/envs/caiman/lib/python3.11/site-packages/scipy/sparse/_dia.py:277: RuntimeWarning: divide by zero encountered in remainder\n",
      "  c = np.arange(num_rows, dtype=np.intc) - (offsets % max_dim)[:, None]\n"
     ]
    },
    {
     "name": "stdout",
     "output_type": "stream",
     "text": [
      "(322102, 30, 1, 20851912.391326904)\n",
      "(322102, 30, 2, 20851912.391326904)(322102, 30, 1, 10309432.770126343)\n",
      "\n",
      "(322102, 30, 2, 10309432.770126343)\n"
     ]
    },
    {
     "name": "stderr",
     "output_type": "stream",
     "text": [
      "/mnt/colab/colab_shared/anaconda3/envs/caiman/lib/python3.11/site-packages/scipy/signal/_spectral_py.py:589: UserWarning: nperseg = 256 is greater than input length  = 63, using nperseg = 63\n",
      "  freqs, _, Pxy = _spectral_helper(x, y, fs, window, nperseg, noverlap,\n",
      "/mnt/colab/colab_shared/anaconda3/envs/caiman/lib/python3.11/site-packages/scipy/sparse/_dia.py:277: RuntimeWarning: divide by zero encountered in remainder\n",
      "  c = np.arange(num_rows, dtype=np.intc) - (offsets % max_dim)[:, None]\n",
      "/mnt/colab/colab_shared/anaconda3/envs/caiman/lib/python3.11/site-packages/scipy/signal/_spectral_py.py:589: UserWarning: nperseg = 256 is greater than input length  = 63, using nperseg = 63\n",
      "  freqs, _, Pxy = _spectral_helper(x, y, fs, window, nperseg, noverlap,\n",
      "/mnt/colab/colab_shared/anaconda3/envs/caiman/lib/python3.11/site-packages/scipy/sparse/_dia.py:277: RuntimeWarning: divide by zero encountered in remainder\n",
      "  c = np.arange(num_rows, dtype=np.intc) - (offsets % max_dim)[:, None]\n"
     ]
    },
    {
     "name": "stdout",
     "output_type": "stream",
     "text": [
      "(322102, 30, 11, 3493632.601894295)\n",
      "(322102, 30, 1, 2865994.083595276)\n",
      "(322102, 30, 2, 2865994.083595276)\n"
     ]
    },
    {
     "name": "stderr",
     "output_type": "stream",
     "text": [
      "/mnt/colab/colab_shared/anaconda3/envs/caiman/lib/python3.11/site-packages/scipy/signal/_spectral_py.py:589: UserWarning: nperseg = 256 is greater than input length  = 63, using nperseg = 63\n",
      "  freqs, _, Pxy = _spectral_helper(x, y, fs, window, nperseg, noverlap,\n",
      "/mnt/colab/colab_shared/anaconda3/envs/caiman/lib/python3.11/site-packages/scipy/sparse/_dia.py:277: RuntimeWarning: divide by zero encountered in remainder\n",
      "  c = np.arange(num_rows, dtype=np.intc) - (offsets % max_dim)[:, None]\n"
     ]
    },
    {
     "name": "stdout",
     "output_type": "stream",
     "text": [
      "(322102, 30, 11, 8480192.413061175)\n",
      "(322102, 30, 1, 6997804.853866577)\n",
      "(322102, 30, 2, 6997804.853866577)\n"
     ]
    },
    {
     "name": "stderr",
     "output_type": "stream",
     "text": [
      "/mnt/colab/colab_shared/anaconda3/envs/caiman/lib/python3.11/site-packages/scipy/signal/_spectral_py.py:589: UserWarning: nperseg = 256 is greater than input length  = 63, using nperseg = 63\n",
      "  freqs, _, Pxy = _spectral_helper(x, y, fs, window, nperseg, noverlap,\n",
      "/mnt/colab/colab_shared/anaconda3/envs/caiman/lib/python3.11/site-packages/scipy/sparse/_dia.py:277: RuntimeWarning: divide by zero encountered in remainder\n",
      "  c = np.arange(num_rows, dtype=np.intc) - (offsets % max_dim)[:, None]\n"
     ]
    },
    {
     "name": "stdout",
     "output_type": "stream",
     "text": [
      "(322102, 30, 11, 10011668.683117017)\n",
      "(322102, 30, 1, 8906955.544876099)\n",
      "(322102, 30, 2, 8906955.544876099)\n"
     ]
    },
    {
     "name": "stderr",
     "output_type": "stream",
     "text": [
      "/mnt/colab/colab_shared/anaconda3/envs/caiman/lib/python3.11/site-packages/scipy/signal/_spectral_py.py:589: UserWarning: nperseg = 256 is greater than input length  = 63, using nperseg = 63\n",
      "  freqs, _, Pxy = _spectral_helper(x, y, fs, window, nperseg, noverlap,\n",
      "/mnt/colab/colab_shared/anaconda3/envs/caiman/lib/python3.11/site-packages/scipy/sparse/_dia.py:277: RuntimeWarning: divide by zero encountered in remainder\n",
      "  c = np.arange(num_rows, dtype=np.intc) - (offsets % max_dim)[:, None]\n"
     ]
    },
    {
     "name": "stdout",
     "output_type": "stream",
     "text": [
      "(322102, 30, 11, 9581503.06651292)\n",
      "(322102, 30, 1, 8505545.825538635)\n",
      "(322102, 30, 2, 8505545.825538635)\n"
     ]
    },
    {
     "name": "stderr",
     "output_type": "stream",
     "text": [
      "/mnt/colab/colab_shared/anaconda3/envs/caiman/lib/python3.11/site-packages/scipy/signal/_spectral_py.py:589: UserWarning: nperseg = 256 is greater than input length  = 63, using nperseg = 63\n",
      "  freqs, _, Pxy = _spectral_helper(x, y, fs, window, nperseg, noverlap,\n",
      "/mnt/colab/colab_shared/anaconda3/envs/caiman/lib/python3.11/site-packages/scipy/sparse/_dia.py:277: RuntimeWarning: divide by zero encountered in remainder\n",
      "  c = np.arange(num_rows, dtype=np.intc) - (offsets % max_dim)[:, None]\n"
     ]
    },
    {
     "name": "stdout",
     "output_type": "stream",
     "text": [
      "(322102, 30, 11, 8623998.094600022)\n",
      "(322102, 30, 1, 7459314.643508911)\n",
      "(322102, 30, 2, 7459314.643508911)\n"
     ]
    },
    {
     "name": "stderr",
     "output_type": "stream",
     "text": [
      "/mnt/colab/colab_shared/anaconda3/envs/caiman/lib/python3.11/site-packages/scipy/signal/_spectral_py.py:589: UserWarning: nperseg = 256 is greater than input length  = 63, using nperseg = 63\n",
      "  freqs, _, Pxy = _spectral_helper(x, y, fs, window, nperseg, noverlap,\n",
      "/mnt/colab/colab_shared/anaconda3/envs/caiman/lib/python3.11/site-packages/scipy/sparse/_dia.py:277: RuntimeWarning: divide by zero encountered in remainder\n",
      "  c = np.arange(num_rows, dtype=np.intc) - (offsets % max_dim)[:, None]\n"
     ]
    },
    {
     "name": "stdout",
     "output_type": "stream",
     "text": [
      "(322102, 30, 11, 8720004.323859476)\n",
      "(322102, 30, 1, 7262643.484893799)\n",
      "(322102, 30, 2, 7262643.484893799)\n"
     ]
    },
    {
     "name": "stderr",
     "output_type": "stream",
     "text": [
      "/mnt/colab/colab_shared/anaconda3/envs/caiman/lib/python3.11/site-packages/scipy/signal/_spectral_py.py:589: UserWarning: nperseg = 256 is greater than input length  = 63, using nperseg = 63\n",
      "  freqs, _, Pxy = _spectral_helper(x, y, fs, window, nperseg, noverlap,\n",
      "/mnt/colab/colab_shared/anaconda3/envs/caiman/lib/python3.11/site-packages/scipy/sparse/_dia.py:277: RuntimeWarning: divide by zero encountered in remainder\n",
      "  c = np.arange(num_rows, dtype=np.intc) - (offsets % max_dim)[:, None]\n"
     ]
    },
    {
     "name": "stdout",
     "output_type": "stream",
     "text": [
      "(322102, 30, 11, 11334477.821656935)\n",
      "(322102, 30, 11, 12178344.154227406)\n",
      "(322102, 30, 1, 9523143.250305176)\n",
      "(322102, 30, 2, 9523143.250305176)\n"
     ]
    },
    {
     "name": "stderr",
     "output_type": "stream",
     "text": [
      "/mnt/colab/colab_shared/anaconda3/envs/caiman/lib/python3.11/site-packages/scipy/signal/_spectral_py.py:589: UserWarning: nperseg = 256 is greater than input length  = 63, using nperseg = 63\n",
      "  freqs, _, Pxy = _spectral_helper(x, y, fs, window, nperseg, noverlap,\n",
      "/mnt/colab/colab_shared/anaconda3/envs/caiman/lib/python3.11/site-packages/scipy/sparse/_dia.py:277: RuntimeWarning: divide by zero encountered in remainder\n",
      "  c = np.arange(num_rows, dtype=np.intc) - (offsets % max_dim)[:, None]\n"
     ]
    },
    {
     "name": "stdout",
     "output_type": "stream",
     "text": [
      "(322102, 30, 1, 10499280.45539856)\n",
      "(322102, 30, 2, 10499280.45539856)\n"
     ]
    },
    {
     "name": "stderr",
     "output_type": "stream",
     "text": [
      "/mnt/colab/colab_shared/anaconda3/envs/caiman/lib/python3.11/site-packages/scipy/signal/_spectral_py.py:589: UserWarning: nperseg = 256 is greater than input length  = 63, using nperseg = 63\n",
      "  freqs, _, Pxy = _spectral_helper(x, y, fs, window, nperseg, noverlap,\n",
      "/mnt/colab/colab_shared/anaconda3/envs/caiman/lib/python3.11/site-packages/scipy/sparse/_dia.py:277: RuntimeWarning: divide by zero encountered in remainder\n",
      "  c = np.arange(num_rows, dtype=np.intc) - (offsets % max_dim)[:, None]\n"
     ]
    },
    {
     "name": "stdout",
     "output_type": "stream",
     "text": [
      "(322102, 30, 11, 9109740.718921173)\n",
      "(322102, 30, 1, 8011448.257728577)\n",
      "(322102, 30, 2, 8011448.257728577)\n"
     ]
    },
    {
     "name": "stderr",
     "output_type": "stream",
     "text": [
      "/mnt/colab/colab_shared/anaconda3/envs/caiman/lib/python3.11/site-packages/scipy/signal/_spectral_py.py:589: UserWarning: nperseg = 256 is greater than input length  = 63, using nperseg = 63\n",
      "  freqs, _, Pxy = _spectral_helper(x, y, fs, window, nperseg, noverlap,\n",
      "/mnt/colab/colab_shared/anaconda3/envs/caiman/lib/python3.11/site-packages/scipy/sparse/_dia.py:277: RuntimeWarning: divide by zero encountered in remainder\n",
      "  c = np.arange(num_rows, dtype=np.intc) - (offsets % max_dim)[:, None]\n",
      "/mnt/colab/colab_shared/anaconda3/envs/caiman/lib/python3.11/site-packages/scipy/sparse/_dia.py:277: RuntimeWarning: divide by zero encountered in remainder\n",
      "  c = np.arange(num_rows, dtype=np.intc) - (offsets % max_dim)[:, None]\n"
     ]
    },
    {
     "data": {
      "image/png": "[encoded data removed]",
      "text/plain": [
       "<Figure size 640x480 with 1 Axes>"
      ]
     },
     "metadata": {},
     "output_type": "display_data"
    },
    {
     "name": "stdout",
     "output_type": "stream",
     "text": [
      "Keeping  604  components\n",
      "Saved to: /mnt/hdd_cache/pkalugin/preprocessing/20230819_PL43_wells101/ch0_means_movie_nobg_cnmf.hdf5\n"
     ]
    }
   ],
   "source": [
    "for m in trange(0,len(data_dir_l)):\n",
    "    data_dir = data_dir_l[m]\n",
    "    z1 = zmt_l[m][0]\n",
    "    z2 = zmt_l[m][1]\n",
    "    mov_means = zmt_l[m][2]\n",
    "    t1 = zmt_l[m][3]\n",
    "    t2 = zmt_l[m][4]\n",
    "    n_range = n_range_l[m]\n",
    "    snr_cutoff = snr_cutoff_l[m]\n",
    "\n",
    "    if warp_ch0:\n",
    "        fnamex = os.path.join(data_dir, 'segtrack/tiffs/ch0/'+str(mov_means)+'_mean_warped_ch0/means_movie.npy')\n",
    "    else:\n",
    "        fnamex = os.path.join(data_dir, 'segtrack/tiffs/ch0/'+str(mov_means)+'_mean_warped_/means_movie.npy')\n",
    "    Yx = np.load(fnamex,mmap_mode='r+')\n",
    "    Yx = Yx.transpose([0,2,3,1])\n",
    "    Yx = Yx[t1:t2,:,:,z1:z2]\n",
    "\n",
    "    Yz = np.min(Yx,axis=0)\n",
    "    Yz = np.array(Yz!=0,order='C')\n",
    "    Yd = np.min(Yz,axis=2)\n",
    "    vgrid2 = lir.lir(np.array(Yd,order='C'))\n",
    "    vgrid2[2] = vgrid2[0]+vgrid2[2]\n",
    "    vgrid2[3] = vgrid2[1]+vgrid2[3]\n",
    "    Yxx = Yx[:,vgrid2[1]:vgrid2[3],vgrid2[0]:vgrid2[2],:]\n",
    "    dims = Yxx.shape[1:]\n",
    "\n",
    "    if warp_ch0:\n",
    "        pname = os.path.join(data_dir, 'segtrack/segs/ch0/'+str(mov_means)+'_mean_warped_ch0/cellpose_model_1_o_relab042323_flow_aniso4_st0p4_blTrue_intFalse_3DeeC/seg/prob_movie_tmax_blur.tiff')\n",
    "    else:\n",
    "        pname = os.path.join(data_dir, 'segtrack/segs/ch0/'+str(mov_means)+'_mean_warped_/cellpose_model_1_o_relab042323_flow_aniso4_st0p4_blTrue_intFalse_3DeeC/seg/prob_movie_tmax_blur.tiff')\n",
    "    pmap = imread(pname) # this is mask based on thresholded probmap (cell vs not cell) - for some movies may need to include additional defect mask!\n",
    "    pmap = pmap.transpose([1,2,0])\n",
    "    pmap = pmap[vgrid2[1]:vgrid2[3],vgrid2[0]:vgrid2[2],z1:z2]\n",
    "    pmask = pmap<0 # this is the \"not cell\" mask\n",
    "    pmask3 = pmap>0 # this is the \"cell\" mask\n",
    "\n",
    "    if warp_ch0:\n",
    "        bname = os.path.join(data_dir, 'segtrack/segs/ch0/'+str(mov_means)+'_mean_warped_ch0/cellpose_model_1_o_relab042323_flow_aniso4_st0p4_blTrue_intFalse_3DeeC/seg/prob_movie_tmax_blur_circle.tif')\n",
    "    else:\n",
    "        bname = os.path.join(data_dir, 'segtrack/segs/ch0/'+str(mov_means)+'_mean_warped_/cellpose_model_1_o_relab042323_flow_aniso4_st0p4_blTrue_intFalse_3DeeC/seg/prob_movie_tmax_blur_circle.tif')\n",
    "    bmap = imread(bname) # this is the \"GRIN\" mask removing out of lens background\n",
    "    bmap = bmap[0,vgrid2[1]:vgrid2[3],vgrid2[0]:vgrid2[2]]\n",
    "    bmask = bmap>0\n",
    "\n",
    "    pmask2 = pmask.transpose([2,0,1]) # transpose for correct broadcasting - axis they don't share should be first (in this case z)\n",
    "    bgmask = np.multiply(pmask2,bmask) # this is the in-GRIN background mask\n",
    "    bgmask = bgmask.transpose([1,2,0])\n",
    "    bgmask = bgmask.astype('bool')\n",
    "\n",
    "    Yxy = np.multiply(Yxx,bgmask) # this is the masked background signal (to be interpolated)\n",
    "\n",
    "    alls = np.ones(Yxx.shape[1:])\n",
    "    bmaskz = np.multiply(alls.transpose([2,0,1]),bmask)\n",
    "    bmaskz = bmaskz.astype('bool')\n",
    "    bmaskz = bmaskz.transpose([1,2,0]) # this is the \"GRIN\" mask cylinder in z\n",
    "\n",
    "    Yxxb = np.multiply(Yxx,bmaskz) # this is the original signal movie only in GRIN\n",
    "\n",
    "    # here the background interpolation starts - copy the bg-masked movie and set non-bg to NaN, then interpolate into the holes\n",
    "    Yxy2 = np.copy(Yxy)\n",
    "    Yxy2[Yxy2==0] = 'nan'\n",
    "\n",
    "    # parallelized background interpolation - for 169 frame movie across 35 cores, it takes 9:31 min\n",
    "    y = np.linspace(0,Yxy2.shape[1]-1,Yxy2.shape[1])\n",
    "    x = np.linspace(0,Yxy2.shape[2]-1,Yxy2.shape[2])\n",
    "    z = np.linspace(0,Yxy2.shape[3]-1,Yxy2.shape[3])\n",
    "    pos = np.meshgrid(y,x,z)\n",
    "    posarr = np.asarray(pos)\n",
    "    posarr = posarr.transpose([2,1,3,0])\n",
    "    posarrf = posarr.reshape([-1,3])\n",
    "    Yxy2tdx = sm.block_reduce(Yxy2[0,:,:,:],block_size=(dxy,dxy,dz),func=np.nanmedian,cval=np.nan)\n",
    "    yd = np.arange((dxy-1)/2,Yxy2tdx.shape[0]*dxy,dxy)\n",
    "    xd = np.arange((dxy-1)/2,Yxy2tdx.shape[1]*dxy,dxy)\n",
    "    zd = np.arange((dz-1)/2,Yxy2tdx.shape[2]*dz,dz)\n",
    "    posd = np.meshgrid(yd,xd,zd)\n",
    "    posdarr = np.asarray(posd)\n",
    "    posdarr = posdarr.transpose([2,1,3,0]) #could fix some of this by switching to 'ij' instead of 'xy' in meshgrid\n",
    "    posdarrf = posdarr.reshape([-1,3])\n",
    "    \n",
    "    def process(t):\n",
    "        Yxy2t = Yxy2[t,:,:,:] - Yxy2[0,:,:,:]\n",
    "        Yxy2td = sm.block_reduce(Yxy2t,block_size=(dxy,dxy,dz),func=np.nanmedian,cval=np.nan)\n",
    "        Yxy2tdf = Yxy2td.flatten()\n",
    "        posdarrt = np.copy(posdarr)\n",
    "        posdarrtf = posdarrt.reshape(Yxy2tdf.shape + (-1,))\n",
    "        Yxy2tdfn = Yxy2tdf[~np.isnan(Yxy2tdf)]\n",
    "        posdarrtfn = posdarrtf[~np.isnan(Yxy2tdf),:]\n",
    "        intrbfd = si.RBFInterpolator(posdarrtfn,Yxy2tdfn,degree=1,smoothing=100)\n",
    "        Yxy2tdi1 = intrbfd(posdarrf)\n",
    "        Yxy2tdi1 = Yxy2tdi1.reshape(Yxy2td.shape)\n",
    "        Yxy2tdi = gaussian_filter(Yxy2tdi1,sigma=sigmag,mode='nearest')\n",
    "        Yxy2tdiup = si.interpn((yd,xd,zd),Yxy2tdi,posarrf,bounds_error=False,fill_value=None)\n",
    "        Yxy2tdiup = Yxy2tdiup.reshape(Yxy2t.shape)\n",
    "        return Yxy2tdiup\n",
    "        \n",
    "    with tqdm_joblib(tqdm(desc=\"Interpolating background...\", total=len(range(Yxy2.shape[0])))) as progress_bar:\n",
    "        results = Parallel(n_jobs=n_cores)(delayed(process)(t) for t in range(Yxy2.shape[0]))\n",
    "    \n",
    "    Yxy2bg = np.asarray(results)\n",
    "    get_reusable_executor().shutdown(wait=True)\n",
    "\n",
    "    Yxxbnobg = Yxxb - np.multiply(Yxy2bg,bmaskz)\n",
    "\n",
    "    # keep an eye on directories - do everything locally (much faster) then move to nasquatch at the very end!\n",
    "    try:\n",
    "        os.mkdir(os.path.join('/mnt/hdd_cache/pkalugin', 'preprocessing', os.path.split(os.path.dirname(os.path.dirname(data_dir)))[1] + '_' + os.path.split(os.path.dirname(data_dir))[1]))\n",
    "    except:\n",
    "        pass\n",
    "    base_dir = os.path.join('/mnt/hdd_cache/pkalugin', 'preprocessing', os.path.split(os.path.dirname(os.path.dirname(data_dir)))[1] + '_' + os.path.split(os.path.dirname(data_dir))[1])\n",
    "    fnamebg = os.path.join(base_dir, 'ch0_means_movie_bg.tif')\n",
    "    imwrite(fnamebg,np.multiply(Yxy2bg,bmaskz))\n",
    "    fnames = os.path.join(base_dir, 'ch0_means_movie_nobg.tif')\n",
    "    imwrite(fnames,Yxxbnobg)\n",
    "\n",
    "    Y = cm.load(fnames)\n",
    "    Cn = cm.local_correlations(Y, swap_dim=False)\n",
    "\n",
    "    #%% start a cluster for parallel processing (if a cluster already exists it will be closed and a new session will be opened)\n",
    "    n_processes = n_cores\n",
    "    if 'dview' in locals():\n",
    "        cm.stop_server(dview=dview)\n",
    "    c, dview, n_processes = cm.cluster.setup_cluster(\n",
    "        backend='multiprocessing', n_processes=n_processes, single_thread=False)\n",
    "    #n_processes\n",
    "\n",
    "    # on colab05 saving to nasquatch, this takes >10 min - too long, not worth it!\n",
    "    # instead, do this all locally, then move to nasquatch at the very end! takes just 40 sec locally!\n",
    "    ## NO MOTION CORRECTION\n",
    "    # without motion correction - use correct file!!\n",
    "    os.chdir(base_dir)\n",
    "    fnamesmm = np.memmap('nomc_' + os.path.split(fnames)[1][:-4] + '.mmap', dtype=Y.dtype, mode='w+', shape=Y.shape, order='F')\n",
    "    fnamesmm[:] = Y[:]\n",
    "    \n",
    "    mc_memmapped_fname = cm.save_memmap(list(fnamesmm), base_name='memmap_', is_3D=True,\n",
    "                                         order='C', border_to_0=0, dview=None)\n",
    "    \n",
    "    Yr, dims, T = cm.load_memmap(mc_memmapped_fname)\n",
    "    images = np.reshape(Yr.T, [T] + list(dims), order='F') \n",
    "\n",
    "    stride_cnmf = int(np.min([40,np.floor(150-np.min([Cn.shape[0],Cn.shape[1]])/4)]))             # amount of overlap between the patches in pixels (overlap is stride_cnmf+1) \n",
    "\n",
    "    parameter_dict = {'fnames': fnames,\n",
    "                      'p': p,\n",
    "                      'nb': gnb,\n",
    "                      'rf': rf,\n",
    "                      'K': K, \n",
    "                      'gSig': gSig,\n",
    "                      'gSiz': gSiz,\n",
    "                      'stride': stride_cnmf,\n",
    "                      'method_init': method_init,\n",
    "                      'rolling_sum': rolling_sum, #important\n",
    "                      'rolling_length': rolling_length,\n",
    "                      'only_init': only_init, #also keep an eye on this\n",
    "                      'ssub': ssub,\n",
    "                      'tsub': tsub,\n",
    "                      'merge_thr': merge_thr, \n",
    "                      'bas_nonneg': bas_nonneg,\n",
    "                      'kernel': kernel,\n",
    "                      'nIter': nIter\n",
    "                     }\n",
    "    \n",
    "    parameters = params.CNMFParams(params_dict=parameter_dict) # CNMFParams is the parameters class\n",
    "\n",
    "    cnmf_model = cnmf.CNMF(n_processes, \n",
    "                           params=parameters, \n",
    "                           dview=dview)\n",
    "\n",
    "    # will throw error in wrong environment (needs modified caiman for nb=0!)\n",
    "    # takes 15 min for locally stored movie 169 frames, 30 patches, 30 cells per patch\n",
    "    cnmf_fit = cnmf_model.fit(images)\n",
    "\n",
    "    # STOP CLUSTER\n",
    "    cm.stop_server(dview=dview)\n",
    "\n",
    "    ## SNR calculation and cutoff determination\n",
    "    CY = cnmf_fit.estimates.C + cnmf_fit.estimates.YrA\n",
    "    def sav_calc(sraw):\n",
    "        return sg.savgol_filter(sraw,3,1)\n",
    "    savres = Parallel(n_jobs=n_cores)(delayed(sav_calc)(raw) for raw in list(CY))\n",
    "    CYsav = np.asarray(savres)\n",
    "    get_reusable_executor().shutdown(wait=True)\n",
    "    \n",
    "    CYsavsort = np.sort(CYsav,axis=1)\n",
    "    CYsavt10 = np.mean(CYsavsort[:,int(CYsavsort.shape[1]-np.ceil(CYsavsort.shape[1]/10)):],axis=1) # top 10% mean\n",
    "    CYsavb10 = np.mean(CYsavsort[:,:int(np.ceil(CYsavsort.shape[1]/10))],axis=1) # bottom 10% mean\n",
    "    if n_range is None:\n",
    "        sig = CYsavt10 - CYsavb10\n",
    "    else:\n",
    "        sig = CYsavt10 - np.mean(CYsav[:,n_range],axis=1) # baseline mean\n",
    "    \n",
    "    noisestd = np.std(CY - CYsav,axis=1) # noise calculated across whole movie\n",
    "    SNR = sig/noisestd\n",
    "    SNRsort = np.sort(SNR)\n",
    "    SNRmin = SNRsort[int(np.floor(snr_cutoff*SNRsort.shape[0]))]\n",
    "\n",
    "    ## Nonnegative cutoff determination\n",
    "    dist = CYsavb10[CYsavb10<0]\n",
    "    dist = np.concatenate((dist,-dist))\n",
    "    Sigmin = np.std(dist)*1.96\n",
    "\n",
    "    fig,ax = plt.subplots()\n",
    "    ax.scatter(CYsavb10,SNR)\n",
    "    plt.xlabel(\"Bottom 10% signal\")\n",
    "    plt.ylabel(\"Peak SNR\")\n",
    "    plt.vlines(Sigmin,0,plt.gca().get_ylim()[1],color='orange')\n",
    "    plt.hlines(SNRmin,plt.gca().get_xlim()[0],plt.gca().get_xlim()[1],color='r')\n",
    "    plt.show()\n",
    "    keepargs = np.intersect1d(np.where(SNR>SNRmin),np.where(CYsavb10>Sigmin))\n",
    "    print(\"Keeping \", str(keepargs.shape[0]) ,\" components\")\n",
    "\n",
    "    # ~5:18 min total for 169 fr mouse movie\n",
    "    Cthr = 0.9 # contour energy threshold\n",
    "    d = cnmf_model.estimates.A.shape[0]\n",
    "    dims = cnmf_model.estimates.dims\n",
    "    axis = 2\n",
    "    order = list(range(4))\n",
    "    order.insert(0, order.pop(axis))\n",
    "    index_permut = np.reshape(np.arange(d), dims, order='F').transpose(\n",
    "            order[:-1]).reshape(d, order='F')\n",
    "    A = csc_matrix(cnmf_model.estimates.A)[index_permut, :]\n",
    "    dims = tuple(np.array(dims)[order[:3]])\n",
    "    d1, d2, d3 = dims\n",
    "    nr, T = cnmf_model.estimates.C.shape\n",
    "    image_cells = np.array(A.mean(axis=1)).reshape(dims, order='F')\n",
    "    coors = get_contours(A, dims, thr=Cthr)\n",
    "    with open(os.path.join(base_dir, 'ch0_means_movie_nobg_coors.pickle'), 'wb') as f:\n",
    "        pickle.dump(coors, f)\n",
    "    \n",
    "    # 3:34 min with multiprocessing over 35 cores!\n",
    "    #n_cores = 35\n",
    "    spcomps = np.reshape(cnmf_fit.estimates.A.toarray(),cnmf_fit.estimates.dims + (-1,),order='F')\n",
    "    spcomps = spcomps.transpose([3,2,0,1])\n",
    "    images2 = images.transpose([0,3,1,2])\n",
    "    C = cnmf_fit.estimates.C # temporal loadings\n",
    "    def process2(nr):\n",
    "        return np.sum((images2*spcomps[nr,...]).reshape([images2.shape[0],-1]),axis=1).T/np.sum(spcomps[nr,...])\n",
    "    results2 = Parallel(n_jobs=n_cores)(delayed(process2)(nr) for nr in range(spcomps.shape[0]))\n",
    "    Craw = np.asarray(results2)\n",
    "    get_reusable_executor().shutdown(wait=True)\n",
    "\n",
    "    cnmf_fit.estimates.Cn = np.nan_to_num(Cn)\n",
    "    cnmf_fit.estimates.n_range = n_range\n",
    "    cnmf_fit.estimates.CYsav = CYsav\n",
    "    cnmf_fit.estimates.SNR_comp = SNR\n",
    "    cnmf_fit.estimates.SNRmin = SNRmin\n",
    "    cnmf_fit.estimates.Sigmin = Sigmin\n",
    "    cnmf_fit.estimates.keepargs = keepargs\n",
    "    cnmf_fit.estimates.Craw = Craw\n",
    "\n",
    "    # save data\n",
    "    #print(\"Saving CNMF model...\")\n",
    "    save_path = os.path.join(base_dir, 'ch0_means_movie_nobg_cnmf.hdf5')\n",
    "    cnmf_fit.save(save_path)\n",
    "    \n",
    "    print(\"Saved to:\",save_path)\n",
    "\n",
    "    # copy from local to nasquatch\n",
    "    _orig_copystat = shutil.copystat\n",
    "    shutil.copystat = lambda *a, **k: None\n",
    "    shutil.copytree(base_dir,os.path.join(data_dir, 'preprocessing', os.path.split(os.path.dirname(os.path.dirname(data_dir)))[1] + '_' + os.path.split(os.path.dirname(data_dir))[1]))\n",
    "    shutil.copystat = _orig_copystat"
   ]
  },
  {
   "cell_type": "code",
   "execution_count": null,
   "id": "fa45c7d1-cf45-414b-a20c-312d7edfee64",
   "metadata": {},
   "outputs": [],
   "source": []
  },
  {
   "cell_type": "code",
   "execution_count": null,
   "id": "730157c6-c2a1-4e59-88c2-a0a66dddd014",
   "metadata": {},
   "outputs": [],
   "source": []
  }
 ],
 "metadata": {
  "kernelspec": {
   "display_name": "Python 3 (ipykernel)",
   "language": "python",
   "name": "python3"
  },
  "language_info": {
   "codemirror_mode": {
    "name": "ipython",
    "version": 3
   },
   "file_extension": ".py",
   "mimetype": "text/x-python",
   "name": "python",
   "nbconvert_exporter": "python",
   "pygments_lexer": "ipython3",
   "version": "3.10.8"
  }
 },
 "nbformat": 4,
 "nbformat_minor": 5
}
