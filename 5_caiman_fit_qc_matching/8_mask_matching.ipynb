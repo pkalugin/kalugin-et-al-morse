{
 "cells": [
  {
   "cell_type": "code",
   "execution_count": 16,
   "id": "75307bc6-12ac-41d7-a740-d73efd726258",
   "metadata": {},
   "outputs": [
    {
     "name": "stdin",
     "output_type": "stream",
     "text": [
      "Enter the reference CNMF directory (e.g. in vivo/slice/first dipping): /mnt/nasquatch/data/2p/peter/slice/20230817_SL1PL55/slice/preprocessing/20230817_SL1PL55_slice_maddy_done_qc_done/\n",
      "Enter the moving CNMF directory (e.g. wellsN01): /mnt/nasquatch/data/2p/peter/slice/20230817_SL1PL55/wells101/preprocessing/20230817_SL1PL55_wells101_maddy_done_qc_done/\n",
      "Enter match order (pythonic, should be N-1 for dipping): 1\n"
     ]
    }
   ],
   "source": [
    "# visualizing reference and moving masks\n",
    "%matplotlib qt\n",
    "ref_dir = input(\"Enter the reference CNMF directory (e.g. in vivo/slice/first dipping):\")\n",
    "mov_dir = input(\"Enter the moving CNMF directory (e.g. wellsN01):\")\n",
    "n = input(\"Enter match order (pythonic, should be N-1 for dipping):\")\n",
    "n = int(n)"
   ]
  },
  {
   "cell_type": "code",
   "execution_count": 17,
   "id": "eb8fadb6-9661-4b0b-84af-46af0517434a",
   "metadata": {},
   "outputs": [],
   "source": [
    "from joblib import Parallel, delayed\n",
    "from joblib.externals.loky import get_reusable_executor\n",
    "\n",
    "import contextlib\n",
    "import joblib\n",
    "from tqdm import tqdm\n",
    "\n",
    "n_cores = 35\n",
    "\n",
    "@contextlib.contextmanager\n",
    "def tqdm_joblib(tqdm_object):\n",
    "    \"\"\"Context manager to patch joblib to report into tqdm progress bar given as argument\"\"\"\n",
    "    class TqdmBatchCompletionCallback(joblib.parallel.BatchCompletionCallBack):\n",
    "        def __call__(self, *args, **kwargs):\n",
    "            tqdm_object.update(n=self.batch_size)\n",
    "            return super().__call__(*args, **kwargs)\n",
    "\n",
    "    old_batch_callback = joblib.parallel.BatchCompletionCallBack\n",
    "    joblib.parallel.BatchCompletionCallBack = TqdmBatchCompletionCallback\n",
    "    try:\n",
    "        yield tqdm_object\n",
    "    finally:\n",
    "        joblib.parallel.BatchCompletionCallBack = old_batch_callback\n",
    "        tqdm_object.close()"
   ]
  },
  {
   "cell_type": "code",
   "execution_count": 18,
   "id": "9a8f81e4-20e0-4b51-86ba-88dce44d7fec",
   "metadata": {},
   "outputs": [
    {
     "name": "stdout",
     "output_type": "stream",
     "text": [
      "The autoreload extension is already loaded. To reload it, use:\n",
      "  %reload_ext autoreload\n",
      "Successfully loaded merged/refit CNMF model\n",
      "Successfully loaded unmerged CNMF model\n",
      "Successfully loaded data\n",
      "(21, 412, 463)\n",
      "(24, 437, 496)\n",
      "(21, 412, 463)\n",
      "(21, 412, 463)\n",
      "(21, 412, 463)\n",
      "(147, 21, 412, 463)\n",
      "(890, 21, 412, 463)\n",
      "(78, 412, 463, 21)\n",
      "CPU times: user 5.19 s, sys: 46.5 s, total: 51.7 s\n",
      "Wall time: 1min 51s\n"
     ]
    }
   ],
   "source": [
    "%%time\n",
    "## LOADING EVERYTHING UP - TAKES ~20 sec\n",
    "\n",
    "# load packages\n",
    "\n",
    "import napari\n",
    "from magicgui import magicgui, widgets\n",
    "import time\n",
    "\n",
    "from IPython import get_ipython\n",
    "from IPython.display import clear_output\n",
    "import os\n",
    "import matplotlib.pyplot as plt\n",
    "import numpy as np\n",
    "from scipy.sparse import csc_matrix\n",
    "from scipy import signal as sg\n",
    "from scipy.ndimage import center_of_mass\n",
    "import scipy\n",
    "import pickle\n",
    "\n",
    "from tifffile.tifffile import imwrite,imread\n",
    "from tqdm.auto import tqdm,trange\n",
    "\n",
    "from copy import deepcopy\n",
    "import h5py\n",
    "\n",
    "import caiman as cm\n",
    "from caiman.source_extraction.cnmf import cnmf,params\n",
    "from caiman.paths import caiman_datadir\n",
    "from caiman.utils.visualization import get_contours\n",
    "\n",
    "try:\n",
    "    if __IPYTHON__:\n",
    "        get_ipython().run_line_magic('load_ext', 'autoreload')\n",
    "        get_ipython().run_line_magic('autoreload', '2')\n",
    "except NameError:\n",
    "    pass\n",
    "\n",
    "def load_pickle(file_path):\n",
    "    \"\"\"\n",
    "    Load a dictionary from a pickle file.\n",
    "\n",
    "    Args:\n",
    "    - file_path (str): Path to the pickle file.\n",
    "\n",
    "    Returns:\n",
    "    - dict: Loaded dictionary.\n",
    "    \"\"\"\n",
    "    with open(file_path, 'rb') as f:\n",
    "        data = pickle.load(f)\n",
    "    return data\n",
    "\n",
    "# CNMFE model\n",
    "cnmf_ref_path = os.path.join(ref_dir, 'ch0_means_movie_nobg_cnmf_merged_refit.hdf5')\n",
    "cnmf_mov_path = os.path.join(mov_dir, 'ch0_means_movie_nobg_cnmf_merged_refit.hdf5')\n",
    "\n",
    "# CNMFE model\n",
    "cnmf_ref = cnmf.load_CNMF(cnmf_ref_path, \n",
    "                            n_processes=1,\n",
    "                            dview=None)\n",
    "cnmf_mov = cnmf.load_CNMF(cnmf_mov_path, \n",
    "                            n_processes=1,\n",
    "                            dview=None)\n",
    "\n",
    "# Line up all static inputs\n",
    "spcomps_r = np.reshape(cnmf_ref.estimates.A.toarray(),cnmf_ref.estimates.dims + (-1,),order='F')\n",
    "spcomps_r = spcomps_r.transpose([3,2,0,1]).astype(np.float32)\n",
    "CY_r = cnmf_ref.estimates.C + cnmf_ref.estimates.YrA # temporal loadings\n",
    "spcomps_m = np.reshape(cnmf_mov.estimates.A.toarray(),cnmf_mov.estimates.dims + (-1,),order='F')\n",
    "spcomps_m = spcomps_m.transpose([3,2,0,1]).astype(np.float32)\n",
    "CY_m = cnmf_mov.estimates.C + cnmf_mov.estimates.YrA # temporal loadings\n",
    "print(f\"Successfully loaded merged/refit CNMF model\")\n",
    "\n",
    "cnmf_ref_path_v1 = os.path.join(ref_dir, 'ch0_means_movie_nobg_cnmf.hdf5')\n",
    "cnmf_mov_path_v1 = os.path.join(mov_dir, 'ch0_means_movie_nobg_cnmf.hdf5')\n",
    "\n",
    "# CNMFE model\n",
    "cnmf_ref_v1 = cnmf.load_CNMF(cnmf_ref_path_v1, \n",
    "                            n_processes=1,\n",
    "                            dview=None)\n",
    "cnmf_mov_v1 = cnmf.load_CNMF(cnmf_mov_path_v1, \n",
    "                            n_processes=1,\n",
    "                            dview=None)\n",
    "\n",
    "spcomps_r_v1 = np.reshape(cnmf_ref_v1.estimates.A.toarray(),cnmf_ref_v1.estimates.dims + (-1,),order='F')\n",
    "spcomps_r_v1 = spcomps_r_v1.transpose([3,2,0,1]).astype(np.float32)\n",
    "CY_r_v1 = cnmf_ref_v1.estimates.C + cnmf_ref_v1.estimates.YrA # temporal loadings\n",
    "spcomps_m_v1 = np.reshape(cnmf_mov_v1.estimates.A.toarray(),cnmf_mov_v1.estimates.dims + (-1,),order='F')\n",
    "spcomps_m_v1 = spcomps_m_v1.transpose([3,2,0,1]).astype(np.float32)\n",
    "CY_m_v1 = cnmf_mov_v1.estimates.C + cnmf_mov_v1.estimates.YrA # temporal loadings\n",
    "\n",
    "CYsav_r_v1 = cnmf_ref_v1.estimates.CYsav # smoothened CY curve\n",
    "CYsavsort_r_v1 = np.sort(CYsav_r_v1,axis=1)\n",
    "CYsavb10_r_v1 = np.mean(CYsavsort_r_v1[:,:int(np.ceil(CYsavsort_r_v1.shape[1]/10))],axis=1) # bottom 10% mean\n",
    "\n",
    "CYsav_m_v1 = cnmf_mov_v1.estimates.CYsav # smoothened CY curve\n",
    "CYsavsort_m_v1 = np.sort(CYsav_m_v1,axis=1)\n",
    "CYsavb10_m_v1 = np.mean(CYsavsort_m_v1[:,:int(np.ceil(CYsavsort_m_v1.shape[1]/10))],axis=1) # bottom 10% mean\n",
    "print(f\"Successfully loaded unmerged CNMF model\")\n",
    "\n",
    "mc_memmapped_fname_r = [i for i in os.listdir(ref_dir) if 'memmap__' in i][0]\n",
    "Yr_r, dims_r, T_r = cm.load_memmap(ref_dir + mc_memmapped_fname_r)\n",
    "images_r = np.array(np.reshape(Yr_r.T, [T_r] + list(dims_r), order='F')) \n",
    "\n",
    "mc_memmapped_fname_m = [i for i in os.listdir(mov_dir) if 'memmap__' in i][0]\n",
    "Yr_m, dims_m, T_m = cm.load_memmap(mov_dir + mc_memmapped_fname_m)\n",
    "images_m = np.array(np.reshape(Yr_m.T, [T_m] + list(dims_m), order='F')) \n",
    "print(f\"Successfully loaded data\")\n",
    "\n",
    "save_path = 'ch0_means_movie_nobg_compfilt.pickle'\n",
    "ori_path = 'ch0_means_movie_nobg_compfilt_ori.pickle'\n",
    "\n",
    "if save_path in os.listdir(ref_dir):\n",
    "    vars_dict1_ref = load_pickle(os.path.join(ref_dir, save_path))\n",
    "    # duplicated original version if not already saved\n",
    "    if ori_path not in os.listdir(ref_dir):\n",
    "        with open(os.path.join(ref_dir,ori_path), 'wb') as f:\n",
    "            pickle.dump(vars_dict1_ref, f)\n",
    "else:\n",
    "    print('Ref file not clicked!')\n",
    "if save_path in os.listdir(mov_dir):\n",
    "    vars_dict1_mov = load_pickle(os.path.join(mov_dir, save_path))\n",
    "    # duplicate original version if not already saved\n",
    "    if ori_path not in os.listdir(mov_dir):\n",
    "        with open(os.path.join(mov_dir,ori_path), 'wb') as f:\n",
    "            pickle.dump(vars_dict1_mov, f)\n",
    "else:\n",
    "    print('Mov file not clicked!')\n",
    "\n",
    "base_dir = r'/mnt/ssd_cache/pkalugin/stitch_warp'\n",
    "warp_dir = os.path.join(base_dir,os.path.split(os.path.dirname(ref_dir))[1].split('_')[0] + '_' + os.path.split(os.path.dirname(ref_dir))[1].split('_')[1])\n",
    "if n==0:\n",
    "    dfield_path = warp_dir + f'/bigwarp dfield.tif'\n",
    "else:\n",
    "    dfield_path = warp_dir + f'/bigwarp dfield{n:01}.tif'\n",
    "dfield = imread(dfield_path)\n",
    "# will need to adjust this to several moving images per group!\n",
    "ref_img = imread(warp_dir + r'/' + [f for f in os.listdir(warp_dir) if 'fr0_coor' in f][0])\n",
    "mov_img = imread(warp_dir + r'/' + [f for f in os.listdir(warp_dir) if f'fr{n+1:01}_coor_rot' in f][0])\n",
    "\n",
    "import SimpleITK as sitk\n",
    "\n",
    "displacement_image = sitk.GetImageFromArray(np.double(dfield.transpose([0,2,3,1])),sitk.sitkVectorFloat64)\n",
    "\n",
    "tx = sitk.DisplacementFieldTransform(displacement_image)\n",
    "tx.SetInterpolator(sitk.sitkLinear)\n",
    "\n",
    "mov_img_d = sitk.GetArrayFromImage(sitk.Resample(sitk.GetImageFromArray(np.double(mov_img)),tx))\n",
    "\n",
    "print(mov_img_d.shape)\n",
    "print(ref_img.shape)\n",
    "shape_keep = ()\n",
    "for i in range(len(ref_img.shape)):\n",
    "    shape_keep += (np.min([ref_img.shape[i],mov_img_d.shape[i]]),)\n",
    "print(shape_keep)\n",
    "mov_img_d = mov_img_d[:shape_keep[0],:shape_keep[1],:shape_keep[2]]\n",
    "ref_img = ref_img[:shape_keep[0],:shape_keep[1],:shape_keep[2]]\n",
    "print(mov_img_d.shape)\n",
    "print(ref_img.shape)\n",
    "print(spcomps_m.shape)\n",
    "print(spcomps_m_v1.shape)\n",
    "print(images_m.shape)"
   ]
  },
  {
   "cell_type": "code",
   "execution_count": 19,
   "id": "290ed417-82e9-4f19-b3c1-e3e7db6a0883",
   "metadata": {},
   "outputs": [
    {
     "data": {
      "application/vnd.jupyter.widget-view+json": {
       "model_id": "cd548b03fe29491e90c1ce18c8e8045c",
       "version_major": 2,
       "version_minor": 0
      },
      "text/plain": [
       "Rotating...:   0%|          | 0/147 [00:00<?, ?it/s]"
      ]
     },
     "metadata": {},
     "output_type": "display_data"
    },
    {
     "data": {
      "application/vnd.jupyter.widget-view+json": {
       "model_id": "29f83b48eab34bb0bfb22200c4b7a4b9",
       "version_major": 2,
       "version_minor": 0
      },
      "text/plain": [
       "Rotating...:   0%|          | 0/78 [00:00<?, ?it/s]"
      ]
     },
     "metadata": {},
     "output_type": "display_data"
    },
    {
     "name": "stdout",
     "output_type": "stream",
     "text": [
      "Setup done\n"
     ]
    }
   ],
   "source": [
    "# this part just performs the bigstitcher rigid body move on the spcomps_m\n",
    "# will need to adjust for multiple moving images\n",
    "from scipy.ndimage import affine_transform\n",
    "import xml.etree.ElementTree as ET\n",
    "base_dir = r'/mnt/ssd_cache/pkalugin/stitch_warp'\n",
    "\n",
    "spcomps_m_rot = np.zeros(spcomps_m.shape)\n",
    "images_m_rot = np.zeros(images_m.shape)\n",
    "\n",
    "if n==0:\n",
    "    tree = ET.parse(warp_dir+f'/dataset.xml')\n",
    "else:\n",
    "    tree = ET.parse(warp_dir+f'/dataset{n:01}.xml')\n",
    "root = tree.getroot()\n",
    "w_mat = np.array(root[2][1][0][1].text.split()).astype(np.float64).reshape([3,4])\n",
    "w_mat_i = np.linalg.inv(np.append(w_mat,np.array([0,0,0,1])[np.newaxis,:],axis=0))\n",
    "w_mat[0,3] = w_mat_i[1,3]\n",
    "w_mat[1,3] = w_mat_i[0,3]\n",
    "\n",
    "def rot_img(img):\n",
    "    img_rot = affine_transform(img,w_mat)\n",
    "    return img_rot\n",
    "\n",
    "def warp_img(img):\n",
    "    img_warp = sitk.GetArrayFromImage(sitk.Resample(sitk.GetImageFromArray(np.double(img)),tx))\n",
    "    return img_warp\n",
    "\n",
    "with tqdm_joblib(tqdm(desc=\"Rotating...\", total=len(range(spcomps_m.shape[0])))) as progress_bar:\n",
    "    results = Parallel(n_jobs=n_cores)(delayed(rot_img)(spcomps_m[ncomp,...].transpose([1,2,0])) for ncomp in range(spcomps_m.shape[0]))\n",
    "\n",
    "spcomps_m_rot = np.asarray(results).transpose([0,3,1,2])\n",
    "del results\n",
    "\n",
    "#for ncomp in trange(spcomps_m.shape[0]):\n",
    "#    spcomps_m_rot[ncomp,...] = affine_transform(spcomps_m[ncomp,...].transpose([1,2,0]),w_mat).transpose([2,0,1])\n",
    "\n",
    "with tqdm_joblib(tqdm(desc=\"Rotating...\", total=len(range(images_m.shape[0])))) as progress_bar:\n",
    "    results = Parallel(n_jobs=n_cores)(delayed(rot_img)(images_m[nfr,...]) for nfr in range(images_m.shape[0]))\n",
    "\n",
    "images_m_rot = np.asarray(results)\n",
    "del results\n",
    "\n",
    "#for nfr in trange(images_m.shape[0]):\n",
    "#    images_m_rot[nfr,...] = affine_transform(images_m[nfr,...],w_mat)\n",
    "\n",
    "print(f\"Setup done\")"
   ]
  },
  {
   "cell_type": "code",
   "execution_count": 20,
   "id": "de9583f3-54eb-486a-a0dc-dc6449e04665",
   "metadata": {},
   "outputs": [
    {
     "data": {
      "application/vnd.jupyter.widget-view+json": {
       "model_id": "90c89e759b524ad4b9ae98d71e6730b2",
       "version_major": 2,
       "version_minor": 0
      },
      "text/plain": [
       "  0%|          | 0/147 [00:00<?, ?it/s]"
      ]
     },
     "metadata": {},
     "output_type": "display_data"
    },
    {
     "data": {
      "application/vnd.jupyter.widget-view+json": {
       "model_id": "05047128978e4f648d89888fbff9dd96",
       "version_major": 2,
       "version_minor": 0
      },
      "text/plain": [
       "  0%|          | 0/78 [00:00<?, ?it/s]"
      ]
     },
     "metadata": {},
     "output_type": "display_data"
    },
    {
     "data": {
      "application/vnd.jupyter.widget-view+json": {
       "model_id": "42eb6885f036439694893cf8cde736fb",
       "version_major": 2,
       "version_minor": 0
      },
      "text/plain": [
       "  0%|          | 0/160 [00:00<?, ?it/s]"
      ]
     },
     "metadata": {},
     "output_type": "display_data"
    },
    {
     "data": {
      "application/vnd.jupyter.widget-view+json": {
       "model_id": "b751bd68ab7a4c1c865583940adefa29",
       "version_major": 2,
       "version_minor": 0
      },
      "text/plain": [
       "  0%|          | 0/147 [00:00<?, ?it/s]"
      ]
     },
     "metadata": {},
     "output_type": "display_data"
    },
    {
     "name": "stderr",
     "output_type": "stream",
     "text": [
      "/mnt/colab/colab_shared/anaconda3/envs/caiman_test/lib/python3.11/site-packages/scipy/ndimage/_measurements.py:1541: RuntimeWarning: invalid value encountered in scalar divide\n",
      "  results = [sum(input * grids[dir].astype(float), labels, index) / normalizer\n"
     ]
    },
    {
     "data": {
      "application/vnd.jupyter.widget-view+json": {
       "model_id": "1b6163ff2a654e3d995c33ae264a1469",
       "version_major": 2,
       "version_minor": 0
      },
      "text/plain": [
       "  0%|          | 0/160 [00:00<?, ?it/s]"
      ]
     },
     "metadata": {},
     "output_type": "display_data"
    },
    {
     "data": {
      "application/vnd.jupyter.widget-view+json": {
       "model_id": "62812f34149e48c3904ba9c80b0990ad",
       "version_major": 2,
       "version_minor": 0
      },
      "text/plain": [
       "  0%|          | 0/147 [00:00<?, ?it/s]"
      ]
     },
     "metadata": {},
     "output_type": "display_data"
    },
    {
     "data": {
      "application/vnd.jupyter.widget-view+json": {
       "model_id": "74abb56e7308413fb6616b2c88489202",
       "version_major": 2,
       "version_minor": 0
      },
      "text/plain": [
       "  0%|          | 0/147 [00:00<?, ?it/s]"
      ]
     },
     "metadata": {},
     "output_type": "display_data"
    },
    {
     "name": "stdout",
     "output_type": "stream",
     "text": [
      "CPU times: user 3min 2s, sys: 9.6 s, total: 3min 11s\n",
      "Wall time: 1min 20s\n"
     ]
    }
   ],
   "source": [
    "%%time\n",
    "spcomps_m_rot[spcomps_m_rot<0.001] = 0\n",
    "spcomps_m_warp = np.zeros(spcomps_m_rot.shape)\n",
    "images_m_warp = np.zeros(images_m_rot.shape)\n",
    "\n",
    "for ncomp in trange(spcomps_m.shape[0]):\n",
    "    spcomps_m_warp[ncomp,...] = sitk.GetArrayFromImage(sitk.Resample(sitk.GetImageFromArray(np.double(spcomps_m_rot[ncomp,...])),tx))\n",
    "\n",
    "for nfr in trange(images_m.shape[0]):\n",
    "    images_m_warp[nfr,...] = sitk.GetArrayFromImage(sitk.Resample(sitk.GetImageFromArray(np.double(images_m_rot[nfr,...].transpose([2,0,1]))),tx)).transpose([1,2,0])\n",
    "\n",
    "spcomps_r = spcomps_r[:,:shape_keep[0],:shape_keep[1],:shape_keep[2]]\n",
    "spcomps_m_rot = spcomps_m_rot[:,:shape_keep[0],:shape_keep[1],:shape_keep[2]]\n",
    "spcomps_m_warp = spcomps_m_warp[:,:shape_keep[0],:shape_keep[1],:shape_keep[2]]\n",
    "\n",
    "images_r = images_r[:,:shape_keep[1],:shape_keep[2],:shape_keep[0]]\n",
    "images_m_rot = images_m_rot[:,:shape_keep[1],:shape_keep[2],:shape_keep[0]]\n",
    "images_m_warp = images_m_warp[:,:shape_keep[1],:shape_keep[2],:shape_keep[0]]\n",
    "\n",
    "spcomps_r_e = np.concatenate((np.zeros(spcomps_r[0,...][np.newaxis,...].shape,dtype=np.float32),spcomps_r))\n",
    "spcomps_r_e2 = np.argmax(spcomps_r_e,axis=0)\n",
    "spcomps_m_rot_e = np.concatenate((np.zeros(spcomps_m_rot[0,...][np.newaxis,...].shape,dtype=np.float32),spcomps_m_rot.astype(np.float32)))\n",
    "spcomps_m_rot_e2 = np.argmax(spcomps_m_rot_e,axis=0)\n",
    "spcomps_m_warp_e = np.concatenate((np.zeros(spcomps_m_warp[0,...][np.newaxis,...].shape,dtype=np.float32),spcomps_m_warp.astype(np.float32)))\n",
    "spcomps_m_warp_e2 = np.argmax(spcomps_m_warp_e,axis=0)\n",
    "\n",
    "coms_r = np.zeros((spcomps_r.shape[0],3))\n",
    "for ncomp in trange(spcomps_r.shape[0]):\n",
    "    coms_r[ncomp,...] = center_of_mass(spcomps_r[ncomp,...])\n",
    "\n",
    "coms_m_warp = np.zeros((spcomps_m_warp.shape[0],3))\n",
    "for ncomp in trange(spcomps_m_warp.shape[0]):\n",
    "    coms_m_warp[ncomp,...] = center_of_mass(spcomps_m_warp[ncomp,...])\n",
    "\n",
    "spcomps_r_l = np.zeros(spcomps_r.shape).astype('int')\n",
    "for ncomp in trange(spcomps_r.shape[0]):\n",
    "    spcomps_r_l[ncomp,...] = spcomps_r[ncomp,...]>0\n",
    "\n",
    "spcomps_m_rot_l = np.zeros(spcomps_m_rot.shape).astype('int')\n",
    "for ncomp in trange(spcomps_m_rot.shape[0]):\n",
    "    spcomps_m_rot_l[ncomp,...] = spcomps_m_rot[ncomp,...]>0\n",
    "\n",
    "spcomps_m_warp_l = np.zeros(spcomps_m_warp.shape).astype('int')\n",
    "for ncomp in trange(spcomps_m_warp.shape[0]):\n",
    "    spcomps_m_warp_l[ncomp,...] = spcomps_m_warp[ncomp,...]>0"
   ]
  },
  {
   "cell_type": "code",
   "execution_count": 21,
   "id": "a2fcf82d-c6b5-4625-93ec-fc24635b699a",
   "metadata": {},
   "outputs": [
    {
     "name": "stdout",
     "output_type": "stream",
     "text": [
      "{'Srefs': [148, 158, 101, 8, 11, 25, 34, 27, 127, 35, 80, 139, 37, 116, 46, 56, 47, 24, 146, 60, 12, 118, 114, 39, 110, 155, 21, 29, 18, 122, 59, 133, 67, 81, 14, 108, 159, 85, 62, 15, 42, 10, 64, 151, 53, 136, 17, 71, 79, 82, 141, 84, 138, 111, 28, 98, 48, 74, 70, 51, 68, 144, 147, 61, 154, 26, 52, 36, 100, 142, 121, 41, 132, 40, 89, 57, 140, 99, 125, 38, 90, 152, 97, 104, 112, 123, 137, 150, 30, 119, 6, 103, 33, 117, 149, 134, 22, 120, 66, 113, 4, 32, 45, 2, 23, 75, 7, 16, 109, 1, 55, 130, 153, 76, 78, 63, 92, 105, 65, 58, 13, 115, 106, 43, 69, 143, 20, 44, 94, 72, 77, 31, 102, 50, 88, 0, 124, 3, 19, 83, 86], 'Smovs': [143, 36, 13, 12, 110, 93, 73, 92, 112, 130, 32, 72, 3, 85, 102, 109, 123, 126, 0, 82, 113, 103, 30, 53, 98, 114, 77, 144, 131, 6, 75, 142, 104, 39, 8, 122, 100, 17, 47, 58, 54, 133, 29, 21, 16, 91, 116, 46, 69, 94, 64, 97, 140, 118, 124, 139, 14, 52, 4, 67, 87, 129, 18, 111, 108, 23, 42, 57, 62, 56, 7, 2, 137, 101, 33, 138, 65, 15, 134, 90, 71, 107, 99, 22, 120, 88, 1, 24, 79, 48, 55, 5, 74, 28, 49, 35, 106, 38, 146, 76, 84, 61, 125, 20, 11, 51, 60, 117, 96, 44, 70, 40, 34, 45, 25, 50, 37, 9, 127, 10, 63, 41, 26, 89, 105, 43, 19, 68], 'SOL_refs_f': [[97], [114, 113], [96, 77], [70], [118, 61], [], [61, 55], [55], [12, 106, 142, 63, 107], [], [93], [93, 30, 85], [30, 85, 93], [15, 42, 18, 87, 70, 89, 43, 88], [17, 16, 87, 18, 42, 15, 88, 89], [16, 17, 88, 87, 18, 97, 15, 42], [97, 127, 6], [97, 88, 6, 87, 16], [6, 133, 97], [52], [63, 142], [131, 28, 24, 44, 63], [131, 28, 24], [134, 82], [82, 47, 140, 120, 46, 20, 134, 130, 73, 72], [73, 130, 140, 137], [137, 73, 44, 140, 130], [112, 46, 111, 62, 85, 47, 72, 20], [82, 134, 120, 47], [82, 140], [100, 76], [99, 100], [92, 85, 72, 91, 30, 13], [20, 91, 72], [92, 72, 91, 13, 37], [72, 91, 20, 46, 85, 112, 92, 19], [94], [102, 8, 0, 1], [102, 28, 114], [114, 113, 28], [114, 118], [69, 21], [69, 21], [69, 10], [82], [130, 73, 41, 106, 105], [123, 122, 54, 52, 0, 2, 1], [0, 118, 1, 102, 8, 2], [108, 84, 146, 117], [], [76, 29], [7, 101, 107, 63], [65, 53, 79], [97, 138, 60, 16, 6], [], [137], [126, 142, 107, 63, 9], [126, 142, 10, 9], [104, 133, 103, 6], [104, 103, 58, 57, 39], [103, 39, 104], [97, 6], [21, 22], [50], [94, 49, 25], [5, 4], [12, 142, 10], [100, 99, 98, 143, 76], [116, 76, 29, 100, 143], [55, 56], [56, 71, 124], [124, 56, 55], [124], [], [23, 131, 24, 44], [70, 131, 44], [23], [14], [139], [139, 101, 7], [3, 2, 122, 49, 4], [3, 49], [4, 2, 3, 1, 5], [25], [110, 109, 36], [58, 110, 109, 57, 36, 97], [68], [], [118], [129, 116, 77, 143, 98], [48, 40], [], [40], [], [90, 105, 75], [], [], [5, 8, 4, 102, 1], [85, 112, 93, 62, 111], [65, 79], [90, 41, 105], [13, 14, 92], [14, 29], [64, 45], [74, 39, 103], [74], [144], [], [58, 57], [79], [77, 129, 116], [129, 138, 77, 60, 16, 97], [99, 67, 125, 98], [79, 117, 65], [98, 143, 100, 99], [45], [109, 110, 36], [65, 61, 52], [53, 52], [71, 113], [71, 56], [71, 56], [75], [38, 39], [109, 110], [143, 98, 129, 116], [], [32, 33, 35, 34, 37, 19], [], [], [144], [], [144, 9], [92, 13, 35], [51, 26], [], [118, 61], [30, 96, 13], [4, 1, 2, 5], [85, 93, 112, 30, 92], [87, 18, 17, 15, 88, 16, 5], [67, 125], [57, 38, 39], [49], [92, 13, 30, 85], [], [113, 114, 63], [98, 143, 99], [143, 116, 129, 98, 100], [11, 69, 41], [146], [64], [53, 52, 65], [45], [137], [144, 9], [], [], [36, 110, 109], [29, 116]], 'SOL_movs_f': [[47, 37, 46], [138, 47, 37, 82, 46, 97], [82, 80, 138, 46, 47], [80, 81, 82], [82, 138, 97, 65, 80], [97, 65, 138, 82, 140], [18, 61, 17, 53, 16, 58], [51, 79], [37, 97, 47], [132, 155, 57, 56], [43, 66, 57], [149], [8, 66], [101, 133, 144, 34, 32, 137], [101, 77, 102], [14, 140, 13, 15], [15, 14, 140, 53, 111, 17], [14, 15, 140], [14, 140, 15, 13], [35, 127], [33, 35, 24, 27], [62, 42, 41], [62], [74, 76], [74, 21, 22], [64, 83], [134], [], [21, 38, 22, 39], [159, 68, 102, 50], [12, 11, 137, 144, 139, 32], [], [127], [127], [127], [127, 133], [158, 116, 84, 85], [127, 34], [123, 142], [60, 59, 104, 142, 123], [90, 92], [45, 100, 149], [14, 13, 15], [13], [74, 21, 26, 75], [153, 115, 103], [27, 24, 35], [24, 28, 27], [90], [64, 80, 143, 81], [63], [134], [46, 152, 118, 117, 19], [118, 152, 52], [46], [71, 7, 6, 69], [70, 71, 69, 121, 120], [108, 142, 85, 59], [108, 85, 59], [], [53, 111], [6, 117, 4, 136], [27, 98], [20, 8, 146, 51, 21, 56], [151, 103], [52, 99, 117, 152, 113], [], [141, 112], [86], [42, 41, 43, 149], [75, 13, 3], [121, 119, 120, 70], [35, 34, 32, 27, 33, 24], [25, 26, 45, 24], [104, 105], [122, 94], [68, 67, 50, 30], [110, 111, 89, 2], [], [99, 113, 109, 52], [], [], [24, 29, 28, 44, 23], [], [48], [139, 98, 27, 12, 35, 32, 11, 144], [], [14, 140, 15, 13, 17], [15, 14, 140, 17, 13], [14, 13], [100, 94], [35, 34, 32, 33], [34, 133, 144, 32, 101, 35, 139], [11, 10, 139, 98, 12], [64, 36], [], [2, 137], [53, 17, 61, 16, 15, 18, 85, 111, 0], [114, 147, 125, 67, 148, 89, 112], [67, 114, 112, 31, 147], [67, 114, 30, 68, 148, 31], [51, 79], [37, 38, 97, 47], [60, 59, 104, 58], [59, 60, 58], [94, 100, 45], [8, 45], [51, 56, 8], [48], [116, 84, 158, 85, 124], [158, 116, 84, 85, 124], [27, 98], [27, 139, 98, 35], [146, 39, 1, 119], [39, 146, 40, 38, 1], [], [159, 68, 89, 148, 125, 110], [113, 48], [136, 47, 4, 40, 88], [], [24, 28], [], [46, 80], [46], [71, 70, 72], [141, 112], [56, 57], [16], [], [111, 110, 89, 125, 148], [25, 45, 24, 26], [21, 74, 22, 75], [], [18, 58], [28, 24, 23], [], [], [154, 26, 55, 25], [111, 53], [79, 78], [29, 24, 25, 26], [], [56, 57, 8, 66, 20], [148, 114, 125, 67, 147, 89, 68], [155, 132, 130, 106], [], [150, 48]], 'TmovsAllowed': [True, True, True, True, True, True, True, True, True, True, True, True, True, True, True, True, True, True, True, True, True, True, True, True, True, True, True, True, True, True, True, True, True, True, True, True, True, True, True, True, True, True, True, True, True, True, True, True, True, True, True, True, True, True, True, True, True, True, True, True, True, True, True, True, True, True, True, True, True, True, True, True, True, True, True, True, True, True, True, True, True, True, True, True, True, True, True, True, True, True, True, True, True, True, True, True, True, True, True, True, True, True, True, True, True, True, True, True, True, True, True, True, True, True, True, True, True, True, True, True, True, True, True, True, True, True, True, True, True, True, True, True, True, True, True, True, True, True, True, True, True, True, True, True, True, True, True], 'CSL': [143, 116, 129, 98, 100], 'Mode': 0, 'Mpairs': [], 'Mnotes': [], 'Mrefs_c': [], 'Mmovs_c': [], 'Mrefs': [], 'Mmovs': [], 'Trefs': [131, 157, 156, 54, 73, 87, 91, 93, 95, 96, 145, 107, 126, 9, 5, 128, 129, 135, 49], 'Tmovs': [121, 86, 83, 81, 141, 27, 31, 80, 78, 136, 135, 145, 132, 115, 66, 119, 128, 59, 95], 'CSLlabels': array([[[0, 0, 0, ..., 0, 0, 0],\n",
      "        [0, 0, 0, ..., 0, 0, 0],\n",
      "        [0, 0, 0, ..., 0, 0, 0],\n",
      "        ...,\n",
      "        [0, 0, 0, ..., 0, 0, 0],\n",
      "        [0, 0, 0, ..., 0, 0, 0],\n",
      "        [0, 0, 0, ..., 0, 0, 0]],\n",
      "\n",
      "       [[0, 0, 0, ..., 0, 0, 0],\n",
      "        [0, 0, 0, ..., 0, 0, 0],\n",
      "        [0, 0, 0, ..., 0, 0, 0],\n",
      "        ...,\n",
      "        [0, 0, 0, ..., 0, 0, 0],\n",
      "        [0, 0, 0, ..., 0, 0, 0],\n",
      "        [0, 0, 0, ..., 0, 0, 0]],\n",
      "\n",
      "       [[0, 0, 0, ..., 0, 0, 0],\n",
      "        [0, 0, 0, ..., 0, 0, 0],\n",
      "        [0, 0, 0, ..., 0, 0, 0],\n",
      "        ...,\n",
      "        [0, 0, 0, ..., 0, 0, 0],\n",
      "        [0, 0, 0, ..., 0, 0, 0],\n",
      "        [0, 0, 0, ..., 0, 0, 0]],\n",
      "\n",
      "       ...,\n",
      "\n",
      "       [[0, 0, 0, ..., 0, 0, 0],\n",
      "        [0, 0, 0, ..., 0, 0, 0],\n",
      "        [0, 0, 0, ..., 0, 0, 0],\n",
      "        ...,\n",
      "        [0, 0, 0, ..., 0, 0, 0],\n",
      "        [0, 0, 0, ..., 0, 0, 0],\n",
      "        [0, 0, 0, ..., 0, 0, 0]],\n",
      "\n",
      "       [[0, 0, 0, ..., 0, 0, 0],\n",
      "        [0, 0, 0, ..., 0, 0, 0],\n",
      "        [0, 0, 0, ..., 0, 0, 0],\n",
      "        ...,\n",
      "        [0, 0, 0, ..., 0, 0, 0],\n",
      "        [0, 0, 0, ..., 0, 0, 0],\n",
      "        [0, 0, 0, ..., 0, 0, 0]],\n",
      "\n",
      "       [[0, 0, 0, ..., 0, 0, 0],\n",
      "        [0, 0, 0, ..., 0, 0, 0],\n",
      "        [0, 0, 0, ..., 0, 0, 0],\n",
      "        ...,\n",
      "        [0, 0, 0, ..., 0, 0, 0],\n",
      "        [0, 0, 0, ..., 0, 0, 0],\n",
      "        [0, 0, 0, ..., 0, 0, 0]]]), 'Mrefslabels': array([[[0, 0, 0, ..., 0, 0, 0],\n",
      "        [0, 0, 0, ..., 0, 0, 0],\n",
      "        [0, 0, 0, ..., 0, 0, 0],\n",
      "        ...,\n",
      "        [0, 0, 0, ..., 0, 0, 0],\n",
      "        [0, 0, 0, ..., 0, 0, 0],\n",
      "        [0, 0, 0, ..., 0, 0, 0]],\n",
      "\n",
      "       [[0, 0, 0, ..., 0, 0, 0],\n",
      "        [0, 0, 0, ..., 0, 0, 0],\n",
      "        [0, 0, 0, ..., 0, 0, 0],\n",
      "        ...,\n",
      "        [0, 0, 0, ..., 0, 0, 0],\n",
      "        [0, 0, 0, ..., 0, 0, 0],\n",
      "        [0, 0, 0, ..., 0, 0, 0]],\n",
      "\n",
      "       [[0, 0, 0, ..., 0, 0, 0],\n",
      "        [0, 0, 0, ..., 0, 0, 0],\n",
      "        [0, 0, 0, ..., 0, 0, 0],\n",
      "        ...,\n",
      "        [0, 0, 0, ..., 0, 0, 0],\n",
      "        [0, 0, 0, ..., 0, 0, 0],\n",
      "        [0, 0, 0, ..., 0, 0, 0]],\n",
      "\n",
      "       ...,\n",
      "\n",
      "       [[0, 0, 0, ..., 0, 0, 0],\n",
      "        [0, 0, 0, ..., 0, 0, 0],\n",
      "        [0, 0, 0, ..., 0, 0, 0],\n",
      "        ...,\n",
      "        [0, 0, 0, ..., 0, 0, 0],\n",
      "        [0, 0, 0, ..., 0, 0, 0],\n",
      "        [0, 0, 0, ..., 0, 0, 0]],\n",
      "\n",
      "       [[0, 0, 0, ..., 0, 0, 0],\n",
      "        [0, 0, 0, ..., 0, 0, 0],\n",
      "        [0, 0, 0, ..., 0, 0, 0],\n",
      "        ...,\n",
      "        [0, 0, 0, ..., 0, 0, 0],\n",
      "        [0, 0, 0, ..., 0, 0, 0],\n",
      "        [0, 0, 0, ..., 0, 0, 0]],\n",
      "\n",
      "       [[0, 0, 0, ..., 0, 0, 0],\n",
      "        [0, 0, 0, ..., 0, 0, 0],\n",
      "        [0, 0, 0, ..., 0, 0, 0],\n",
      "        ...,\n",
      "        [0, 0, 0, ..., 0, 0, 0],\n",
      "        [0, 0, 0, ..., 0, 0, 0],\n",
      "        [0, 0, 0, ..., 0, 0, 0]]]), 'Mmovslabels': array([[[0, 0, 0, ..., 0, 0, 0],\n",
      "        [0, 0, 0, ..., 0, 0, 0],\n",
      "        [0, 0, 0, ..., 0, 0, 0],\n",
      "        ...,\n",
      "        [0, 0, 0, ..., 0, 0, 0],\n",
      "        [0, 0, 0, ..., 0, 0, 0],\n",
      "        [0, 0, 0, ..., 0, 0, 0]],\n",
      "\n",
      "       [[0, 0, 0, ..., 0, 0, 0],\n",
      "        [0, 0, 0, ..., 0, 0, 0],\n",
      "        [0, 0, 0, ..., 0, 0, 0],\n",
      "        ...,\n",
      "        [0, 0, 0, ..., 0, 0, 0],\n",
      "        [0, 0, 0, ..., 0, 0, 0],\n",
      "        [0, 0, 0, ..., 0, 0, 0]],\n",
      "\n",
      "       [[0, 0, 0, ..., 0, 0, 0],\n",
      "        [0, 0, 0, ..., 0, 0, 0],\n",
      "        [0, 0, 0, ..., 0, 0, 0],\n",
      "        ...,\n",
      "        [0, 0, 0, ..., 0, 0, 0],\n",
      "        [0, 0, 0, ..., 0, 0, 0],\n",
      "        [0, 0, 0, ..., 0, 0, 0]],\n",
      "\n",
      "       ...,\n",
      "\n",
      "       [[0, 0, 0, ..., 0, 0, 0],\n",
      "        [0, 0, 0, ..., 0, 0, 0],\n",
      "        [0, 0, 0, ..., 0, 0, 0],\n",
      "        ...,\n",
      "        [0, 0, 0, ..., 0, 0, 0],\n",
      "        [0, 0, 0, ..., 0, 0, 0],\n",
      "        [0, 0, 0, ..., 0, 0, 0]],\n",
      "\n",
      "       [[0, 0, 0, ..., 0, 0, 0],\n",
      "        [0, 0, 0, ..., 0, 0, 0],\n",
      "        [0, 0, 0, ..., 0, 0, 0],\n",
      "        ...,\n",
      "        [0, 0, 0, ..., 0, 0, 0],\n",
      "        [0, 0, 0, ..., 0, 0, 0],\n",
      "        [0, 0, 0, ..., 0, 0, 0]],\n",
      "\n",
      "       [[0, 0, 0, ..., 0, 0, 0],\n",
      "        [0, 0, 0, ..., 0, 0, 0],\n",
      "        [0, 0, 0, ..., 0, 0, 0],\n",
      "        ...,\n",
      "        [0, 0, 0, ..., 0, 0, 0],\n",
      "        [0, 0, 0, ..., 0, 0, 0],\n",
      "        [0, 0, 0, ..., 0, 0, 0]]]), 'bypass': False}\n",
      "CPU times: user 9.1 s, sys: 25.1 s, total: 34.2 s\n",
      "Wall time: 34.2 s\n"
     ]
    }
   ],
   "source": [
    "%%time\n",
    "spcomps_r_f = np.reshape(spcomps_r,(spcomps_r.shape[0],) + (-1,))\n",
    "spcomps_m_warp_f = np.reshape(spcomps_m_warp,(spcomps_m_warp.shape[0],) + (-1,))\n",
    "A_corr = np.matmul(spcomps_r_f,spcomps_m_warp_f.T)\n",
    "SOL_refs = [np.where(A_corr[i,:]>0)[0][np.argsort(-A_corr[i,np.where(A_corr[i,:]>0)]).tolist()[0]].tolist() for i in range(A_corr.shape[0])]\n",
    "SOL_movs = [np.where(A_corr[:,i]>0)[0][np.argsort(-A_corr[np.where(A_corr[:,i]>0),i]).tolist()[0]].tolist() for i in range(A_corr.shape[1])]\n",
    "\n",
    "if n==0:\n",
    "    match_path = f'ch0_means_movie_nobg_compmatch.npy'\n",
    "else:\n",
    "    match_path = f'ch0_means_movie_nobg_compmatch{n:01}.npy'\n",
    "if match_path in os.listdir(warp_dir):\n",
    "    match_dict1 = np.load(os.path.join(warp_dir, match_path),allow_pickle=True)[()]\n",
    "    print(match_dict1)\n",
    "else:\n",
    "    match_dict1 = {\n",
    "        \"Srefs\": [x for x in list(np.argsort(-np.max(A_corr,axis=1))) if len(SOL_refs[x]) != 0], # list of refs to be searched (exclude those with zero matches)\n",
    "        \"Smovs\": [x for x in list(np.argsort(-np.max(A_corr,axis=0))) if len(SOL_movs[x]) != 0], # list of movs to be searched (exclude those with zero matches)\n",
    "        \"SOL_refs_f\": SOL_refs, # mov search list for given ref (possibly filtered later)\n",
    "        \"SOL_movs_f\": SOL_movs, # ref search list for given mov (possibly filtered later)\n",
    "        \"TmovsAllowed\": [True for i in range(len(SOL_movs))], # whether given mov is allowed to be trashed (default True for all)\n",
    "        \"CSL\": list(), # current search list\n",
    "        \"Mode\": 0, # loop through components - 0 is ref, 1 is mov\n",
    "        \"Mpairs\": list(), # list of matched pairs [ref,mov]\n",
    "        \"Mnotes\": list(), # optional notes on the matched pairs\n",
    "        \"Mrefs_c\": list(), # cumulative list of matched refs\n",
    "        \"Mmovs_c\": list(), # cumulative list of matched movs\n",
    "        \"Mrefs\": list(), # list of matched ref components (calculated at the end, grouped)\n",
    "        \"Mmovs\": list(), # list of matched mov components (calculated at the end, grouped)\n",
    "        \"Trefs\": [x for x in list(np.argsort(-np.max(A_corr,axis=1))) if len(SOL_refs[x]) == 0], # list of trashed refs\n",
    "        \"Tmovs\": [x for x in list(np.argsort(-np.max(A_corr,axis=0))) if len(SOL_movs[x]) == 0], # list of trashed movs\n",
    "        \"CSLlabels\": np.zeros(shape_keep).astype('int'), # image of remaining labels in search group\n",
    "        \"Mrefslabels\": np.zeros(shape_keep).astype('int'), # image of ref labels matched\n",
    "        \"Mmovslabels\": np.zeros(shape_keep).astype('int'), # image of mov labels matched\n",
    "        \"bypass\": False # whether or not to bypass trash in next looper step\n",
    "    }\n",
    "    if len(match_dict1['Srefs']) != 0 and len(match_dict1['SOL_refs_f']) != 0:\n",
    "        match_dict1['CSL'] = match_dict1['SOL_refs_f'][match_dict1['Srefs'][0]]\n",
    "        for j in match_dict1['CSL']:\n",
    "            match_dict1['CSLlabels'][spcomps_m_warp_e2 == j+1] = j+1\n",
    "        print(match_dict1)\n",
    "    else:\n",
    "        print(\"ERROR!\")"
   ]
  },
  {
   "cell_type": "code",
   "execution_count": 24,
   "id": "8765fb05-3b06-4377-b7c6-41894cc8085c",
   "metadata": {
    "scrolled": true
   },
   "outputs": [
    {
     "name": "stderr",
     "output_type": "stream",
     "text": [
      "/mnt/colab/colab_shared/anaconda3/envs/caiman_test/lib/python3.11/site-packages/napari/plugins/_plugin_manager.py:555: UserWarning: Plugin 'napari_skimage_regionprops2' has already registered a function widget 'duplicate current frame' which has now been overwritten\n",
      "  warn(message=warn_message)\n",
      "/mnt/colab/colab_shared/anaconda3/envs/caiman_test/lib/python3.11/site-packages/napari/components/viewer_model.py:10: FutureWarning: Labels.color is deprecated since 0.4.19 and will be removed in 0.5.0, please set Labels.colormap directly with an instance of napari.utils.colormaps.DirectLabelColormap instead.\n",
      "  TYPE_CHECKING,\n",
      "/mnt/colab/colab_shared/anaconda3/envs/caiman_test/lib/python3.11/site-packages/napari/components/viewer_model.py:10: FutureWarning: Labels.color is deprecated since 0.4.19 and will be removed in 0.5.0, please set Labels.colormap directly with an instance of napari.utils.colormaps.DirectLabelColormap instead.\n",
      "  TYPE_CHECKING,\n",
      "/mnt/colab/colab_shared/anaconda3/envs/caiman_test/lib/python3.11/site-packages/napari/components/viewer_model.py:10: FutureWarning: Labels.color is deprecated since 0.4.19 and will be removed in 0.5.0, please set Labels.colormap directly with an instance of napari.utils.colormaps.DirectLabelColormap instead.\n",
      "  TYPE_CHECKING,\n",
      "/mnt/colab/colab_shared/anaconda3/envs/caiman_test/lib/python3.11/site-packages/napari/components/viewer_model.py:10: FutureWarning: Labels.color is deprecated since 0.4.19 and will be removed in 0.5.0, please set Labels.colormap directly with an instance of napari.utils.colormaps.DirectLabelColormap instead.\n",
      "  TYPE_CHECKING,\n",
      "/mnt/colab/colab_shared/anaconda3/envs/caiman_test/lib/python3.11/site-packages/napari/components/viewer_model.py:10: FutureWarning: Labels.color is deprecated since 0.4.19 and will be removed in 0.5.0, please set Labels.colormap directly with an instance of napari.utils.colormaps.DirectLabelColormap instead.\n",
      "  TYPE_CHECKING,\n",
      "/mnt/colab/colab_shared/anaconda3/envs/caiman_test/lib/python3.11/site-packages/napari/components/viewer_model.py:10: FutureWarning: Labels.color is deprecated since 0.4.19 and will be removed in 0.5.0, please set Labels.colormap directly with an instance of napari.utils.colormaps.DirectLabelColormap instead.\n",
      "  TYPE_CHECKING,\n"
     ]
    }
   ],
   "source": [
    "# Initialize viewer and start GUI\n",
    "images_r_b = np.broadcast_to(images_r,(images_m_rot.shape[0],) + images_r.shape)\n",
    "images_m_warp_b = np.broadcast_to(images_m_warp,(images_r.shape[0],) + images_m_warp.shape)\n",
    "images_m_rot_b = np.broadcast_to(images_m_rot,(images_r.shape[0],) + images_m_rot.shape)\n",
    "\n",
    "viewer = napari.Viewer()\n",
    "viewer.add_image(images_r_b.transpose([0,1,4,2,3]),name='cells ref',colormap='gray')\n",
    "viewer.add_image(images_m_warp_b.transpose([1,0,4,2,3]),name='cells warp',colormap='gray',blending='additive')\n",
    "viewer.add_image(images_m_rot_b.transpose([1,0,4,2,3]),name='cells rot',colormap='gray',visible=False)\n",
    "\n",
    "viewer.add_labels(spcomps_r_e2,name='all components ref',visible=False)\n",
    "viewer.add_labels(spcomps_m_warp_e2,name='all components mov',visible=False)\n",
    "viewer.add_labels(spcomps_m_rot_e2,name='all components rot',visible=False)\n",
    "\n",
    "match_dict2 = deepcopy(match_dict1)\n",
    "match_dict3 = deepcopy(match_dict2)\n",
    "\n",
    "# trash, next, match, undo functions\n",
    "def clickM():\n",
    "    global match_dict1, match_dict2, match_dict3\n",
    "    if match_dict1['Mode'] == 0:\n",
    "        match_dict1['Mrefs_c'] += [match_dict1['Srefs'][0]]\n",
    "        match_dict1['Mmovs_c'] += [match_dict1['CSL'][0]]\n",
    "        match_dict1['Mrefslabels'][spcomps_r_e2 == match_dict1['Srefs'][0]+1] = match_dict1['Srefs'][0]+1\n",
    "        match_dict1['Mmovslabels'][spcomps_m_warp_e2 == match_dict1['CSL'][0]+1] = match_dict1['CSL'][0]+1\n",
    "        match_dict1['Mpairs'].append([match_dict1['Srefs'][0],match_dict1['CSL'][0]])\n",
    "        match_dict1['TmovsAllowed'][match_dict1['CSL'][0]] = False # matched mov component can no longer be trashed\n",
    "    else:\n",
    "        match_dict1['Mrefs_c'] += [match_dict1['CSL'][0]]\n",
    "        match_dict1['Mmovs_c'] += [match_dict1['Smovs'][0]]\n",
    "        match_dict1['Mrefslabels'][spcomps_r_e2 == match_dict1['CSL'][0]+1] = match_dict1['CSL'][0]+1\n",
    "        match_dict1['Mmovslabels'][spcomps_m_warp_e2 == match_dict1['Smovs'][0]+1] = match_dict1['Smovs'][0]+1\n",
    "        match_dict1['Mpairs'].append([match_dict1['CSL'][0],match_dict1['Smovs'][0]])\n",
    "    match_dict1['CSL'] = list()\n",
    "    match_dict1['bypass'] = True\n",
    "    match_dict1['Mnotes'].append(note.value)\n",
    "    clear_note()\n",
    "    looper()\n",
    "\n",
    "def clickN():\n",
    "    global match_dict1, match_dict2, match_dict3\n",
    "    match_dict1['CSL'] = match_dict1['CSL'][1:]\n",
    "    looper()\n",
    "\n",
    "def clickT():\n",
    "    global match_dict1, match_dict2, match_dict3\n",
    "    match_dict1['CSL'] = list()\n",
    "    looper()\n",
    "\n",
    "def clickU():\n",
    "    global match_dict1, match_dict2, match_dict3\n",
    "    # reverse vars_dict to one step back, then rerun looper\n",
    "    note.value = match_dict1['Mnotes'][-1]\n",
    "    match_dict1 = deepcopy(match_dict3)\n",
    "    print_lab(\"Pressed undo\")\n",
    "    looper()\n",
    "\n",
    "def looper(save=True):\n",
    "    global match_dict1, match_dict2, match_dict3\n",
    "    if save:\n",
    "        match_dict3 = deepcopy(match_dict2)\n",
    "        match_dict2 = deepcopy(match_dict1)\n",
    "\n",
    "    if len(match_dict1['CSL']) == 0:\n",
    "        if match_dict1['Mode'] == 0:\n",
    "            if not match_dict1['bypass']:\n",
    "                match_dict1['Trefs'] += [match_dict1['Srefs'][0]]\n",
    "            match_dict1['bypass'] = False\n",
    "            if len(match_dict1['Srefs']) <= 1:\n",
    "                # transition to Mode 1\n",
    "                print_lab(\"Transitioning modes...\")\n",
    "                match_dict1['Smovs'] = [x for x in match_dict1['Smovs'] if match_dict1['SOL_movs_f'][x][0] not in np.array(match_dict1['Mpairs'])[np.where(np.array(match_dict1['Mpairs'])[:,1]==x),0][0,...].tolist()]\n",
    "                if len(match_dict1['Smovs']) > 0:\n",
    "                    for i in match_dict1['Smovs']:\n",
    "                        if not match_dict1['TmovsAllowed'][i]:\n",
    "                            match_dict1['SOL_movs_f'][i] = match_dict1['SOL_movs_f'][i][0:np.min([match_dict1['SOL_movs_f'][i].index(x) for x in np.array(match_dict1['Mpairs'])[np.where(np.array(match_dict1['Mpairs'])[:,1]==i),0][0,...].tolist()])]\n",
    "                for j in range(len(match_dict1['SOL_movs_f'])):\n",
    "                    match_dict1['SOL_movs_f'][j] = [x for x in match_dict1['SOL_movs_f'][j] if x not in match_dict1['Trefs']]\n",
    "                match_dict1['Mode'] = 1\n",
    "                print_lab(\"\")\n",
    "            else:\n",
    "                match_dict1['Srefs'] = match_dict1['Srefs'][1:]\n",
    "                match_dict1['CSL'] = match_dict1['SOL_refs_f'][match_dict1['Srefs'][0]]\n",
    "                match_dict1['CSLlabels'] = np.zeros(shape_keep).astype('int')\n",
    "                for j in match_dict1['CSL']:\n",
    "                    match_dict1['CSLlabels'][spcomps_m_warp_e2 == j+1] = j+1\n",
    "                looper(save=False)\n",
    "        else:\n",
    "            if not match_dict1['bypass'] and match_dict1['TmovsAllowed'][match_dict1['Smovs'][0]]:\n",
    "                match_dict1['Tmovs'] += [match_dict1['Smovs'][0]]\n",
    "            match_dict1['bypass'] = False\n",
    "            if len(match_dict1['Smovs']) <= 1:\n",
    "                # finish\n",
    "                print_lab(\"Finishing...\")\n",
    "                groups_list = list()\n",
    "                for x in match_dict1['Mpairs']:\n",
    "                    s = [x]\n",
    "                    for y in groups_list[:]:\n",
    "                        if (x[0] in [j[0] for j in y]) or (x[1] in [j[1] for j in y]):\n",
    "                            s += y\n",
    "                            groups_list.remove(y)\n",
    "                    groups_list.append(s)\n",
    "                for g in groups_list:\n",
    "                    xg = list()\n",
    "                    yg = list()\n",
    "                    [xg.append(a[0]) for a in g if a[0] not in xg]\n",
    "                    [yg.append(a[1]) for a in g if a[1] not in yg]\n",
    "                    match_dict1['Mrefs'].append(xg)\n",
    "                    match_dict1['Mmovs'].append(yg)\n",
    "                print_lab(\"Congratulations - all done! Remember to press Save!\")\n",
    "            else:\n",
    "                match_dict1['Smovs'] = match_dict1['Smovs'][1:]\n",
    "                match_dict1['CSL'] = match_dict1['SOL_movs_f'][match_dict1['Smovs'][0]]\n",
    "                match_dict1['CSLlabels'] = np.zeros(shape_keep).astype('int')\n",
    "                for j in match_dict1['CSL']:\n",
    "                    match_dict1['CSLlabels'][spcomps_r_e2 == j+1] = j+1\n",
    "                looper(save=False)\n",
    "    else:\n",
    "        match_dict1['bypass'] = False\n",
    "        replot()\n",
    "\n",
    "def clickG():\n",
    "    if viewer.layers['cells ref'].colormap.name == 'gray':\n",
    "        viewer.layers['cells ref'].colormap = 'magenta'\n",
    "        viewer.layers['cells rot'].colormap = 'green'\n",
    "        viewer.layers['cells warp'].colormap = 'green'\n",
    "    else:\n",
    "        viewer.layers['cells ref'].colormap = 'gray'\n",
    "        viewer.layers['cells rot'].colormap = 'gray'\n",
    "        viewer.layers['cells warp'].colormap = 'gray'    \n",
    "\n",
    "# important points to add:\n",
    "# 1. main replot should make ref/mov timecourses on separate plots, weight distributions of both masks\n",
    "# 2. in the case of matching to a component that already has a match, plot other matched timecourses with transparent lines\n",
    "# 3. sliders plot to the same two windows, but should be cleared/invisible unless engaged! sliders plot to twin axis with dotted lines\n",
    "\n",
    "# Clicker GUI that lives in napari and runs functions (part of initialization)\n",
    "@magicgui(\n",
    "    O={\n",
    "        \"choices\": (\"Trash\", \"Match\", \"Next\", \"Undo\"),\n",
    "        \"allow_multiple\": True,\n",
    "    }\n",
    ")\n",
    "def clicker(O=(\"Match\")):\n",
    "    \"\"\"Dropdown selection function.\"\"\"\n",
    "    print_lab()\n",
    "    if 'Trash' in O:\n",
    "        clickT()\n",
    "    elif 'Match' in O:\n",
    "        clickM()\n",
    "    elif 'Undo' in O:\n",
    "        clickU()\n",
    "    elif 'Next' in O:\n",
    "        clickN()\n",
    "\n",
    "note = widgets.TextEdit()\n",
    "def clear_note():\n",
    "    note.value = \"\"\n",
    "\n",
    "# Message displayer inside napari to print any messages\n",
    "lab = widgets.Label()\n",
    "def print_lab(message=None):\n",
    "    if message is None:\n",
    "        lab.value = \"\"\n",
    "    else:\n",
    "        lab.value = message\n",
    "\n",
    "# Progress displayer inside napari\n",
    "prlab = widgets.Label()\n",
    "def prlab_update():\n",
    "    if match_dict1['Mode'] == 0:\n",
    "        prlab.value = str(len(match_dict1['Srefs'])) + \" ref masks to go\"\n",
    "    else:\n",
    "        prlab.value = str(len(match_dict1['Smovs'])) + \" mov masks to go\"\n",
    "\n",
    "# Swap colormaps\n",
    "@magicgui(\n",
    "    auto_call=True,btn={\"widget_type\": \"PushButton\", \"text\": \"Swap colormaps\"}\n",
    ")\n",
    "def g_btn(btn):\n",
    "    clickG()\n",
    "\n",
    "# Save and close button inside napari\n",
    "@magicgui(\n",
    "    auto_call=True,btn={\"widget_type\": \"PushButton\", \"text\": \"Save and close GUI\"}\n",
    ")\n",
    "def save_btn(btn):\n",
    "    np.save(os.path.join(warp_dir, match_path),match_dict1)\n",
    "    plt.close('all')\n",
    "    viewer.close()\n",
    "\n",
    "# Aligning widgets\n",
    "layout = widgets.Container(\n",
    "    widgets=[clicker,note,lab,g_btn,save_btn,prlab], layout=\"vertical\", labels=False\n",
    ")\n",
    "\n",
    "# Key bindings to speed up selections\n",
    "@viewer.bind_key('u')\n",
    "def pressU(viewer):\n",
    "    clickU()\n",
    "\n",
    "@viewer.bind_key('t')\n",
    "def pressT(viewer):\n",
    "    clickT()\n",
    "\n",
    "@viewer.bind_key('m')\n",
    "def pressM(viewer):\n",
    "    clickM()\n",
    "\n",
    "@viewer.bind_key('n')\n",
    "def pressN(viewer):\n",
    "    clickN()    \n",
    "\n",
    "@viewer.bind_key('g')\n",
    "def pressG(viewer):\n",
    "    clickG()\n",
    "\n",
    "global fig1, fig2, ax11, ax12, ax21, ax22, leg1, leg2\n",
    "fig1, ax11 = plt.subplots()\n",
    "ax12 = ax11.twinx()\n",
    "fig1.suptitle('Reference signal plots')\n",
    "ax11.plot(CY_r[0,:].T/100,c='red',label='initialization')\n",
    "leg1 = fig1.legend(loc=\"upper left\")\n",
    "fig2, ax21 = plt.subplots()\n",
    "ax22 = ax21.twinx()\n",
    "fig2.suptitle('Moving signal plots')\n",
    "ax21.plot(CY_m[0,:].T/100,c='gold',label='initialization')\n",
    "leg2 = fig2.legend(loc=\"upper left\")\n",
    "\n",
    "def clear_plot():\n",
    "    plt.sca(ax11)\n",
    "    plt.cla()\n",
    "    plt.sca(ax12)\n",
    "    plt.cla()\n",
    "    plt.sca(ax21)\n",
    "    plt.cla()\n",
    "    plt.sca(ax22)\n",
    "    plt.cla()\n",
    "    ax11.set_xlabel('Frame')\n",
    "    ax11.set_ylabel('Signal')\n",
    "    #ax12.set_ylabel('dF/F (parent)', color='orange')\n",
    "    ax21.set_xlabel('Frame')\n",
    "    ax21.set_ylabel('Signal')\n",
    "    #ax22.set_ylabel('Signal (parent)', color='orange')\n",
    "    ax11.tick_params(axis='y', labelcolor='red')\n",
    "    ax21.tick_params(axis='y', labelcolor='gold')\n",
    "    ax12.tick_params(axis='y', labelcolor='red')\n",
    "    ax22.tick_params(axis='y', labelcolor='gold')\n",
    "\n",
    "# replot points and labels\n",
    "def replot():\n",
    "    try:\n",
    "        viewer.layers.remove('refs all candidates')\n",
    "    except:\n",
    "        pass\n",
    "    try:\n",
    "        viewer.layers.remove('movs all candidates')\n",
    "    except:\n",
    "        pass\n",
    "    try:\n",
    "        viewer.layers.remove('all refs matched')\n",
    "    except:\n",
    "        pass\n",
    "    try:\n",
    "        viewer.layers.remove('all movs matched')\n",
    "    except:\n",
    "        pass\n",
    "    try:\n",
    "        viewer.layers.remove('ref candidate')\n",
    "    except:\n",
    "        pass\n",
    "    try:\n",
    "        viewer.layers.remove('mov candidate')\n",
    "    except:\n",
    "        pass\n",
    "    try:\n",
    "        viewer.layers.remove('ref candidate outline')\n",
    "    except:\n",
    "        pass\n",
    "    try:\n",
    "        viewer.layers.remove('mov candidate outline')\n",
    "    except:\n",
    "        pass\n",
    "    try:\n",
    "        viewer.layers.remove('ref group')\n",
    "    except:\n",
    "        pass\n",
    "    try:\n",
    "        viewer.layers.remove('mov group')\n",
    "    except:\n",
    "        pass\n",
    "\n",
    "    viewer.add_labels(match_dict1['Mrefslabels'],name='all refs matched',opacity=0.3,visible=False)\n",
    "    viewer.add_labels(match_dict1['Mmovslabels'],name='all movs matched',opacity=0.3,visible=False)\n",
    "\n",
    "    if match_dict1['Mode'] == 0:\n",
    "        viewer.add_labels(match_dict1['CSLlabels'],name='movs all candidates',opacity=0.5,visible=False)\n",
    "        add_r = None\n",
    "        if match_dict1['CSL'][0] in match_dict1['Mmovs_c']:\n",
    "            add_r = np.array(match_dict1['Mpairs'])[np.where(np.array(match_dict1['Mpairs'])[:,1] == match_dict1['CSL'][0]),0][0,...] # all refs paired with mov candidate\n",
    "            add_r_l = np.zeros(shape_keep).astype('int')\n",
    "            for j in add_r.tolist():\n",
    "                add_r_l[spcomps_r_e2 == j+1] = j+1\n",
    "            viewer.add_labels(add_r_l,name='ref group',opacity=0.5)\n",
    "            viewer.layers['ref group'].contour = 1\n",
    "        viewer.add_labels(spcomps_r_l[match_dict1['Srefs'][0],...],name='ref candidate outline',color={0:'transparent',1:'red'})\n",
    "        viewer.layers['ref candidate outline'].contour = 1\n",
    "        viewer.add_labels(spcomps_m_warp_l[match_dict1['CSL'][0],...],name='mov candidate outline',color={0:'transparent',1:'gold'})\n",
    "        viewer.layers['mov candidate outline'].contour = 1\n",
    "        viewer.add_image(spcomps_r[match_dict1['Srefs'][0],...],name='ref candidate',colormap='red',opacity=1,blending='additive',visible=False)\n",
    "        viewer.add_image(spcomps_m_warp[match_dict1['CSL'][0],...],name='mov candidate',colormap='gold',opacity=1,blending='additive',visible=False)\n",
    "        viewer.camera.center = coms_r[match_dict1['Srefs'][0],...]\n",
    "        viewer.dims.set_point(2,coms_r[match_dict1['Srefs'][0],...][0])\n",
    "        viewer.camera.zoom = 3 # seems to not run correctly the first time, confusing, bug?\n",
    "        \n",
    "        plot_cands(add_r=add_r)\n",
    "    else:\n",
    "        viewer.add_labels(match_dict1['CSLlabels'],name='refs all candidates',opacity=0.5,visible=False)\n",
    "        add_r = None\n",
    "        add_m = None\n",
    "        if match_dict1['CSL'][0] in match_dict1['Mrefs_c']:\n",
    "            add_m = np.array(match_dict1['Mpairs'])[np.where(np.array(match_dict1['Mpairs'])[:,0] == match_dict1['CSL'][0]),1][0,...] # all movs paired with ref candidate\n",
    "            add_m_l = np.zeros(shape_keep).astype('int')\n",
    "            for j in add_m.tolist():\n",
    "                add_m_l[spcomps_m_warp_e2 == j+1] = j+1\n",
    "            viewer.add_labels(add_m_l,name='mov group',opacity=0.5)\n",
    "            viewer.layers['mov group'].contour = 1\n",
    "        if match_dict1['Smovs'][0] in match_dict1['Mmovs_c']:\n",
    "            add_r = np.array(match_dict1['Mpairs'])[np.where(np.array(match_dict1['Mpairs'])[:,1] == match_dict1['Smovs'][0]),0][0,...] # all refs paired with mov candidate\n",
    "            add_r_l = np.zeros(shape_keep).astype('int')\n",
    "            for j in add_r.tolist():\n",
    "                add_r_l[spcomps_r_e2 == j+1] = j+1\n",
    "            viewer.add_labels(add_r_l,name='ref group',opacity=0.5)\n",
    "            viewer.layers['ref group'].contour = 1\n",
    "        viewer.add_labels(spcomps_r_l[match_dict1['CSL'][0],...],name='ref candidate outline',color={0:'transparent',1:'red'})\n",
    "        viewer.layers['ref candidate outline'].contour = 1\n",
    "        viewer.add_labels(spcomps_m_warp_l[match_dict1['Smovs'][0],...],name='mov candidate outline',color={0:'transparent',1:'gold'})\n",
    "        viewer.layers['mov candidate outline'].contour = 1\n",
    "        viewer.add_image(spcomps_r[match_dict1['CSL'][0],...],name='ref candidate',colormap='red',opacity=1,blending='additive',visible=False)\n",
    "        viewer.add_image(spcomps_m_warp[match_dict1['Smovs'][0],...],name='mov candidate',colormap='gold',opacity=1,blending='additive',visible=False)\n",
    "        viewer.camera.center = coms_m_warp[match_dict1['Smovs'][0],...]\n",
    "        viewer.dims.set_point(2,coms_m_warp[match_dict1['Smovs'][0],...][0])\n",
    "        viewer.camera.zoom = 3 # seems to not run correctly the first time, confusing, bug?\n",
    "\n",
    "\n",
    "        plot_cands(add_r=add_r,add_m=add_m)\n",
    "    \n",
    "    prlab_update()\n",
    "\n",
    "def plot_cands(add_r=None,add_m=None):\n",
    "    clear_plot()\n",
    "    if match_dict1['Mode'] == 0:\n",
    "        ax11.plot(CY_r[match_dict1['Srefs'][0],...].T/100,c='red',label='ref candidate')\n",
    "        ax21.plot(CY_m[match_dict1['CSL'][0],...].T/100,c='gold',label='mov candidate')\n",
    "        if add_r is not None:\n",
    "            ax11.plot(CY_r[add_r,...].T/100,c='red',alpha=0.2)\n",
    "    else:\n",
    "        ax11.plot(CY_r[match_dict1['CSL'][0],...].T/100,c='red',label='ref candidate')\n",
    "        ax21.plot(CY_m[match_dict1['Smovs'][0],...].T/100,c='gold',label='mov candidate')\n",
    "        if add_m is not None:\n",
    "            ax21.plot(CY_m[add_m,...].T/100,c='gold',alpha=0.2)\n",
    "        if add_r is not None:\n",
    "            ax11.plot(CY_r[add_r,...].T/100,c='red',alpha=0.2)\n",
    "    global leg1, leg2\n",
    "    leg1.remove()\n",
    "    leg1 = fig1.legend(loc=\"upper left\")\n",
    "    fig1.canvas.draw_idle()\n",
    "    leg2.remove()\n",
    "    leg2 = fig2.legend(loc=\"upper left\")\n",
    "    fig2.canvas.draw_idle()\n",
    "\n",
    "@magicgui(\n",
    "    auto_call=True,\n",
    "    c_ref={\"widget_type\": \"Slider\", \"min\": 1, \"max\": spcomps_r.shape[0]+1, \"step\": 1, \"orientation\": \"vertical\"},\n",
    "    layout=\"horizontal\",labels=False,\n",
    ")\n",
    "def scroll_ref(c_ref: int = 1):\n",
    "    plot_comps()\n",
    "\n",
    "@magicgui(\n",
    "    auto_call=True,\n",
    "    c_mov={\"widget_type\": \"Slider\", \"min\": 1, \"max\": spcomps_m_rot.shape[0]+1, \"step\": 1, \"orientation\": \"vertical\"},\n",
    "    layout=\"horizontal\",labels=False,\n",
    ")\n",
    "def scroll_mov(c_mov: int = 1):\n",
    "    plot_comps()\n",
    "\n",
    "def plot_comps():\n",
    "    plot_cands()\n",
    "    try:\n",
    "        viewer.layers.remove('scroll ref')\n",
    "    except:\n",
    "        pass\n",
    "    try:\n",
    "        viewer.layers.remove('scroll mov')\n",
    "    except:\n",
    "        pass\n",
    "    viewer.add_image(spcomps_r[scroll_ref.c_ref.value-1,...],name='scroll ref',colormap='pink',opacity=0.7,blending='additive')\n",
    "    viewer.add_image(spcomps_m_warp[scroll_mov.c_mov.value-1,...],name='scroll mov',colormap='yellow',opacity=0.7,blending='additive')\n",
    "    #viewer.camera.center = coors[vars_dict1[\"SMG\"][component-1][0]].get('CoM')\n",
    "    #viewer.dims.set_point(1,coors[vars_dict1[\"SMG\"][component-1][0]].get('CoM')[0])\n",
    "    #viewer.camera.zoom = 3\n",
    "    ax12.plot(CY_r[scroll_ref.c_ref.value-1,...].T/100,c='red',ls='--',label='scroll ref')\n",
    "    ax22.plot(CY_m[scroll_mov.c_mov.value-1,...].T/100,c='gold',ls='--',label='scroll mov')\n",
    "    global leg1, leg2\n",
    "    leg1.remove()\n",
    "    leg1 = fig1.legend(loc=\"upper left\")\n",
    "    fig1.canvas.draw_idle()\n",
    "    leg2.remove()\n",
    "    leg2 = fig2.legend(loc=\"upper left\")\n",
    "    fig2.canvas.draw_idle()\n",
    "\n",
    "# Aligning widgets (more)\n",
    "layout2 = widgets.Container(\n",
    "    widgets=[scroll_ref,scroll_mov,layout], layout=\"horizontal\", labels=False\n",
    ")\n",
    "\n",
    "viewer.window.add_dock_widget(layout2)\n",
    "replot()"
   ]
  },
  {
   "cell_type": "code",
   "execution_count": 18,
   "id": "545cf8a1-7f15-4386-8920-bf74fd647cde",
   "metadata": {
    "scrolled": true
   },
   "outputs": [
    {
     "name": "stdout",
     "output_type": "stream",
     "text": [
      "{'Srefs': [66], 'Smovs': [134], 'SOL_refs_f': [[0, 18, 119, 145], [145, 82, 0, 18, 119, 9, 96, 10], [96, 18], [18, 0], [142, 18, 85], [65, 74, 139, 45, 101, 64], [93, 141, 139, 101, 82], [143, 1, 32, 96, 131, 18, 21], [32, 131, 143], [140, 57, 131], [140, 103, 57, 13, 142, 122], [12, 11, 10, 9, 119, 98, 16], [50, 102, 144], [3, 7, 8, 56, 112, 2, 25, 19], [52, 39, 38, 51, 23], [132, 69], [74, 101, 139, 64, 115], [144, 50, 41], [], [124, 15, 125, 107, 108, 87], [65, 74, 116], [136, 146], [105], [105, 102, 50], [59, 134], [112, 2, 54, 3, 8, 70, 77], [76, 75], [76, 34], [101, 139, 64, 78, 114], [101, 114, 78, 115, 64, 139], [128, 129, 37, 135, 90, 61, 147, 104], [41], [132], [69, 127, 137, 75, 132], [69], [51, 56, 33, 19, 20, 39, 25, 8, 52], [33, 25, 56, 8, 121, 51], [121, 71, 25, 26, 8, 70, 7, 33, 88], [22, 125, 117, 122, 124, 13], [32, 132, 131, 110, 57], [63], [53, 70], [35, 146, 92], [117, 122, 22, 103, 125], [13, 125, 124, 22], [124, 13, 125, 98], [123], [89, 6, 5, 109, 4, 126, 44, 62, 61], [5, 6, 126, 4, 89], [55, 5, 91], [55, 99, 91], [16, 17, 91, 14, 87], [], [40], [57, 110, 140, 131], [110, 132, 57], [73, 72, 120, 4, 16, 5, 91], [72, 120, 73], [59], [42, 58, 61, 23, 30], [102, 50, 105, 144], [126, 6, 5], [], [88, 26], [2, 112], [119, 0, 82, 9, 98, 10, 12, 18], [96], [133], [111, 46, 41], [111, 46], [29, 66, 19], [14, 87, 16, 15, 17, 49], [34, 31, 35, 76], [115, 74, 66, 64, 101, 114], [66, 74, 115, 64], [46, 111], [], [133], [44, 62, 109, 61, 6, 89], [19, 20, 51, 52], [28], [87, 108, 49, 107, 47], [83, 123], [86], [23, 38, 39, 147, 128, 129, 37, 81, 58], [92, 31], [70, 2], [123, 83], [123, 53], [13, 85, 142], [30, 66, 42], [71, 121, 70, 8, 7], [137, 86, 127], [11, 10, 12, 9, 93, 82, 98, 119, 141], [15, 14, 107, 16, 124, 98], [120, 72, 78, 4], [16, 17, 91, 14, 87, 11, 12], [87, 14, 16, 15, 17, 91, 49], [2, 112, 70, 8, 7], [8, 7, 70, 2, 56, 121, 25], [124, 98, 13, 125], [92], [], [57, 110, 140], [57, 140, 110], [26, 33, 25, 121, 88], [], [4, 5, 91, 55, 6], [31, 34, 92], [127, 132, 69, 137], [87, 15, 107, 49, 108, 14], [71, 121, 97, 26, 70, 27, 88, 25], [116, 24], [6, 5, 89, 4, 126], [127, 137, 86], [143, 1, 96, 32, 21], [79, 136, 146, 111], [21, 133, 48], [101, 78, 120, 73, 139, 64], [132, 57, 110, 131]], 'SOL_movs_f': [[0, 65, 1, 3], [7, 115], [25], [13, 25], [47, 113, 48, 56], [48, 113, 47, 56], [113, 47, 48, 78], [99, 13, 37], [99, 13, 37, 36, 25, 35], [65, 93, 11, 1], [11, 93, 65, 1], [93, 11, 96], [11, 93, 65, 96], [44, 89, 10, 38], [], [110, 97, 19], [51, 96, 97, 11, 56], [51, 96, 97], [3, 0, 1, 65, 7, 2], [79, 35, 13], [79, 35], [117, 7, 115], [38, 43, 44], [59, 14], [], [37, 36, 105, 13, 99, 35], [105, 37, 63], [], [80], [], [59], [85], [8, 7, 39, 115], [36, 105, 35, 37], [], [42], [], [30], [14], [14, 35], [], [31, 17], [59], [], [78, 47], [], [75, 69], [81], [117], [110, 81, 97], [12, 60, 23, 17], [35, 14, 36, 79], [14, 35, 79], [41], [25], [50], [36, 35, 13, 99], [54], [59], [58, 24], [], [78, 59, 30, 47], [78, 47], [40], [73, 29, 28, 74], [20], [74, 73], [], [], [33, 109, 15], [99, 37, 41, 25], [37], [57, 56], [56, 57], [73, 20, 74], [33, 26], [26], [25], [29, 28], [116], [], [], [65, 1, 6, 93], [82, 87], [], [89], [83, 92, 114], [110, 81, 97, 96, 51, 19], [63, 105, 37], [47, 113, 78, 48], [30], [96, 51, 97, 56, 50], [85, 42], [6, 93], [], [], [2, 115, 7, 1], [], [65, 11, 93], [50], [], [28], [60, 12, 23], [10, 43], [30], [23, 60], [], [110, 81, 19], [81, 110, 19], [78, 47], [54, 39], [69, 75, 116], [25, 64, 13], [], [29, 73, 28], [73, 29, 74], [20], [43, 38], [], [65, 0, 1, 11, 93], [57, 56], [37, 105, 36, 99], [43, 38, 10], [87, 82], [], [38, 44, 43, 19], [48, 47, 113], [114, 92, 109, 33], [30], [30], [], [8, 39, 9, 7, 54], [15, 39, 109, 33], [117], [24], [30], [21, 116], [92, 109, 33, 114], [], [6], [10, 9, 54], [6, 93], [89, 10], [115, 7, 8], [17, 12, 60], [1, 0], [21, 42, 116], [30]], 'TmovsAllowed': [True, True, False, False, True, False, False, True, True, True, False, False, True, False, False, False, False, True, False, False, True, False, False, True, True, True, False, True, False, True, True, False, False, True, True, False, True, True, True, True, True, False, False, True, False, True, False, True, True, True, False, False, False, False, True, False, False, False, True, False, True, True, True, False, True, False, False, True, True, False, False, True, False, False, False, True, False, True, True, False, True, True, True, False, True, False, False, True, False, False, True, True, True, False, True, True, False, True, True, True, True, False, False, True, True, False, True, True, False, True, False, False, False, True, True, True, True, False, True, False, True, False, True, False, False, True, True, False, False, True, True, True, False, False, True, True, True, True, True, False, False, True, True, False, False, False, False, True], 'CSL': [], 'Mode': 1, 'Mpairs': [[41, 53], [2, 96], [37, 121], [51, 16], [65, 119], [12, 50], [25, 112], [3, 18], [56, 73], [79, 19], [31, 41], [93, 11], [50, 55], [43, 117], [28, 139], [35, 51], [99, 70], [6, 93], [115, 143], [69, 111], [8, 32], [113, 6], [57, 72], [11, 10], [48, 5], [42, 35], [105, 26], [82, 83], [96, 16], [114, 127], [7, 143], [44, 13], [13, 3], [29, 101], [73, 74], [47, 89], [92, 86], [89, 85], [20, 65], [1, 145], [60, 102], [74, 66], [78, 44], [110, 15], [59, 42], [17, 144], [117, 21], [30, 128], [15, 132], [81, 108], [10, 140], [36, 56], [75, 46], [116, 79], [21, 146], [9, 57], [23, 105], [54, 110], [85, 31], [19, 124], [38, 22], [0, 18], [33, 69], [26, 76], [58, 59], [40, 63], [64, 2], [14, 52], [83, 86], [39, 132], [97, 14], [87, 123], [63, 88], [109, 127], [24, 59], [80, 28], [67, 133], [96, 17], [6, 141], [37, 71], [85, 92], [8, 131], [65, 0]], 'Mnotes': ['', '', '', '', '', 'mov fr 0', '', '', '', '', '', 'mixed', '', '', 'ref fr 65', 'ref fr 65', '', '', '', '', '', '', '', 'mixed', '', '', '', '', '', '', 'mixed', '', '', '', '', '', '', '', '', '', 'mixed', '', '', '', '', '', '', '', '', '', '', '', '', '', '', '', '', '', '', '', '', '', 'ref mixed!', 'ref mixed!', '', '', '', '', '', '', '', '', '', '', '', '', '', '', '', '', '', '', ''], 'Mrefs_c': [41, 2, 37, 51, 65, 12, 25, 3, 56, 79, 31, 93, 50, 43, 28, 35, 99, 6, 115, 69, 8, 113, 57, 11, 48, 42, 105, 82, 96, 114, 7, 44, 13, 29, 73, 47, 92, 89, 20, 1, 60, 74, 78, 110, 59, 17, 117, 30, 15, 81, 10, 36, 75, 116, 21, 9, 23, 54, 85, 19, 38, 0, 33, 26, 58, 40, 64, 14, 83, 39, 97, 87, 63, 109, 24, 80, 67, 96, 6, 37, 85, 8, 65], 'Mmovs_c': [53, 96, 121, 16, 119, 50, 112, 18, 73, 19, 41, 11, 55, 117, 139, 51, 70, 93, 143, 111, 32, 6, 72, 10, 5, 35, 26, 83, 16, 127, 143, 13, 3, 101, 74, 89, 86, 85, 65, 145, 102, 66, 44, 15, 42, 144, 21, 128, 132, 108, 140, 56, 46, 79, 146, 57, 105, 110, 31, 124, 22, 18, 69, 76, 59, 63, 2, 52, 86, 132, 14, 123, 88, 127, 59, 28, 133, 17, 141, 71, 92, 131, 0], 'Mrefs': [[41], [2], [12], [25], [56], [79], [31], [93], [50], [43], [28], [35], [99], [69], [113], [57], [11], [48], [42], [105], [82], [7, 115], [44], [13], [29], [73], [47], [89], [20], [1], [60], [74], [78], [110], [59], [17], [117], [30], [81], [10], [36], [75], [116], [21], [9], [23], [54], [19], [38], [0, 3], [33], [26], [40], [64], [14], [83, 92], [39, 15], [97], [87], [63], [109, 114], [24, 58], [80], [67], [96, 51], [6], [37], [85], [8], [65]], 'Mmovs': [[53], [96], [50], [112], [73], [19], [41], [11], [55], [117], [139], [51], [70], [111], [6], [72], [10], [5], [35], [26], [83], [143], [13], [3], [101], [74], [89], [85], [65], [145], [102], [66], [44], [15], [42], [144], [21], [128], [108], [140], [56], [46], [79], [146], [57], [105], [110], [124], [22], [18], [69], [76], [63], [2], [52], [86], [132], [14], [123], [88], [127], [59], [28], [133], [17, 16], [141, 93], [71, 121], [92, 31], [131, 32], [0, 119]], 'Trefs': [106, 76, 18, 102, 62, 52, 45, 91, 100, 111, 61, 4, 71, 95, 5, 118, 16, 98, 112, 103, 49, 68, 84, 70, 22, 104, 94, 107, 119, 86, 88, 72, 55, 32, 108, 34, 27, 77, 46, 90, 101, 53, 66], 'Tmovs': [100, 95, 43, 60, 94, 67, 138, 36, 106, 68, 84, 113, 80, 118, 130, 8, 122, 12, 115, 137, 120, 87, 25, 62, 33, 126, 136, 7, 58, 109, 1, 142, 129, 103, 114, 107, 116, 49, 82, 97, 23, 78, 125, 39, 20, 4, 37, 38, 29, 64, 54, 99, 98, 91, 9, 61, 47, 34, 27, 147, 135, 45, 30, 81, 90, 75, 48, 24, 104, 40, 77, 134], 'CSLlabels': array([[[0, 0, 0, ..., 0, 0, 0],\n",
      "        [0, 0, 0, ..., 0, 0, 0],\n",
      "        [0, 0, 0, ..., 0, 0, 0],\n",
      "        ...,\n",
      "        [0, 0, 0, ..., 0, 0, 0],\n",
      "        [0, 0, 0, ..., 0, 0, 0],\n",
      "        [0, 0, 0, ..., 0, 0, 0]],\n",
      "\n",
      "       [[0, 0, 0, ..., 0, 0, 0],\n",
      "        [0, 0, 0, ..., 0, 0, 0],\n",
      "        [0, 0, 0, ..., 0, 0, 0],\n",
      "        ...,\n",
      "        [0, 0, 0, ..., 0, 0, 0],\n",
      "        [0, 0, 0, ..., 0, 0, 0],\n",
      "        [0, 0, 0, ..., 0, 0, 0]],\n",
      "\n",
      "       [[0, 0, 0, ..., 0, 0, 0],\n",
      "        [0, 0, 0, ..., 0, 0, 0],\n",
      "        [0, 0, 0, ..., 0, 0, 0],\n",
      "        ...,\n",
      "        [0, 0, 0, ..., 0, 0, 0],\n",
      "        [0, 0, 0, ..., 0, 0, 0],\n",
      "        [0, 0, 0, ..., 0, 0, 0]],\n",
      "\n",
      "       ...,\n",
      "\n",
      "       [[0, 0, 0, ..., 0, 0, 0],\n",
      "        [0, 0, 0, ..., 0, 0, 0],\n",
      "        [0, 0, 0, ..., 0, 0, 0],\n",
      "        ...,\n",
      "        [0, 0, 0, ..., 0, 0, 0],\n",
      "        [0, 0, 0, ..., 0, 0, 0],\n",
      "        [0, 0, 0, ..., 0, 0, 0]],\n",
      "\n",
      "       [[0, 0, 0, ..., 0, 0, 0],\n",
      "        [0, 0, 0, ..., 0, 0, 0],\n",
      "        [0, 0, 0, ..., 0, 0, 0],\n",
      "        ...,\n",
      "        [0, 0, 0, ..., 0, 0, 0],\n",
      "        [0, 0, 0, ..., 0, 0, 0],\n",
      "        [0, 0, 0, ..., 0, 0, 0]],\n",
      "\n",
      "       [[0, 0, 0, ..., 0, 0, 0],\n",
      "        [0, 0, 0, ..., 0, 0, 0],\n",
      "        [0, 0, 0, ..., 0, 0, 0],\n",
      "        ...,\n",
      "        [0, 0, 0, ..., 0, 0, 0],\n",
      "        [0, 0, 0, ..., 0, 0, 0],\n",
      "        [0, 0, 0, ..., 0, 0, 0]]]), 'Mrefslabels': array([[[0, 0, 0, ..., 0, 0, 0],\n",
      "        [0, 0, 0, ..., 0, 0, 0],\n",
      "        [0, 0, 0, ..., 0, 0, 0],\n",
      "        ...,\n",
      "        [0, 0, 0, ..., 0, 0, 0],\n",
      "        [0, 0, 0, ..., 0, 0, 0],\n",
      "        [0, 0, 0, ..., 0, 0, 0]],\n",
      "\n",
      "       [[0, 0, 0, ..., 0, 0, 0],\n",
      "        [0, 0, 0, ..., 0, 0, 0],\n",
      "        [0, 0, 0, ..., 0, 0, 0],\n",
      "        ...,\n",
      "        [0, 0, 0, ..., 0, 0, 0],\n",
      "        [0, 0, 0, ..., 0, 0, 0],\n",
      "        [0, 0, 0, ..., 0, 0, 0]],\n",
      "\n",
      "       [[0, 0, 0, ..., 0, 0, 0],\n",
      "        [0, 0, 0, ..., 0, 0, 0],\n",
      "        [0, 0, 0, ..., 0, 0, 0],\n",
      "        ...,\n",
      "        [0, 0, 0, ..., 0, 0, 0],\n",
      "        [0, 0, 0, ..., 0, 0, 0],\n",
      "        [0, 0, 0, ..., 0, 0, 0]],\n",
      "\n",
      "       ...,\n",
      "\n",
      "       [[0, 0, 0, ..., 0, 0, 0],\n",
      "        [0, 0, 0, ..., 0, 0, 0],\n",
      "        [0, 0, 0, ..., 0, 0, 0],\n",
      "        ...,\n",
      "        [0, 0, 0, ..., 0, 0, 0],\n",
      "        [0, 0, 0, ..., 0, 0, 0],\n",
      "        [0, 0, 0, ..., 0, 0, 0]],\n",
      "\n",
      "       [[0, 0, 0, ..., 0, 0, 0],\n",
      "        [0, 0, 0, ..., 0, 0, 0],\n",
      "        [0, 0, 0, ..., 0, 0, 0],\n",
      "        ...,\n",
      "        [0, 0, 0, ..., 0, 0, 0],\n",
      "        [0, 0, 0, ..., 0, 0, 0],\n",
      "        [0, 0, 0, ..., 0, 0, 0]],\n",
      "\n",
      "       [[0, 0, 0, ..., 0, 0, 0],\n",
      "        [0, 0, 0, ..., 0, 0, 0],\n",
      "        [0, 0, 0, ..., 0, 0, 0],\n",
      "        ...,\n",
      "        [0, 0, 0, ..., 0, 0, 0],\n",
      "        [0, 0, 0, ..., 0, 0, 0],\n",
      "        [0, 0, 0, ..., 0, 0, 0]]]), 'Mmovslabels': array([[[0, 0, 0, ..., 0, 0, 0],\n",
      "        [0, 0, 0, ..., 0, 0, 0],\n",
      "        [0, 0, 0, ..., 0, 0, 0],\n",
      "        ...,\n",
      "        [0, 0, 0, ..., 0, 0, 0],\n",
      "        [0, 0, 0, ..., 0, 0, 0],\n",
      "        [0, 0, 0, ..., 0, 0, 0]],\n",
      "\n",
      "       [[0, 0, 0, ..., 0, 0, 0],\n",
      "        [0, 0, 0, ..., 0, 0, 0],\n",
      "        [0, 0, 0, ..., 0, 0, 0],\n",
      "        ...,\n",
      "        [0, 0, 0, ..., 0, 0, 0],\n",
      "        [0, 0, 0, ..., 0, 0, 0],\n",
      "        [0, 0, 0, ..., 0, 0, 0]],\n",
      "\n",
      "       [[0, 0, 0, ..., 0, 0, 0],\n",
      "        [0, 0, 0, ..., 0, 0, 0],\n",
      "        [0, 0, 0, ..., 0, 0, 0],\n",
      "        ...,\n",
      "        [0, 0, 0, ..., 0, 0, 0],\n",
      "        [0, 0, 0, ..., 0, 0, 0],\n",
      "        [0, 0, 0, ..., 0, 0, 0]],\n",
      "\n",
      "       ...,\n",
      "\n",
      "       [[0, 0, 0, ..., 0, 0, 0],\n",
      "        [0, 0, 0, ..., 0, 0, 0],\n",
      "        [0, 0, 0, ..., 0, 0, 0],\n",
      "        ...,\n",
      "        [0, 0, 0, ..., 0, 0, 0],\n",
      "        [0, 0, 0, ..., 0, 0, 0],\n",
      "        [0, 0, 0, ..., 0, 0, 0]],\n",
      "\n",
      "       [[0, 0, 0, ..., 0, 0, 0],\n",
      "        [0, 0, 0, ..., 0, 0, 0],\n",
      "        [0, 0, 0, ..., 0, 0, 0],\n",
      "        ...,\n",
      "        [0, 0, 0, ..., 0, 0, 0],\n",
      "        [0, 0, 0, ..., 0, 0, 0],\n",
      "        [0, 0, 0, ..., 0, 0, 0]],\n",
      "\n",
      "       [[0, 0, 0, ..., 0, 0, 0],\n",
      "        [0, 0, 0, ..., 0, 0, 0],\n",
      "        [0, 0, 0, ..., 0, 0, 0],\n",
      "        ...,\n",
      "        [0, 0, 0, ..., 0, 0, 0],\n",
      "        [0, 0, 0, ..., 0, 0, 0],\n",
      "        [0, 0, 0, ..., 0, 0, 0]]]), 'bypass': False}\n"
     ]
    },
    {
     "data": {
      "text/plain": [
       "83"
      ]
     },
     "execution_count": 18,
     "metadata": {},
     "output_type": "execute_result"
    }
   ],
   "source": [
    "print(match_dict1)\n",
    "len(match_dict1['Mpairs'])"
   ]
  },
  {
   "cell_type": "code",
   "execution_count": 19,
   "id": "c3a5f61f-3806-47b9-8f8e-314e33226337",
   "metadata": {},
   "outputs": [
    {
     "name": "stdout",
     "output_type": "stream",
     "text": [
      "CPU times: user 12.1 ms, sys: 52 µs, total: 12.1 ms\n",
      "Wall time: 275 ms\n"
     ]
    }
   ],
   "source": [
    "%%time\n",
    "# if done with mask matching and not planning qc, whittle these down to final matched groups based on match_dict1\n",
    "vars_dict1_ref_matched = deepcopy(vars_dict1_ref)\n",
    "vars_dict1_mov_matched = deepcopy(vars_dict1_mov)\n",
    "\n",
    "srm = []\n",
    "for g in match_dict1['Mrefs']:\n",
    "    y = []\n",
    "    for i in g:\n",
    "        y += vars_dict1_ref['SMG'][i]\n",
    "    srm.append(y)\n",
    "vars_dict1_ref_matched['SMG'] = srm\n",
    "\n",
    "smm = []\n",
    "for g in match_dict1['Mmovs']:\n",
    "    y = []\n",
    "    for i in g:\n",
    "        y += vars_dict1_mov['SMG'][i]\n",
    "    smm.append(y)\n",
    "vars_dict1_mov_matched['SMG'] = smm\n",
    "\n",
    "#if n==0:\n",
    "save_path_matched = f'ch0_means_movie_nobg_compfilt_matched.pickle'\n",
    "#else:\n",
    "#    save_path_matched = f'ch0_means_movie_nobg_compfilt_matched{n:01}.pickle'\n",
    "\n",
    "with open(os.path.join(ref_dir, save_path_matched), 'wb') as f:\n",
    "    pickle.dump(vars_dict1_ref_matched, f)\n",
    "with open(os.path.join(mov_dir, save_path_matched), 'wb') as f:\n",
    "    pickle.dump(vars_dict1_mov_matched, f)"
   ]
  },
  {
   "cell_type": "code",
   "execution_count": 20,
   "id": "b71797ab-62db-40a6-af76-e2a99bb5ea94",
   "metadata": {},
   "outputs": [
    {
     "data": {
      "text/plain": [
       "70"
      ]
     },
     "execution_count": 20,
     "metadata": {},
     "output_type": "execute_result"
    }
   ],
   "source": [
    "len(match_dict1['Mrefs'])"
   ]
  },
  {
   "cell_type": "code",
   "execution_count": null,
   "id": "99b4a037-0a1f-40c4-b0e4-9d5c88bdfb90",
   "metadata": {},
   "outputs": [],
   "source": []
  },
  {
   "cell_type": "code",
   "execution_count": null,
   "id": "f73c4c51-278d-40de-931d-84268b3d7ae6",
   "metadata": {},
   "outputs": [],
   "source": []
  },
  {
   "cell_type": "code",
   "execution_count": null,
   "id": "213d8dd6-9821-40a3-85b6-bd9b679e492a",
   "metadata": {},
   "outputs": [],
   "source": []
  },
  {
   "cell_type": "code",
   "execution_count": null,
   "id": "a08a6b07-9889-4d4d-a949-0379256112f2",
   "metadata": {},
   "outputs": [],
   "source": []
  },
  {
   "cell_type": "code",
   "execution_count": 1,
   "id": "6f0bfd0e-1ec8-4231-b81a-db3843a0d260",
   "metadata": {},
   "outputs": [
    {
     "name": "stderr",
     "output_type": "stream",
     "text": [
      "2024-05-22 15:16:22.165986: E tensorflow/compiler/xla/stream_executor/cuda/cuda_dnn.cc:9342] Unable to register cuDNN factory: Attempting to register factory for plugin cuDNN when one has already been registered\n",
      "2024-05-22 15:16:22.166029: E tensorflow/compiler/xla/stream_executor/cuda/cuda_fft.cc:609] Unable to register cuFFT factory: Attempting to register factory for plugin cuFFT when one has already been registered\n",
      "2024-05-22 15:16:22.166041: E tensorflow/compiler/xla/stream_executor/cuda/cuda_blas.cc:1518] Unable to register cuBLAS factory: Attempting to register factory for plugin cuBLAS when one has already been registered\n"
     ]
    }
   ],
   "source": [
    "import napari\n",
    "from magicgui import magicgui, widgets\n",
    "import time\n",
    "\n",
    "from IPython import get_ipython\n",
    "from IPython.display import clear_output\n",
    "import os\n",
    "import matplotlib.pyplot as plt\n",
    "import numpy as np\n",
    "from scipy.sparse import csc_matrix\n",
    "from scipy import signal as sg\n",
    "from scipy.ndimage import center_of_mass\n",
    "import scipy\n",
    "import pickle\n",
    "\n",
    "from tifffile.tifffile import imwrite,imread\n",
    "from tqdm.auto import tqdm,trange\n",
    "\n",
    "from copy import deepcopy\n",
    "import h5py\n",
    "\n",
    "import caiman as cm\n",
    "from caiman.source_extraction.cnmf import cnmf,params\n",
    "from caiman.paths import caiman_datadir\n",
    "from caiman.utils.visualization import get_contours\n",
    "\n",
    "try:\n",
    "    if __IPYTHON__:\n",
    "        get_ipython().run_line_magic('load_ext', 'autoreload')\n",
    "        get_ipython().run_line_magic('autoreload', '2')\n",
    "except NameError:\n",
    "    pass\n",
    "\n",
    "def load_pickle(file_path):\n",
    "    \"\"\"\n",
    "    Load a dictionary from a pickle file.\n",
    "\n",
    "    Args:\n",
    "    - file_path (str): Path to the pickle file.\n",
    "\n",
    "    Returns:\n",
    "    - dict: Loaded dictionary.\n",
    "    \"\"\"\n",
    "    with open(file_path, 'rb') as f:\n",
    "        data = pickle.load(f)\n",
    "    return data"
   ]
  },
  {
   "cell_type": "code",
   "execution_count": 4,
   "id": "e3c6d163-8886-4b97-ae7a-d8001fb73e25",
   "metadata": {},
   "outputs": [],
   "source": [
    "ref_dir = '/mnt/nasquatch/data/2p/peter/dipping/20230922_PL28/wells001/preprocessing/20230922_PL28_wells001_jordan_done_qc_done/'\n",
    "vars_dict1_ref_matched = load_pickle(os.path.join(ref_dir, 'ch0_means_movie_nobg_compfilt_matched1.pickle'))"
   ]
  },
  {
   "cell_type": "code",
   "execution_count": 5,
   "id": "ea2d4449-bfec-4bc5-a1cf-eea611153c57",
   "metadata": {},
   "outputs": [
    {
     "data": {
      "text/plain": [
       "99"
      ]
     },
     "execution_count": 5,
     "metadata": {},
     "output_type": "execute_result"
    }
   ],
   "source": [
    "len(vars_dict1_ref_matched['SMG'])"
   ]
  },
  {
   "cell_type": "code",
   "execution_count": 6,
   "id": "239f47f5-6937-4257-aaa2-ef18f67f02c0",
   "metadata": {},
   "outputs": [],
   "source": [
    "save_path_matched = f'ch0_means_movie_nobg_compfilt_matched.pickle'\n",
    "#else:\n",
    "#    save_path_matched = f'ch0_means_movie_nobg_compfilt_matched{n:01}.pickle'\n",
    "\n",
    "with open(os.path.join(ref_dir, save_path_matched), 'wb') as f:\n",
    "    pickle.dump(vars_dict1_ref_matched, f)"
   ]
  },
  {
   "cell_type": "code",
   "execution_count": null,
   "id": "00f73dae-2553-46fa-8251-86b6d7c995e9",
   "metadata": {},
   "outputs": [],
   "source": []
  },
  {
   "cell_type": "code",
   "execution_count": null,
   "id": "c2fcc870-453f-4566-ba70-1dc300f1ab2d",
   "metadata": {},
   "outputs": [],
   "source": []
  },
  {
   "cell_type": "code",
   "execution_count": null,
   "id": "42d7c292-934a-414b-970b-1d33eed1173a",
   "metadata": {},
   "outputs": [],
   "source": []
  },
  {
   "cell_type": "code",
   "execution_count": null,
   "id": "0687066f-ac2a-4e8a-8e1d-ea7eaf6fb879",
   "metadata": {},
   "outputs": [],
   "source": []
  },
  {
   "cell_type": "code",
   "execution_count": 166,
   "id": "36e39bad-ebd3-4ec2-a0e7-6797b11a9ae3",
   "metadata": {},
   "outputs": [
    {
     "data": {
      "text/plain": [
       "array([[  2,  86],\n",
       "       [ 44,  57],\n",
       "       [ 48, 146],\n",
       "       [167,  14],\n",
       "       [ 42,  36],\n",
       "       [ 95,  70],\n",
       "       [148,  54],\n",
       "       [  3, 123]])"
      ]
     },
     "execution_count": 166,
     "metadata": {},
     "output_type": "execute_result"
    }
   ],
   "source": [
    "np.array(match_dict1['Mpairs'])"
   ]
  },
  {
   "cell_type": "code",
   "execution_count": 199,
   "id": "93a4027b-14b4-484a-bc80-864617fd0a0a",
   "metadata": {},
   "outputs": [
    {
     "data": {
      "text/plain": [
       "False"
      ]
     },
     "execution_count": 199,
     "metadata": {},
     "output_type": "execute_result"
    }
   ],
   "source": [
    "not match_dict1['TmovsAllowed'][0]"
   ]
  },
  {
   "cell_type": "code",
   "execution_count": 167,
   "id": "b7715481-4c07-409d-a6ba-c13c70bdb131",
   "metadata": {},
   "outputs": [
    {
     "data": {
      "text/plain": [
       "[86,\n",
       " 57,\n",
       " 146,\n",
       " 14,\n",
       " 36,\n",
       " 70,\n",
       " 54,\n",
       " 123,\n",
       " 116,\n",
       " 15,\n",
       " 132,\n",
       " 171,\n",
       " 178,\n",
       " 24,\n",
       " 40,\n",
       " 127,\n",
       " 63,\n",
       " 27,\n",
       " 210,\n",
       " 56,\n",
       " 10,\n",
       " 153,\n",
       " 173,\n",
       " 148,\n",
       " 61,\n",
       " 162,\n",
       " 11,\n",
       " 166,\n",
       " 23,\n",
       " 0,\n",
       " 13,\n",
       " 189,\n",
       " 21,\n",
       " 141,\n",
       " 7,\n",
       " 190,\n",
       " 130,\n",
       " 158,\n",
       " 115,\n",
       " 183,\n",
       " 55,\n",
       " 96,\n",
       " 165,\n",
       " 169,\n",
       " 128,\n",
       " 64,\n",
       " 152,\n",
       " 113,\n",
       " 33,\n",
       " 16,\n",
       " 95,\n",
       " 22,\n",
       " 80,\n",
       " 142,\n",
       " 188,\n",
       " 131,\n",
       " 101,\n",
       " 51,\n",
       " 120,\n",
       " 53,\n",
       " 126,\n",
       " 156,\n",
       " 20,\n",
       " 108,\n",
       " 82,\n",
       " 25,\n",
       " 104,\n",
       " 81,\n",
       " 212,\n",
       " 133,\n",
       " 42,\n",
       " 186,\n",
       " 151,\n",
       " 161,\n",
       " 49,\n",
       " 69,\n",
       " 184,\n",
       " 129,\n",
       " 2,\n",
       " 4,\n",
       " 44,\n",
       " 9,\n",
       " 28,\n",
       " 58,\n",
       " 29,\n",
       " 167,\n",
       " 193,\n",
       " 181,\n",
       " 140,\n",
       " 170,\n",
       " 19,\n",
       " 18,\n",
       " 194,\n",
       " 182,\n",
       " 1,\n",
       " 155,\n",
       " 145,\n",
       " 65,\n",
       " 143,\n",
       " 45,\n",
       " 75,\n",
       " 175,\n",
       " 144,\n",
       " 137,\n",
       " 5,\n",
       " 119,\n",
       " 100,\n",
       " 106,\n",
       " 125,\n",
       " 198,\n",
       " 150,\n",
       " 168,\n",
       " 60,\n",
       " 41,\n",
       " 97,\n",
       " 147,\n",
       " 205,\n",
       " 201,\n",
       " 34,\n",
       " 110,\n",
       " 206,\n",
       " 88,\n",
       " 211,\n",
       " 39,\n",
       " 191,\n",
       " 192,\n",
       " 35,\n",
       " 105,\n",
       " 8,\n",
       " 203,\n",
       " 122,\n",
       " 164,\n",
       " 52,\n",
       " 139,\n",
       " 135,\n",
       " 159,\n",
       " 50,\n",
       " 160,\n",
       " 6,\n",
       " 172,\n",
       " 213,\n",
       " 136,\n",
       " 209,\n",
       " 92,\n",
       " 138,\n",
       " 68,\n",
       " 90,\n",
       " 59,\n",
       " 163,\n",
       " 94,\n",
       " 196,\n",
       " 118,\n",
       " 46,\n",
       " 62,\n",
       " 176,\n",
       " 199,\n",
       " 30,\n",
       " 26,\n",
       " 177,\n",
       " 208,\n",
       " 117,\n",
       " 154,\n",
       " 202,\n",
       " 114,\n",
       " 185,\n",
       " 73,\n",
       " 84,\n",
       " 43,\n",
       " 174,\n",
       " 111,\n",
       " 134,\n",
       " 124,\n",
       " 67,\n",
       " 197,\n",
       " 149,\n",
       " 91,\n",
       " 37,\n",
       " 98,\n",
       " 93,\n",
       " 112,\n",
       " 204,\n",
       " 87,\n",
       " 180,\n",
       " 38,\n",
       " 31,\n",
       " 77,\n",
       " 76,\n",
       " 85,\n",
       " 121,\n",
       " 109,\n",
       " 48,\n",
       " 187,\n",
       " 195,\n",
       " 83,\n",
       " 200,\n",
       " 78,\n",
       " 71,\n",
       " 99,\n",
       " 3,\n",
       " 12,\n",
       " 17,\n",
       " 79,\n",
       " 103,\n",
       " 207,\n",
       " 47,\n",
       " 32,\n",
       " 66,\n",
       " 102,\n",
       " 89,\n",
       " 72]"
      ]
     },
     "execution_count": 167,
     "metadata": {},
     "output_type": "execute_result"
    }
   ],
   "source": [
    "if len(match_dict1['Smovs']) > 0:\n",
    "    for i in match_dict1['Smovs']:\n",
    "        if not match_dict1['TmovsAllowed'][i]:\n",
    "            match_dict1['SOL_movs_f'][i] = match_dict1['SOL_movs_f'][i][0:np.min([match_dict1['SOL_movs_f'][i].index(x) for x in np.array(match_dict1['Mpairs'])[np.where(np.array(match_dict1['Mpairs'])[:,1]==i),0][0,...].tolist()])]\n",
    "            "
   ]
  },
  {
   "cell_type": "code",
   "execution_count": 196,
   "id": "ffe764b0-271b-47d9-83de-9e4c4b1025d5",
   "metadata": {},
   "outputs": [
    {
     "data": {
      "text/plain": [
       "True"
      ]
     },
     "execution_count": 196,
     "metadata": {},
     "output_type": "execute_result"
    }
   ],
   "source": [
    "match_dict1['SOL_movs_f'][match_dict1['Smovs'][j]][0] in np.array(match_dict1['Mpairs'])[np.where(np.array(match_dict1['Mpairs'])[:,1]==match_dict1['Smovs'][j]),0][0,...].tolist()\n",
    "\n"
   ]
  },
  {
   "cell_type": "code",
   "execution_count": 198,
   "id": "2d6369a7-76ac-4bc1-ad25-6dec8b70c60d",
   "metadata": {},
   "outputs": [
    {
     "data": {
      "text/plain": [
       "[116,\n",
       " 15,\n",
       " 132,\n",
       " 171,\n",
       " 178,\n",
       " 24,\n",
       " 40,\n",
       " 127,\n",
       " 63,\n",
       " 27,\n",
       " 210,\n",
       " 56,\n",
       " 10,\n",
       " 153,\n",
       " 173,\n",
       " 148,\n",
       " 61,\n",
       " 162,\n",
       " 11,\n",
       " 166,\n",
       " 23,\n",
       " 0,\n",
       " 13,\n",
       " 189,\n",
       " 21,\n",
       " 141,\n",
       " 7,\n",
       " 190,\n",
       " 130,\n",
       " 158,\n",
       " 115,\n",
       " 183,\n",
       " 55,\n",
       " 96,\n",
       " 165,\n",
       " 169,\n",
       " 128,\n",
       " 64,\n",
       " 152,\n",
       " 113,\n",
       " 33,\n",
       " 16,\n",
       " 95,\n",
       " 22,\n",
       " 80,\n",
       " 142,\n",
       " 188,\n",
       " 131,\n",
       " 101,\n",
       " 51,\n",
       " 120,\n",
       " 53,\n",
       " 126,\n",
       " 156,\n",
       " 20,\n",
       " 108,\n",
       " 82,\n",
       " 25,\n",
       " 104,\n",
       " 81,\n",
       " 212,\n",
       " 133,\n",
       " 42,\n",
       " 186,\n",
       " 151,\n",
       " 161,\n",
       " 49,\n",
       " 69,\n",
       " 184,\n",
       " 129,\n",
       " 2,\n",
       " 4,\n",
       " 44,\n",
       " 9,\n",
       " 28,\n",
       " 58,\n",
       " 29,\n",
       " 167,\n",
       " 193,\n",
       " 181,\n",
       " 140,\n",
       " 170,\n",
       " 19,\n",
       " 18,\n",
       " 194,\n",
       " 182,\n",
       " 1,\n",
       " 155,\n",
       " 145,\n",
       " 65,\n",
       " 143,\n",
       " 45,\n",
       " 75,\n",
       " 175,\n",
       " 144,\n",
       " 137,\n",
       " 5,\n",
       " 119,\n",
       " 100,\n",
       " 106,\n",
       " 125,\n",
       " 198,\n",
       " 150,\n",
       " 168,\n",
       " 60,\n",
       " 41,\n",
       " 97,\n",
       " 147,\n",
       " 205,\n",
       " 201,\n",
       " 34,\n",
       " 110,\n",
       " 206,\n",
       " 88,\n",
       " 211,\n",
       " 39,\n",
       " 191,\n",
       " 192,\n",
       " 35,\n",
       " 105,\n",
       " 8,\n",
       " 203,\n",
       " 122,\n",
       " 164,\n",
       " 52,\n",
       " 139,\n",
       " 135,\n",
       " 159,\n",
       " 50,\n",
       " 160,\n",
       " 6,\n",
       " 172,\n",
       " 213,\n",
       " 136,\n",
       " 209,\n",
       " 92,\n",
       " 138,\n",
       " 68,\n",
       " 90,\n",
       " 59,\n",
       " 163,\n",
       " 94,\n",
       " 196,\n",
       " 118,\n",
       " 46,\n",
       " 62,\n",
       " 176,\n",
       " 199,\n",
       " 30,\n",
       " 26,\n",
       " 177,\n",
       " 208,\n",
       " 117,\n",
       " 154,\n",
       " 202,\n",
       " 114,\n",
       " 185,\n",
       " 73,\n",
       " 84,\n",
       " 43,\n",
       " 174,\n",
       " 111,\n",
       " 134,\n",
       " 124,\n",
       " 67,\n",
       " 197,\n",
       " 149,\n",
       " 91,\n",
       " 37,\n",
       " 98,\n",
       " 93,\n",
       " 112,\n",
       " 204,\n",
       " 87,\n",
       " 180,\n",
       " 38,\n",
       " 31,\n",
       " 77,\n",
       " 76,\n",
       " 85,\n",
       " 121,\n",
       " 109,\n",
       " 48,\n",
       " 187,\n",
       " 195,\n",
       " 83,\n",
       " 200,\n",
       " 78,\n",
       " 71,\n",
       " 99,\n",
       " 3,\n",
       " 12,\n",
       " 17,\n",
       " 79,\n",
       " 103,\n",
       " 207,\n",
       " 47,\n",
       " 32,\n",
       " 66,\n",
       " 102,\n",
       " 89,\n",
       " 72]"
      ]
     },
     "execution_count": 198,
     "metadata": {},
     "output_type": "execute_result"
    }
   ],
   "source": [
    "[x for x in match_dict1['Smovs'] if match_dict1['SOL_movs_f'][x][0] not in np.array(match_dict1['Mpairs'])[np.where(np.array(match_dict1['Mpairs'])[:,1]==x),0][0,...].tolist()]"
   ]
  },
  {
   "cell_type": "code",
   "execution_count": 176,
   "id": "d584f119-1abb-48b1-b262-c2920f1976f0",
   "metadata": {},
   "outputs": [
    {
     "data": {
      "text/plain": [
       "[86, 57, 146, 14, 36, 70, 54, 123]"
      ]
     },
     "execution_count": 176,
     "metadata": {},
     "output_type": "execute_result"
    }
   ],
   "source": [
    "[x[1] for x in match_dict1['Mpairs']]"
   ]
  },
  {
   "cell_type": "code",
   "execution_count": 192,
   "id": "f003bf4e-d2b0-4d6b-8e3b-0e175a2eab1f",
   "metadata": {},
   "outputs": [
    {
     "data": {
      "text/plain": [
       "[48]"
      ]
     },
     "execution_count": 192,
     "metadata": {},
     "output_type": "execute_result"
    }
   ],
   "source": [
    "j=2\n",
    "np.array(match_dict1['Mpairs'])[np.where(np.array(match_dict1['Mpairs'])[:,1]==match_dict1['Smovs'][j]),0][0,...].tolist()"
   ]
  },
  {
   "cell_type": "code",
   "execution_count": 183,
   "id": "a5808a2e-ef2b-40ab-a6b3-17c18983d19c",
   "metadata": {},
   "outputs": [
    {
     "data": {
      "text/plain": [
       "array([[1, 1],\n",
       "       [2, 1],\n",
       "       [2, 5],\n",
       "       [6, 7]])"
      ]
     },
     "execution_count": 183,
     "metadata": {},
     "output_type": "execute_result"
    }
   ],
   "source": [
    "test_arr"
   ]
  },
  {
   "cell_type": "code",
   "execution_count": 190,
   "id": "23e45bf7-c734-431d-8a44-8bcdbee1f273",
   "metadata": {},
   "outputs": [
    {
     "data": {
      "text/plain": [
       "array([1, 1])"
      ]
     },
     "execution_count": 190,
     "metadata": {},
     "output_type": "execute_result"
    }
   ],
   "source": [
    "test_arr[np.where(test_arr[:,1]==1),1][0,...]"
   ]
  },
  {
   "cell_type": "code",
   "execution_count": 200,
   "id": "70f8e59b-ecb0-4be9-aae9-855741c39ea7",
   "metadata": {},
   "outputs": [
    {
     "data": {
      "text/plain": [
       "[2, 1, 53, 3, 143, 62, 4, 80]"
      ]
     },
     "execution_count": 200,
     "metadata": {},
     "output_type": "execute_result"
    }
   ],
   "source": [
    "match_dict1['SOL_movs_f'][86]"
   ]
  },
  {
   "cell_type": "code",
   "execution_count": 203,
   "id": "c9482c29-aca7-4803-9808-681757b82884",
   "metadata": {},
   "outputs": [],
   "source": [
    "test_arr2 = [143,53]"
   ]
  },
  {
   "cell_type": "code",
   "execution_count": 204,
   "id": "5a60b091-40c1-4669-b30b-7cdd0d0c2825",
   "metadata": {},
   "outputs": [
    {
     "ename": "ValueError",
     "evalue": "[143, 53] is not in list",
     "output_type": "error",
     "traceback": [
      "\u001b[0;31m---------------------------------------------------------------------------\u001b[0m",
      "\u001b[0;31mValueError\u001b[0m                                Traceback (most recent call last)",
      "Cell \u001b[0;32mIn[204], line 1\u001b[0m\n\u001b[0;32m----> 1\u001b[0m \u001b[43mmatch_dict1\u001b[49m\u001b[43m[\u001b[49m\u001b[38;5;124;43m'\u001b[39;49m\u001b[38;5;124;43mSOL_movs_f\u001b[39;49m\u001b[38;5;124;43m'\u001b[39;49m\u001b[43m]\u001b[49m\u001b[43m[\u001b[49m\u001b[38;5;241;43m86\u001b[39;49m\u001b[43m]\u001b[49m\u001b[38;5;241;43m.\u001b[39;49m\u001b[43mindex\u001b[49m\u001b[43m(\u001b[49m\u001b[43mtest_arr2\u001b[49m\u001b[43m)\u001b[49m\n",
      "\u001b[0;31mValueError\u001b[0m: [143, 53] is not in list"
     ]
    }
   ],
   "source": [
    "match_dict1['SOL_movs_f'][86].index(test_arr2)"
   ]
  },
  {
   "cell_type": "code",
   "execution_count": 209,
   "id": "55a6a6ad-6634-4d1b-99fd-bc4254131368",
   "metadata": {},
   "outputs": [
    {
     "data": {
      "text/plain": [
       "[2, 1]"
      ]
     },
     "execution_count": 209,
     "metadata": {},
     "output_type": "execute_result"
    }
   ],
   "source": [
    "match_dict1['SOL_movs_f'][86][0:np.min([match_dict1['SOL_movs_f'][86].index(x) for x in test_arr2])]"
   ]
  },
  {
   "cell_type": "code",
   "execution_count": 210,
   "id": "abfd0092-c7c3-4c0d-b36c-ac4f44625967",
   "metadata": {
    "scrolled": true
   },
   "outputs": [
    {
     "data": {
      "text/plain": [
       "[[2, 86],\n",
       " [44, 57],\n",
       " [48, 146],\n",
       " [167, 14],\n",
       " [42, 36],\n",
       " [95, 70],\n",
       " [148, 54],\n",
       " [3, 123]]"
      ]
     },
     "execution_count": 210,
     "metadata": {},
     "output_type": "execute_result"
    }
   ],
   "source": [
    "match_dict1['Mpairs']"
   ]
  },
  {
   "cell_type": "code",
   "execution_count": 212,
   "id": "f1094d03-80f7-4933-a298-d7b4ed1a5c11",
   "metadata": {},
   "outputs": [
    {
     "data": {
      "text/plain": [
       "[{1, 2, 5}, {6, 7}]"
      ]
     },
     "execution_count": 212,
     "metadata": {},
     "output_type": "execute_result"
    }
   ],
   "source": [
    "def find_groups(pairs):\n",
    "    groups_list = list()\n",
    "    for pair in pairs:\n",
    "        s = ab = set(pair)\n",
    "        for t in groups_list[:]: # we need to use copy\n",
    "            if t & ab:           # check t include a, b\n",
    "                s |= t\n",
    "                groups_list.remove(t)\n",
    "        groups_list.append(s)    # only s include a, b\n",
    "    return groups_list\n",
    "\n",
    "find_groups(test_arr)"
   ]
  },
  {
   "cell_type": "code",
   "execution_count": 217,
   "id": "3f3b5b54-be58-467e-8abf-81978ce4a6a2",
   "metadata": {},
   "outputs": [
    {
     "data": {
      "text/plain": [
       "[[1, 2], [3, 1], [3, 2], [5, 6], [6, 5], [7, 6]]"
      ]
     },
     "execution_count": 217,
     "metadata": {},
     "output_type": "execute_result"
    }
   ],
   "source": [
    "test_list = [[1,2],[3,1],[3,2],[5,6],[6,5],[7,6]]\n",
    "test_list"
   ]
  },
  {
   "cell_type": "code",
   "execution_count": 285,
   "id": "eb197e27-4d3a-4c7d-adec-06ec3151f121",
   "metadata": {},
   "outputs": [
    {
     "data": {
      "text/plain": [
       "[[[3, 2], [1, 2], [3, 1]], [[6, 5]], [[7, 6], [5, 6]]]"
      ]
     },
     "execution_count": 285,
     "metadata": {},
     "output_type": "execute_result"
    }
   ],
   "source": [
    "groups_list = list()\n",
    "for x in test_list:\n",
    "    s = [x]\n",
    "    for y in groups_list[:]:\n",
    "        if (x[0] in [j[0] for j in y]) or (x[1] in [j[1] for j in y]):\n",
    "            s += y\n",
    "            groups_list.remove(y)\n",
    "    groups_list.append(s)\n",
    "groups_list"
   ]
  },
  {
   "cell_type": "code",
   "execution_count": 249,
   "id": "0733b916-ea9d-4034-8913-7e122052200f",
   "metadata": {},
   "outputs": [
    {
     "data": {
      "text/plain": [
       "[1, 2]"
      ]
     },
     "execution_count": 249,
     "metadata": {},
     "output_type": "execute_result"
    }
   ],
   "source": [
    "test_list[0]"
   ]
  },
  {
   "cell_type": "code",
   "execution_count": 246,
   "id": "2f646374-8eed-4935-b293-475cd19f64c0",
   "metadata": {},
   "outputs": [
    {
     "data": {
      "text/plain": [
       "[1]"
      ]
     },
     "execution_count": 246,
     "metadata": {},
     "output_type": "execute_result"
    }
   ],
   "source": [
    "[j[0] for k in [[test_list[0]]] for j in k]"
   ]
  },
  {
   "cell_type": "code",
   "execution_count": 250,
   "id": "42f04b95-7712-411f-8f08-6806ddcd119e",
   "metadata": {},
   "outputs": [],
   "source": [
    "groups_list = [[test_list[0]]]"
   ]
  },
  {
   "cell_type": "code",
   "execution_count": 256,
   "id": "d8719073-f7b7-4c5e-bc52-3a8e1a4f47e2",
   "metadata": {},
   "outputs": [],
   "source": [
    "groups_list[0].append(test_list[1])"
   ]
  },
  {
   "cell_type": "code",
   "execution_count": 261,
   "id": "67f71b49-646e-4c07-ab8b-b35927457011",
   "metadata": {},
   "outputs": [
    {
     "data": {
      "text/plain": [
       "[None]"
      ]
     },
     "execution_count": 261,
     "metadata": {},
     "output_type": "execute_result"
    }
   ],
   "source": [
    "groups_list"
   ]
  },
  {
   "cell_type": "code",
   "execution_count": 262,
   "id": "acb16ceb-3991-4bb9-89d4-06cf4c3906f2",
   "metadata": {},
   "outputs": [],
   "source": [
    "groups_list = [[test_list[0]]]"
   ]
  },
  {
   "cell_type": "code",
   "execution_count": 275,
   "id": "ffad4e30-c071-4fb6-bc5c-b4d7208eac61",
   "metadata": {},
   "outputs": [],
   "source": [
    "x = test_list[2]"
   ]
  },
  {
   "cell_type": "code",
   "execution_count": 277,
   "id": "882370df-2055-404f-a0ea-1f50584083fb",
   "metadata": {},
   "outputs": [],
   "source": [
    "y = groups_list[0]"
   ]
  },
  {
   "cell_type": "code",
   "execution_count": 276,
   "id": "212e2d74-0bad-4676-8ddb-945b48e6b528",
   "metadata": {},
   "outputs": [
    {
     "data": {
      "text/plain": [
       "[[3, 2]]"
      ]
     },
     "execution_count": 276,
     "metadata": {},
     "output_type": "execute_result"
    }
   ],
   "source": [
    "s = [x]\n",
    "s"
   ]
  },
  {
   "cell_type": "code",
   "execution_count": 281,
   "id": "e5cc2c30-2855-483d-aa3e-36fd7b052add",
   "metadata": {},
   "outputs": [],
   "source": [
    "x = y.append(s)"
   ]
  },
  {
   "cell_type": "code",
   "execution_count": 283,
   "id": "51d4e2ed-b18a-45e9-8fd6-b5546c0da8ad",
   "metadata": {},
   "outputs": [
    {
     "data": {
      "text/plain": [
       "[[1, 2], [[3, 2]]]"
      ]
     },
     "execution_count": 283,
     "metadata": {},
     "output_type": "execute_result"
    }
   ],
   "source": [
    "y"
   ]
  },
  {
   "cell_type": "code",
   "execution_count": 278,
   "id": "2d394dfe-4955-4254-b33d-3fbe13164fa1",
   "metadata": {},
   "outputs": [
    {
     "data": {
      "text/plain": [
       "3"
      ]
     },
     "execution_count": 278,
     "metadata": {},
     "output_type": "execute_result"
    }
   ],
   "source": [
    "x[0]"
   ]
  },
  {
   "cell_type": "code",
   "execution_count": 280,
   "id": "5f2667f0-9ccf-4583-ab92-36e66295ff02",
   "metadata": {},
   "outputs": [
    {
     "data": {
      "text/plain": [
       "[2]"
      ]
     },
     "execution_count": 280,
     "metadata": {},
     "output_type": "execute_result"
    }
   ],
   "source": [
    "[j[1] for j in y]"
   ]
  },
  {
   "cell_type": "code",
   "execution_count": 273,
   "id": "28f09784-9be3-43f2-b29a-aa2d00fb06df",
   "metadata": {},
   "outputs": [],
   "source": [
    "groups_list.append(s)"
   ]
  },
  {
   "cell_type": "code",
   "execution_count": 294,
   "id": "aff2de3b-93d2-473e-92e9-8ed5010aeeb1",
   "metadata": {},
   "outputs": [
    {
     "data": {
      "text/plain": [
       "[[[3, 2], [1, 2], [3, 1]], [[6, 5]], [[7, 6], [5, 6]]]"
      ]
     },
     "execution_count": 294,
     "metadata": {},
     "output_type": "execute_result"
    }
   ],
   "source": [
    "groups_list"
   ]
  },
  {
   "cell_type": "code",
   "execution_count": 315,
   "id": "9d723273-c5d2-49c1-89ac-c0bf9ca4a957",
   "metadata": {},
   "outputs": [],
   "source": [
    "mx = list()\n",
    "my = list()"
   ]
  },
  {
   "cell_type": "code",
   "execution_count": 317,
   "id": "032c04d5-a487-4f70-a210-c3e48ea1e93b",
   "metadata": {},
   "outputs": [
    {
     "name": "stdout",
     "output_type": "stream",
     "text": [
      "[[3, 1], [6], [7, 5]]\n",
      "[[2, 1], [5], [6]]\n"
     ]
    }
   ],
   "source": [
    "for g in groups_list:\n",
    "    xg = list()\n",
    "    yg = list()\n",
    "    [xg.append(a[0]) for a in g if a[0] not in xg]\n",
    "    [yg.append(a[1]) for a in g if a[1] not in yg]\n",
    "    mx.append(xg)\n",
    "    my.append(yg)\n",
    "print(mx)\n",
    "print(my)"
   ]
  },
  {
   "cell_type": "code",
   "execution_count": 290,
   "id": "209e5a9a-730b-46c1-a82c-77ce2951e714",
   "metadata": {},
   "outputs": [
    {
     "data": {
      "text/plain": [
       "[7, 7, 7, 6, 6, 6]"
      ]
     },
     "execution_count": 290,
     "metadata": {},
     "output_type": "execute_result"
    }
   ],
   "source": [
    "[y for y in x for x in groups_list]"
   ]
  },
  {
   "cell_type": "code",
   "execution_count": 300,
   "id": "95fc2553-be94-4708-aa5e-5e29a107d825",
   "metadata": {},
   "outputs": [
    {
     "data": {
      "text/plain": [
       "[[[3, 2], [1, 2], [3, 1]], [[6, 5]], [[7, 6], [5, 6]]]"
      ]
     },
     "execution_count": 300,
     "metadata": {},
     "output_type": "execute_result"
    }
   ],
   "source": [
    "[y for y in groups_list]"
   ]
  },
  {
   "cell_type": "code",
   "execution_count": 301,
   "id": "364752ab-8945-4111-80c2-364c35c9be42",
   "metadata": {},
   "outputs": [
    {
     "data": {
      "text/plain": [
       "[[6, 5], [6, 5], [6, 5]]"
      ]
     },
     "execution_count": 301,
     "metadata": {},
     "output_type": "execute_result"
    }
   ],
   "source": [
    "[x for x in y for y in groups_list]"
   ]
  },
  {
   "cell_type": "code",
   "execution_count": 304,
   "id": "92175908-4051-4284-a741-e84a328f2f07",
   "metadata": {},
   "outputs": [
    {
     "data": {
      "text/plain": [
       "[[3, 2], [1, 2], [3, 1], [6, 5], [7, 6], [5, 6]]"
      ]
     },
     "execution_count": 304,
     "metadata": {},
     "output_type": "execute_result"
    }
   ],
   "source": [
    "[j for i in range(len(groups_list)) for j in groups_list[i]]"
   ]
  },
  {
   "cell_type": "code",
   "execution_count": 306,
   "id": "cd0b7d41-aa9b-4fc7-9364-fa65e2d7f1bb",
   "metadata": {},
   "outputs": [
    {
     "data": {
      "text/plain": [
       "[3, 1, 3, 6, 7, 5]"
      ]
     },
     "execution_count": 306,
     "metadata": {},
     "output_type": "execute_result"
    }
   ],
   "source": [
    "[x[0] for y in groups_list for x in y]"
   ]
  },
  {
   "cell_type": "code",
   "execution_count": 308,
   "id": "b9c25633-3d64-41f8-a2b6-3e1a5687daad",
   "metadata": {},
   "outputs": [
    {
     "data": {
      "text/plain": [
       "[[3, 1, 3], [6], [7, 5]]"
      ]
     },
     "execution_count": 308,
     "metadata": {},
     "output_type": "execute_result"
    }
   ],
   "source": [
    "[[x[0] for x in y] for y in groups_list]"
   ]
  },
  {
   "cell_type": "code",
   "execution_count": null,
   "id": "7e73bb0a-a82c-49af-98a2-4c2fa877a92d",
   "metadata": {},
   "outputs": [],
   "source": [
    "tr = [mov_spotcomps2.append(x) for x in mov_spotcomps if x not in mov_spotcomps2]"
   ]
  },
  {
   "cell_type": "code",
   "execution_count": 314,
   "id": "9226676f-80dc-4303-a605-bb7715ca9426",
   "metadata": {},
   "outputs": [
    {
     "data": {
      "text/plain": [
       "[3, 1]"
      ]
     },
     "execution_count": 314,
     "metadata": {},
     "output_type": "execute_result"
    }
   ],
   "source": [
    "[xg.append(x[0]) for x in groups_list[0] if x[0] not in xg]\n",
    "xg"
   ]
  },
  {
   "cell_type": "code",
   "execution_count": null,
   "id": "7ee42de4-650e-465d-a565-14594b235d40",
   "metadata": {},
   "outputs": [],
   "source": [
    "# trash, next, match, undo functions\n",
    "def clickM():\n",
    "    global match_dict1, match_dict2, match_dict3\n",
    "    if match_dict1['Mode'] == 0:\n",
    "        match_dict1['Mrefs_c'] += match_dict1['Srefs'][0]\n",
    "        match_dict1['Mmovs_c'] += match_dict1['CSL'][0]\n",
    "        match_dict1['Mpairs'].append([match_dict1['Srefs'][0],match_dict1['CSL'][0]])\n",
    "        match_dict1['TmovsAllowed'][match_dict1['CSL'][0]] = False # matched mov component can no longer be trashed\n",
    "    else:\n",
    "        match_dict1['Mrefs_c'] += match_dict1['CSL'][0]\n",
    "        match_dict1['Mmovs_c'] += match_dict1['Smovs'][0]\n",
    "        match_dict1['Mpairs'].append([match_dict1['CSL'][0],match_dict1['Smovs'][0]])\n",
    "    match_dict1['CSL'] = list()\n",
    "    looper(bypass=True)\n",
    "\n",
    "def clickN():\n",
    "    global match_dict1, match_dict2, match_dict3\n",
    "    match_dict1['CSL'] = match_dict1['CSL'][1:]\n",
    "    looper()\n",
    "\n",
    "def clickT():\n",
    "    global match_dict1, match_dict2, match_dict3\n",
    "    match_dict1['CSL'] = list()\n",
    "    looper()\n",
    "\n",
    "def clickU():\n",
    "    global match_dict1, match_dict2, match_dict3\n",
    "    # reverse vars_dict to one step back, then rerun looper\n",
    "    match_dict1 = deepcopy(match_dict3)\n",
    "    print_lab(\"Pressed undo\")\n",
    "    looper()"
   ]
  },
  {
   "cell_type": "code",
   "execution_count": null,
   "id": "5bf00d01-fccd-4769-9ab6-72d1925d84a7",
   "metadata": {},
   "outputs": [],
   "source": [
    "# important points to add:\n",
    "# 1. main replot should make ref/mov timecourses on separate plots, weight distributions of both masks\n",
    "# 2. in the case of matching to a component that already has a match, plot other matched timecourses with transparent lines\n",
    "# 3. sliders plot to the same two windows, but should be cleared/invisible unless engaged! sliders plot to twin axis with dotted lines\n",
    "\n",
    "# Clicker GUI that lives in napari and runs functions (part of initialization)\n",
    "@magicgui(\n",
    "    O={\n",
    "        \"choices\": (\"Trash\", \"Match\", \"Next\", \"Undo\"),\n",
    "        \"allow_multiple\": True,\n",
    "    }\n",
    ")\n",
    "def clicker(O=(\"Match\")):\n",
    "    \"\"\"Dropdown selection function.\"\"\"\n",
    "    print_lab()\n",
    "    if 'Trash' in O:\n",
    "        clickT()\n",
    "    elif 'Match' in O:\n",
    "        clickM()\n",
    "    elif 'Undo' in O:\n",
    "        clickU()\n",
    "    elif 'Next' in O:\n",
    "        clickN()\n",
    "\n",
    "# Message displayer inside napari to print any messages\n",
    "lab = widgets.Label()\n",
    "def print_lab(message=None):\n",
    "    if message is None:\n",
    "        lab.value = \"\"\n",
    "    else:\n",
    "        lab.value = message\n",
    "\n",
    "# Progress displayer inside napari\n",
    "prlab = widgets.Label()\n",
    "def prlab_update():\n",
    "    if match_dict1['Mode'] == 0:\n",
    "        prlab.value = str(len(match_dict1['Srefs'])) + \" ref masks to go\"\n",
    "    else:\n",
    "        prlab.value = str(len(match_dict1['Smovs'])) + \" mov masks to go\"\n",
    "\n",
    "# Save and close button inside napari\n",
    "@magicgui(\n",
    "    auto_call=True,btn={\"widget_type\": \"PushButton\", \"text\": \"Save and close GUI\"}\n",
    ")\n",
    "def save_btn(btn):\n",
    "    np.save(os.path.join(warp_dir, match_path),match_dict1)\n",
    "    viewer.close()\n",
    "\n",
    "# Aligning widgets\n",
    "layout = widgets.Container(\n",
    "    widgets=[clicker,lab,save_btn,prlab], layout=\"vertical\", labels=False\n",
    ")\n",
    "\n",
    "# Key bindings to speed up selections\n",
    "@viewer.bind_key('u')\n",
    "def pressU(viewer):\n",
    "    clickU()\n",
    "\n",
    "@viewer.bind_key('t')\n",
    "def pressT(viewer):\n",
    "    clickT()\n",
    "\n",
    "@viewer.bind_key('m')\n",
    "def pressM(viewer):\n",
    "    clickM()\n",
    "\n",
    "@viewer.bind_key('n')\n",
    "def pressN(viewer):\n",
    "    clickN()\n",
    "\n",
    "global fig1, fig2, ax11, ax12, ax21, ax22, leg1, leg2\n",
    "fig1, ax11 = plt.subplots()\n",
    "ax12 = ax11.twinx()\n",
    "fig1.suptitle('Reference signal plots')\n",
    "ax11.plot(CY_r[0,:].T/100,c='green',label='initialization')\n",
    "leg1 = fig1.legend(loc=\"upper left\")\n",
    "fig2, ax21 = plt.subplots()\n",
    "ax22 = ax21.twinx()\n",
    "fig2.suptitle('Moving signal plots')\n",
    "ax21.plot(CY_m[0,:].T/100,c='darkorange',label='initialization')\n",
    "leg2 = fig2.legend(loc=\"upper left\")\n",
    "\n",
    "def clear_plot():\n",
    "    plt.sca(ax11)\n",
    "    plt.cla()\n",
    "    plt.sca(ax12)\n",
    "    plt.cla()\n",
    "    plt.sca(ax21)\n",
    "    plt.cla()\n",
    "    plt.sca(ax22)\n",
    "    plt.cla()\n",
    "    ax11.set_xlabel('Frame')\n",
    "    ax11.set_ylabel('Signal')\n",
    "    #ax12.set_ylabel('dF/F (parent)', color='orange')\n",
    "    ax21.set_xlabel('Frame')\n",
    "    ax21.set_ylabel('Signal')\n",
    "    #ax22.set_ylabel('Signal (parent)', color='orange')\n",
    "    ax11.tick_params(axis='y', labelcolor='green')\n",
    "    ax21.tick_params(axis='y', labelcolor='darkorange')\n",
    "    ax12.tick_params(axis='y', labelcolor='green')\n",
    "    ax22.tick_params(axis='y', labelcolor='darkorange')\n",
    "\n",
    "# replot points and labels\n",
    "def replot():\n",
    "    try:\n",
    "        viewer.layers.remove('refs all candidates')\n",
    "    except:\n",
    "        pass\n",
    "    try:\n",
    "        viewer.layers.remove('movs all candidates')\n",
    "    except:\n",
    "        pass\n",
    "    try:\n",
    "        viewer.layers.remove('all refs matched')\n",
    "    except:\n",
    "        pass\n",
    "    try:\n",
    "        viewer.layers.remove('all movs matched')\n",
    "    except:\n",
    "        pass\n",
    "    try:\n",
    "        viewer.layers.remove('ref candidate')\n",
    "    except:\n",
    "        pass\n",
    "    try:\n",
    "        viewer.layers.remove('mov candidate')\n",
    "    except:\n",
    "        pass\n",
    "    try:\n",
    "        viewer.layers.remove('ref group')\n",
    "    except:\n",
    "        pass\n",
    "    try:\n",
    "        viewer.layers.remove('mov group')\n",
    "    except:\n",
    "        pass\n",
    "\n",
    "    viewer.add_labels(match_dict1['Mrefslabels'],name='all refs matched',opacity=0.3,visible=False)\n",
    "    viewer.add_labels(match_dict1['Mmovslabels'],name='all movs matched',opacity=0.3,visible=False)\n",
    "\n",
    "    if match_dict1['Mode'] == 0:\n",
    "        viewer.add_labels(match_dict1['CSLlabels'],name='movs all candidates',opacity=0.5)\n",
    "        viewer.add_image(spcomps_r[match_dict1['Srefs'][0],...],name='ref candidate',colormap='green',opacity=1,blending='additive')\n",
    "        viewer.add_image(spcomps_m_warp[match_dict1['CSL'][0],...],name='mov candidate',colormap='darkorange',opacity=1,blending='additive')\n",
    "        add_r = None\n",
    "        if match_dict1['CSL'][0] in match_dict1['Mmovs_c']:\n",
    "            add_r = np.array(match_dict1['Mpairs'])[np.where(np.array(match_dict1['Mpairs'])[:,1] == match_dict1['CSL'][0]),0] # all refs paired with mov candidate\n",
    "            add_r_l = np.zeros(shape_keep).astype('int')\n",
    "            for j in add_r.tolist():\n",
    "                add_r_l[spcomps_r_e2 == j+1] = j+1\n",
    "            viewer.add_labels(add_r_l,name='ref group',opacity=0.7)\n",
    "        plot_cands(add_r=add_r)\n",
    "    else:\n",
    "        viewer.add_labels(match_dict1['CSLlabels'],name='refs all candidates',opacity=0.5)\n",
    "        viewer.add_image(spcomps_r[match_dict1['CSL'][0],...],name='ref candidate',colormap='green',opacity=1,blending='additive')\n",
    "        viewer.add_image(spcomps_m_warp[match_dict1['Smovs'][0],...],name='mov candidate',colormap='darkorange',opacity=1,blending='additive')\n",
    "        add_r = None\n",
    "        add_m = None\n",
    "        if match_dict1['CSL'][0] in match_dict1['Mrefs_c']:\n",
    "            add_m = np.array(match_dict1['Mpairs'])[np.where(np.array(match_dict1['Mpairs'])[:,0] == match_dict1['CSL'][0]),1] # all movs paired with ref candidate\n",
    "            add_m_l = np.zeros(shape_keep).astype('int')\n",
    "            for j in add_m.tolist():\n",
    "                add_m_l[spcomps_m_warp_e2 == j+1] = j+1\n",
    "            viewer.add_labels(add_m_l,name='mov group',opacity=0.7)\n",
    "        if match_dict1['Smovs'][0] in match_dict1['Mmovs_c']:\n",
    "            add_r = np.array(match_dict1['Mpairs'])[np.where(np.array(match_dict1['Mpairs'])[:,1] == match_dict1['Smovs'][0]),0] # all refs paired with mov candidate\n",
    "            add_r_l = np.zeros(shape_keep).astype('int')\n",
    "            for j in add_r.tolist():\n",
    "                add_r_l[spcomps_r_e2 == j+1] = j+1\n",
    "            viewer.add_labels(add_r_l,name='ref group',opacity=0.7)\n",
    "        plot_cands(add_r=add_r,add_m=add_m)\n",
    "    \n",
    "    prlab_update()\n",
    "\n",
    "def plot_cands(add_r=None,add_m=None):\n",
    "    clear_plot()\n",
    "    if match_dict1['Mode'] == 0:\n",
    "        ax11.plot(CY_r[match_dict1['Srefs'][0],...].T/100,c='green',label='ref candidate')\n",
    "        ax21.plot(CY_m[match_dict1['CSL'][0],...].T/100,c='darkorange',label='mov candidate')\n",
    "        if add_r is not None:\n",
    "            ax11.plot(CY_r[add_r,...].T/100,c='green',alpha=0.2)\n",
    "    else:\n",
    "        ax11.plot(CY_r[match_dict1['CSL'][0],...].T/100,c='green',label='ref candidate')\n",
    "        ax21.plot(CY_m[match_dict1['Smovs'][0],...].T/100,c='darkorange',label='mov candidate')\n",
    "        if add_m is not None:\n",
    "            ax21.plot(CY_m[add_m,...].T/100,c='darkorange',alpha=0.2)\n",
    "        if add_r is not None:\n",
    "            ax11.plot(CY_r[add_r,...].T/100,c='green',alpha=0.2)\n",
    "    global leg1, leg2\n",
    "    leg1.remove()\n",
    "    leg1 = fig1.legend(loc=\"upper left\")\n",
    "    fig1.canvas.draw_idle()\n",
    "    leg2.remove()\n",
    "    leg2 = fig2.legend(loc=\"upper left\")\n",
    "    fig2.canvas.draw_idle()\n",
    "\n",
    "@magicgui(\n",
    "    auto_call=True,\n",
    "    c_ref={\"widget_type\": \"Slider\", \"min\": 1, \"max\": spcomps_r.shape[0]+1, \"step\": 1, \"orientation\": \"vertical\"},\n",
    "    layout=\"horizontal\",labels=False,\n",
    ")\n",
    "def scroll_ref(c_ref: int = 1):\n",
    "    plot_comps()\n",
    "\n",
    "@magicgui(\n",
    "    auto_call=True,\n",
    "    c_mov={\"widget_type\": \"Slider\", \"min\": 1, \"max\": spcomps_m_rot.shape[0]+1, \"step\": 1, \"orientation\": \"vertical\"},\n",
    "    layout=\"horizontal\",labels=False,\n",
    ")\n",
    "def scroll_mov(c_mov: int = 1):\n",
    "    plot_comps()\n",
    "\n",
    "def plot_comps():\n",
    "    try:\n",
    "        viewer.layers.remove('scroll ref')\n",
    "    except:\n",
    "        pass\n",
    "    try:\n",
    "        viewer.layers.remove('scroll mov')\n",
    "    except:\n",
    "        pass\n",
    "    viewer.add_image(spcomps_r[scroll_ref.c_ref.value-1,...],name='scroll ref',colormap='lime',opacity=0.7,blending='additive')\n",
    "    viewer.add_image(spcomps_m_warp[scroll_mov.c_mov.value-1,...],name='scroll mov',colormap='orange',opacity=0.7,blending='additive')\n",
    "    #viewer.camera.center = coors[vars_dict1[\"SMG\"][component-1][0]].get('CoM')\n",
    "    #viewer.dims.set_point(1,coors[vars_dict1[\"SMG\"][component-1][0]].get('CoM')[0])\n",
    "    #viewer.camera.zoom = 3\n",
    "    ax12.plot(CY_r[scroll_ref.c_ref.value-1,...].T/100,c='green',ls='--',label='scroll ref')\n",
    "    ax22.plot(CY_m[scroll_mov.c_mov.value-1,...].T/100,c='darkorange',ls='--',label='scroll mov')\n",
    "    global leg1, leg2\n",
    "    leg1.remove()\n",
    "    leg1 = fig1.legend(loc=\"upper left\")\n",
    "    fig1.canvas.draw_idle()\n",
    "    leg2.remove()\n",
    "    leg2 = fig2.legend(loc=\"upper left\")\n",
    "    fig2.canvas.draw_idle()"
   ]
  },
  {
   "cell_type": "code",
   "execution_count": 87,
   "id": "2af3311e-ba38-43fa-a8d3-52d949158e4d",
   "metadata": {},
   "outputs": [
    {
     "data": {
      "text/plain": [
       "False"
      ]
     },
     "execution_count": 87,
     "metadata": {},
     "output_type": "execute_result"
    }
   ],
   "source": [
    "1 in [2,3]"
   ]
  },
  {
   "cell_type": "code",
   "execution_count": null,
   "id": "49c60b05-e50b-4e00-850a-72f1f1189b02",
   "metadata": {},
   "outputs": [],
   "source": []
  },
  {
   "cell_type": "code",
   "execution_count": 85,
   "id": "e484194c-b502-4a01-93bc-cd1fcd944874",
   "metadata": {},
   "outputs": [
    {
     "data": {
      "text/plain": [
       "214"
      ]
     },
     "execution_count": 85,
     "metadata": {},
     "output_type": "execute_result"
    }
   ],
   "source": [
    "len([True for i in range(len(SOL_movs))])"
   ]
  },
  {
   "cell_type": "code",
   "execution_count": 81,
   "id": "d9029c72-2dea-4457-a025-908cd19483ed",
   "metadata": {},
   "outputs": [
    {
     "data": {
      "text/plain": [
       "[]"
      ]
     },
     "execution_count": 81,
     "metadata": {},
     "output_type": "execute_result"
    }
   ],
   "source": [
    "np.array(match_dict1['Mpairs'])"
   ]
  },
  {
   "cell_type": "code",
   "execution_count": null,
   "id": "a62e0208-2232-4729-b3b0-b333ffb764dc",
   "metadata": {},
   "outputs": [],
   "source": [
    "np.array(match_dict1['Mpairs'])[np.where(np.array(match_dict1['Mpairs'])[:,0] == match_dict1['Srefs'][0]),1]"
   ]
  },
  {
   "cell_type": "code",
   "execution_count": 80,
   "id": "e07a3626-9669-4a07-a031-1d9b6825e64a",
   "metadata": {},
   "outputs": [
    {
     "data": {
      "text/plain": [
       "[2, 86]"
      ]
     },
     "execution_count": 80,
     "metadata": {},
     "output_type": "execute_result"
    }
   ],
   "source": [
    "[match_dict1['Srefs'][0],match_dict1['CSL'][0]]"
   ]
  },
  {
   "cell_type": "code",
   "execution_count": 79,
   "id": "6a505311-ee0b-4340-98b5-b458f9eddaa2",
   "metadata": {},
   "outputs": [
    {
     "data": {
      "text/plain": [
       "86"
      ]
     },
     "execution_count": 79,
     "metadata": {},
     "output_type": "execute_result"
    }
   ],
   "source": [
    "match_dict1['CSL'][0]"
   ]
  },
  {
   "cell_type": "code",
   "execution_count": 70,
   "id": "686d31f6-fa6b-49da-8b2d-4d22934a7fa1",
   "metadata": {},
   "outputs": [
    {
     "data": {
      "text/plain": [
       "False"
      ]
     },
     "execution_count": 70,
     "metadata": {},
     "output_type": "execute_result"
    }
   ],
   "source": [
    "len([1,1]) <= 1"
   ]
  },
  {
   "cell_type": "code",
   "execution_count": 71,
   "id": "72b5feff-fb5e-40a4-8c21-92db695ddc33",
   "metadata": {},
   "outputs": [],
   "source": [
    "a = [1,1]"
   ]
  },
  {
   "cell_type": "code",
   "execution_count": 75,
   "id": "94998c6c-06dc-4dad-ab3a-7e6f16c77d16",
   "metadata": {},
   "outputs": [
    {
     "data": {
      "text/plain": [
       "[]"
      ]
     },
     "execution_count": 75,
     "metadata": {},
     "output_type": "execute_result"
    }
   ],
   "source": [
    "a = a[1:]\n",
    "a"
   ]
  },
  {
   "cell_type": "code",
   "execution_count": 76,
   "id": "dc007e8a-e2e8-4ac6-a08e-eea122009236",
   "metadata": {},
   "outputs": [
    {
     "data": {
      "text/plain": [
       "(21, 431, 499)"
      ]
     },
     "execution_count": 76,
     "metadata": {},
     "output_type": "execute_result"
    }
   ],
   "source": [
    "shape_keep"
   ]
  },
  {
   "cell_type": "code",
   "execution_count": 77,
   "id": "5337b5dd-1678-42ef-afc5-6f788e8bee3e",
   "metadata": {},
   "outputs": [
    {
     "data": {
      "text/plain": [
       "(21, 431, 499)"
      ]
     },
     "execution_count": 77,
     "metadata": {},
     "output_type": "execute_result"
    }
   ],
   "source": [
    "spcomps_r_e2.shape"
   ]
  },
  {
   "cell_type": "code",
   "execution_count": 89,
   "id": "d50548d8-e8d8-4637-beb0-88716d75073e",
   "metadata": {},
   "outputs": [],
   "source": [
    "test_arr = np.array([[1,1],[2,1],[2,5],[6,7]])"
   ]
  },
  {
   "cell_type": "code",
   "execution_count": 90,
   "id": "0f08c479-70ae-4900-80f5-26d5e0c68239",
   "metadata": {},
   "outputs": [
    {
     "data": {
      "text/plain": [
       "array([[1, 1],\n",
       "       [2, 1],\n",
       "       [2, 5],\n",
       "       [6, 7]])"
      ]
     },
     "execution_count": 90,
     "metadata": {},
     "output_type": "execute_result"
    }
   ],
   "source": [
    "test_arr"
   ]
  },
  {
   "cell_type": "code",
   "execution_count": 102,
   "id": "289ab192-fc69-40d7-974a-b711d55c40cc",
   "metadata": {},
   "outputs": [
    {
     "data": {
      "text/plain": [
       "array([[1, 5]])"
      ]
     },
     "execution_count": 102,
     "metadata": {},
     "output_type": "execute_result"
    }
   ],
   "source": [
    "np.array([[1,1],[2,1],[2,5],[6,7]])[np.where(np.array([[1,1],[2,1],[2,5],[6,7]])[:,0] == 2),1]"
   ]
  },
  {
   "cell_type": "code",
   "execution_count": null,
   "id": "7436ffe6-152a-4182-ac3b-1770699d1767",
   "metadata": {},
   "outputs": [],
   "source": []
  },
  {
   "cell_type": "code",
   "execution_count": null,
   "id": "3fcd591a-a71b-4c95-883e-26521b49a095",
   "metadata": {},
   "outputs": [],
   "source": []
  },
  {
   "cell_type": "code",
   "execution_count": null,
   "id": "0170008b-2f2b-4759-be0f-6b94d0d82ff9",
   "metadata": {},
   "outputs": [],
   "source": []
  },
  {
   "cell_type": "code",
   "execution_count": null,
   "id": "90eacff9-cc09-4b58-8eb0-e6aa45aa8615",
   "metadata": {},
   "outputs": [],
   "source": []
  },
  {
   "cell_type": "code",
   "execution_count": null,
   "id": "9e4c0bb0-8e41-4b8b-b1ed-b9a56b88a9b8",
   "metadata": {},
   "outputs": [],
   "source": []
  },
  {
   "cell_type": "code",
   "execution_count": null,
   "id": "3809cf2f-4a33-4ee1-9439-369f5158ab42",
   "metadata": {},
   "outputs": [],
   "source": [
    "# OLDER VERSION\n",
    "match_path = 'ch0_means_movie_nobg_compmatch.npy'\n",
    "if match_path in os.listdir(warp_dir):\n",
    "    match_dict1 = np.load(os.path.join(warp_dir, match_path),allow_pickle=True)[()]\n",
    "else:\n",
    "    match_dict1 = {\n",
    "        \"Srefs\": list(range(spcomps_r.shape[0])), # list of refs to be searched\n",
    "        \"Smovs\": list(range(spcomps_m_warp.shape[0])), # list of movs to be searched\n",
    "        \"Mrefs\": list(), # list of matched ref components\n",
    "        \"Mmovs\": list(), # list of matched mov components\n",
    "        \"Trefs\": list(), # list of trashed refs\n",
    "        \"Tmovs\": list(), # list of trashed movs\n",
    "        \"Srefslabels\": np.copy(spcomps_r_e2), # image of ref labels to be searched\n",
    "        \"Smovslabels\": np.copy(spcomps_m_warp_e2), # image of mov labels to be searched\n",
    "        \"Mrefslabels\": np.zeros(spcomps_r_e2.shape).astype('int'), # image of ref labels matched\n",
    "        \"Mmovslabels\": np.zeros(spcomps_m_warp_e2.shape).astype('int'), # image of mov labels matched\n",
    "        \"Trefslabels\": np.zeros(spcomps_r_e2.shape).astype('int'), # image of ref labels trashed\n",
    "        \"Tmovslabels\": np.zeros(spcomps_m_warp_e2.shape).astype('int') # image of mov labels trashed\n",
    "    }\n",
    "print(match_dict1)\n",
    "\n",
    "# Initialize viewer and start GUI\n",
    "images_r_b = np.broadcast_to(images_r,(images_m_rot.shape[0],) + images_r.shape)\n",
    "images_m_rot_b = np.broadcast_to(images_m_rot,(images_r.shape[0],) + images_m_rot.shape)\n",
    "images_m_warp_b = np.broadcast_to(images_m_warp,(images_r.shape[0],) + images_m_warp.shape)\n",
    "\n",
    "viewer = napari.Viewer()\n",
    "viewer.add_image(images_r_b.transpose([0,1,4,2,3]),name='cells ref',colormap='gray')\n",
    "viewer.add_image(images_m_rot_b.transpose([1,0,4,2,3]),name='cells rot',colormap='gray',blending='additive',visible=False)\n",
    "viewer.add_image(images_m_warp_b.transpose([1,0,4,2,3]),name='cells warp',colormap='gray',blending='additive')\n",
    "\n",
    "viewer.add_labels(spcomps_r_e2,name='all components ref',visible=False)\n",
    "viewer.add_labels(spcomps_m_rot_e2,name='all components rot',visible=False)\n",
    "viewer.add_labels(spcomps_m_warp_e2,name='all components mov',visible=False)\n",
    "\n",
    "match_dict2 = deepcopy(match_dict1)\n",
    "\n",
    "def clickM():\n",
    "    global match_dict1, match_dict2\n",
    "    match_dict2 = deepcopy(match_dict1)\n",
    "    # match spots to labels\n",
    "    # manage the match options\n",
    "    # update labels\n",
    "    # identifying spots\n",
    "    ref_spots = viewer.layers['ref spots'].data.astype('int')\n",
    "    mov_spots = viewer.layers['mov spots'].data.astype('int')\n",
    "    # if only one type of spot selected, use same spots for both sets of masks\n",
    "    if ref_spots.shape[0] == 0:\n",
    "        ref_spots = mov_spots\n",
    "    elif mov_spots.shape[0] == 0:\n",
    "        mov_spots = ref_spots\n",
    "    ref_comps = []\n",
    "    for r in range(0,ref_spots.shape[0]):\n",
    "        comp = match_dict1['Srefslabels'][ref_spots[r,0],ref_spots[r,1],ref_spots[r,2]]\n",
    "        if comp != 0:\n",
    "            ref_comps.append(comp-1)\n",
    "    ref_comps_filt = []\n",
    "    tr = [ref_comps_filt.append(x) for x in ref_comps if x not in ref_comps_filt]\n",
    "    ref_comps = ref_comps_filt\n",
    "    mov_comps = []\n",
    "    for r in range(0,mov_spots.shape[0]):\n",
    "        comp = match_dict1['Smovslabels'][mov_spots[r,0],mov_spots[r,1],mov_spots[r,2]]\n",
    "        if comp != 0:\n",
    "            mov_comps.append(comp-1)\n",
    "    mov_comps_filt = []\n",
    "    tr = [mov_comps_filt.append(x) for x in mov_comps if x not in mov_comps_filt]\n",
    "    mov_comps = mov_comps_filt\n",
    "    # match arm\n",
    "    if not (len(mov_comps) == 0 or len(ref_comps) == 0):\n",
    "        # matched\n",
    "        match_dict1['Mrefs'].append(ref_comps)\n",
    "        match_dict1['Mmovs'].append(mov_comps)\n",
    "        match_dict1['Srefs'] = [x for x in match_dict1[\"Srefs\"] if x not in ref_comps]\n",
    "        match_dict1['Smovs'] = [x for x in match_dict1[\"Smovs\"] if x not in mov_comps]\n",
    "        for r in ref_comps:\n",
    "            match_dict1['Mrefslabels'][match_dict1['Srefslabels']==r+1] = r+1\n",
    "            match_dict1['Srefslabels'][match_dict1['Srefslabels']==r+1] = 0\n",
    "        for m in mov_comps:\n",
    "            match_dict1['Mmovslabels'][match_dict1['Smovslabels']==m+1] = m+1\n",
    "            match_dict1['Smovslabels'][match_dict1['Smovslabels']==m+1] = 0\n",
    "    else:\n",
    "        print_lab(\"Not enough components selected\")\n",
    "    replot()\n",
    "\n",
    "def clickT():\n",
    "    global match_dict1, match_dict2\n",
    "    match_dict2 = deepcopy(match_dict1)\n",
    "    # match spots to labels\n",
    "    # trash these labels\n",
    "    # update labels\n",
    "    # identifying spots\n",
    "    ref_spots = viewer.layers['ref spots'].data.astype('int')\n",
    "    ref_comps = []\n",
    "    for r in range(0,ref_spots.shape[0]):\n",
    "        comp = match_dict1['Srefslabels'][ref_spots[r,0],ref_spots[r,1],ref_spots[r,2]]\n",
    "        if comp != 0:\n",
    "            ref_comps.append(comp-1)\n",
    "    ref_comps_filt = []\n",
    "    tr = [ref_comps_filt.append(x) for x in ref_comps if x not in ref_comps_filt]\n",
    "    ref_comps = ref_comps_filt\n",
    "    mov_spots = viewer.layers['mov spots'].data.astype('int')\n",
    "    mov_comps = []\n",
    "    for r in range(0,mov_spots.shape[0]):\n",
    "        comp = match_dict1['Smovslabels'][mov_spots[r,0],mov_spots[r,1],mov_spots[r,2]]\n",
    "        if comp != 0:\n",
    "            mov_comps.append(comp-1)\n",
    "    mov_comps_filt = []\n",
    "    tr = [mov_comps_filt.append(x) for x in mov_comps if x not in mov_comps_filt]\n",
    "    mov_comps = mov_comps_filt\n",
    "    # trash arm\n",
    "    if len(ref_comps) != 0:\n",
    "        match_dict1['Trefs'] += ref_comps\n",
    "        match_dict1['Srefs'] = [x for x in match_dict1[\"Srefs\"] if x not in ref_comps]\n",
    "        for r in ref_comps:\n",
    "            match_dict1['Trefslabels'][match_dict1['Srefslabels']==r+1] = r+1\n",
    "            match_dict1['Srefslabels'][match_dict1['Srefslabels']==r+1] = 0\n",
    "    if len(mov_comps) != 0:\n",
    "        match_dict1['Tmovs'] += mov_comps\n",
    "        match_dict1['Smovs'] = [x for x in match_dict1[\"Smovs\"] if x not in mov_comps]\n",
    "        for m in mov_comps:\n",
    "            match_dict1['Tmovslabels'][match_dict1['Smovslabels']==m+1] = m+1\n",
    "            match_dict1['Smovslabels'][match_dict1['Smovslabels']==m+1] = 0\n",
    "    replot()\n",
    "\n",
    "def clickU():\n",
    "    global match_dict1, match_dict2\n",
    "    # reverse vars_dict to one step back, then rerun looper\n",
    "    match_dict1 = deepcopy(match_dict2)\n",
    "    print_lab(\"Pressed undo\")\n",
    "    replot()\n",
    "\n",
    "def clickR():\n",
    "    global match_dict1, match_dict2\n",
    "    match_dict2 = deepcopy(match_dict1)\n",
    "    # match spots to labels in trash\n",
    "    # resurrect these components\n",
    "    # update labels\n",
    "    # identifying spots\n",
    "    ref_spots = viewer.layers['ref spots'].data.astype('int')\n",
    "    ref_comps = []\n",
    "    for r in range(0,ref_spots.shape[0]):\n",
    "        comp = (match_dict1['Mrefslabels']+match_dict1['Trefslabels'])[ref_spots[r,0],ref_spots[r,1],ref_spots[r,2]]\n",
    "        if comp != 0:\n",
    "            ref_comps.append(comp-1)\n",
    "    ref_comps_filt = []\n",
    "    tr = [ref_comps_filt.append(x) for x in ref_comps if x not in ref_comps_filt]\n",
    "    ref_comps = ref_comps_filt\n",
    "    mov_spots = viewer.layers['mov spots'].data.astype('int')\n",
    "    mov_comps = []\n",
    "    for r in range(0,mov_spots.shape[0]):\n",
    "        comp = (match_dict1['Mmovslabels']+match_dict1['Tmovslabels'])[mov_spots[r,0],mov_spots[r,1],mov_spots[r,2]]\n",
    "        if comp != 0:\n",
    "            mov_comps.append(comp-1)\n",
    "    mov_comps_filt = []\n",
    "    tr = [mov_comps_filt.append(x) for x in mov_comps if x not in mov_comps_filt]\n",
    "    mov_comps = mov_comps_filt\n",
    "    # resurrect components\n",
    "    # first take care of resurrecting from matched pool\n",
    "    # then take care of the rest\n",
    "    ref_comps_m = [x for x in [x for y in match_dict1['Mrefs'] for x in y] if x in ref_comps]\n",
    "    mov_comps_m = [x for x in [x for y in match_dict1['Mmovs'] for x in y] if x in mov_comps]\n",
    "    mref_inds = [x for y in [[i for i, x in enumerate([ref_comps_m[j] in y for y in match_dict1['Mrefs']]) if x] for j in range(len(ref_comps_m))] for x in y]\n",
    "    mmov_inds = [x for y in [[i for i, x in enumerate([mov_comps_m[j] in y for y in match_dict1['Mmovs']]) if x] for j in range(len(mov_comps_m))] for x in y]\n",
    "    m_inds = mref_inds + mmov_inds\n",
    "    match_dict1['Srefs'] += [x for y in [match_dict1['Mrefs'][j] for j in m_inds] for x in y]\n",
    "    match_dict1['Smovs'] += [x for y in [match_dict1['Mmovs'][j] for j in m_inds] for x in y]\n",
    "    for r in [x for y in [match_dict1['Mrefs'][j] for j in m_inds] for x in y]:\n",
    "        match_dict1['Srefslabels'][match_dict1['Mrefslabels']==r+1] = r+1\n",
    "        match_dict1['Mrefslabels'][match_dict1['Srefslabels']==r+1] = 0\n",
    "    for r in [x for y in [match_dict1['Mmovs'][j] for j in m_inds] for x in y]:\n",
    "        match_dict1['Smovslabels'][match_dict1['Mmovslabels']==r+1] = r+1\n",
    "        match_dict1['Mmovslabels'][match_dict1['Smovslabels']==r+1] = 0\n",
    "    for index in sorted(m_inds, reverse=True):\n",
    "        del match_dict1['Mrefs'][index]\n",
    "        del match_dict1['Mmovs'][index]\n",
    "    ref_comps = [x for x in ref_comps if x not in ref_comps_m]\n",
    "    mov_comps = [x for x in mov_comps if x not in mov_comps_m]\n",
    "    if len(ref_comps) != 0:\n",
    "        match_dict1['Srefs'] += ref_comps\n",
    "        match_dict1['Trefs'] = [x for x in match_dict1[\"Trefs\"] if x not in ref_comps]\n",
    "        for r in ref_comps:\n",
    "            match_dict1['Srefslabels'][match_dict1['Trefslabels']==r+1] = r+1\n",
    "            match_dict1['Trefslabels'][match_dict1['Srefslabels']==r+1] = 0\n",
    "    if len(mov_comps) != 0:\n",
    "        match_dict1['Smovs'] += mov_comps\n",
    "        match_dict1['Tmovs'] = [x for x in match_dict1[\"Tmovs\"] if x not in mov_comps]\n",
    "        for m in mov_comps:\n",
    "            match_dict1['Smovslabels'][match_dict1['Tmovslabels']==m+1] = m+1\n",
    "            match_dict1['Tmovslabels'][match_dict1['Smovslabels']==m+1] = 0\n",
    "    replot()\n",
    "\n",
    "def clickG():\n",
    "    if viewer.layers['cells ref'].colormap.name == 'gray':\n",
    "        viewer.layers['cells ref'].colormap = 'magenta'\n",
    "        viewer.layers['cells rot'].colormap = 'green'\n",
    "        viewer.layers['cells warp'].colormap = 'green'\n",
    "    else:\n",
    "        viewer.layers['cells ref'].colormap = 'gray'\n",
    "        viewer.layers['cells rot'].colormap = 'gray'\n",
    "        viewer.layers['cells warp'].colormap = 'gray'        \n",
    "\n",
    "# Clicker GUI that lives in napari and runs functions (part of initialization)\n",
    "@magicgui(\n",
    "    O={\n",
    "        \"choices\": (\"Trash\", \"Match\", \"Undo\", \"Resurrect\"),\n",
    "        \"allow_multiple\": True,\n",
    "    }\n",
    ")\n",
    "def clicker(O=(\"Match\")):\n",
    "    \"\"\"Dropdown selection function.\"\"\"\n",
    "    print_lab()\n",
    "    if 'Trash' in O:\n",
    "        clickT()\n",
    "    elif 'Match' in O:\n",
    "        clickM()\n",
    "    elif 'Undo' in O:\n",
    "        clickU()\n",
    "    elif 'Resurrect' in O:\n",
    "        clickR()\n",
    "\n",
    "# Message displayer inside napari to print any messages\n",
    "lab = widgets.Label()\n",
    "def print_lab(message=None):\n",
    "    if message is None:\n",
    "        lab.value = \"\"\n",
    "    else:\n",
    "        lab.value = message\n",
    "\n",
    "# Progress displayer inside napari\n",
    "prlab = widgets.Label()\n",
    "def prlab_update():\n",
    "    prlab.value = str(len(match_dict1['Srefs']) + len(match_dict1['Smovs'])) + \" masks to go\"\n",
    "\n",
    "# Change colormaps\n",
    "@magicgui(\n",
    "    auto_call=True,btn={\"widget_type\": \"PushButton\", \"text\": \"Swap colormaps\"}\n",
    ")\n",
    "def g_btn(btn):\n",
    "    clickG()\n",
    "\n",
    "# Save and close button inside napari\n",
    "@magicgui(\n",
    "    auto_call=True,btn={\"widget_type\": \"PushButton\", \"text\": \"Save and close GUI\"}\n",
    ")\n",
    "def save_btn(btn):\n",
    "    np.save(os.path.join(warp_dir, match_path),match_dict1)\n",
    "    viewer.close()\n",
    "\n",
    "# Aligning widgets\n",
    "layout = widgets.Container(\n",
    "    widgets=[clicker,lab,g_btn,save_btn,prlab], layout=\"vertical\", labels=False\n",
    ")\n",
    "\n",
    "# Key bindings to speed up selections\n",
    "@viewer.bind_key('u')\n",
    "def pressU(viewer):\n",
    "    clickU()\n",
    "\n",
    "@viewer.bind_key('t')\n",
    "def pressT(viewer):\n",
    "    clickT()\n",
    "\n",
    "@viewer.bind_key('m')\n",
    "def pressM(viewer):\n",
    "    clickM()\n",
    "\n",
    "@viewer.bind_key('r')\n",
    "def pressR(viewer):\n",
    "    clickR()\n",
    "\n",
    "@viewer.bind_key('g')\n",
    "def pressG(viewer):\n",
    "    clickG()\n",
    "    \n",
    "# replot points and labels\n",
    "def replot():\n",
    "    try:\n",
    "        viewer.layers.remove('ref components to search')\n",
    "    except:\n",
    "        pass\n",
    "    try:\n",
    "        viewer.layers.remove('mov components to search')\n",
    "    except:\n",
    "        pass\n",
    "    try:\n",
    "        viewer.layers.remove('ref components matched')\n",
    "    except:\n",
    "        pass\n",
    "    try:\n",
    "        viewer.layers.remove('mov components matched')\n",
    "    except:\n",
    "        pass\n",
    "    try:\n",
    "        viewer.layers.remove('ref components trashed')\n",
    "    except:\n",
    "        pass\n",
    "    try:\n",
    "        viewer.layers.remove('mov components trashed')\n",
    "    except:\n",
    "        pass\n",
    "    try:\n",
    "        viewer.layers.remove('ref spots')\n",
    "    except:\n",
    "        pass\n",
    "    try:\n",
    "        viewer.layers.remove('mov spots')\n",
    "    except:\n",
    "        pass\n",
    "\n",
    "    viewer.add_labels(match_dict1['Trefslabels'],name='ref components trashed',opacity=0.3,visible=False)\n",
    "    viewer.add_labels(match_dict1['Tmovslabels'],name='mov components trashed',opacity=0.3,visible=False)\n",
    "    viewer.add_labels(match_dict1['Mrefslabels'],name='ref components matched',opacity=0.3,visible=False)\n",
    "    viewer.add_labels(match_dict1['Mmovslabels'],name='mov components matched',opacity=0.3,visible=False)\n",
    "        \n",
    "    viewer.add_labels(match_dict1['Srefslabels'],name='ref components to search',opacity=0.5)\n",
    "    viewer.add_labels(match_dict1['Smovslabels'],name='mov components to search',opacity=0.5)\n",
    "    \n",
    "    viewer.add_points(name='ref spots',ndim=3,face_color='lime',size=6,out_of_slice_display=True)\n",
    "    viewer.add_points(name='mov spots',ndim=3,face_color='red',size=6,out_of_slice_display=True)\n",
    "    prlab_update()\n",
    "\n",
    "global fig1, ax11, ax12, leg1\n",
    "fig1, ax11 = plt.subplots() # dF/F\n",
    "ax12 = ax11.twinx()\n",
    "fig1.suptitle('Fluorescence signal plots')\n",
    "ax11.plot(CY_r[0,:].T/100,c='green',label='initialization')\n",
    "leg1 = fig1.legend(loc=\"upper left\")\n",
    "\n",
    "@magicgui(\n",
    "    auto_call=True,\n",
    "    c_ref={\"widget_type\": \"Slider\", \"min\": 1, \"max\": spcomps_r.shape[0]+1, \"step\": 1, \"orientation\": \"vertical\"},\n",
    "    layout=\"horizontal\",labels=False,\n",
    ")\n",
    "def scroll_ref(c_ref: int = 1):\n",
    "    plot_comps()\n",
    "\n",
    "@magicgui(\n",
    "    auto_call=True,\n",
    "    c_mov={\"widget_type\": \"Slider\", \"min\": 1, \"max\": spcomps_m_rot.shape[0]+1, \"step\": 1, \"orientation\": \"vertical\"},\n",
    "    layout=\"horizontal\",labels=False,\n",
    ")\n",
    "def scroll_mov(c_mov: int = 1):\n",
    "    plot_comps()\n",
    "\n",
    "def plot_comps():\n",
    "    try:\n",
    "        viewer.layers.remove('comp ref')\n",
    "    except:\n",
    "        pass\n",
    "    try:\n",
    "        viewer.layers.remove('comp rot')\n",
    "    except:\n",
    "        pass\n",
    "    try:\n",
    "        viewer.layers.remove('comp warp')\n",
    "    except:\n",
    "        pass\n",
    "    plt.sca(ax11)\n",
    "    plt.cla()\n",
    "    plt.sca(ax12)\n",
    "    plt.cla()\n",
    "    ax11.set_xlabel('Frame')\n",
    "    ax11.set_ylabel('Signal')\n",
    "    ax11.tick_params(axis='y', labelcolor='green')\n",
    "    ax12.tick_params(axis='y', labelcolor='darkorange')\n",
    "    viewer.add_image(spcomps_r[scroll_ref.c_ref.value-1,...],name='comp ref',colormap='green',opacity=1,blending='additive')\n",
    "    viewer.add_image(spcomps_m_rot[scroll_mov.c_mov.value-1,...],name='comp rot',colormap='darkorange',opacity=1,blending='additive',visible=False)\n",
    "    viewer.add_image(spcomps_m_warp[scroll_mov.c_mov.value-1,...],name='comp warp',colormap='darkorange',opacity=1,blending='additive')\n",
    "    #viewer.camera.center = coors[vars_dict1[\"SMG\"][component-1][0]].get('CoM')\n",
    "    #viewer.dims.set_point(1,coors[vars_dict1[\"SMG\"][component-1][0]].get('CoM')[0])\n",
    "    #viewer.camera.zoom = 3\n",
    "    ax11.plot(CY_r[scroll_ref.c_ref.value-1,...].T/100,c='green',label='comp ref')\n",
    "    ax12.plot(CY_m[scroll_mov.c_mov.value-1,...].T/100,c='darkorange',label='comp mov')\n",
    "    global leg1\n",
    "    leg1.remove()\n",
    "    leg1 = fig1.legend(loc=\"upper left\")\n",
    "    fig1.canvas.draw_idle()\n",
    "\n",
    "# Aligning widgets (more)\n",
    "layout2 = widgets.Container(\n",
    "    widgets=[scroll_ref,scroll_mov,layout], layout=\"horizontal\", labels=False\n",
    ")\n",
    "\n",
    "viewer.window.add_dock_widget(layout2)\n",
    "replot()\n",
    "plot_comps()"
   ]
  },
  {
   "cell_type": "code",
   "execution_count": null,
   "id": "6c664d01-c99a-454d-bbb9-5d930aaaf6d3",
   "metadata": {},
   "outputs": [],
   "source": []
  },
  {
   "cell_type": "code",
   "execution_count": null,
   "id": "e899349b-fda1-4763-bf5d-e2e137b239c9",
   "metadata": {},
   "outputs": [],
   "source": []
  },
  {
   "cell_type": "code",
   "execution_count": null,
   "id": "9168bfda-f3d2-4f39-a556-704b6624725f",
   "metadata": {},
   "outputs": [],
   "source": []
  },
  {
   "cell_type": "code",
   "execution_count": 67,
   "id": "2e378481-5e8e-4c62-8d9f-ebbea6e112a3",
   "metadata": {},
   "outputs": [],
   "source": [
    "%matplotlib qt"
   ]
  },
  {
   "cell_type": "code",
   "execution_count": 26,
   "id": "8b30170a-d04b-4928-8dda-3dfa84b6cc52",
   "metadata": {},
   "outputs": [
    {
     "data": {
      "text/plain": [
       "[<matplotlib.lines.Line2D at 0x7f7e92a6f190>]"
      ]
     },
     "execution_count": 26,
     "metadata": {},
     "output_type": "execute_result"
    },
    {
     "data": {
      "image/png": "[encoded data removed]",
      "text/plain": [
       "<Figure size 640x480 with 1 Axes>"
      ]
     },
     "metadata": {},
     "output_type": "display_data"
    }
   ],
   "source": [
    "#%matplotlib inline\n",
    "plt.plot(np.sum(spcomps_r_f,axis=1))\n",
    "plt.plot(np.sum(spcomps_m_warp_f,axis=1))"
   ]
  },
  {
   "cell_type": "code",
   "execution_count": null,
   "id": "a648dcc1-7416-4539-8b7f-68969b6f58d6",
   "metadata": {},
   "outputs": [],
   "source": []
  },
  {
   "cell_type": "code",
   "execution_count": null,
   "id": "a1323491-ce63-411b-ab81-33801ca4ff0a",
   "metadata": {},
   "outputs": [],
   "source": []
  },
  {
   "cell_type": "code",
   "execution_count": null,
   "id": "e81c296e-998c-4761-bf33-6957d81c281a",
   "metadata": {},
   "outputs": [],
   "source": []
  },
  {
   "cell_type": "code",
   "execution_count": null,
   "id": "21022285-e844-4885-86c5-eb00a7106e24",
   "metadata": {},
   "outputs": [],
   "source": []
  },
  {
   "cell_type": "code",
   "execution_count": null,
   "id": "cb76986d-9e3d-4bd3-b8d5-5a790bd30c08",
   "metadata": {},
   "outputs": [],
   "source": []
  },
  {
   "cell_type": "code",
   "execution_count": null,
   "id": "706b7d36-7f5b-4a2a-a35d-d98044dcc21b",
   "metadata": {},
   "outputs": [],
   "source": []
  },
  {
   "cell_type": "code",
   "execution_count": null,
   "id": "3e365571-d794-4b6e-84e9-fd8d3ceacf38",
   "metadata": {},
   "outputs": [],
   "source": []
  },
  {
   "cell_type": "code",
   "execution_count": null,
   "id": "fbda7b2c-8d3c-4375-b5fa-299fd5a74937",
   "metadata": {},
   "outputs": [],
   "source": []
  },
  {
   "cell_type": "code",
   "execution_count": null,
   "id": "a7d1017f-c0cb-4f5f-9538-a68d8fc0fa09",
   "metadata": {},
   "outputs": [],
   "source": []
  },
  {
   "cell_type": "code",
   "execution_count": null,
   "id": "29bd958c-ccf4-42d6-8de1-831e257ab676",
   "metadata": {},
   "outputs": [],
   "source": []
  },
  {
   "cell_type": "code",
   "execution_count": null,
   "id": "ee33b446-a5be-48b0-86c8-e34efea7cc76",
   "metadata": {},
   "outputs": [],
   "source": []
  },
  {
   "cell_type": "code",
   "execution_count": null,
   "id": "a1712f31-52f9-412a-96dd-7532c304759d",
   "metadata": {},
   "outputs": [],
   "source": []
  },
  {
   "cell_type": "code",
   "execution_count": null,
   "id": "047343fd-67ed-4d8f-87b4-7e3a165780f7",
   "metadata": {},
   "outputs": [],
   "source": []
  },
  {
   "cell_type": "code",
   "execution_count": 9,
   "id": "05aef5ef-9b80-4124-a9d1-bfe890cc1f96",
   "metadata": {},
   "outputs": [
    {
     "data": {
      "text/plain": [
       "70"
      ]
     },
     "execution_count": 9,
     "metadata": {},
     "output_type": "execute_result"
    }
   ],
   "source": [
    "len(match_dict1['Mrefs'])"
   ]
  },
  {
   "cell_type": "code",
   "execution_count": 10,
   "id": "844b2d78-e573-4980-bef9-6f0786018389",
   "metadata": {},
   "outputs": [
    {
     "name": "stdout",
     "output_type": "stream",
     "text": [
      "{'Srefs': [0, 7, 9, 12, 14, 15, 21, 22, 25, 26, 27, 31, 32, 33, 34, 37, 38, 39, 40, 41, 43, 45, 46, 49, 50, 54, 55, 57, 58, 60, 61, 63, 65, 67, 70, 71, 72, 74, 75, 81, 85, 88, 89, 90, 91, 92, 93, 95, 96, 97, 98, 99, 100, 102, 107, 108, 109, 112, 113, 115, 118, 119, 120, 123, 126, 131, 132, 134, 142, 144, 145, 146, 147, 148, 149, 150, 151, 153, 154, 157, 159, 160, 161, 162, 163, 164, 169, 170, 171, 172, 173, 174, 176, 177], 'Smovs': [3, 8, 12, 17, 19, 24, 25, 26, 27, 28, 29, 31, 32, 34, 37, 38, 39, 41, 42, 43, 44, 45, 47, 48, 54, 62, 64, 65, 66, 67, 68, 69, 70, 71, 72, 73, 74, 76, 77, 78, 79, 83, 84, 85, 87, 88, 89, 90, 91, 92, 93, 95, 97, 99, 102, 104, 105, 107, 108, 109, 110, 111, 113, 114, 117, 118, 119, 120, 121, 122, 124, 125, 144, 145, 150, 152, 153, 154, 157, 159, 160, 161, 162, 163, 164, 165, 167, 168, 169, 170, 172, 174, 177, 179, 180, 181, 182, 183, 184, 185, 186, 187, 188, 189, 191, 192, 193, 195, 196, 197, 199, 200, 201, 202, 203, 204, 205, 206, 207, 208, 209, 211], 'Mrefs': [[30], [42], [104], [82], [29], [28], [165], [122], [1, 2], [3], [139], [138], [53], [48], [59], [129], [156], [76, 84], [8], [56], [130], [51], [6], [5], [11], [124, 16], [13], [73], [141], [133], [20], [175], [125], [10], [166], [103], [168], [35], [64], [87], [143], [4], [140], [152], [179], [68], [18], [19], [17], [127], [80], [78, 158], [77], [52], [44], [36], [69], [83], [167], [105], [178], [114], [94], [23], [24], [135], [117], [86], [121], [66]], 'Mmovs': [[213], [36, 35], [13], [63], [132], [131], [166], [23], [86], [123], [10], [130], [80], [146], [33], [155], [11], [115], [116], [60], [173], [175], [55], [56], [136], [61], [94], [49], [50], [103], [21], [22], [20], [176], [7], [133], [52], [51], [82], [81], [147], [148], [129], [128], [106], [198], [126], [127], [9], [0], [30, 18], [142, 143], [140, 141, 139], [151], [194, 57, 58], [53], [40], [212], [14], [178], [210], [5], [2, 6], [158], [96], [190], [16], [100, 98], [75], [171]], 'Trefs': [116, 110, 111, 47, 62, 79, 155, 136, 137, 128, 106, 101], 'Tmovs': [135, 138, 137, 4, 1, 59, 15, 134, 149, 46, 156, 101, 112], 'Srefslabels': array([[[0, 0, 0, ..., 0, 0, 0],\n",
      "        [0, 0, 0, ..., 0, 0, 0],\n",
      "        [0, 0, 0, ..., 0, 0, 0],\n",
      "        ...,\n",
      "        [0, 0, 0, ..., 0, 0, 0],\n",
      "        [0, 0, 0, ..., 0, 0, 0],\n",
      "        [0, 0, 0, ..., 0, 0, 0]],\n",
      "\n",
      "       [[0, 0, 0, ..., 0, 0, 0],\n",
      "        [0, 0, 0, ..., 0, 0, 0],\n",
      "        [0, 0, 0, ..., 0, 0, 0],\n",
      "        ...,\n",
      "        [0, 0, 0, ..., 0, 0, 0],\n",
      "        [0, 0, 0, ..., 0, 0, 0],\n",
      "        [0, 0, 0, ..., 0, 0, 0]],\n",
      "\n",
      "       [[0, 0, 0, ..., 0, 0, 0],\n",
      "        [0, 0, 0, ..., 0, 0, 0],\n",
      "        [0, 0, 0, ..., 0, 0, 0],\n",
      "        ...,\n",
      "        [0, 0, 0, ..., 0, 0, 0],\n",
      "        [0, 0, 0, ..., 0, 0, 0],\n",
      "        [0, 0, 0, ..., 0, 0, 0]],\n",
      "\n",
      "       ...,\n",
      "\n",
      "       [[0, 0, 0, ..., 0, 0, 0],\n",
      "        [0, 0, 0, ..., 0, 0, 0],\n",
      "        [0, 0, 0, ..., 0, 0, 0],\n",
      "        ...,\n",
      "        [0, 0, 0, ..., 0, 0, 0],\n",
      "        [0, 0, 0, ..., 0, 0, 0],\n",
      "        [0, 0, 0, ..., 0, 0, 0]],\n",
      "\n",
      "       [[0, 0, 0, ..., 0, 0, 0],\n",
      "        [0, 0, 0, ..., 0, 0, 0],\n",
      "        [0, 0, 0, ..., 0, 0, 0],\n",
      "        ...,\n",
      "        [0, 0, 0, ..., 0, 0, 0],\n",
      "        [0, 0, 0, ..., 0, 0, 0],\n",
      "        [0, 0, 0, ..., 0, 0, 0]],\n",
      "\n",
      "       [[0, 0, 0, ..., 0, 0, 0],\n",
      "        [0, 0, 0, ..., 0, 0, 0],\n",
      "        [0, 0, 0, ..., 0, 0, 0],\n",
      "        ...,\n",
      "        [0, 0, 0, ..., 0, 0, 0],\n",
      "        [0, 0, 0, ..., 0, 0, 0],\n",
      "        [0, 0, 0, ..., 0, 0, 0]]]), 'Smovslabels': array([[[0, 0, 0, ..., 0, 0, 0],\n",
      "        [0, 0, 0, ..., 0, 0, 0],\n",
      "        [0, 0, 0, ..., 0, 0, 0],\n",
      "        ...,\n",
      "        [0, 0, 0, ..., 0, 0, 0],\n",
      "        [0, 0, 0, ..., 0, 0, 0],\n",
      "        [0, 0, 0, ..., 0, 0, 0]],\n",
      "\n",
      "       [[0, 0, 0, ..., 0, 0, 0],\n",
      "        [0, 0, 0, ..., 0, 0, 0],\n",
      "        [0, 0, 0, ..., 0, 0, 0],\n",
      "        ...,\n",
      "        [0, 0, 0, ..., 0, 0, 0],\n",
      "        [0, 0, 0, ..., 0, 0, 0],\n",
      "        [0, 0, 0, ..., 0, 0, 0]],\n",
      "\n",
      "       [[0, 0, 0, ..., 0, 0, 0],\n",
      "        [0, 0, 0, ..., 0, 0, 0],\n",
      "        [0, 0, 0, ..., 0, 0, 0],\n",
      "        ...,\n",
      "        [0, 0, 0, ..., 0, 0, 0],\n",
      "        [0, 0, 0, ..., 0, 0, 0],\n",
      "        [0, 0, 0, ..., 0, 0, 0]],\n",
      "\n",
      "       ...,\n",
      "\n",
      "       [[0, 0, 0, ..., 0, 0, 0],\n",
      "        [0, 0, 0, ..., 0, 0, 0],\n",
      "        [0, 0, 0, ..., 0, 0, 0],\n",
      "        ...,\n",
      "        [0, 0, 0, ..., 0, 0, 0],\n",
      "        [0, 0, 0, ..., 0, 0, 0],\n",
      "        [0, 0, 0, ..., 0, 0, 0]],\n",
      "\n",
      "       [[0, 0, 0, ..., 0, 0, 0],\n",
      "        [0, 0, 0, ..., 0, 0, 0],\n",
      "        [0, 0, 0, ..., 0, 0, 0],\n",
      "        ...,\n",
      "        [0, 0, 0, ..., 0, 0, 0],\n",
      "        [0, 0, 0, ..., 0, 0, 0],\n",
      "        [0, 0, 0, ..., 0, 0, 0]],\n",
      "\n",
      "       [[0, 0, 0, ..., 0, 0, 0],\n",
      "        [0, 0, 0, ..., 0, 0, 0],\n",
      "        [0, 0, 0, ..., 0, 0, 0],\n",
      "        ...,\n",
      "        [0, 0, 0, ..., 0, 0, 0],\n",
      "        [0, 0, 0, ..., 0, 0, 0],\n",
      "        [0, 0, 0, ..., 0, 0, 0]]]), 'Mrefslabels': array([[[0, 0, 0, ..., 0, 0, 0],\n",
      "        [0, 0, 0, ..., 0, 0, 0],\n",
      "        [0, 0, 0, ..., 0, 0, 0],\n",
      "        ...,\n",
      "        [0, 0, 0, ..., 0, 0, 0],\n",
      "        [0, 0, 0, ..., 0, 0, 0],\n",
      "        [0, 0, 0, ..., 0, 0, 0]],\n",
      "\n",
      "       [[0, 0, 0, ..., 0, 0, 0],\n",
      "        [0, 0, 0, ..., 0, 0, 0],\n",
      "        [0, 0, 0, ..., 0, 0, 0],\n",
      "        ...,\n",
      "        [0, 0, 0, ..., 0, 0, 0],\n",
      "        [0, 0, 0, ..., 0, 0, 0],\n",
      "        [0, 0, 0, ..., 0, 0, 0]],\n",
      "\n",
      "       [[0, 0, 0, ..., 0, 0, 0],\n",
      "        [0, 0, 0, ..., 0, 0, 0],\n",
      "        [0, 0, 0, ..., 0, 0, 0],\n",
      "        ...,\n",
      "        [0, 0, 0, ..., 0, 0, 0],\n",
      "        [0, 0, 0, ..., 0, 0, 0],\n",
      "        [0, 0, 0, ..., 0, 0, 0]],\n",
      "\n",
      "       ...,\n",
      "\n",
      "       [[0, 0, 0, ..., 0, 0, 0],\n",
      "        [0, 0, 0, ..., 0, 0, 0],\n",
      "        [0, 0, 0, ..., 0, 0, 0],\n",
      "        ...,\n",
      "        [0, 0, 0, ..., 0, 0, 0],\n",
      "        [0, 0, 0, ..., 0, 0, 0],\n",
      "        [0, 0, 0, ..., 0, 0, 0]],\n",
      "\n",
      "       [[0, 0, 0, ..., 0, 0, 0],\n",
      "        [0, 0, 0, ..., 0, 0, 0],\n",
      "        [0, 0, 0, ..., 0, 0, 0],\n",
      "        ...,\n",
      "        [0, 0, 0, ..., 0, 0, 0],\n",
      "        [0, 0, 0, ..., 0, 0, 0],\n",
      "        [0, 0, 0, ..., 0, 0, 0]],\n",
      "\n",
      "       [[0, 0, 0, ..., 0, 0, 0],\n",
      "        [0, 0, 0, ..., 0, 0, 0],\n",
      "        [0, 0, 0, ..., 0, 0, 0],\n",
      "        ...,\n",
      "        [0, 0, 0, ..., 0, 0, 0],\n",
      "        [0, 0, 0, ..., 0, 0, 0],\n",
      "        [0, 0, 0, ..., 0, 0, 0]]]), 'Mmovslabels': array([[[0, 0, 0, ..., 0, 0, 0],\n",
      "        [0, 0, 0, ..., 0, 0, 0],\n",
      "        [0, 0, 0, ..., 0, 0, 0],\n",
      "        ...,\n",
      "        [0, 0, 0, ..., 0, 0, 0],\n",
      "        [0, 0, 0, ..., 0, 0, 0],\n",
      "        [0, 0, 0, ..., 0, 0, 0]],\n",
      "\n",
      "       [[0, 0, 0, ..., 0, 0, 0],\n",
      "        [0, 0, 0, ..., 0, 0, 0],\n",
      "        [0, 0, 0, ..., 0, 0, 0],\n",
      "        ...,\n",
      "        [0, 0, 0, ..., 0, 0, 0],\n",
      "        [0, 0, 0, ..., 0, 0, 0],\n",
      "        [0, 0, 0, ..., 0, 0, 0]],\n",
      "\n",
      "       [[0, 0, 0, ..., 0, 0, 0],\n",
      "        [0, 0, 0, ..., 0, 0, 0],\n",
      "        [0, 0, 0, ..., 0, 0, 0],\n",
      "        ...,\n",
      "        [0, 0, 0, ..., 0, 0, 0],\n",
      "        [0, 0, 0, ..., 0, 0, 0],\n",
      "        [0, 0, 0, ..., 0, 0, 0]],\n",
      "\n",
      "       ...,\n",
      "\n",
      "       [[0, 0, 0, ..., 0, 0, 0],\n",
      "        [0, 0, 0, ..., 0, 0, 0],\n",
      "        [0, 0, 0, ..., 0, 0, 0],\n",
      "        ...,\n",
      "        [0, 0, 0, ..., 0, 0, 0],\n",
      "        [0, 0, 0, ..., 0, 0, 0],\n",
      "        [0, 0, 0, ..., 0, 0, 0]],\n",
      "\n",
      "       [[0, 0, 0, ..., 0, 0, 0],\n",
      "        [0, 0, 0, ..., 0, 0, 0],\n",
      "        [0, 0, 0, ..., 0, 0, 0],\n",
      "        ...,\n",
      "        [0, 0, 0, ..., 0, 0, 0],\n",
      "        [0, 0, 0, ..., 0, 0, 0],\n",
      "        [0, 0, 0, ..., 0, 0, 0]],\n",
      "\n",
      "       [[0, 0, 0, ..., 0, 0, 0],\n",
      "        [0, 0, 0, ..., 0, 0, 0],\n",
      "        [0, 0, 0, ..., 0, 0, 0],\n",
      "        ...,\n",
      "        [0, 0, 0, ..., 0, 0, 0],\n",
      "        [0, 0, 0, ..., 0, 0, 0],\n",
      "        [0, 0, 0, ..., 0, 0, 0]]]), 'Trefslabels': array([[[0, 0, 0, ..., 0, 0, 0],\n",
      "        [0, 0, 0, ..., 0, 0, 0],\n",
      "        [0, 0, 0, ..., 0, 0, 0],\n",
      "        ...,\n",
      "        [0, 0, 0, ..., 0, 0, 0],\n",
      "        [0, 0, 0, ..., 0, 0, 0],\n",
      "        [0, 0, 0, ..., 0, 0, 0]],\n",
      "\n",
      "       [[0, 0, 0, ..., 0, 0, 0],\n",
      "        [0, 0, 0, ..., 0, 0, 0],\n",
      "        [0, 0, 0, ..., 0, 0, 0],\n",
      "        ...,\n",
      "        [0, 0, 0, ..., 0, 0, 0],\n",
      "        [0, 0, 0, ..., 0, 0, 0],\n",
      "        [0, 0, 0, ..., 0, 0, 0]],\n",
      "\n",
      "       [[0, 0, 0, ..., 0, 0, 0],\n",
      "        [0, 0, 0, ..., 0, 0, 0],\n",
      "        [0, 0, 0, ..., 0, 0, 0],\n",
      "        ...,\n",
      "        [0, 0, 0, ..., 0, 0, 0],\n",
      "        [0, 0, 0, ..., 0, 0, 0],\n",
      "        [0, 0, 0, ..., 0, 0, 0]],\n",
      "\n",
      "       ...,\n",
      "\n",
      "       [[0, 0, 0, ..., 0, 0, 0],\n",
      "        [0, 0, 0, ..., 0, 0, 0],\n",
      "        [0, 0, 0, ..., 0, 0, 0],\n",
      "        ...,\n",
      "        [0, 0, 0, ..., 0, 0, 0],\n",
      "        [0, 0, 0, ..., 0, 0, 0],\n",
      "        [0, 0, 0, ..., 0, 0, 0]],\n",
      "\n",
      "       [[0, 0, 0, ..., 0, 0, 0],\n",
      "        [0, 0, 0, ..., 0, 0, 0],\n",
      "        [0, 0, 0, ..., 0, 0, 0],\n",
      "        ...,\n",
      "        [0, 0, 0, ..., 0, 0, 0],\n",
      "        [0, 0, 0, ..., 0, 0, 0],\n",
      "        [0, 0, 0, ..., 0, 0, 0]],\n",
      "\n",
      "       [[0, 0, 0, ..., 0, 0, 0],\n",
      "        [0, 0, 0, ..., 0, 0, 0],\n",
      "        [0, 0, 0, ..., 0, 0, 0],\n",
      "        ...,\n",
      "        [0, 0, 0, ..., 0, 0, 0],\n",
      "        [0, 0, 0, ..., 0, 0, 0],\n",
      "        [0, 0, 0, ..., 0, 0, 0]]]), 'Tmovslabels': array([[[0, 0, 0, ..., 0, 0, 0],\n",
      "        [0, 0, 0, ..., 0, 0, 0],\n",
      "        [0, 0, 0, ..., 0, 0, 0],\n",
      "        ...,\n",
      "        [0, 0, 0, ..., 0, 0, 0],\n",
      "        [0, 0, 0, ..., 0, 0, 0],\n",
      "        [0, 0, 0, ..., 0, 0, 0]],\n",
      "\n",
      "       [[0, 0, 0, ..., 0, 0, 0],\n",
      "        [0, 0, 0, ..., 0, 0, 0],\n",
      "        [0, 0, 0, ..., 0, 0, 0],\n",
      "        ...,\n",
      "        [0, 0, 0, ..., 0, 0, 0],\n",
      "        [0, 0, 0, ..., 0, 0, 0],\n",
      "        [0, 0, 0, ..., 0, 0, 0]],\n",
      "\n",
      "       [[0, 0, 0, ..., 0, 0, 0],\n",
      "        [0, 0, 0, ..., 0, 0, 0],\n",
      "        [0, 0, 0, ..., 0, 0, 0],\n",
      "        ...,\n",
      "        [0, 0, 0, ..., 0, 0, 0],\n",
      "        [0, 0, 0, ..., 0, 0, 0],\n",
      "        [0, 0, 0, ..., 0, 0, 0]],\n",
      "\n",
      "       ...,\n",
      "\n",
      "       [[0, 0, 0, ..., 0, 0, 0],\n",
      "        [0, 0, 0, ..., 0, 0, 0],\n",
      "        [0, 0, 0, ..., 0, 0, 0],\n",
      "        ...,\n",
      "        [0, 0, 0, ..., 0, 0, 0],\n",
      "        [0, 0, 0, ..., 0, 0, 0],\n",
      "        [0, 0, 0, ..., 0, 0, 0]],\n",
      "\n",
      "       [[0, 0, 0, ..., 0, 0, 0],\n",
      "        [0, 0, 0, ..., 0, 0, 0],\n",
      "        [0, 0, 0, ..., 0, 0, 0],\n",
      "        ...,\n",
      "        [0, 0, 0, ..., 0, 0, 0],\n",
      "        [0, 0, 0, ..., 0, 0, 0],\n",
      "        [0, 0, 0, ..., 0, 0, 0]],\n",
      "\n",
      "       [[0, 0, 0, ..., 0, 0, 0],\n",
      "        [0, 0, 0, ..., 0, 0, 0],\n",
      "        [0, 0, 0, ..., 0, 0, 0],\n",
      "        ...,\n",
      "        [0, 0, 0, ..., 0, 0, 0],\n",
      "        [0, 0, 0, ..., 0, 0, 0],\n",
      "        [0, 0, 0, ..., 0, 0, 0]]])}\n"
     ]
    }
   ],
   "source": [
    "print(match_dict1)"
   ]
  },
  {
   "cell_type": "code",
   "execution_count": 12,
   "id": "a2dfbcad-0136-4c9a-abea-c8e173480bdd",
   "metadata": {
    "scrolled": true
   },
   "outputs": [
    {
     "data": {
      "text/plain": [
       "[<matplotlib.lines.Line2D at 0x7f79b3e39150>]"
      ]
     },
     "execution_count": 12,
     "metadata": {},
     "output_type": "execute_result"
    }
   ],
   "source": [
    "plt.plot(np.array([len(x) for x in match_dict1['Mrefs']]),np.array([len(x) for x in match_dict1['Mmovs']]))"
   ]
  },
  {
   "cell_type": "code",
   "execution_count": 15,
   "id": "4fb19acd-58b7-48a4-883a-22e7fcf56154",
   "metadata": {
    "scrolled": true
   },
   "outputs": [
    {
     "data": {
      "text/plain": [
       "array([1, 1, 1, 1, 1, 1, 1, 1, 2, 1, 1, 1, 1, 1, 1, 1, 1, 2, 1, 1, 1, 1,\n",
       "       1, 1, 1, 2, 1, 1, 1, 1, 1, 1, 1, 1, 1, 1, 1, 1, 1, 1, 1, 1, 1, 1,\n",
       "       1, 1, 1, 1, 1, 1, 1, 2, 1, 1, 1, 1, 1, 1, 1, 1, 1, 1, 1, 1, 1, 1,\n",
       "       1, 1, 1, 1])"
      ]
     },
     "execution_count": 15,
     "metadata": {},
     "output_type": "execute_result"
    }
   ],
   "source": [
    "np.array([len(x) for x in match_dict1['Mrefs']])"
   ]
  },
  {
   "cell_type": "code",
   "execution_count": 16,
   "id": "2d3e46e1-3a68-4d59-bc36-883d743876ea",
   "metadata": {
    "scrolled": true
   },
   "outputs": [
    {
     "data": {
      "text/plain": [
       "array([1, 2, 1, 1, 1, 1, 1, 1, 1, 1, 1, 1, 1, 1, 1, 1, 1, 1, 1, 1, 1, 1,\n",
       "       1, 1, 1, 1, 1, 1, 1, 1, 1, 1, 1, 1, 1, 1, 1, 1, 1, 1, 1, 1, 1, 1,\n",
       "       1, 1, 1, 1, 1, 1, 2, 2, 3, 1, 3, 1, 1, 1, 1, 1, 1, 1, 2, 1, 1, 1,\n",
       "       1, 2, 1, 1])"
      ]
     },
     "execution_count": 16,
     "metadata": {},
     "output_type": "execute_result"
    }
   ],
   "source": [
    "np.array([len(x) for x in match_dict1['Mmovs']])"
   ]
  },
  {
   "cell_type": "code",
   "execution_count": 31,
   "id": "afdf0894-0142-4f89-b62b-a3071247500f",
   "metadata": {
    "scrolled": true
   },
   "outputs": [
    {
     "data": {
      "text/plain": [
       "True"
      ]
     },
     "execution_count": 31,
     "metadata": {},
     "output_type": "execute_result"
    }
   ],
   "source": [
    "viewer.layers['cells ref'].colormap.name == 'magenta'"
   ]
  },
  {
   "cell_type": "code",
   "execution_count": 17,
   "id": "7eba0e12-945e-4f2e-8ac2-9e28f0de3511",
   "metadata": {},
   "outputs": [
    {
     "data": {
      "text/plain": [
       "array([2, 3, 2, 2, 2, 2, 2, 2, 3, 2, 2, 2, 2, 2, 2, 2, 2, 3, 2, 2, 2, 2,\n",
       "       2, 2, 2, 3, 2, 2, 2, 2, 2, 2, 2, 2, 2, 2, 2, 2, 2, 2, 2, 2, 2, 2,\n",
       "       2, 2, 2, 2, 2, 2, 3, 4, 4, 2, 4, 2, 2, 2, 2, 2, 2, 2, 3, 2, 2, 2,\n",
       "       2, 3, 2, 2])"
      ]
     },
     "execution_count": 17,
     "metadata": {},
     "output_type": "execute_result"
    }
   ],
   "source": [
    "np.array([len(x) for x in match_dict1['Mrefs']]) + np.array([len(x) for x in match_dict1['Mmovs']])"
   ]
  },
  {
   "cell_type": "code",
   "execution_count": null,
   "id": "dae2d545-099b-4363-9d04-9b2ab5653ed0",
   "metadata": {},
   "outputs": [],
   "source": []
  },
  {
   "cell_type": "code",
   "execution_count": null,
   "id": "2c1eb5b0-a95e-4bfd-883c-19451c23dad9",
   "metadata": {},
   "outputs": [],
   "source": []
  },
  {
   "cell_type": "code",
   "execution_count": null,
   "id": "5ef91691-4d49-4241-8b4a-8ecd9cfa372b",
   "metadata": {},
   "outputs": [],
   "source": []
  },
  {
   "cell_type": "code",
   "execution_count": null,
   "id": "5a20b60f-a837-4e60-80d6-16e466834acc",
   "metadata": {},
   "outputs": [],
   "source": []
  },
  {
   "cell_type": "code",
   "execution_count": null,
   "id": "d586c34c-b44b-4a12-8641-5003ec2e96cb",
   "metadata": {},
   "outputs": [],
   "source": []
  },
  {
   "cell_type": "code",
   "execution_count": null,
   "id": "6cc8bf99-5e71-4906-a5cb-d54b58cd3a8f",
   "metadata": {},
   "outputs": [],
   "source": []
  },
  {
   "cell_type": "code",
   "execution_count": 29,
   "id": "a449d390-da71-48f2-9b39-4857d03b30f9",
   "metadata": {
    "scrolled": true
   },
   "outputs": [],
   "source": [
    "viewer.layers['cells ref'].colormap = 'magenta'"
   ]
  },
  {
   "cell_type": "code",
   "execution_count": 11,
   "id": "bcd22186-7918-4255-9c0c-558049726824",
   "metadata": {},
   "outputs": [
    {
     "data": {
      "text/plain": [
       "(169, 440, 498, 21)"
      ]
     },
     "execution_count": 11,
     "metadata": {},
     "output_type": "execute_result"
    }
   ],
   "source": [
    "images_r.shape"
   ]
  },
  {
   "cell_type": "code",
   "execution_count": 12,
   "id": "f921505a-0203-41cb-a028-39c7ccfffbfc",
   "metadata": {},
   "outputs": [
    {
     "data": {
      "text/plain": [
       "(69, 440, 498, 21)"
      ]
     },
     "execution_count": 12,
     "metadata": {},
     "output_type": "execute_result"
    }
   ],
   "source": [
    "images_m_rot.shape"
   ]
  },
  {
   "cell_type": "code",
   "execution_count": 18,
   "id": "7d401cb4-786f-4ff8-8dcf-74ceb141403f",
   "metadata": {},
   "outputs": [
    {
     "data": {
      "text/plain": [
       "(169, 69, 440, 498, 21)"
      ]
     },
     "execution_count": 18,
     "metadata": {},
     "output_type": "execute_result"
    }
   ],
   "source": [
    "(images_r.shape[0],) + images_m_rot.shape"
   ]
  },
  {
   "cell_type": "code",
   "execution_count": 20,
   "id": "317c2d05-dd01-4864-a185-0c3653d56d35",
   "metadata": {},
   "outputs": [
    {
     "name": "stdout",
     "output_type": "stream",
     "text": [
      "(69, 169, 440, 498, 21)\n",
      "(169, 69, 440, 498, 21)\n",
      "(169, 69, 440, 498, 21)\n"
     ]
    }
   ],
   "source": [
    "images_r_b = np.broadcast_to(images_r,(images_m_rot.shape[0],) + images_r.shape)\n",
    "print(images_r_b.shape)\n",
    "images_m_rot_b = np.broadcast_to(images_m_rot,(images_r.shape[0],) + images_m_rot.shape)\n",
    "print(images_m_rot_b.shape)\n",
    "images_m_warp_b = np.broadcast_to(images_m_warp,(images_r.shape[0],) + images_m_warp.shape)\n",
    "print(images_m_warp_b.shape)"
   ]
  },
  {
   "cell_type": "code",
   "execution_count": 19,
   "id": "4fe4ed82-6075-47bb-a612-40e1d05e4c5e",
   "metadata": {},
   "outputs": [
    {
     "data": {
      "text/plain": [
       "(169, 69, 440, 498, 21)"
      ]
     },
     "execution_count": 19,
     "metadata": {},
     "output_type": "execute_result"
    }
   ],
   "source": [
    "images_m_rot_b = np.broadcast_to(images_m_rot,(images_r.shape[0],) + images_m_rot.shape)\n",
    "images_m_rot_b.shape"
   ]
  },
  {
   "cell_type": "code",
   "execution_count": 16,
   "id": "9c787967-c54b-4b56-a895-3d7c84b44b60",
   "metadata": {},
   "outputs": [
    {
     "name": "stderr",
     "output_type": "stream",
     "text": [
      "/mnt/colab/colab_shared/anaconda3/envs/caiman_test/lib/python3.11/site-packages/napari/plugins/_plugin_manager.py:555: UserWarning: Plugin 'napari_skimage_regionprops2' has already registered a function widget 'duplicate current frame' which has now been overwritten\n",
      "  warn(message=warn_message)\n"
     ]
    },
    {
     "data": {
      "text/plain": [
       "<Image layer 'cells mov' at 0x7fa478e1a990>"
      ]
     },
     "execution_count": 16,
     "metadata": {},
     "output_type": "execute_result"
    }
   ],
   "source": [
    "viewer = napari.Viewer()\n",
    "viewer.add_image(images_r_b.transpose([0,1,4,2,3]),name='cells ref',colormap='gray')\n",
    "viewer.add_image(images_m_rot_b.transpose([1,0,4,2,3]),name='cells mov',colormap='gray')"
   ]
  },
  {
   "cell_type": "code",
   "execution_count": null,
   "id": "d1fab6bf-dc8b-4c70-8f78-eb920b0d9a82",
   "metadata": {},
   "outputs": [],
   "source": []
  },
  {
   "cell_type": "code",
   "execution_count": null,
   "id": "78844ada-f403-4d7c-a67d-4d2bfbdb8263",
   "metadata": {},
   "outputs": [],
   "source": []
  },
  {
   "cell_type": "code",
   "execution_count": null,
   "id": "ccdcca1c-e114-498a-915a-fe735b1b1d10",
   "metadata": {},
   "outputs": [],
   "source": []
  },
  {
   "cell_type": "code",
   "execution_count": null,
   "id": "65bc3195-0672-4c2d-b909-d8d1602b597a",
   "metadata": {},
   "outputs": [],
   "source": []
  },
  {
   "cell_type": "code",
   "execution_count": null,
   "id": "3f3afa87-749a-4998-b722-37eeeb71da2c",
   "metadata": {},
   "outputs": [],
   "source": []
  },
  {
   "cell_type": "code",
   "execution_count": null,
   "id": "66779fae-c4b7-4075-b453-b07160d01935",
   "metadata": {},
   "outputs": [],
   "source": []
  },
  {
   "cell_type": "code",
   "execution_count": null,
   "id": "e1dfb511-fd6d-4516-9c0b-fc27f5fff4a4",
   "metadata": {},
   "outputs": [],
   "source": []
  },
  {
   "cell_type": "code",
   "execution_count": null,
   "id": "d6791e86-e420-4dc8-bf40-7442a1c59a8a",
   "metadata": {},
   "outputs": [],
   "source": []
  },
  {
   "cell_type": "code",
   "execution_count": null,
   "id": "259d127a-439d-430c-9482-8c7c8086b889",
   "metadata": {},
   "outputs": [],
   "source": []
  }
 ],
 "metadata": {
  "kernelspec": {
   "display_name": "Python 3 (ipykernel)",
   "language": "python",
   "name": "python3"
  },
  "language_info": {
   "codemirror_mode": {
    "name": "ipython",
    "version": 3
   },
   "file_extension": ".py",
   "mimetype": "text/x-python",
   "name": "python",
   "nbconvert_exporter": "python",
   "pygments_lexer": "ipython3",
   "version": "3.10.8"
  }
 },
 "nbformat": 4,
 "nbformat_minor": 5
}
