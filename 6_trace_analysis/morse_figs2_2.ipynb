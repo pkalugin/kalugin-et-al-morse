{
 "cells": [
  {
   "cell_type": "code",
   "execution_count": 5,
   "id": "3673dc4b-7d5e-471a-b0bc-5b0cac6ad5a6",
   "metadata": {},
   "outputs": [
    {
     "data": {
      "text/html": [
       "    <style>\n",
       "        .bk-notebook-logo {\n",
       "            display: block;\n",
       "            width: 20px;\n",
       "            height: 20px;\n",
       "            background-image: url(data:image/png;base64,iVBORw0KGgoAAAANSUhEUgAAABQAAAAUCAYAAACNiR0NAAAABHNCSVQICAgIfAhkiAAAAAlwSFlzAAALEgAACxIB0t1+/AAAABx0RVh0U29mdHdhcmUAQWRvYmUgRmlyZXdvcmtzIENTNui8sowAAAOkSURBVDiNjZRtaJVlGMd/1/08zzln5zjP1LWcU9N0NkN8m2CYjpgQYQXqSs0I84OLIC0hkEKoPtiH3gmKoiJDU7QpLgoLjLIQCpEsNJ1vqUOdO7ppbuec5+V+rj4ctwzd8IIbbi6u+8f1539dt3A78eXC7QizUF7gyV1fD1Yqg4JWz84yffhm0qkFqBogB9rM8tZdtwVsPUhWhGcFJngGeWrPzHm5oaMmkfEg1usvLFyc8jLRqDOMru7AyC8saQr7GG7f5fvDeH7Ej8CM66nIF+8yngt6HWaKh7k49Soy9nXurCi1o3qUbS3zWfrYeQDTB/Qj6kX6Ybhw4B+bOYoLKCC9H3Nu/leUTZ1JdRWkkn2ldcCamzrcf47KKXdAJllSlxAOkRgyHsGC/zRday5Qld9DyoM4/q/rUoy/CXh3jzOu3bHUVZeU+DEn8FInkPBFlu3+nW3Nw0mk6vCDiWg8CeJaxEwuHS3+z5RgY+YBR6V1Z1nxSOfoaPa4LASWxxdNp+VWTk7+4vzaou8v8PN+xo+KY2xsw6une2frhw05CTYOmQvsEhjhWjn0bmXPjpE1+kplmmkP3suftwTubK9Vq22qKmrBhpY4jvd5afdRA3wGjFAgcnTK2s4hY0/GPNIb0nErGMCRxWOOX64Z8RAC4oCXdklmEvcL8o0BfkNK4lUg9HTl+oPlQxdNo3Mg4Nv175e/1LDGzZen30MEjRUtmXSfiTVu1kK8W4txyV6BMKlbgk3lMwYCiusNy9fVfvvwMxv8Ynl6vxoByANLTWplvuj/nF9m2+PDtt1eiHPBr1oIfhCChQMBw6Aw0UulqTKZdfVvfG7VcfIqLG9bcldL/+pdWTLxLUy8Qq38heUIjh4XlzZxzQm19lLFlr8vdQ97rjZVOLf8nclzckbcD4wxXMidpX30sFd37Fv/GtwwhzhxGVAprjbg0gCAEeIgwCZyTV2Z1REEW8O4py0wsjeloKoMr6iCY6dP92H6Vw/oTyICIthibxjm/DfN9lVz8IqtqKYLUXfoKVMVQVVJOElGjrnnUt9T9wbgp8AyYKaGlqingHZU/uG2NTZSVqwHQTWkx9hxjkpWDaCg6Ckj5qebgBVbT3V3NNXMSiWSDdGV3hrtzla7J+duwPOToIg42ChPQOQjspnSlp1V+Gjdged7+8UN5CRAV7a5EdFNwCjEaBR27b3W890TE7g24NAP/mMDXRWrGoFPQI9ls/MWO2dWFAar/xcOIImbbpA3zgAAAABJRU5ErkJggg==);\n",
       "        }\n",
       "    </style>\n",
       "    <div>\n",
       "        <a href=\"https://bokeh.org\" target=\"_blank\" class=\"bk-notebook-logo\"></a>\n",
       "        <span id=\"d6e30a65-7293-4b4c-a5dd-b4022646dae4\">Loading BokehJS ...</span>\n",
       "    </div>\n"
      ]
     },
     "metadata": {},
     "output_type": "display_data"
    },
    {
     "data": {
      "application/javascript": [
       "'use strict';\n",
       "(function(root) {\n",
       "  function now() {\n",
       "    return new Date();\n",
       "  }\n",
       "\n",
       "  const force = true;\n",
       "\n",
       "  if (typeof root._bokeh_onload_callbacks === \"undefined\" || force === true) {\n",
       "    root._bokeh_onload_callbacks = [];\n",
       "    root._bokeh_is_loading = undefined;\n",
       "  }\n",
       "\n",
       "const JS_MIME_TYPE = 'application/javascript';\n",
       "  const HTML_MIME_TYPE = 'text/html';\n",
       "  const EXEC_MIME_TYPE = 'application/vnd.bokehjs_exec.v0+json';\n",
       "  const CLASS_NAME = 'output_bokeh rendered_html';\n",
       "\n",
       "  /**\n",
       "   * Render data to the DOM node\n",
       "   */\n",
       "  function render(props, node) {\n",
       "    const script = document.createElement(\"script\");\n",
       "    node.appendChild(script);\n",
       "  }\n",
       "\n",
       "  /**\n",
       "   * Handle when an output is cleared or removed\n",
       "   */\n",
       "  function handleClearOutput(event, handle) {\n",
       "    function drop(id) {\n",
       "      const view = Bokeh.index.get_by_id(id)\n",
       "      if (view != null) {\n",
       "        view.model.document.clear()\n",
       "        Bokeh.index.delete(view)\n",
       "      }\n",
       "    }\n",
       "\n",
       "    const cell = handle.cell;\n",
       "\n",
       "    const id = cell.output_area._bokeh_element_id;\n",
       "    const server_id = cell.output_area._bokeh_server_id;\n",
       "\n",
       "    // Clean up Bokeh references\n",
       "    if (id != null) {\n",
       "      drop(id)\n",
       "    }\n",
       "\n",
       "    if (server_id !== undefined) {\n",
       "      // Clean up Bokeh references\n",
       "      const cmd_clean = \"from bokeh.io.state import curstate; print(curstate().uuid_to_server['\" + server_id + \"'].get_sessions()[0].document.roots[0]._id)\";\n",
       "      cell.notebook.kernel.execute(cmd_clean, {\n",
       "        iopub: {\n",
       "          output: function(msg) {\n",
       "            const id = msg.content.text.trim()\n",
       "            drop(id)\n",
       "          }\n",
       "        }\n",
       "      });\n",
       "      // Destroy server and session\n",
       "      const cmd_destroy = \"import bokeh.io.notebook as ion; ion.destroy_server('\" + server_id + \"')\";\n",
       "      cell.notebook.kernel.execute(cmd_destroy);\n",
       "    }\n",
       "  }\n",
       "\n",
       "  /**\n",
       "   * Handle when a new output is added\n",
       "   */\n",
       "  function handleAddOutput(event, handle) {\n",
       "    const output_area = handle.output_area;\n",
       "    const output = handle.output;\n",
       "\n",
       "    // limit handleAddOutput to display_data with EXEC_MIME_TYPE content only\n",
       "    if ((output.output_type != \"display_data\") || (!Object.prototype.hasOwnProperty.call(output.data, EXEC_MIME_TYPE))) {\n",
       "      return\n",
       "    }\n",
       "\n",
       "    const toinsert = output_area.element.find(\".\" + CLASS_NAME.split(' ')[0]);\n",
       "\n",
       "    if (output.metadata[EXEC_MIME_TYPE][\"id\"] !== undefined) {\n",
       "      toinsert[toinsert.length - 1].firstChild.textContent = output.data[JS_MIME_TYPE];\n",
       "      // store reference to embed id on output_area\n",
       "      output_area._bokeh_element_id = output.metadata[EXEC_MIME_TYPE][\"id\"];\n",
       "    }\n",
       "    if (output.metadata[EXEC_MIME_TYPE][\"server_id\"] !== undefined) {\n",
       "      const bk_div = document.createElement(\"div\");\n",
       "      bk_div.innerHTML = output.data[HTML_MIME_TYPE];\n",
       "      const script_attrs = bk_div.children[0].attributes;\n",
       "      for (let i = 0; i < script_attrs.length; i++) {\n",
       "        toinsert[toinsert.length - 1].firstChild.setAttribute(script_attrs[i].name, script_attrs[i].value);\n",
       "        toinsert[toinsert.length - 1].firstChild.textContent = bk_div.children[0].textContent\n",
       "      }\n",
       "      // store reference to server id on output_area\n",
       "      output_area._bokeh_server_id = output.metadata[EXEC_MIME_TYPE][\"server_id\"];\n",
       "    }\n",
       "  }\n",
       "\n",
       "  function register_renderer(events, OutputArea) {\n",
       "\n",
       "    function append_mime(data, metadata, element) {\n",
       "      // create a DOM node to render to\n",
       "      const toinsert = this.create_output_subarea(\n",
       "        metadata,\n",
       "        CLASS_NAME,\n",
       "        EXEC_MIME_TYPE\n",
       "      );\n",
       "      this.keyboard_manager.register_events(toinsert);\n",
       "      // Render to node\n",
       "      const props = {data: data, metadata: metadata[EXEC_MIME_TYPE]};\n",
       "      render(props, toinsert[toinsert.length - 1]);\n",
       "      element.append(toinsert);\n",
       "      return toinsert\n",
       "    }\n",
       "\n",
       "    /* Handle when an output is cleared or removed */\n",
       "    events.on('clear_output.CodeCell', handleClearOutput);\n",
       "    events.on('delete.Cell', handleClearOutput);\n",
       "\n",
       "    /* Handle when a new output is added */\n",
       "    events.on('output_added.OutputArea', handleAddOutput);\n",
       "\n",
       "    /**\n",
       "     * Register the mime type and append_mime function with output_area\n",
       "     */\n",
       "    OutputArea.prototype.register_mime_type(EXEC_MIME_TYPE, append_mime, {\n",
       "      /* Is output safe? */\n",
       "      safe: true,\n",
       "      /* Index of renderer in `output_area.display_order` */\n",
       "      index: 0\n",
       "    });\n",
       "  }\n",
       "\n",
       "  // register the mime type if in Jupyter Notebook environment and previously unregistered\n",
       "  if (root.Jupyter !== undefined) {\n",
       "    const events = require('base/js/events');\n",
       "    const OutputArea = require('notebook/js/outputarea').OutputArea;\n",
       "\n",
       "    if (OutputArea.prototype.mime_types().indexOf(EXEC_MIME_TYPE) == -1) {\n",
       "      register_renderer(events, OutputArea);\n",
       "    }\n",
       "  }\n",
       "  if (typeof (root._bokeh_timeout) === \"undefined\" || force === true) {\n",
       "    root._bokeh_timeout = Date.now() + 5000;\n",
       "    root._bokeh_failed_load = false;\n",
       "  }\n",
       "\n",
       "  const NB_LOAD_WARNING = {'data': {'text/html':\n",
       "     \"<div style='background-color: #fdd'>\\n\"+\n",
       "     \"<p>\\n\"+\n",
       "     \"BokehJS does not appear to have successfully loaded. If loading BokehJS from CDN, this \\n\"+\n",
       "     \"may be due to a slow or bad network connection. Possible fixes:\\n\"+\n",
       "     \"</p>\\n\"+\n",
       "     \"<ul>\\n\"+\n",
       "     \"<li>re-rerun `output_notebook()` to attempt to load from CDN again, or</li>\\n\"+\n",
       "     \"<li>use INLINE resources instead, as so:</li>\\n\"+\n",
       "     \"</ul>\\n\"+\n",
       "     \"<code>\\n\"+\n",
       "     \"from bokeh.resources import INLINE\\n\"+\n",
       "     \"output_notebook(resources=INLINE)\\n\"+\n",
       "     \"</code>\\n\"+\n",
       "     \"</div>\"}};\n",
       "\n",
       "  function display_loaded(error = null) {\n",
       "    const el = document.getElementById(\"d6e30a65-7293-4b4c-a5dd-b4022646dae4\");\n",
       "    if (el != null) {\n",
       "      const html = (() => {\n",
       "        if (typeof root.Bokeh === \"undefined\") {\n",
       "          if (error == null) {\n",
       "            return \"BokehJS is loading ...\";\n",
       "          } else {\n",
       "            return \"BokehJS failed to load.\";\n",
       "          }\n",
       "        } else {\n",
       "          const prefix = `BokehJS ${root.Bokeh.version}`;\n",
       "          if (error == null) {\n",
       "            return `${prefix} successfully loaded.`;\n",
       "          } else {\n",
       "            return `${prefix} <b>encountered errors</b> while loading and may not function as expected.`;\n",
       "          }\n",
       "        }\n",
       "      })();\n",
       "      el.innerHTML = html;\n",
       "\n",
       "      if (error != null) {\n",
       "        const wrapper = document.createElement(\"div\");\n",
       "        wrapper.style.overflow = \"auto\";\n",
       "        wrapper.style.height = \"5em\";\n",
       "        wrapper.style.resize = \"vertical\";\n",
       "        const content = document.createElement(\"div\");\n",
       "        content.style.fontFamily = \"monospace\";\n",
       "        content.style.whiteSpace = \"pre-wrap\";\n",
       "        content.style.backgroundColor = \"rgb(255, 221, 221)\";\n",
       "        content.textContent = error.stack ?? error.toString();\n",
       "        wrapper.append(content);\n",
       "        el.append(wrapper);\n",
       "      }\n",
       "    } else if (Date.now() < root._bokeh_timeout) {\n",
       "      setTimeout(() => display_loaded(error), 100);\n",
       "    }\n",
       "  }\n",
       "\n",
       "  function run_callbacks() {\n",
       "    try {\n",
       "      root._bokeh_onload_callbacks.forEach(function(callback) {\n",
       "        if (callback != null)\n",
       "          callback();\n",
       "      });\n",
       "    } finally {\n",
       "      delete root._bokeh_onload_callbacks\n",
       "    }\n",
       "    console.debug(\"Bokeh: all callbacks have finished\");\n",
       "  }\n",
       "\n",
       "  function load_libs(css_urls, js_urls, callback) {\n",
       "    if (css_urls == null) css_urls = [];\n",
       "    if (js_urls == null) js_urls = [];\n",
       "\n",
       "    root._bokeh_onload_callbacks.push(callback);\n",
       "    if (root._bokeh_is_loading > 0) {\n",
       "      console.debug(\"Bokeh: BokehJS is being loaded, scheduling callback at\", now());\n",
       "      return null;\n",
       "    }\n",
       "    if (js_urls == null || js_urls.length === 0) {\n",
       "      run_callbacks();\n",
       "      return null;\n",
       "    }\n",
       "    console.debug(\"Bokeh: BokehJS not loaded, scheduling load and callback at\", now());\n",
       "    root._bokeh_is_loading = css_urls.length + js_urls.length;\n",
       "\n",
       "    function on_load() {\n",
       "      root._bokeh_is_loading--;\n",
       "      if (root._bokeh_is_loading === 0) {\n",
       "        console.debug(\"Bokeh: all BokehJS libraries/stylesheets loaded\");\n",
       "        run_callbacks()\n",
       "      }\n",
       "    }\n",
       "\n",
       "    function on_error(url) {\n",
       "      console.error(\"failed to load \" + url);\n",
       "    }\n",
       "\n",
       "    for (let i = 0; i < css_urls.length; i++) {\n",
       "      const url = css_urls[i];\n",
       "      const element = document.createElement(\"link\");\n",
       "      element.onload = on_load;\n",
       "      element.onerror = on_error.bind(null, url);\n",
       "      element.rel = \"stylesheet\";\n",
       "      element.type = \"text/css\";\n",
       "      element.href = url;\n",
       "      console.debug(\"Bokeh: injecting link tag for BokehJS stylesheet: \", url);\n",
       "      document.body.appendChild(element);\n",
       "    }\n",
       "\n",
       "    for (let i = 0; i < js_urls.length; i++) {\n",
       "      const url = js_urls[i];\n",
       "      const element = document.createElement('script');\n",
       "      element.onload = on_load;\n",
       "      element.onerror = on_error.bind(null, url);\n",
       "      element.async = false;\n",
       "      element.src = url;\n",
       "      console.debug(\"Bokeh: injecting script tag for BokehJS library: \", url);\n",
       "      document.head.appendChild(element);\n",
       "    }\n",
       "  };\n",
       "\n",
       "  function inject_raw_css(css) {\n",
       "    const element = document.createElement(\"style\");\n",
       "    element.appendChild(document.createTextNode(css));\n",
       "    document.body.appendChild(element);\n",
       "  }\n",
       "\n",
       "  const js_urls = [\"https://cdn.bokeh.org/bokeh/release/bokeh-3.4.1.min.js\", \"https://cdn.bokeh.org/bokeh/release/bokeh-gl-3.4.1.min.js\", \"https://cdn.bokeh.org/bokeh/release/bokeh-widgets-3.4.1.min.js\", \"https://cdn.bokeh.org/bokeh/release/bokeh-tables-3.4.1.min.js\", \"https://cdn.bokeh.org/bokeh/release/bokeh-mathjax-3.4.1.min.js\", \"https://unpkg.com/@holoviz/panel@1.4.1/dist/panel.min.js\"];\n",
       "  const css_urls = [];\n",
       "\n",
       "  const inline_js = [    function(Bokeh) {\n",
       "      Bokeh.set_log_level(\"info\");\n",
       "    },\n",
       "function(Bokeh) {\n",
       "    }\n",
       "  ];\n",
       "\n",
       "  function run_inline_js() {\n",
       "    if (root.Bokeh !== undefined || force === true) {\n",
       "      try {\n",
       "            for (let i = 0; i < inline_js.length; i++) {\n",
       "      inline_js[i].call(root, root.Bokeh);\n",
       "    }\n",
       "\n",
       "      } catch (error) {display_loaded(error);throw error;\n",
       "      }if (force === true) {\n",
       "        display_loaded();\n",
       "      }} else if (Date.now() < root._bokeh_timeout) {\n",
       "      setTimeout(run_inline_js, 100);\n",
       "    } else if (!root._bokeh_failed_load) {\n",
       "      console.log(\"Bokeh: BokehJS failed to load within specified timeout.\");\n",
       "      root._bokeh_failed_load = true;\n",
       "    } else if (force !== true) {\n",
       "      const cell = $(document.getElementById(\"d6e30a65-7293-4b4c-a5dd-b4022646dae4\")).parents('.cell').data().cell;\n",
       "      cell.output_area.append_execute_result(NB_LOAD_WARNING)\n",
       "    }\n",
       "  }\n",
       "\n",
       "  if (root._bokeh_is_loading === 0) {\n",
       "    console.debug(\"Bokeh: BokehJS loaded, going straight to plotting\");\n",
       "    run_inline_js();\n",
       "  } else {\n",
       "    load_libs(css_urls, js_urls, function() {\n",
       "      console.debug(\"Bokeh: BokehJS plotting callback run at\", now());\n",
       "      run_inline_js();\n",
       "    });\n",
       "  }\n",
       "}(window));"
      ],
      "application/vnd.bokehjs_load.v0+json": "'use strict';\n(function(root) {\n  function now() {\n    return new Date();\n  }\n\n  const force = true;\n\n  if (typeof root._bokeh_onload_callbacks === \"undefined\" || force === true) {\n    root._bokeh_onload_callbacks = [];\n    root._bokeh_is_loading = undefined;\n  }\n\n\n  if (typeof (root._bokeh_timeout) === \"undefined\" || force === true) {\n    root._bokeh_timeout = Date.now() + 5000;\n    root._bokeh_failed_load = false;\n  }\n\n  const NB_LOAD_WARNING = {'data': {'text/html':\n     \"<div style='background-color: #fdd'>\\n\"+\n     \"<p>\\n\"+\n     \"BokehJS does not appear to have successfully loaded. If loading BokehJS from CDN, this \\n\"+\n     \"may be due to a slow or bad network connection. Possible fixes:\\n\"+\n     \"</p>\\n\"+\n     \"<ul>\\n\"+\n     \"<li>re-rerun `output_notebook()` to attempt to load from CDN again, or</li>\\n\"+\n     \"<li>use INLINE resources instead, as so:</li>\\n\"+\n     \"</ul>\\n\"+\n     \"<code>\\n\"+\n     \"from bokeh.resources import INLINE\\n\"+\n     \"output_notebook(resources=INLINE)\\n\"+\n     \"</code>\\n\"+\n     \"</div>\"}};\n\n  function display_loaded(error = null) {\n    const el = document.getElementById(\"d6e30a65-7293-4b4c-a5dd-b4022646dae4\");\n    if (el != null) {\n      const html = (() => {\n        if (typeof root.Bokeh === \"undefined\") {\n          if (error == null) {\n            return \"BokehJS is loading ...\";\n          } else {\n            return \"BokehJS failed to load.\";\n          }\n        } else {\n          const prefix = `BokehJS ${root.Bokeh.version}`;\n          if (error == null) {\n            return `${prefix} successfully loaded.`;\n          } else {\n            return `${prefix} <b>encountered errors</b> while loading and may not function as expected.`;\n          }\n        }\n      })();\n      el.innerHTML = html;\n\n      if (error != null) {\n        const wrapper = document.createElement(\"div\");\n        wrapper.style.overflow = \"auto\";\n        wrapper.style.height = \"5em\";\n        wrapper.style.resize = \"vertical\";\n        const content = document.createElement(\"div\");\n        content.style.fontFamily = \"monospace\";\n        content.style.whiteSpace = \"pre-wrap\";\n        content.style.backgroundColor = \"rgb(255, 221, 221)\";\n        content.textContent = error.stack ?? error.toString();\n        wrapper.append(content);\n        el.append(wrapper);\n      }\n    } else if (Date.now() < root._bokeh_timeout) {\n      setTimeout(() => display_loaded(error), 100);\n    }\n  }\n\n  function run_callbacks() {\n    try {\n      root._bokeh_onload_callbacks.forEach(function(callback) {\n        if (callback != null)\n          callback();\n      });\n    } finally {\n      delete root._bokeh_onload_callbacks\n    }\n    console.debug(\"Bokeh: all callbacks have finished\");\n  }\n\n  function load_libs(css_urls, js_urls, callback) {\n    if (css_urls == null) css_urls = [];\n    if (js_urls == null) js_urls = [];\n\n    root._bokeh_onload_callbacks.push(callback);\n    if (root._bokeh_is_loading > 0) {\n      console.debug(\"Bokeh: BokehJS is being loaded, scheduling callback at\", now());\n      return null;\n    }\n    if (js_urls == null || js_urls.length === 0) {\n      run_callbacks();\n      return null;\n    }\n    console.debug(\"Bokeh: BokehJS not loaded, scheduling load and callback at\", now());\n    root._bokeh_is_loading = css_urls.length + js_urls.length;\n\n    function on_load() {\n      root._bokeh_is_loading--;\n      if (root._bokeh_is_loading === 0) {\n        console.debug(\"Bokeh: all BokehJS libraries/stylesheets loaded\");\n        run_callbacks()\n      }\n    }\n\n    function on_error(url) {\n      console.error(\"failed to load \" + url);\n    }\n\n    for (let i = 0; i < css_urls.length; i++) {\n      const url = css_urls[i];\n      const element = document.createElement(\"link\");\n      element.onload = on_load;\n      element.onerror = on_error.bind(null, url);\n      element.rel = \"stylesheet\";\n      element.type = \"text/css\";\n      element.href = url;\n      console.debug(\"Bokeh: injecting link tag for BokehJS stylesheet: \", url);\n      document.body.appendChild(element);\n    }\n\n    for (let i = 0; i < js_urls.length; i++) {\n      const url = js_urls[i];\n      const element = document.createElement('script');\n      element.onload = on_load;\n      element.onerror = on_error.bind(null, url);\n      element.async = false;\n      element.src = url;\n      console.debug(\"Bokeh: injecting script tag for BokehJS library: \", url);\n      document.head.appendChild(element);\n    }\n  };\n\n  function inject_raw_css(css) {\n    const element = document.createElement(\"style\");\n    element.appendChild(document.createTextNode(css));\n    document.body.appendChild(element);\n  }\n\n  const js_urls = [\"https://cdn.bokeh.org/bokeh/release/bokeh-3.4.1.min.js\", \"https://cdn.bokeh.org/bokeh/release/bokeh-gl-3.4.1.min.js\", \"https://cdn.bokeh.org/bokeh/release/bokeh-widgets-3.4.1.min.js\", \"https://cdn.bokeh.org/bokeh/release/bokeh-tables-3.4.1.min.js\", \"https://cdn.bokeh.org/bokeh/release/bokeh-mathjax-3.4.1.min.js\", \"https://unpkg.com/@holoviz/panel@1.4.1/dist/panel.min.js\"];\n  const css_urls = [];\n\n  const inline_js = [    function(Bokeh) {\n      Bokeh.set_log_level(\"info\");\n    },\nfunction(Bokeh) {\n    }\n  ];\n\n  function run_inline_js() {\n    if (root.Bokeh !== undefined || force === true) {\n      try {\n            for (let i = 0; i < inline_js.length; i++) {\n      inline_js[i].call(root, root.Bokeh);\n    }\n\n      } catch (error) {display_loaded(error);throw error;\n      }if (force === true) {\n        display_loaded();\n      }} else if (Date.now() < root._bokeh_timeout) {\n      setTimeout(run_inline_js, 100);\n    } else if (!root._bokeh_failed_load) {\n      console.log(\"Bokeh: BokehJS failed to load within specified timeout.\");\n      root._bokeh_failed_load = true;\n    } else if (force !== true) {\n      const cell = $(document.getElementById(\"d6e30a65-7293-4b4c-a5dd-b4022646dae4\")).parents('.cell').data().cell;\n      cell.output_area.append_execute_result(NB_LOAD_WARNING)\n    }\n  }\n\n  if (root._bokeh_is_loading === 0) {\n    console.debug(\"Bokeh: BokehJS loaded, going straight to plotting\");\n    run_inline_js();\n  } else {\n    load_libs(css_urls, js_urls, function() {\n      console.debug(\"Bokeh: BokehJS plotting callback run at\", now());\n      run_inline_js();\n    });\n  }\n}(window));"
     },
     "metadata": {},
     "output_type": "display_data"
    }
   ],
   "source": [
    "# make sure this is running in the right environment!! caiman, NOT caiman_test!\n",
    "from IPython import get_ipython\n",
    "import logging\n",
    "import matplotlib.pyplot as plt\n",
    "import numpy as np\n",
    "import os\n",
    "import shutil\n",
    "from scipy.ndimage import gaussian_filter\n",
    "from tifffile.tifffile import imwrite,imread\n",
    "from skimage import measure as sm\n",
    "\n",
    "import SimpleITK as sitk\n",
    "import h5py\n",
    "\n",
    "import largestinteriorrectangle as lir\n",
    "import matplotlib.patches as pac\n",
    "from copy import deepcopy\n",
    "\n",
    "from scipy import io as sio\n",
    "from scipy import interpolate as si\n",
    "from scipy import signal as sg\n",
    "from scipy import stats as ss\n",
    "from scipy import spatial as sp\n",
    "from skimage import measure as sm\n",
    "from skimage import metrics as sme\n",
    "from skimage import transform as st\n",
    "from skimage import feature as sf\n",
    "from scipy.sparse import csc_matrix\n",
    "\n",
    "from tqdm.auto import tqdm,trange\n",
    "#%load_ext memory_profiler\n",
    "\n",
    "from pathlib import Path\n",
    "import pickle\n",
    "\n",
    "import cv2\n",
    "import multiprocessing\n",
    "from joblib import Parallel, delayed\n",
    "from joblib.externals.loky import get_reusable_executor\n",
    "\n",
    "import caiman as cm\n",
    "from caiman.utils.visualization import nb_view_patches3d\n",
    "from caiman.source_extraction.cnmf import cnmf,params\n",
    "from caiman.utils.visualization import view_quilt,get_contours\n",
    "from caiman.paths import caiman_datadir\n",
    "\n",
    "try:\n",
    "    if __IPYTHON__:\n",
    "        get_ipython().run_line_magic('load_ext', 'autoreload')\n",
    "        get_ipython().run_line_magic('autoreload', '2')\n",
    "except NameError:\n",
    "    pass\n",
    "\n",
    "import bokeh.plotting as bpl\n",
    "bpl.output_notebook()\n",
    "\n",
    "logging.basicConfig(format=\n",
    "                          \"%(relativeCreated)12d [%(filename)s:%(funcName)20s():%(lineno)s] [%(process)d] %(message)s\",\n",
    "                    # filename=\"/tmp/caiman.log\",\n",
    "                    level=logging.WARNING)\n",
    "\n",
    "import time\n",
    "from sklearn.cluster import HDBSCAN\n",
    "from scipy.spatial.distance import pdist,squareform\n",
    "from itertools import chain\n",
    "\n",
    "from IPython.display import clear_output\n",
    "from scipy.ndimage import center_of_mass\n",
    "import scipy\n",
    "\n",
    "import pickle\n",
    "\n",
    "def load_pickle(file_path):\n",
    "    \"\"\"\n",
    "    Load a dictionary from a pickle file.\n",
    "\n",
    "    Args:\n",
    "    - file_path (str): Path to the pickle file.\n",
    "\n",
    "    Returns:\n",
    "    - dict: Loaded dictionary.\n",
    "    \"\"\"\n",
    "    with open(file_path, 'rb') as f:\n",
    "        data = pickle.load(f)\n",
    "    return data"
   ]
  },
  {
   "cell_type": "code",
   "execution_count": 6,
   "id": "4dd11712-5e37-4fe6-94b8-52662a1d20f2",
   "metadata": {},
   "outputs": [],
   "source": [
    "#optimizing things from here - actually just stick with joblib/loky and take the L on timing - might not even be a CPU issue but data saving?\n",
    "import contextlib\n",
    "import joblib\n",
    "from tqdm import tqdm\n",
    "\n",
    "@contextlib.contextmanager\n",
    "def tqdm_joblib(tqdm_object):\n",
    "    \"\"\"Context manager to patch joblib to report into tqdm progress bar given as argument\"\"\"\n",
    "    class TqdmBatchCompletionCallback(joblib.parallel.BatchCompletionCallBack):\n",
    "        def __call__(self, *args, **kwargs):\n",
    "            tqdm_object.update(n=self.batch_size)\n",
    "            return super().__call__(*args, **kwargs)\n",
    "\n",
    "    old_batch_callback = joblib.parallel.BatchCompletionCallBack\n",
    "    joblib.parallel.BatchCompletionCallBack = TqdmBatchCompletionCallback\n",
    "    try:\n",
    "        yield tqdm_object\n",
    "    finally:\n",
    "        joblib.parallel.BatchCompletionCallBack = old_batch_callback\n",
    "        tqdm_object.close()"
   ]
  },
  {
   "cell_type": "code",
   "execution_count": 7,
   "id": "da6d0b9f-55b9-4677-99db-e5e38fb805fd",
   "metadata": {},
   "outputs": [],
   "source": [
    "# load in all movies to be used in this set of figures:\n",
    "# paired/matched dippings - ref movie and all after, exclude pre-ref for the few non-001 ref probes\n",
    "# paired/matched invivo movies (LV only, exclude parenchymal for now)\n",
    "# paired/matched invivo dipping\n",
    "# paired/matched slice movies\n",
    "# paired/matched slide dipping\n",
    "\n",
    "movie_sets_dipping = [[r'\\\\NASQUATCH\\data\\2p\\peter\\dipping\\20230915_PL52\\wells001\\preprocessing\\20230915_PL52_wells001_Yael_Done_qc_doneqc',\n",
    "                     r'\\\\NASQUATCH\\data\\2p\\peter\\dipping\\20230915_PL52\\wells001\\preprocessing\\20230915_PL52_wells001_Yael_Done_qc_doneqc',\n",
    "                     r'\\\\NASQUATCH\\data\\2p\\peter\\dipping\\20230915_PL52\\wells001\\preprocessing\\20230915_PL52_wells001_Yael_Done_qc_doneqc',\n",
    "                     r'\\\\NASQUATCH\\data\\2p\\peter\\dipping\\20230915_PL52\\wells001\\preprocessing\\20230915_PL52_wells001_Yael_Done_qc_doneqc',\n",
    "                     r'\\\\NASQUATCH\\data\\2p\\peter\\dipping\\20230915_PL52\\wells101\\preprocessing\\20230915_PL52_wells101_Yael_Done_qc_doneqc',\n",
    "                     r'\\\\NASQUATCH\\data\\2p\\peter\\dipping\\20230915_PL52\\wells201\\preprocessing\\20230915_PL52_wells201_Yael_Done_qc_doneqc',\n",
    "                     r'\\\\NASQUATCH\\data\\2p\\peter\\dipping\\20230915_PL52\\wells301\\preprocessing\\20230915_PL52_wells301_Yael_Done_qc_doneqc',\n",
    "                     r'\\\\NASQUATCH\\data\\2p\\peter\\dipping\\20230915_PL52\\wells401\\preprocessing\\20230915_PL52_wells401_Yael_Done_qc_doneqc'],\n",
    "                     [r'\\\\NASQUATCH\\data\\2p\\peter\\dipping\\20230916_PL48\\wells001\\preprocessing\\20230916_PL48_wells001_Tiara_done_qc_doneqc',\n",
    "                     r'\\\\NASQUATCH\\data\\2p\\peter\\dipping\\20230916_PL48\\wells101\\preprocessing\\20230916_PL48_wells101_Tiara_done_qc_doneqc'],\n",
    "                     [r'\\\\NASQUATCH\\data\\2p\\peter\\dipping\\20230916_PL54\\wells001\\preprocessing\\20230916_PL54_wells001_jordan_done_qc_doneqc',\n",
    "                     r'\\\\NASQUATCH\\data\\2p\\peter\\dipping\\20230916_PL54\\wells001\\preprocessing\\20230916_PL54_wells001_jordan_done_qc_doneqc',\n",
    "                     r'\\\\NASQUATCH\\data\\2p\\peter\\dipping\\20230916_PL54\\wells001\\preprocessing\\20230916_PL54_wells001_jordan_done_qc_doneqc',\n",
    "                     r'\\\\NASQUATCH\\data\\2p\\peter\\dipping\\20230916_PL54\\wells001\\preprocessing\\20230916_PL54_wells001_jordan_done_qc_doneqc',\n",
    "                     r'\\\\NASQUATCH\\data\\2p\\peter\\dipping\\20230916_PL54\\wells001\\preprocessing\\20230916_PL54_wells001_jordan_done_qc_doneqc',\n",
    "                     r'\\\\NASQUATCH\\data\\2p\\peter\\dipping\\20230916_PL54\\wells101\\preprocessing\\20230916_PL54_wells101_jordan_done_qc_doneqc',\n",
    "                     r'\\\\NASQUATCH\\data\\2p\\peter\\dipping\\20230916_PL54\\wells201\\preprocessing\\20230916_PL54_wells201_jordan_done_qc_doneqc',\n",
    "                     r'\\\\NASQUATCH\\data\\2p\\peter\\dipping\\20230916_PL54\\wells301\\preprocessing\\20230916_PL54_wells301_jordan_done_qc_doneqc',\n",
    "                     r'\\\\NASQUATCH\\data\\2p\\peter\\dipping\\20230916_PL54\\wells401\\preprocessing\\20230916_PL54_wells401_jordan_done_qc_doneqc',\n",
    "                     r'\\\\NASQUATCH\\data\\2p\\peter\\dipping\\20230916_PL54\\wells501\\preprocessing\\20230916_PL54_wells501_jordan_done_qc_doneqc'],\n",
    "                     [r'\\\\NASQUATCH\\data\\2p\\peter\\dipping\\20230920_PL58\\wells001\\preprocessing\\20230920_PL58_wells001_Done_qc_doneqc',\n",
    "                     r'\\\\NASQUATCH\\data\\2p\\peter\\dipping\\20230920_PL58\\wells001\\preprocessing\\20230920_PL58_wells001_Done_qc_doneqc',\n",
    "                     r'\\\\NASQUATCH\\data\\2p\\peter\\dipping\\20230920_PL58\\wells001\\preprocessing\\20230920_PL58_wells001_Done_qc_doneqc',\n",
    "                     r'\\\\NASQUATCH\\data\\2p\\peter\\dipping\\20230920_PL58\\wells101\\preprocessing\\20230920_PL58_wells101_Done_qc_doneqc',\n",
    "                     r'\\\\NASQUATCH\\data\\2p\\peter\\dipping\\20230920_PL58\\wells201\\preprocessing\\20230920_PL58_wells201_Done_qc_doneqc',\n",
    "                     r'\\\\NASQUATCH\\data\\2p\\peter\\dipping\\20230920_PL58\\wells301\\preprocessing\\20230920_PL58_wells301_Done_qc_doneqc'],\n",
    "                     [r'\\\\NASQUATCH\\data\\2p\\peter\\dipping\\20230922_PL28\\wells001\\preprocessing\\20230922_PL28_wells001_jordan_done_qc_done',\n",
    "                     r'\\\\NASQUATCH\\data\\2p\\peter\\dipping\\20230922_PL28\\wells001\\preprocessing\\20230922_PL28_wells001_jordan_done_qc_done',\n",
    "                     r'\\\\NASQUATCH\\data\\2p\\peter\\dipping\\20230922_PL28\\wells001\\preprocessing\\20230922_PL28_wells001_jordan_done_qc_done',\n",
    "                     r'\\\\NASQUATCH\\data\\2p\\peter\\dipping\\20230922_PL28\\wells001\\preprocessing\\20230922_PL28_wells001_jordan_done_qc_done',\n",
    "                     r'\\\\NASQUATCH\\data\\2p\\peter\\dipping\\20230922_PL28\\wells001\\preprocessing\\20230922_PL28_wells001_jordan_done_qc_done',\n",
    "                     r'\\\\NASQUATCH\\data\\2p\\peter\\dipping\\20230922_PL28\\wells001\\preprocessing\\20230922_PL28_wells001_jordan_done_qc_done',\n",
    "                     r'\\\\NASQUATCH\\data\\2p\\peter\\dipping\\20230922_PL28\\wells001\\preprocessing\\20230922_PL28_wells001_jordan_done_qc_done',\n",
    "                     r'\\\\NASQUATCH\\data\\2p\\peter\\dipping\\20230922_PL28\\wells101\\preprocessing\\20230922_PL28_wells101_david_done_qc_doneqc',\n",
    "                     r'\\\\NASQUATCH\\data\\2p\\peter\\dipping\\20230922_PL28\\wells201\\preprocessing\\20230922_PL28_wells201_maddy_done_qc_done',\n",
    "                     r'\\\\NASQUATCH\\data\\2p\\peter\\dipping\\20230922_PL28\\wells301\\preprocessing\\20230922_PL28_wells301_david_done_qc_doneqc',\n",
    "                     r'\\\\NASQUATCH\\data\\2p\\peter\\dipping\\20230922_PL28\\wells401\\preprocessing\\20230922_PL28_wells401_Tiara_done_qc_done',\n",
    "                     r'\\\\NASQUATCH\\data\\2p\\peter\\dipping\\20230922_PL28\\wells501\\preprocessing\\20230922_PL28_wells501_david_done_qc_doneqc',\n",
    "                     r'\\\\NASQUATCH\\data\\2p\\peter\\dipping\\20230922_PL28\\wells601\\preprocessing\\20230922_PL28_wells601_david_done_qc_doneqc',\n",
    "                     r'\\\\NASQUATCH\\data\\2p\\peter\\dipping\\20230922_PL28\\wells701\\preprocessing\\20230922_PL28_wells701_david_done_qc_doneqc'],\n",
    "                     [r'\\\\NASQUATCH\\data\\2p\\peter\\dipping\\20230923_PL35\\wells001\\preprocessing\\20230923_PL35_wells001_Tiara_done_qc_doneqc',\n",
    "                     r'\\\\NASQUATCH\\data\\2p\\peter\\dipping\\20230923_PL35\\wells001\\preprocessing\\20230923_PL35_wells001_Tiara_done_qc_doneqc',\n",
    "                     r'\\\\NASQUATCH\\data\\2p\\peter\\dipping\\20230923_PL35\\wells001\\preprocessing\\20230923_PL35_wells001_Tiara_done_qc_doneqc',\n",
    "                     r'\\\\NASQUATCH\\data\\2p\\peter\\dipping\\20230923_PL35\\wells001\\preprocessing\\20230923_PL35_wells001_Tiara_done_qc_doneqc',\n",
    "                     r'\\\\NASQUATCH\\data\\2p\\peter\\dipping\\20230923_PL35\\wells001\\preprocessing\\20230923_PL35_wells001_Tiara_done_qc_doneqc',\n",
    "                     r'\\\\NASQUATCH\\data\\2p\\peter\\dipping\\20230923_PL35\\wells101\\preprocessing\\20230923_PL35_wells101_Yael_Done_qc_doneqc',\n",
    "                     r'\\\\NASQUATCH\\data\\2p\\peter\\dipping\\20230923_PL35\\wells201\\preprocessing\\20230923_PL35_wells201_Yael_Done_qc_doneqc',\n",
    "                     r'\\\\NASQUATCH\\data\\2p\\peter\\dipping\\20230923_PL35\\wells301\\preprocessing\\20230923_PL35_wells301_Yael_Done_qc_doneqc',\n",
    "                     r'\\\\NASQUATCH\\data\\2p\\peter\\dipping\\20230923_PL35\\wells401\\preprocessing\\20230923_PL35_wells401_Yael_Done_qc_doneqc',\n",
    "                     r'\\\\NASQUATCH\\data\\2p\\peter\\dipping\\20230923_PL35\\wells501\\preprocessing\\20230923_PL35_wells501_Yael_Done_qc_doneqc'],\n",
    "                     [r'\\\\NASQUATCH\\data\\2p\\peter\\dipping\\20230925_PL58\\wells001\\preprocessing\\20230925_PL58_wells001_jordan_done_qc_doneqc',\n",
    "                     r'\\\\NASQUATCH\\data\\2p\\peter\\dipping\\20230925_PL58\\wells001\\preprocessing\\20230925_PL58_wells001_jordan_done_qc_doneqc',\n",
    "                     r'\\\\NASQUATCH\\data\\2p\\peter\\dipping\\20230925_PL58\\wells001\\preprocessing\\20230925_PL58_wells001_jordan_done_qc_doneqc',\n",
    "                     r'\\\\NASQUATCH\\data\\2p\\peter\\dipping\\20230925_PL58\\wells001\\preprocessing\\20230925_PL58_wells001_jordan_done_qc_doneqc',\n",
    "                     r'\\\\NASQUATCH\\data\\2p\\peter\\dipping\\20230925_PL58\\wells101\\preprocessing\\20230925_PL58_wells101_Tiara_done_qc_doneqc',\n",
    "                     r'\\\\NASQUATCH\\data\\2p\\peter\\dipping\\20230925_PL58\\wells201\\preprocessing\\20230925_PL58_wells201_Tiara_done_qc_doneqc',\n",
    "                     r'\\\\NASQUATCH\\data\\2p\\peter\\dipping\\20230925_PL58\\wells301\\preprocessing\\20230925_PL58_wells301_Tiara_done_qc_doneqc',\n",
    "                     r'\\\\NASQUATCH\\data\\2p\\peter\\dipping\\20230925_PL58\\wells401\\preprocessing\\20230925_PL58_wells401_Tiara_done_qc_doneqc'],\n",
    "                     [r'\\\\NASQUATCH\\data\\2p\\peter\\dipping\\20230926_PL56\\wells001\\preprocessing\\20230926_PL56_wells001_Done_qc_doneqc',\n",
    "                     r'\\\\NASQUATCH\\data\\2p\\peter\\dipping\\20230926_PL56\\wells001\\preprocessing\\20230926_PL56_wells001_Done_qc_doneqc',\n",
    "                     r'\\\\NASQUATCH\\data\\2p\\peter\\dipping\\20230926_PL56\\wells001\\preprocessing\\20230926_PL56_wells001_Done_qc_doneqc',\n",
    "                     r'\\\\NASQUATCH\\data\\2p\\peter\\dipping\\20230926_PL56\\wells001\\preprocessing\\20230926_PL56_wells001_Done_qc_doneqc',\n",
    "                     r'\\\\NASQUATCH\\data\\2p\\peter\\dipping\\20230926_PL56\\wells001\\preprocessing\\20230926_PL56_wells001_Done_qc_doneqc',\n",
    "                     r'\\\\NASQUATCH\\data\\2p\\peter\\dipping\\20230926_PL56\\wells101\\preprocessing\\20230926_PL56_wells101_Done_qc_doneqc',\n",
    "                     r'\\\\NASQUATCH\\data\\2p\\peter\\dipping\\20230926_PL56\\wells201\\preprocessing\\20230926_PL56_wells201_jordan_done_qc_doneqc',\n",
    "                     r'\\\\NASQUATCH\\data\\2p\\peter\\dipping\\20230926_PL56\\wells301\\preprocessing\\20230926_PL56_wells301_jordan_done_qc_doneqc',\n",
    "                     r'\\\\NASQUATCH\\data\\2p\\peter\\dipping\\20230926_PL56\\wells401\\preprocessing\\20230926_PL56_wells401_david_done_qc_doneqc',\n",
    "                     r'\\\\NASQUATCH\\data\\2p\\peter\\dipping\\20230926_PL56\\wells501\\preprocessing\\20230926_PL56_wells501_david_done_qc_doneqc'],\n",
    "                     [r'\\\\NASQUATCH\\data\\2p\\peter\\dipping\\20230927_PL34\\wells001\\preprocessing\\20230927_PL34_wells001_david_done_qc_doneqc',\n",
    "                     r'\\\\NASQUATCH\\data\\2p\\peter\\dipping\\20230927_PL34\\wells001\\preprocessing\\20230927_PL34_wells001_david_done_qc_doneqc',\n",
    "                     r'\\\\NASQUATCH\\data\\2p\\peter\\dipping\\20230927_PL34\\wells001\\preprocessing\\20230927_PL34_wells001_david_done_qc_doneqc',\n",
    "                     r'\\\\NASQUATCH\\data\\2p\\peter\\dipping\\20230927_PL34\\wells101\\preprocessing\\20230927_PL34_wells101_Done_qc_doneqc',\n",
    "                     r'\\\\NASQUATCH\\data\\2p\\peter\\dipping\\20230927_PL34\\wells201\\preprocessing\\20230927_PL34_wells201_david_done_qc_doneqc',\n",
    "                     r'\\\\NASQUATCH\\data\\2p\\peter\\dipping\\20230927_PL34\\wells301\\preprocessing\\20230927_PL34_wells301_Done_qc_doneqc'],\n",
    "                     [r'\\\\NASQUATCH\\data\\2p\\peter\\dipping\\20230927_PL58\\wells001\\preprocessing\\20230927_PL58_wells001_david_done_qc_doneqc',\n",
    "                     r'\\\\NASQUATCH\\data\\2p\\peter\\dipping\\20230927_PL58\\wells001\\preprocessing\\20230927_PL58_wells001_david_done_qc_doneqc',\n",
    "                     r'\\\\NASQUATCH\\data\\2p\\peter\\dipping\\20230927_PL58\\wells001\\preprocessing\\20230927_PL58_wells001_david_done_qc_doneqc',\n",
    "                     r'\\\\NASQUATCH\\data\\2p\\peter\\dipping\\20230927_PL58\\wells101\\preprocessing\\20230927_PL58_wells101_david_done_qc_doneqc',\n",
    "                     r'\\\\NASQUATCH\\data\\2p\\peter\\dipping\\20230927_PL58\\wells201\\preprocessing\\20230927_PL58_wells201_david_done_qc_doneqc',\n",
    "                     r'\\\\NASQUATCH\\data\\2p\\peter\\dipping\\20230927_PL58\\wells301\\preprocessing\\20230927_PL58_wells301_david_done_qc_doneqc']]\n",
    "pythonic_dipping = [np.arange(len(movie_sets_dipping[i])/2).astype('int').tolist()*2 for i in range(len(movie_sets_dipping))]\n",
    "\n",
    "movie_list_invivo = [r'\\\\NASQUATCH\\data\\2p\\peter\\in_vivo\\220216_PK25PL8\\mouse\\preprocessing\\220216_PK25PL8_mouse_david_done_qc_doneqc',\n",
    "                    r'\\\\NASQUATCH\\data\\2p\\peter\\in_vivo\\220311_PK24PL9\\mouse\\preprocessing\\220311_PK24PL9_mouse_Tiara_done_qc_doneqc',\n",
    "                    r'\\\\NASQUATCH\\data\\2p\\peter\\in_vivo\\220406_PK24PL10\\mouse\\preprocessing\\220406_PK24PL10_mouse_jordan_done_qc_doneqc',\n",
    "                    r'\\\\NASQUATCH\\data\\2p\\peter\\in_vivo\\220408_PK27PL20\\mouse\\preprocessing\\220408_PK27PL20_mouse_maddy_done_qc_done',\n",
    "                    r'\\\\NASQUATCH\\data\\2p\\peter\\in_vivo\\220427_PK27PL20\\mouse\\preprocessing\\220427_PK27PL20_mouse_Tiara_done_qc_doneqc',\n",
    "                    r'\\\\NASQUATCH\\data\\2p\\peter\\in_vivo\\220622_PK44PL17\\mouse\\preprocessing\\220622_PK44PL17_mouse_Tiara_done_qc_doneqc',\n",
    "                    r'\\\\NASQUATCH\\data\\2p\\peter\\in_vivo\\220624_PK45PL13\\mouse\\preprocessing\\220624_PK45PL13_mouse_Tiara_done_qc_doneqc',\n",
    "                    r'\\\\NASQUATCH\\data\\2p\\peter\\in_vivo\\220701_PK49PL18\\mouse\\preprocessing\\220701_PK49PL18_mouse_jordan_done_qc_doneqc',\n",
    "                    r'\\\\NASQUATCH\\data\\2p\\peter\\in_vivo\\220903_PK63PL34\\mouse\\preprocessing\\220903_PK63PL34_mouse_Done_qc_doneqc',\n",
    "                    r'\\\\NASQUATCH\\data\\2p\\peter\\in_vivo\\221018_PS10PL24\\mouse\\preprocessing\\221018_PS10PL24_mouse_Yael_Done_qc_doneqc',\n",
    "                    r'\\\\NASQUATCH\\data\\2p\\peter\\in_vivo\\230519_DG41PL52\\mouse\\preprocessing\\230519_DG41PL52_mouse_Done_qc_doneqc',\n",
    "                    r'\\\\NASQUATCH\\data\\2p\\peter\\in_vivo\\230525_DG42PL39\\mouse\\preprocessing\\230525_DG42PL39_mouse_Tiara_done_qc_doneqc',\n",
    "                    r'\\\\NASQUATCH\\data\\2p\\peter\\in_vivo\\230526_PK84PL50\\mouse\\preprocessing\\230526_PK84PL50_mouse_Yael_Done_qc_done',\n",
    "                    r'\\\\NASQUATCH\\data\\2p\\peter\\in_vivo\\230726_DG47PL54\\mouse\\preprocessing\\230726_DG47PL54_mouse_jordan_done_qc_doneqc',\n",
    "                    r'\\\\NASQUATCH\\data\\2p\\peter\\in_vivo\\230802_DG48PL58\\mouse\\preprocessing\\230802_DG48PL58_mouse_Done_qc_doneqc',\n",
    "                    r'\\\\NASQUATCH\\data\\2p\\peter\\in_vivo\\231018_DG52PL66\\mouse\\preprocessing\\231018_DG52PL66_mouse_Tiara_done_qc_doneqc',\n",
    "                    r'\\\\NASQUATCH\\data\\2p\\peter\\in_vivo\\231024_DG54PL61\\mouse\\preprocessing\\231024_DG54PL61_mouse_Done_qc_doneqc',\n",
    "                    r'\\\\NASQUATCH\\data\\2p\\peter\\in_vivo\\231025_DG56PL62\\mouse\\preprocessing\\231025_DG56PL62_mouse_jordan_done_qc_doneqc',\n",
    "                    r'\\\\NASQUATCH\\data\\2p\\peter\\in_vivo\\231030_DG60PL67\\mouse\\preprocessing\\231030_DG60PL67_mouse_Yael_Done_qc_doneqc',\n",
    "                    r'\\\\NASQUATCH\\data\\2p\\peter\\in_vivo\\231105_DG39PL32\\mouse\\preprocessing\\231105_DG39PL32_mouse_maddy_done_qc_done',\n",
    "                    r'\\\\NASQUATCH\\data\\2p\\peter\\in_vivo\\231107_DG44PL58\\mouse\\preprocessing\\231107_DG44PL58_mouse_maddy_done_qc_done',\n",
    "                    r'\\\\NASQUATCH\\data\\2p\\peter\\in_vivo\\231108_DG61PL62\\mouse\\preprocessing\\231108_DG61PL62_mouse_maddy_done_qc_done']\n",
    "\n",
    "movie_list_invivo_d = [r'\\\\NASQUATCH\\data\\2p\\peter\\in_vivo\\220216_PK25PL8\\wells101\\preprocessing\\220216_PK25PL8_wells101_david_done_qc_doneqc',\n",
    "                      r'\\\\NASQUATCH\\data\\2p\\peter\\in_vivo\\220311_PK24PL9\\wells101\\preprocessing\\220311_PK24PL9_wells101_Tiara_done_qc_doneqc',\n",
    "                      r'\\\\NASQUATCH\\data\\2p\\peter\\in_vivo\\220406_PK24PL10\\wells101\\preprocessing\\220406_PK24PL10_wells101_jordan_done_qc_doneqc',\n",
    "                      r'\\\\NASQUATCH\\data\\2p\\peter\\in_vivo\\220408_PK27PL20\\wells101\\preprocessing\\220408_PK27PL20_wells101_maddy_done_qc_done',\n",
    "                      r'\\\\NASQUATCH\\data\\2p\\peter\\in_vivo\\220427_PK27PL20\\wells101\\preprocessing\\220427_PK27PL20_wells101_Tiara_done_qc_doneqc',\n",
    "                      r'\\\\NASQUATCH\\data\\2p\\peter\\in_vivo\\220622_PK44PL17\\wells101\\preprocessing\\220622_PK44PL17_wells101_Tiara_done_qc_doneqc',\n",
    "                      r'\\\\NASQUATCH\\data\\2p\\peter\\in_vivo\\220624_PK45PL13\\wells101\\preprocessing\\220624_PK45PL13_wells101_Tiara_done_qc_doneqc',\n",
    "                      r'\\\\NASQUATCH\\data\\2p\\peter\\in_vivo\\220701_PK49PL18\\wells101\\preprocessing\\220701_PK49PL18_wells101_jordan_done_qc_doneqc',\n",
    "                      r'\\\\NASQUATCH\\data\\2p\\peter\\in_vivo\\220903_PK63PL34\\wells101\\preprocessing\\220903_PK63PL34_wells101_Done_qc_doneqc',\n",
    "                      r'\\\\NASQUATCH\\data\\2p\\peter\\in_vivo\\221018_PS10PL24\\wells101\\preprocessing\\221018_PS10PL24_wells101_Yael_Done_qc_doneqc',\n",
    "                      r'\\\\NASQUATCH\\data\\2p\\peter\\in_vivo\\230519_DG41PL52\\wells101\\preprocessing\\230519_DG41PL52_wells101_Done_qc_done',\n",
    "                      r'\\\\NASQUATCH\\data\\2p\\peter\\in_vivo\\230525_DG42PL39\\wells101\\preprocessing\\230525_DG42PL39_wells101_Tiara_done_qc_doneqc',\n",
    "                      r'\\\\NASQUATCH\\data\\2p\\peter\\in_vivo\\230526_PK84PL50\\wells101\\preprocessing\\230526_PK84PL50_wells101_Yael_Done_qc_done',\n",
    "                      r'\\\\NASQUATCH\\data\\2p\\peter\\in_vivo\\230726_DG47PL54\\wells101\\preprocessing\\230726_DG47PL54_wells101_jordan_done_qc_doneqc',\n",
    "                      r'\\\\NASQUATCH\\data\\2p\\peter\\in_vivo\\230802_DG48PL58\\wells101\\preprocessing\\230802_DG48PL58_wells101_Done_qc_doneqc',\n",
    "                      r'\\\\NASQUATCH\\data\\2p\\peter\\in_vivo\\231018_DG52PL66\\wells101\\preprocessing\\231018_DG52PL66_wells101_Tiara_done_qc_doneqc',\n",
    "                      r'\\\\NASQUATCH\\data\\2p\\peter\\in_vivo\\231024_DG54PL61\\wells\\preprocessing\\231024_DG54PL61_wells_maddy_done_qc_done',\n",
    "                      r'\\\\NASQUATCH\\data\\2p\\peter\\in_vivo\\231025_DG56PL62\\wells\\preprocessing\\231025_DG56PL62_wells_jordan_done_qc_done',\n",
    "                      r'\\\\NASQUATCH\\data\\2p\\peter\\in_vivo\\231030_DG60PL67\\wells\\preprocessing\\231030_DG60PL67_wells_maddy_done_qc_done',\n",
    "                      r'\\\\NASQUATCH\\data\\2p\\peter\\in_vivo\\231105_DG39PL32\\wells\\preprocessing\\231105_DG39PL32_wells_maddy_done_qc_done',\n",
    "                      r'\\\\NASQUATCH\\data\\2p\\peter\\in_vivo\\231107_DG44PL58\\wells\\preprocessing\\231107_DG44PL58_wells_david_done_qc_doneqc',\n",
    "                      r'\\\\NASQUATCH\\data\\2p\\peter\\in_vivo\\231108_DG61PL62\\wells\\preprocessing\\231108_DG61PL62_wells_maddy_done_qc_done']\n",
    "\n",
    "movie_list_slice = [r'\\\\NASQUATCH\\data\\2p\\peter\\slice\\20230509_DA1PL53\\slice\\preprocessing\\20230509_DA1PL53_slice_Yael_Done_qc_done_m',\n",
    "                   r'\\\\NASQUATCH\\data\\2p\\peter\\slice\\20230607_SL1PL47\\slice\\preprocessing\\20230607_SL1PL47_slice_Done_qc_doneqc_m',\n",
    "                   r'\\\\NASQUATCH\\data\\2p\\peter\\slice\\20230801_SL1PL35\\slice\\preprocessing\\20230801_SL1PL35_slice_maddy_done_qc_done_m',\n",
    "                   r'\\\\NASQUATCH\\data\\2p\\peter\\slice\\20230817_SL1PL55\\slice\\preprocessing\\20230817_SL1PL55_slice_maddy_done_qc_done_m', #\n",
    "                   r'\\\\NASQUATCH\\data\\2p\\peter\\slice\\20230817_SL1PL55\\slice\\preprocessing\\20230817_SL1PL55_slice_maddy_done_qc_done_m', #\n",
    "                   r'\\\\NASQUATCH\\data\\2p\\peter\\slice\\20230822_SL2PL52\\slice\\preprocessing\\20230822_SL2PL52_slice_maddy_done_qc_done_m',\n",
    "                   r'\\\\NASQUATCH\\data\\2p\\peter\\slice\\20230824_SL1PL60\\slice\\preprocessing\\20230824_SL1PL60_slice_charlotte_done_qc_doneqc_m', #\n",
    "                   r'\\\\NASQUATCH\\data\\2p\\peter\\slice\\20230824_SL1PL60\\slice\\preprocessing\\20230824_SL1PL60_slice_charlotte_done_qc_doneqc_m', #\n",
    "                   r'\\\\NASQUATCH\\data\\2p\\peter\\slice\\20230829_SL1PL56\\slice\\preprocessing\\20230829_SL1PL56_slice_Tiara_done_qc_done_m',\n",
    "                   r'\\\\NASQUATCH\\data\\2p\\peter\\slice\\20230830_SL1PL28\\slice\\preprocessing\\20230830_SL1PL28_slice_maddy_done_qc_done_m',\n",
    "                   r'\\\\NASQUATCH\\data\\2p\\peter\\slice\\20230831_SL1PL55\\slice\\preprocessing\\20230831_SL1PL55_slice_Yael_Done_qc_done_m']\n",
    "\n",
    "movie_list_slice_d = [r'\\\\NASQUATCH\\data\\2p\\peter\\slice\\20230509_DA1PL53\\wells101\\preprocessing\\20230509_DA1PL53_wells101_Yael_Done_qc_doneqc_m',\n",
    "                     r'\\\\NASQUATCH\\data\\2p\\peter\\slice\\20230607_SL1PL47\\wells001\\preprocessing\\20230607_SL1PL47_wells001_Done_qc_doneqc_m',\n",
    "                     r'\\\\NASQUATCH\\data\\2p\\peter\\slice\\20230801_SL1PL35\\wells101\\preprocessing\\20230801_SL1PL35_wells101_maddy_done_qc_doneqc_m',\n",
    "                     r'\\\\NASQUATCH\\data\\2p\\peter\\slice\\20230817_SL1PL55\\wells001\\preprocessing\\20230817_SL1PL55_wells001_maddy_done_qc_done_m',\n",
    "                     r'\\\\NASQUATCH\\data\\2p\\peter\\slice\\20230817_SL1PL55\\wells101\\preprocessing\\20230817_SL1PL55_wells101_maddy_done_qc_done_m', #pythonic!\n",
    "                     r'\\\\NASQUATCH\\data\\2p\\peter\\slice\\20230822_SL2PL52\\wells001\\preprocessing\\20230822_SL2PL52_wells001_maddy_done_qc_doneqc_m',\n",
    "                     r'\\\\NASQUATCH\\data\\2p\\peter\\slice\\20230824_SL1PL60\\wells001\\preprocessing\\20230824_SL1PL60_wells001_charlotte_done_qc_doneqc_m',\n",
    "                     r'\\\\NASQUATCH\\data\\2p\\peter\\slice\\20230824_SL1PL60\\wells101\\preprocessing\\20230824_SL1PL60_wells101_charlotte_done_qc_doneqc_m', #pythonic!\n",
    "                     r'\\\\NASQUATCH\\data\\2p\\peter\\slice\\20230829_SL1PL56\\wells001\\preprocessing\\20230829_SL1PL56_wells001_done_qc_done_m',\n",
    "                     r'\\\\NASQUATCH\\data\\2p\\peter\\slice\\20230830_SL1PL28\\wells001\\preprocessing\\20230830_SL1PL28_wells001_Done_qc_doneqc_m',\n",
    "                     r'\\\\NASQUATCH\\data\\2p\\peter\\slice\\20230831_SL1PL55\\wells001\\preprocessing\\20230831_SL1PL55_wells001_Yael_Done_qc_doneqc_m']\n",
    "pythonic_slice = [0,0,0,0,1,0,0,1,0,0,0]"
   ]
  },
  {
   "cell_type": "code",
   "execution_count": 8,
   "id": "fc8a118e-7168-4b1d-bba8-2f344ad6d995",
   "metadata": {
    "scrolled": true
   },
   "outputs": [
    {
     "data": {
      "application/vnd.jupyter.widget-view+json": {
       "model_id": "2ed0f6d13b804e8d8e0d086ced4d6059",
       "version_major": 2,
       "version_minor": 0
      },
      "text/plain": [
       "  0%|          | 0/10 [00:00<?, ?it/s]"
      ]
     },
     "metadata": {},
     "output_type": "display_data"
    },
    {
     "data": {
      "application/vnd.jupyter.widget-view+json": {
       "model_id": "a07a2a52e50b4c47864f31dff308f196",
       "version_major": 2,
       "version_minor": 0
      },
      "text/plain": [
       "  0%|          | 0/8 [00:00<?, ?it/s]"
      ]
     },
     "metadata": {},
     "output_type": "display_data"
    },
    {
     "data": {
      "application/vnd.jupyter.widget-view+json": {
       "model_id": "d603ad73d5e54dd084a2a23d5f459a38",
       "version_major": 2,
       "version_minor": 0
      },
      "text/plain": [
       "  0%|          | 0/2 [00:00<?, ?it/s]"
      ]
     },
     "metadata": {},
     "output_type": "display_data"
    },
    {
     "data": {
      "application/vnd.jupyter.widget-view+json": {
       "model_id": "1bb5bc81491546108ecc3dd9d0f02eae",
       "version_major": 2,
       "version_minor": 0
      },
      "text/plain": [
       "  0%|          | 0/10 [00:00<?, ?it/s]"
      ]
     },
     "metadata": {},
     "output_type": "display_data"
    },
    {
     "data": {
      "application/vnd.jupyter.widget-view+json": {
       "model_id": "ebc8e3968c344012a3dcaf9c1d81facc",
       "version_major": 2,
       "version_minor": 0
      },
      "text/plain": [
       "  0%|          | 0/6 [00:00<?, ?it/s]"
      ]
     },
     "metadata": {},
     "output_type": "display_data"
    },
    {
     "data": {
      "application/vnd.jupyter.widget-view+json": {
       "model_id": "b731eb8ee4c14e9dbb64fc75ba6b1c0b",
       "version_major": 2,
       "version_minor": 0
      },
      "text/plain": [
       "  0%|          | 0/14 [00:00<?, ?it/s]"
      ]
     },
     "metadata": {},
     "output_type": "display_data"
    },
    {
     "data": {
      "application/vnd.jupyter.widget-view+json": {
       "model_id": "2905a8f9b9c34acb9548216ee595fdf2",
       "version_major": 2,
       "version_minor": 0
      },
      "text/plain": [
       "  0%|          | 0/10 [00:00<?, ?it/s]"
      ]
     },
     "metadata": {},
     "output_type": "display_data"
    },
    {
     "data": {
      "application/vnd.jupyter.widget-view+json": {
       "model_id": "d4e3572adde54fd0a7f74aadc0183c2c",
       "version_major": 2,
       "version_minor": 0
      },
      "text/plain": [
       "  0%|          | 0/8 [00:00<?, ?it/s]"
      ]
     },
     "metadata": {},
     "output_type": "display_data"
    },
    {
     "data": {
      "application/vnd.jupyter.widget-view+json": {
       "model_id": "3618a81d21ae474da99af07ecd78f2a7",
       "version_major": 2,
       "version_minor": 0
      },
      "text/plain": [
       "  0%|          | 0/10 [00:00<?, ?it/s]"
      ]
     },
     "metadata": {},
     "output_type": "display_data"
    },
    {
     "data": {
      "application/vnd.jupyter.widget-view+json": {
       "model_id": "d833a2a0285443e19cbaccc8d6309668",
       "version_major": 2,
       "version_minor": 0
      },
      "text/plain": [
       "  0%|          | 0/6 [00:00<?, ?it/s]"
      ]
     },
     "metadata": {},
     "output_type": "display_data"
    },
    {
     "data": {
      "application/vnd.jupyter.widget-view+json": {
       "model_id": "745ab792e04042048913eee45ee20644",
       "version_major": 2,
       "version_minor": 0
      },
      "text/plain": [
       "  0%|          | 0/6 [00:00<?, ?it/s]"
      ]
     },
     "metadata": {},
     "output_type": "display_data"
    }
   ],
   "source": [
    "cnmf_vals_dipping = []\n",
    "\n",
    "for k in trange(len(movie_sets_dipping)):\n",
    "    cnmf_vals_dipping_n = []\n",
    "    movie_sets_dipping_n = movie_sets_dipping[k]\n",
    "    pythonic_dipping_n = pythonic_dipping[k]\n",
    "    \n",
    "    for l in trange(len(movie_sets_dipping_n)):\n",
    "\n",
    "        cnmf_path = os.path.join(movie_sets_dipping_n[l], f'ch0_means_movie_nobg_cnmf_merged_refit.hdf5')\n",
    "        if pythonic_dipping_n[l]==0:\n",
    "            cnmf_m_path_matched = os.path.join(movie_sets_dipping_n[l], f'ch0_means_movie_nobg_cnmf_merged_refit_matched.hdf5')\n",
    "        else:\n",
    "            cnmf_m_path_matched = os.path.join(movie_sets_dipping_n[l], f'ch0_means_movie_nobg_cnmf_merged_refit_matched{pythonic_dipping_n[l]:01}.hdf5')\n",
    "            \n",
    "        vcnmf = cnmf.load_CNMF(cnmf_path,\n",
    "                              n_processes=1,\n",
    "                              dview=None)\n",
    "        \n",
    "        #vcnmf_m = cnmf.load_CNMF(cnmf_m_path,\n",
    "        #                        n_processes=1,\n",
    "        #                        dview=None)\n",
    "        \n",
    "        vcnmf_m_matched = cnmf.load_CNMF(cnmf_m_path_matched,\n",
    "                                        n_processes=1,\n",
    "                                        dview=None)\n",
    "    \n",
    "        cnmf_vals_dipping_n.append([vcnmf.estimates.C.shape,vcnmf_m_matched.estimates.C.shape]) #,vcnmf_m.estimates.C.shape\n",
    "    \n",
    "    cnmf_vals_dipping.append(cnmf_vals_dipping_n)"
   ]
  },
  {
   "cell_type": "code",
   "execution_count": 9,
   "id": "4096a33b-72a2-4f6c-9729-16c473708260",
   "metadata": {
    "scrolled": true
   },
   "outputs": [
    {
     "data": {
      "text/plain": [
       "[[[(183, 36), (61, 36)],\n",
       "  [(183, 36), (55, 36)],\n",
       "  [(183, 36), (54, 36)],\n",
       "  [(183, 36), (56, 36)],\n",
       "  [(177, 30), (61, 30)],\n",
       "  [(178, 63), (55, 63)],\n",
       "  [(212, 51), (54, 51)],\n",
       "  [(155, 39), (56, 39)]],\n",
       " [[(184, 51), (108, 51)], [(191, 81), (108, 81)]],\n",
       " [[(166, 36), (63, 36)],\n",
       "  [(166, 36), (64, 36)],\n",
       "  [(166, 36), (55, 36)],\n",
       "  [(166, 36), (53, 36)],\n",
       "  [(166, 36), (56, 36)],\n",
       "  [(193, 30), (63, 30)],\n",
       "  [(185, 51), (64, 51)],\n",
       "  [(175, 39), (55, 39)],\n",
       "  [(179, 30), (53, 30)],\n",
       "  [(179, 63), (56, 63)]],\n",
       " [[(133, 51), (71, 51)],\n",
       "  [(133, 51), (73, 51)],\n",
       "  [(133, 51), (60, 51)],\n",
       "  [(127, 30), (71, 30)],\n",
       "  [(121, 39), (73, 39)],\n",
       "  [(117, 63), (60, 63)]],\n",
       " [[(181, 51), (82, 51)],\n",
       "  [(181, 51), (99, 51)],\n",
       "  [(181, 51), (77, 51)],\n",
       "  [(181, 51), (96, 51)],\n",
       "  [(181, 51), (77, 51)],\n",
       "  [(181, 51), (67, 51)],\n",
       "  [(181, 51), (78, 51)],\n",
       "  [(196, 30), (82, 30)],\n",
       "  [(175, 39), (99, 39)],\n",
       "  [(173, 63), (77, 63)],\n",
       "  [(184, 36), (96, 36)],\n",
       "  [(204, 30), (77, 30)],\n",
       "  [(203, 30), (67, 30)],\n",
       "  [(198, 63), (78, 63)]],\n",
       " [[(170, 51), (98, 51)],\n",
       "  [(170, 51), (104, 51)],\n",
       "  [(170, 51), (98, 51)],\n",
       "  [(170, 51), (92, 51)],\n",
       "  [(170, 51), (99, 51)],\n",
       "  [(190, 75), (98, 75)],\n",
       "  [(224, 63), (104, 63)],\n",
       "  [(199, 63), (98, 63)],\n",
       "  [(213, 63), (92, 63)],\n",
       "  [(245, 63), (99, 63)]],\n",
       " [[(178, 51), (72, 51)],\n",
       "  [(178, 51), (61, 51)],\n",
       "  [(178, 51), (83, 51)],\n",
       "  [(178, 51), (91, 51)],\n",
       "  [(261, 30), (72, 30)],\n",
       "  [(199, 75), (61, 75)],\n",
       "  [(217, 63), (83, 63)],\n",
       "  [(220, 63), (91, 63)]],\n",
       " [[(168, 51), (91, 51)],\n",
       "  [(168, 51), (84, 51)],\n",
       "  [(168, 51), (78, 51)],\n",
       "  [(168, 51), (95, 51)],\n",
       "  [(168, 51), (79, 51)],\n",
       "  [(167, 63), (91, 63)],\n",
       "  [(166, 75), (84, 75)],\n",
       "  [(155, 63), (78, 63)],\n",
       "  [(274, 63), (95, 63)],\n",
       "  [(158, 63), (79, 63)]],\n",
       " [[(215, 51), (92, 51)],\n",
       "  [(215, 51), (96, 51)],\n",
       "  [(215, 51), (90, 51)],\n",
       "  [(147, 63), (92, 63)],\n",
       "  [(173, 75), (96, 75)],\n",
       "  [(125, 63), (90, 63)]],\n",
       " [[(228, 51), (94, 51)],\n",
       "  [(228, 51), (98, 51)],\n",
       "  [(228, 51), (77, 51)],\n",
       "  [(177, 63), (94, 63)],\n",
       "  [(183, 75), (98, 75)],\n",
       "  [(150, 63), (77, 63)]]]"
      ]
     },
     "execution_count": 9,
     "metadata": {},
     "output_type": "execute_result"
    }
   ],
   "source": [
    "cnmf_vals_dipping"
   ]
  },
  {
   "cell_type": "code",
   "execution_count": 10,
   "id": "0a0d2bdd-ffc2-4e33-afe8-23df014e17e8",
   "metadata": {},
   "outputs": [
    {
     "data": {
      "application/vnd.jupyter.widget-view+json": {
       "model_id": "094193f589384e3a979c4f0d8aff7063",
       "version_major": 2,
       "version_minor": 0
      },
      "text/plain": [
       "  0%|          | 0/22 [00:00<?, ?it/s]"
      ]
     },
     "metadata": {},
     "output_type": "display_data"
    }
   ],
   "source": [
    "cnmf_vals_invivo = []\n",
    "\n",
    "for l in trange(len(movie_list_invivo)):\n",
    "    cnmf_path = os.path.join(movie_list_invivo[l], f'ch0_means_movie_nobg_cnmf_merged_refit.hdf5')\n",
    "    #cnmf_m_path = os.path.join(movie_list_invivo[l], f'ch0_means_movie_nobg_cnmf_merged_m_refit.hdf5')\n",
    "    cnmf_m_path_matched = os.path.join(movie_list_invivo[l], f'ch0_means_movie_nobg_cnmf_merged_refit_matched.hdf5')\n",
    "    \n",
    "    vcnmf = cnmf.load_CNMF(cnmf_path,\n",
    "                          n_processes=1,\n",
    "                          dview=None)\n",
    "    \n",
    "    #vcnmf_m = cnmf.load_CNMF(cnmf_m_path,\n",
    "    #                        n_processes=1,\n",
    "    #                        dview=None)\n",
    "    \n",
    "    vcnmf_m_matched = cnmf.load_CNMF(cnmf_m_path_matched,\n",
    "                                    n_processes=1,\n",
    "                                    dview=None)\n",
    "\n",
    "    cnmf_vals_invivo.append([vcnmf.estimates.C.shape,vcnmf_m_matched.estimates.C.shape]) #,vcnmf_m.estimates.C.shape"
   ]
  },
  {
   "cell_type": "code",
   "execution_count": 11,
   "id": "64121633-8c38-47a1-a04b-739007c74ac7",
   "metadata": {},
   "outputs": [
    {
     "data": {
      "application/vnd.jupyter.widget-view+json": {
       "model_id": "fd60390ad71347488677464813b9bdc4",
       "version_major": 2,
       "version_minor": 0
      },
      "text/plain": [
       "  0%|          | 0/22 [00:00<?, ?it/s]"
      ]
     },
     "metadata": {},
     "output_type": "display_data"
    }
   ],
   "source": [
    "cnmf_vals_invivo_d = []\n",
    "\n",
    "for l in trange(len(movie_list_invivo_d)):\n",
    "    cnmf_path = os.path.join(movie_list_invivo_d[l], f'ch0_means_movie_nobg_cnmf_merged_refit.hdf5')\n",
    "    #cnmf_m_path = os.path.join(movie_list_invivo[l], f'ch0_means_movie_nobg_cnmf_merged_m_refit.hdf5')\n",
    "    cnmf_m_path_matched = os.path.join(movie_list_invivo_d[l], f'ch0_means_movie_nobg_cnmf_merged_refit_matched.hdf5')\n",
    "    \n",
    "    vcnmf = cnmf.load_CNMF(cnmf_path,\n",
    "                          n_processes=1,\n",
    "                          dview=None)\n",
    "    \n",
    "    #vcnmf_m = cnmf.load_CNMF(cnmf_m_path,\n",
    "    #                        n_processes=1,\n",
    "    #                        dview=None)\n",
    "    \n",
    "    vcnmf_m_matched = cnmf.load_CNMF(cnmf_m_path_matched,\n",
    "                                    n_processes=1,\n",
    "                                    dview=None)\n",
    "\n",
    "    cnmf_vals_invivo_d.append([vcnmf.estimates.C.shape,vcnmf_m_matched.estimates.C.shape]) #,vcnmf_m.estimates.C.shape"
   ]
  },
  {
   "cell_type": "code",
   "execution_count": 12,
   "id": "836e5cf0-22dc-40f1-b1d2-dca2381324c4",
   "metadata": {
    "scrolled": true
   },
   "outputs": [
    {
     "data": {
      "text/plain": [
       "[[(121, 125), (34, 125)],\n",
       " [(215, 114), (52, 114)],\n",
       " [(165, 132), (39, 132)],\n",
       " [(120, 137), (70, 137)],\n",
       " [(218, 144), (74, 144)],\n",
       " [(172, 146), (57, 146)],\n",
       " [(236, 151), (71, 151)],\n",
       " [(185, 91), (74, 91)],\n",
       " [(111, 127), (48, 127)],\n",
       " [(229, 62), (70, 62)],\n",
       " [(123, 137), (55, 137)],\n",
       " [(178, 142), (84, 142)],\n",
       " [(148, 124), (65, 124)],\n",
       " [(208, 142), (80, 142)],\n",
       " [(195, 142), (69, 142)],\n",
       " [(172, 142), (99, 142)],\n",
       " [(140, 130), (68, 130)],\n",
       " [(174, 149), (59, 149)],\n",
       " [(202, 70), (101, 70)],\n",
       " [(184, 169), (85, 169)],\n",
       " [(164, 169), (103, 169)],\n",
       " [(158, 169), (80, 169)]]"
      ]
     },
     "execution_count": 12,
     "metadata": {},
     "output_type": "execute_result"
    }
   ],
   "source": [
    "cnmf_vals_invivo"
   ]
  },
  {
   "cell_type": "code",
   "execution_count": 13,
   "id": "20181ed2-e586-43b3-abe3-e71a1eb52fa8",
   "metadata": {
    "scrolled": true
   },
   "outputs": [
    {
     "data": {
      "text/plain": [
       "[[(81, 42), (34, 42)],\n",
       " [(193, 120), (52, 120)],\n",
       " [(161, 114), (39, 114)],\n",
       " [(148, 81), (70, 81)],\n",
       " [(227, 153), (74, 153)],\n",
       " [(201, 165), (57, 165)],\n",
       " [(199, 15), (71, 15)],\n",
       " [(251, 159), (74, 159)],\n",
       " [(125, 156), (48, 156)],\n",
       " [(223, 174), (70, 174)],\n",
       " [(93, 51), (55, 51)],\n",
       " [(208, 18), (84, 18)],\n",
       " [(144, 24), (65, 24)],\n",
       " [(190, 45), (80, 45)],\n",
       " [(171, 114), (69, 114)],\n",
       " [(218, 69), (99, 69)],\n",
       " [(179, 69), (68, 69)],\n",
       " [(167, 69), (59, 69)],\n",
       " [(206, 69), (101, 69)],\n",
       " [(206, 69), (85, 69)],\n",
       " [(214, 69), (103, 69)],\n",
       " [(169, 69), (80, 69)]]"
      ]
     },
     "execution_count": 13,
     "metadata": {},
     "output_type": "execute_result"
    }
   ],
   "source": [
    "cnmf_vals_invivo_d"
   ]
  },
  {
   "cell_type": "code",
   "execution_count": 14,
   "id": "803420b8-f1f0-4f25-9b07-7a68f28fc118",
   "metadata": {},
   "outputs": [
    {
     "data": {
      "application/vnd.jupyter.widget-view+json": {
       "model_id": "68776a87fd2545e68bf46bef77b8ebad",
       "version_major": 2,
       "version_minor": 0
      },
      "text/plain": [
       "  0%|          | 0/11 [00:00<?, ?it/s]"
      ]
     },
     "metadata": {},
     "output_type": "display_data"
    }
   ],
   "source": [
    "cnmf_vals_slice = []\n",
    "\n",
    "for l in trange(len(movie_list_slice)):\n",
    "    cnmf_path = os.path.join(movie_list_slice[l], f'ch0_means_movie_nobg_cnmf_merged_refit.hdf5')\n",
    "    cnmf_m_path = os.path.join(movie_list_slice[l], f'ch0_means_movie_nobg_cnmf_merged_m_refit.hdf5')\n",
    "\n",
    "    if pythonic_slice[l]==0:\n",
    "        cnmf_m_path_matched = os.path.join(movie_list_slice[l], f'ch0_means_movie_nobg_cnmf_merged_refit_matched.hdf5')\n",
    "    else:\n",
    "        cnmf_m_path_matched = os.path.join(movie_list_slice[l], f'ch0_means_movie_nobg_cnmf_merged_refit_matched{pythonic_slice[l]:01}.hdf5')\n",
    "    \n",
    "    vcnmf = cnmf.load_CNMF(cnmf_path,\n",
    "                          n_processes=1,\n",
    "                          dview=None)\n",
    "    \n",
    "    vcnmf_m = cnmf.load_CNMF(cnmf_m_path,\n",
    "                            n_processes=1,\n",
    "                            dview=None)\n",
    "    \n",
    "    vcnmf_m_matched = cnmf.load_CNMF(cnmf_m_path_matched,\n",
    "                                    n_processes=1,\n",
    "                                    dview=None)\n",
    "\n",
    "    cnmf_vals_slice.append([vcnmf.estimates.C.shape,vcnmf_m.estimates.C.shape,vcnmf_m_matched.estimates.C.shape])"
   ]
  },
  {
   "cell_type": "code",
   "execution_count": 15,
   "id": "ed0272dc-a290-41ec-ab7c-f75e13340b2c",
   "metadata": {},
   "outputs": [
    {
     "data": {
      "application/vnd.jupyter.widget-view+json": {
       "model_id": "00acf9f1ccf246698a795163fc3a91fd",
       "version_major": 2,
       "version_minor": 0
      },
      "text/plain": [
       "  0%|          | 0/11 [00:00<?, ?it/s]"
      ]
     },
     "metadata": {},
     "output_type": "display_data"
    }
   ],
   "source": [
    "cnmf_vals_slice_d = []\n",
    "\n",
    "for l in trange(len(movie_list_slice_d)):\n",
    "    cnmf_path = os.path.join(movie_list_slice_d[l], f'ch0_means_movie_nobg_cnmf_merged_refit.hdf5')\n",
    "    cnmf_m_path = os.path.join(movie_list_slice_d[l], f'ch0_means_movie_nobg_cnmf_merged_m_refit.hdf5')\n",
    "\n",
    "    if pythonic_slice[l]==0:\n",
    "        cnmf_m_path_matched = os.path.join(movie_list_slice_d[l], f'ch0_means_movie_nobg_cnmf_merged_refit_matched.hdf5')\n",
    "    else:\n",
    "        cnmf_m_path_matched = os.path.join(movie_list_slice_d[l], f'ch0_means_movie_nobg_cnmf_merged_refit_matched{pythonic_slice[l]:01}.hdf5')\n",
    "    \n",
    "    vcnmf = cnmf.load_CNMF(cnmf_path,\n",
    "                          n_processes=1,\n",
    "                          dview=None)\n",
    "    \n",
    "    vcnmf_m = cnmf.load_CNMF(cnmf_m_path,\n",
    "                            n_processes=1,\n",
    "                            dview=None)\n",
    "    \n",
    "    vcnmf_m_matched = cnmf.load_CNMF(cnmf_m_path_matched,\n",
    "                                    n_processes=1,\n",
    "                                    dview=None)\n",
    "\n",
    "    cnmf_vals_slice_d.append([vcnmf.estimates.C.shape,vcnmf_m.estimates.C.shape,vcnmf_m_matched.estimates.C.shape])"
   ]
  },
  {
   "cell_type": "code",
   "execution_count": 16,
   "id": "9cf319b9-0df1-4d26-8bca-6719d6a31403",
   "metadata": {
    "scrolled": true
   },
   "outputs": [
    {
     "data": {
      "text/plain": [
       "[[(115, 26), (62, 26), (33, 26)],\n",
       " [(153, 29), (105, 29), (44, 29)],\n",
       " [(174, 53), (142, 53), (27, 53)],\n",
       " [(160, 54), (129, 54), (67, 54)],\n",
       " [(160, 54), (129, 54), (62, 54)],\n",
       " [(203, 56), (166, 56), (73, 56)],\n",
       " [(235, 53), (195, 53), (60, 53)],\n",
       " [(235, 53), (195, 53), (56, 53)],\n",
       " [(144, 56), (123, 56), (62, 56)],\n",
       " [(186, 42), (172, 42), (41, 42)],\n",
       " [(239, 56), (185, 56), (101, 56)]]"
      ]
     },
     "execution_count": 16,
     "metadata": {},
     "output_type": "execute_result"
    }
   ],
   "source": [
    "cnmf_vals_slice"
   ]
  },
  {
   "cell_type": "code",
   "execution_count": 17,
   "id": "1a4137e6-7348-4c27-9998-6991de08b02d",
   "metadata": {
    "scrolled": true
   },
   "outputs": [
    {
     "data": {
      "text/plain": [
       "[[(182, 24), (98, 24), (33, 24)],\n",
       " [(171, 60), (110, 60), (44, 60)],\n",
       " [(176, 153), (119, 153), (27, 153)],\n",
       " [(137, 36), (116, 36), (67, 36)],\n",
       " [(147, 78), (118, 78), (62, 78)],\n",
       " [(266, 81), (209, 81), (73, 81)],\n",
       " [(150, 36), (131, 36), (60, 36)],\n",
       " [(258, 78), (162, 78), (56, 78)],\n",
       " [(130, 105), (109, 105), (62, 105)],\n",
       " [(183, 105), (156, 105), (41, 105)],\n",
       " [(214, 105), (149, 105), (101, 105)]]"
      ]
     },
     "execution_count": 17,
     "metadata": {},
     "output_type": "execute_result"
    }
   ],
   "source": [
    "cnmf_vals_slice_d"
   ]
  },
  {
   "cell_type": "code",
   "execution_count": 18,
   "id": "2424e329-1d84-49df-b8bf-889bfd9fb369",
   "metadata": {},
   "outputs": [
    {
     "name": "stdout",
     "output_type": "stream",
     "text": [
      "CPU times: total: 0 ns\n",
      "Wall time: 22 ms\n"
     ]
    }
   ],
   "source": [
    "%%time\n",
    "# pickle everything up and move to IW\n",
    "basedir = r'\\\\nasquatch\\data\\2p\\peter\\grin_videos\\s12_outputs'\n",
    "\n",
    "with open(basedir+r'\\cnmf_vals_dipping.pickle', 'wb') as f:\n",
    "    pickle.dump(cnmf_vals_dipping, f)\n",
    "\n",
    "with open(basedir+r'\\cnmf_vals_invivo.pickle', 'wb') as f:\n",
    "    pickle.dump(cnmf_vals_invivo, f)\n",
    "\n",
    "with open(basedir+r'\\cnmf_vals_invivo_d.pickle', 'wb') as f:\n",
    "    pickle.dump(cnmf_vals_invivo_d, f)\n",
    "\n",
    "with open(basedir+r'\\cnmf_vals_slice.pickle', 'wb') as f:\n",
    "    pickle.dump(cnmf_vals_slice, f)\n",
    "\n",
    "with open(basedir+r'\\cnmf_vals_slice_d.pickle', 'wb') as f:\n",
    "    pickle.dump(cnmf_vals_slice_d, f)"
   ]
  },
  {
   "cell_type": "code",
   "execution_count": null,
   "id": "4fff22ec-c5d7-4fb1-b6e9-a6b2f4946047",
   "metadata": {},
   "outputs": [],
   "source": []
  },
  {
   "cell_type": "code",
   "execution_count": null,
   "id": "3579ce54-e2e4-4c57-82ab-b2c45088c5ad",
   "metadata": {},
   "outputs": [],
   "source": []
  },
  {
   "cell_type": "code",
   "execution_count": null,
   "id": "3cb6d4e9-e001-407e-afc9-186c67c701e7",
   "metadata": {},
   "outputs": [],
   "source": []
  },
  {
   "cell_type": "code",
   "execution_count": null,
   "id": "3bb18e6e-2e03-40d0-883d-d7c58857b84f",
   "metadata": {},
   "outputs": [],
   "source": []
  },
  {
   "cell_type": "code",
   "execution_count": null,
   "id": "8111411f-aad3-4468-abe6-b6e2fddd389b",
   "metadata": {},
   "outputs": [],
   "source": []
  },
  {
   "cell_type": "code",
   "execution_count": 45,
   "id": "44a1db4b-abee-450e-917c-e00a6f6d1e3b",
   "metadata": {},
   "outputs": [
    {
     "data": {
      "application/vnd.jupyter.widget-view+json": {
       "model_id": "fbe5de3213b94a6d80ecf1e9301c9ec4",
       "version_major": 2,
       "version_minor": 0
      },
      "text/plain": [
       "  0%|          | 0/1 [00:00<?, ?it/s]"
      ]
     },
     "metadata": {},
     "output_type": "display_data"
    }
   ],
   "source": [
    "cnmf_vals_slice = []\n",
    "\n",
    "for l in trange(len(movie_list_slice)):\n",
    "    cnmf_path = os.path.join(movie_list_slice[l], f'ch0_means_movie_nobg_cnmf_merged_refit.hdf5')\n",
    "    cnmf_m_path = os.path.join(movie_list_slice[l], f'ch0_means_movie_nobg_cnmf_merged_m_refit.hdf5')\n",
    "    cnmf_m_path_matched = os.path.join(movie_list_slice[l], f'ch0_means_movie_nobg_cnmf_merged_refit_matched.hdf5')\n",
    "    \n",
    "    vcnmf = cnmf.load_CNMF(cnmf_path,\n",
    "                          n_processes=1,\n",
    "                          dview=None)\n",
    "    \n",
    "    vcnmf_m = cnmf.load_CNMF(cnmf_m_path,\n",
    "                            n_processes=1,\n",
    "                            dview=None)\n",
    "    \n",
    "    vcnmf_m_matched = cnmf.load_CNMF(cnmf_m_path_matched,\n",
    "                                    n_processes=1,\n",
    "                                    dview=None)\n",
    "\n",
    "    cnmf_vals_slice.append([vcnmf.estimates.C.shape,vcnmf_m.estimates.C.shape,vcnmf_m_matched.estimates.C.shape])"
   ]
  },
  {
   "cell_type": "code",
   "execution_count": null,
   "id": "212b61a4-58d7-4779-ab16-5b79bc129984",
   "metadata": {},
   "outputs": [],
   "source": []
  },
  {
   "cell_type": "code",
   "execution_count": null,
   "id": "0b983b12-1008-4ebe-9945-fc844d78b593",
   "metadata": {},
   "outputs": [],
   "source": []
  },
  {
   "cell_type": "code",
   "execution_count": null,
   "id": "fc54c185-da63-4f24-a187-6d2adffdbb12",
   "metadata": {},
   "outputs": [],
   "source": []
  },
  {
   "cell_type": "code",
   "execution_count": null,
   "id": "ebc82367-7d77-4f88-842a-97b9d1aab110",
   "metadata": {},
   "outputs": [],
   "source": []
  }
 ],
 "metadata": {
  "kernelspec": {
   "display_name": "Python 3 (ipykernel)",
   "language": "python",
   "name": "python3"
  },
  "language_info": {
   "codemirror_mode": {
    "name": "ipython",
    "version": 3
   },
   "file_extension": ".py",
   "mimetype": "text/x-python",
   "name": "python",
   "nbconvert_exporter": "python",
   "pygments_lexer": "ipython3",
   "version": "3.10.8"
  }
 },
 "nbformat": 4,
 "nbformat_minor": 5
}
